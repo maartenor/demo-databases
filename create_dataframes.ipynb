{
 "cells": [
  {
   "cell_type": "code",
   "execution_count": 1,
   "metadata": {},
   "outputs": [],
   "source": [
    "import pandas as pd\n",
    "import datetime as dt\n",
    "from datetime import timedelta\n",
    "from numpy import random\n",
    "\n",
    "random.seed(100)\n",
    "\n",
    "show_intermediate_results = True\n",
    "\n",
    "n_verkoop_order_df = 158 #random.randint(150,400)"
   ]
  },
  {
   "cell_type": "code",
   "execution_count": null,
   "metadata": {},
   "outputs": [],
   "source": []
  },
  {
   "cell_type": "code",
   "execution_count": 2,
   "metadata": {},
   "outputs": [],
   "source": [
    "dataframes_list = ['klant_df', 'verkoop_order_df', 'product_df', 'werkorder_df', 'machine_df', 'woonplaatsen_df', 'achternamen_df']"
   ]
  },
  {
   "cell_type": "code",
   "execution_count": 3,
   "metadata": {},
   "outputs": [],
   "source": [
    "def create_dataframes(dataframes_list):\n",
    "    for df in dataframes_list:\n",
    "        vars()[df] = pd.DataFrame()"
   ]
  },
  {
   "cell_type": "code",
   "execution_count": null,
   "metadata": {},
   "outputs": [],
   "source": []
  },
  {
   "cell_type": "code",
   "execution_count": 4,
   "metadata": {},
   "outputs": [
    {
     "name": "stdout",
     "output_type": "stream",
     "text": [
      "          klant_id  klant_naam  klant_achternaam  klant_woonplaats\n",
      "klant_id                                                          \n",
      "0                8          24                67                87\n",
      "1               79          48                10                94\n",
      "2               52          98                53                66\n",
      "3               98          14                34                24\n",
      "4               15          60                58                16\n",
      "5                9          93                86                 2\n",
      "6               27           4                31                 1\n",
      "7               13          83                 4                91\n",
      "8               59          67                 7                49\n",
      "9               47          65                61                14\n"
     ]
    }
   ],
   "source": [
    "klant_df = pd.DataFrame(random.randint(0,100,size=(25, 4)),  \\\n",
    "                        columns=['klant_id','klant_naam','klant_achternaam','klant_woonplaats'])\n",
    "klant_df.index.rename('klant_id', inplace=True)\n",
    "\n",
    "\n",
    "if show_intermediate_results == True:\n",
    "\n",
    "    print(klant_df.head(10))"
   ]
  },
  {
   "cell_type": "code",
   "execution_count": 5,
   "metadata": {},
   "outputs": [
    {
     "name": "stdout",
     "output_type": "stream",
     "text": [
      "         Woonplaats  Gemeente|Naam  Gemeente|Code  Provincie|Naam  \\\n",
      "1            Aadorp          Almelo         GM0141     Overijssel   \n",
      "2        Aagtekerke           Veere         GM0717        Zeeland   \n",
      "3            Aalden       Coevorden         GM0109        Drenthe   \n",
      "4          Aalsmeer        Aalsmeer         GM0358  Noord-Holland   \n",
      "5   Aalsmeerderbrug  Haarlemmermeer         GM0394  Noord-Holland   \n",
      "6             Aalst      Zaltbommel         GM0297     Gelderland   \n",
      "7            Aalsum     Dongeradeel         GM0058      Friesland   \n",
      "8            Aalten          Aalten         GM0197     Gelderland   \n",
      "9           Ter Aar       Nieuwkoop         GM0569   Zuid-Holland   \n",
      "10         Ter Aard           Assen         GM0106        Drenthe   \n",
      "\n",
      "   Provincie|Code   Landsdeel|Naam Landsdeel|Code\"  \n",
      "1            PV23   Oost-Nederland           LD02\"  \n",
      "2            PV29   West-Nederland           LD03\"  \n",
      "3            PV22  Noord-Nederland           LD01\"  \n",
      "4            PV27   West-Nederland           LD03\"  \n",
      "5            PV27   West-Nederland           LD03\"  \n",
      "6            PV25   Oost-Nederland           LD02\"  \n",
      "7            PV21  Noord-Nederland           LD01\"  \n",
      "8            PV25   Oost-Nederland           LD02\"  \n",
      "9            PV28   West-Nederland           LD03\"  \n",
      "10           PV22  Noord-Nederland           LD01\"  \n"
     ]
    },
    {
     "name": "stderr",
     "output_type": "stream",
     "text": [
      "/home/maarten/anaconda3/lib/python3.7/site-packages/ipykernel_launcher.py:1: ParserWarning: Falling back to the 'python' engine because the 'c' engine does not support regex separators (separators > 1 char and different from '\\s+' are interpreted as regex); you can avoid this warning by specifying engine='python'.\n",
      "  \"\"\"Entry point for launching an IPython kernel.\n"
     ]
    }
   ],
   "source": [
    "woonplaatsen_df = pd.read_csv('Woonplaatsen_in_Nederland_2018_07042020_210926.csv', sep='\";\"', skiprows=3)\n",
    "\n",
    "woonplaatsen_df = woonplaatsen_df[1:]\n",
    "new_column_names = list(woonplaatsen_df.columns)\n",
    "new_column_names[0]='Woonplaats'\n",
    "woonplaatsen_df.columns = new_column_names\n",
    "\n",
    "woonplaatsen_df['Woonplaats'] = woonplaatsen_df['Woonplaats'].apply(lambda x: str(x).replace('\"', '') )\n",
    "\n",
    "if show_intermediate_results == True:\n",
    "    \n",
    "    print(woonplaatsen_df.head(10) )"
   ]
  },
  {
   "cell_type": "code",
   "execution_count": 6,
   "metadata": {},
   "outputs": [],
   "source": [
    "# import modules\n",
    "#import random\n",
    "import datetime\n",
    "\n",
    "# create function accepting a single parameter, the year as a four digit number\n",
    "def get_random_date(year):\n",
    "\n",
    "    # try to get a date\n",
    "    try:\n",
    "        return datetime.datetime.strptime('{} {}'.format(random.randint(1, 366), year), '%j %Y')\n",
    "\n",
    "    # if the value happens to be in the leap year range, try again\n",
    "    except ValueError:\n",
    "        get_random_date(year)"
   ]
  },
  {
   "cell_type": "code",
   "execution_count": 7,
   "metadata": {},
   "outputs": [
    {
     "name": "stdout",
     "output_type": "stream",
     "text": [
      "n_verkoop_order_df : 158\n",
      "\n",
      "                  klant_id verkoop_order_datum\n",
      "verkoop_order_id                              \n",
      "0                       20          2019-10-20\n",
      "1                       13          2019-06-29\n",
      "2                       12          2019-02-03\n",
      "3                        6          2019-12-19\n",
      "4                       22          2019-12-09\n",
      "5                       23          2019-09-07\n",
      "6                       19          2019-05-02\n",
      "7                        4          2019-03-28\n",
      "8                        4          2019-08-09\n",
      "9                       23          2019-05-15\n"
     ]
    }
   ],
   "source": [
    "verkoop_order_df = pd.DataFrame(data=(random.randint(0,25, size=(n_verkoop_order_df, 2))), columns=['klant_id','verkoop_order_datum'])\n",
    "verkoop_order_df.index.rename('verkoop_order_id', inplace=True)\n",
    "verkoop_order_df['verkoop_order_datum'] = verkoop_order_df['verkoop_order_datum'].apply(lambda x: get_random_date('2019'))\n",
    "\n",
    "if show_intermediate_results == True:\n",
    "    print('n_verkoop_order_df : {}\\n'.format(n_verkoop_order_df))\n",
    "    print(verkoop_order_df.head(10))"
   ]
  },
  {
   "cell_type": "code",
   "execution_count": 8,
   "metadata": {},
   "outputs": [],
   "source": [
    "if show_intermediate_results == True:\n",
    "    verkoop_order_df.plot(x='verkoop_order_datum', figsize=(20,2), legend=False, title='Aantal_verkoop_orders_per_datum', kind='line')"
   ]
  },
  {
   "cell_type": "code",
   "execution_count": 9,
   "metadata": {},
   "outputs": [
    {
     "data": {
      "image/png": "[encoded data removed]",
      "text/plain": [
       "<Figure size 432x288 with 1 Axes>"
      ]
     },
     "metadata": {
      "needs_background": "light"
     },
     "output_type": "display_data"
    }
   ],
   "source": [
    "if show_intermediate_results == True:\n",
    "    verkoop_order_df.hist(column='klant_id', bins=10)"
   ]
  },
  {
   "cell_type": "code",
   "execution_count": 10,
   "metadata": {},
   "outputs": [
    {
     "data": {
      "image/png": "[encoded data removed]",
      "text/plain": [
       "<Figure size 432x288 with 1 Axes>"
      ]
     },
     "metadata": {
      "needs_background": "light"
     },
     "output_type": "display_data"
    }
   ],
   "source": [
    "verkoop_order_df['product_id'] = verkoop_order_df['verkoop_order_datum'].apply(lambda x: random.randint(0,3))\n",
    "\n",
    "\n",
    "if show_intermediate_results == True:\n",
    "    verkoop_order_df['product_id'].hist()"
   ]
  },
  {
   "cell_type": "code",
   "execution_count": 11,
   "metadata": {},
   "outputs": [
    {
     "name": "stdout",
     "output_type": "stream",
     "text": [
      "            product_id   product_naam product_verkoop_prijs  \\\n",
      "product_id                                                    \n",
      "0                    0  Robot arm (S)                  [61]   \n",
      "1                    1  Robot arm (M)                  [72]   \n",
      "2                    2  Robot arm (L)                  [57]   \n",
      "\n",
      "              product_kost_prijs  \n",
      "product_id                        \n",
      "0                         [36.6]  \n",
      "1           [43.199999999999996]  \n",
      "2           [34.199999999999996]  \n"
     ]
    }
   ],
   "source": [
    "product_verkoop_prijs_S, product_verkoop_prijs_M, product_verkoop_prijs_L = random.randint(50, 80, size=(3,1))\n",
    "ratio_kp = 0.6\n",
    "\n",
    "product_data={\n",
    " 0:{'name':'Robot arm (S)',\n",
    "    'kostprijs':product_verkoop_prijs_S,\n",
    "     'verkoopprijs':product_verkoop_prijs_S*ratio_kp},\n",
    " 1:{'name':'Robot arm (M)',\n",
    "    'kostprijs':product_verkoop_prijs_M,\n",
    "     'verkoopprijs':product_verkoop_prijs_M*ratio_kp},\n",
    " 2:{'name':'Robot arm (L)',\n",
    "    'kostprijs':product_verkoop_prijs_L,\n",
    "     'verkoopprijs':product_verkoop_prijs_L*ratio_kp},\n",
    "}\n",
    "\n",
    "\n",
    "product_df = pd.DataFrame.from_dict(product_data, orient='index').reset_index()\n",
    "product_df.columns = ['product_id','product_naam','product_verkoop_prijs','product_kost_prijs']\n",
    "\n",
    "\n",
    "product_df.index.rename('product_id', inplace=True)\n",
    "\n",
    "\n",
    "if show_intermediate_results == True:\n",
    "    \n",
    "    print(product_df.head(10) )"
   ]
  },
  {
   "cell_type": "code",
   "execution_count": 12,
   "metadata": {},
   "outputs": [
    {
     "name": "stdout",
     "output_type": "stream",
     "text": [
      "            machine_id machine_type\n",
      "machine_id                         \n",
      "0                    0         boor\n",
      "1                    1        frees\n",
      "2                    2         buig\n",
      "3                    3          CNC\n",
      "4                    4         snij\n",
      "5                    5         boor\n",
      "6                    6        stans\n",
      "7                    7          CNC\n",
      "8                    8         snij\n",
      "9                    9          CNC\n"
     ]
    }
   ],
   "source": [
    "machine_data ={\n",
    "    0:{'machine_type':'boor'},\n",
    "    1:{'machine_type':'frees'},\n",
    "    2:{'machine_type':'buig'},\n",
    "    3:{'machine_type':'CNC'},\n",
    "    4:{'machine_type':'snij'},\n",
    "    5:{'machine_type':'boor'},\n",
    "    6:{'machine_type':'stans'},\n",
    "    7:{'machine_type':'CNC'},\n",
    "    8:{'machine_type':'snij'},\n",
    "    9:{'machine_type':'CNC'},\n",
    "    10:{'machine_type':'CNC'},\n",
    "    11:{'machine_type':'CNC'},\n",
    "    12:{'machine_type':'boor'}    \n",
    "    }\n",
    "machine_df = pd.DataFrame.from_dict(machine_data, orient='index').reset_index()\n",
    "machine_df.columns = ['machine_id','machine_type']\n",
    "\n",
    "\n",
    "machine_df.index.rename('machine_id', inplace=True)\n",
    "\n",
    "\n",
    "if show_intermediate_results == True:\n",
    "    \n",
    "    print(machine_df.head(10) )"
   ]
  },
  {
   "cell_type": "code",
   "execution_count": null,
   "metadata": {},
   "outputs": [],
   "source": []
  },
  {
   "cell_type": "code",
   "execution_count": 13,
   "metadata": {},
   "outputs": [
    {
     "name": "stdout",
     "output_type": "stream",
     "text": [
      "n_werkorder_df : 158\n",
      "\n",
      "              verkoop_order_id  product_id werkorder_start_datum  \\\n",
      "werkorder_id                                                       \n",
      "0                            0           2            2019-10-20   \n",
      "1                            1           0            2019-06-30   \n",
      "2                            2           2            2019-02-04   \n",
      "3                            3           2            2019-12-19   \n",
      "4                            4           2            2019-12-09   \n",
      "5                            5           2            2019-09-08   \n",
      "6                            6           2            2019-05-02   \n",
      "7                            7           0            2019-03-28   \n",
      "8                            8           1            2019-08-10   \n",
      "9                            9           0            2019-05-15   \n",
      "\n",
      "             werkorder_eind_datum  \n",
      "werkorder_id                       \n",
      "0                      2019-10-29  \n",
      "1                      2019-07-03  \n",
      "2                      2019-02-09  \n",
      "3                      2019-12-28  \n",
      "4                      2019-12-12  \n",
      "5                      2019-09-11  \n",
      "6                      2019-05-11  \n",
      "7                      2019-04-05  \n",
      "8                      2019-08-16  \n",
      "9                      2019-05-23  \n"
     ]
    }
   ],
   "source": [
    "# werkorder_df = pd.DataFrame(data=(random.randint(0,25, size=(n_verkoop_order_df, 2))), columns=['klant_id','verkoop_order_datum'])\n",
    "werkorder_df = verkoop_order_df.copy()\n",
    "werkorder_df.reset_index(inplace = True)\n",
    "werkorder_df.index.rename('werkorder_id', inplace=True)\n",
    "werkorder_df['werkorder_start_datum'] = werkorder_df['verkoop_order_datum'].apply(lambda x: x+timedelta(days=random.randint(0,2)))\n",
    "werkorder_df['werkorder_eind_datum'] = werkorder_df['verkoop_order_datum'].apply(lambda x: x+timedelta(days=random.randint(3,10)))\n",
    "\n",
    "\n",
    "werkorder_df.drop(['klant_id','verkoop_order_datum'], axis=1, inplace=True)\n",
    "\n",
    "if show_intermediate_results == True:\n",
    "    print('n_werkorder_df : {}\\n'.format(len(werkorder_df)))\n",
    "    print(werkorder_df.head(10))"
   ]
  },
  {
   "cell_type": "code",
   "execution_count": null,
   "metadata": {},
   "outputs": [],
   "source": []
  },
  {
   "cell_type": "code",
   "execution_count": null,
   "metadata": {},
   "outputs": [],
   "source": []
  },
  {
   "cell_type": "code",
   "execution_count": 23,
   "metadata": {},
   "outputs": [
    {
     "name": "stdout",
     "output_type": "stream",
     "text": [
      "\n",
      "\n",
      "\t\tWerkorder doorloop tijd\n",
      "\n"
     ]
    },
    {
     "data": {
      "image/png": "[encoded data removed]",
      "text/plain": [
       "<Figure size 1440x144 with 1 Axes>"
      ]
     },
     "metadata": {
      "needs_background": "light"
     },
     "output_type": "display_data"
    }
   ],
   "source": [
    "werkorder_df['werkorder_doorlooptijd'] = werkorder_df['werkorder_eind_datum']-werkorder_df['werkorder_start_datum']\n",
    "werkorder_df['werkorder_week_nummer'] = werkorder_df['werkorder_eind_datum'].apply(lambda x: x.isocalendar()[1])\n",
    "werkorder_df['werkorder_doorlooptijd'].plot(figsize=(20,2))\n",
    "\n",
    "\n",
    "\n",
    "print('\\n\\n\\t\\tWerkorder doorloop tijd\\n')\n",
    "#werkorder_df.drop(labels=['werkorder_doorlooptijd'], axis=1, inplace=True)"
   ]
  },
  {
   "cell_type": "code",
   "execution_count": 24,
   "metadata": {},
   "outputs": [],
   "source": [
    "import plotly.express as px\n"
   ]
  },
  {
   "cell_type": "code",
   "execution_count": 25,
   "metadata": {},
   "outputs": [
    {
     "data": {
      "application/vnd.plotly.v1+json": {
       "config": {
        "plotlyServerURL": "https://plot.ly"
       },
       "data": [
        {
         "hoverlabel": {
          "namelength": 0
         },
         "hovertemplate": "werkorder_week_nummer=44<br>werkorder_start_datum=%{x}<br>werkorder_doorlooptijd=%{y}",
         "legendgroup": "werkorder_week_nummer=44",
         "line": {
          "color": "#636efa",
          "dash": "solid"
         },
         "mode": "lines",
         "name": "werkorder_week_nummer=44",
         "showlegend": true,
         "type": "scatter",
         "x": [
          "2019-10-20T00:00:00",
          "2019-10-26T00:00:00",
          "2019-10-21T00:00:00",
          "2019-10-25T00:00:00",
          "2019-10-29T00:00:00",
          "2019-10-21T00:00:00",
          "2019-10-26T00:00:00"
         ],
         "xaxis": "x",
         "y": [
          777600000000000,
          172800000000000,
          777600000000000,
          345600000000000,
          259200000000000,
          691200000000000,
          345600000000000
         ],
         "yaxis": "y"
        },
        {
         "hoverlabel": {
          "namelength": 0
         },
         "hovertemplate": "werkorder_week_nummer=27<br>werkorder_start_datum=%{x}<br>werkorder_doorlooptijd=%{y}",
         "legendgroup": "werkorder_week_nummer=27",
         "line": {
          "color": "#EF553B",
          "dash": "solid"
         },
         "mode": "lines",
         "name": "werkorder_week_nummer=27",
         "showlegend": true,
         "type": "scatter",
         "x": [
          "2019-06-30T00:00:00",
          "2019-07-01T00:00:00",
          "2019-06-28T00:00:00",
          "2019-06-27T00:00:00",
          "2019-06-28T00:00:00",
          "2019-06-30T00:00:00"
         ],
         "xaxis": "x",
         "y": [
          259200000000000,
          518400000000000,
          604800000000000,
          691200000000000,
          432000000000000,
          259200000000000
         ],
         "yaxis": "y"
        },
        {
         "hoverlabel": {
          "namelength": 0
         },
         "hovertemplate": "werkorder_week_nummer=6<br>werkorder_start_datum=%{x}<br>werkorder_doorlooptijd=%{y}",
         "legendgroup": "werkorder_week_nummer=6",
         "line": {
          "color": "#00cc96",
          "dash": "solid"
         },
         "mode": "lines",
         "name": "werkorder_week_nummer=6",
         "showlegend": true,
         "type": "scatter",
         "x": [
          "2019-02-04T00:00:00",
          "2019-02-06T00:00:00",
          "2019-02-04T00:00:00",
          "2019-02-07T00:00:00",
          "2019-02-03T00:00:00",
          "2019-02-08T00:00:00",
          "2019-02-03T00:00:00"
         ],
         "xaxis": "x",
         "y": [
          432000000000000,
          172800000000000,
          518400000000000,
          259200000000000,
          432000000000000,
          172800000000000,
          432000000000000
         ],
         "yaxis": "y"
        },
        {
         "hoverlabel": {
          "namelength": 0
         },
         "hovertemplate": "werkorder_week_nummer=52<br>werkorder_start_datum=%{x}<br>werkorder_doorlooptijd=%{y}",
         "legendgroup": "werkorder_week_nummer=52",
         "line": {
          "color": "#ab63fa",
          "dash": "solid"
         },
         "mode": "lines",
         "name": "werkorder_week_nummer=52",
         "showlegend": true,
         "type": "scatter",
         "x": [
          "2019-12-19T00:00:00",
          "2019-12-19T00:00:00",
          "2019-12-19T00:00:00",
          "2019-12-22T00:00:00",
          "2019-12-18T00:00:00",
          "2019-12-21T00:00:00"
         ],
         "xaxis": "x",
         "y": [
          777600000000000,
          345600000000000,
          518400000000000,
          345600000000000,
          518400000000000,
          345600000000000
         ],
         "yaxis": "y"
        },
        {
         "hoverlabel": {
          "namelength": 0
         },
         "hovertemplate": "werkorder_week_nummer=50<br>werkorder_start_datum=%{x}<br>werkorder_doorlooptijd=%{y}",
         "legendgroup": "werkorder_week_nummer=50",
         "line": {
          "color": "#FFA15A",
          "dash": "solid"
         },
         "mode": "lines",
         "name": "werkorder_week_nummer=50",
         "showlegend": true,
         "type": "scatter",
         "x": [
          "2019-12-09T00:00:00",
          "2019-12-05T00:00:00",
          "2019-12-11T00:00:00",
          "2019-12-11T00:00:00",
          "2019-12-04T00:00:00",
          "2019-12-07T00:00:00",
          "2019-12-05T00:00:00"
         ],
         "xaxis": "x",
         "y": [
          259200000000000,
          604800000000000,
          172800000000000,
          259200000000000,
          691200000000000,
          691200000000000,
          777600000000000
         ],
         "yaxis": "y"
        },
        {
         "hoverlabel": {
          "namelength": 0
         },
         "hovertemplate": "werkorder_week_nummer=37<br>werkorder_start_datum=%{x}<br>werkorder_doorlooptijd=%{y}",
         "legendgroup": "werkorder_week_nummer=37",
         "line": {
          "color": "#19d3f3",
          "dash": "solid"
         },
         "mode": "lines",
         "name": "werkorder_week_nummer=37",
         "showlegend": true,
         "type": "scatter",
         "x": [
          "2019-09-08T00:00:00",
          "2019-09-05T00:00:00"
         ],
         "xaxis": "x",
         "y": [
          259200000000000,
          345600000000000
         ],
         "yaxis": "y"
        },
        {
         "hoverlabel": {
          "namelength": 0
         },
         "hovertemplate": "werkorder_week_nummer=19<br>werkorder_start_datum=%{x}<br>werkorder_doorlooptijd=%{y}",
         "legendgroup": "werkorder_week_nummer=19",
         "line": {
          "color": "#FF6692",
          "dash": "solid"
         },
         "mode": "lines",
         "name": "werkorder_week_nummer=19",
         "showlegend": true,
         "type": "scatter",
         "x": [
          "2019-05-02T00:00:00",
          "2019-05-02T00:00:00"
         ],
         "xaxis": "x",
         "y": [
          777600000000000,
          518400000000000
         ],
         "yaxis": "y"
        },
        {
         "hoverlabel": {
          "namelength": 0
         },
         "hovertemplate": "werkorder_week_nummer=14<br>werkorder_start_datum=%{x}<br>werkorder_doorlooptijd=%{y}",
         "legendgroup": "werkorder_week_nummer=14",
         "line": {
          "color": "#B6E880",
          "dash": "solid"
         },
         "mode": "lines",
         "name": "werkorder_week_nummer=14",
         "showlegend": true,
         "type": "scatter",
         "x": [
          "2019-03-28T00:00:00",
          "2019-04-03T00:00:00",
          "2019-03-31T00:00:00",
          "2019-03-27T00:00:00",
          "2019-03-29T00:00:00",
          "2019-04-02T00:00:00"
         ],
         "xaxis": "x",
         "y": [
          691200000000000,
          259200000000000,
          259200000000000,
          518400000000000,
          518400000000000,
          345600000000000
         ],
         "yaxis": "y"
        },
        {
         "hoverlabel": {
          "namelength": 0
         },
         "hovertemplate": "werkorder_week_nummer=33<br>werkorder_start_datum=%{x}<br>werkorder_doorlooptijd=%{y}",
         "legendgroup": "werkorder_week_nummer=33",
         "line": {
          "color": "#FF97FF",
          "dash": "solid"
         },
         "mode": "lines",
         "name": "werkorder_week_nummer=33",
         "showlegend": true,
         "type": "scatter",
         "x": [
          "2019-08-10T00:00:00",
          "2019-08-13T00:00:00",
          "2019-08-12T00:00:00"
         ],
         "xaxis": "x",
         "y": [
          518400000000000,
          432000000000000,
          259200000000000
         ],
         "yaxis": "y"
        },
        {
         "hoverlabel": {
          "namelength": 0
         },
         "hovertemplate": "werkorder_week_nummer=21<br>werkorder_start_datum=%{x}<br>werkorder_doorlooptijd=%{y}",
         "legendgroup": "werkorder_week_nummer=21",
         "line": {
          "color": "#FECB52",
          "dash": "solid"
         },
         "mode": "lines",
         "name": "werkorder_week_nummer=21",
         "showlegend": true,
         "type": "scatter",
         "x": [
          "2019-05-15T00:00:00",
          "2019-05-16T00:00:00"
         ],
         "xaxis": "x",
         "y": [
          691200000000000,
          345600000000000
         ],
         "yaxis": "y"
        },
        {
         "hoverlabel": {
          "namelength": 0
         },
         "hovertemplate": "werkorder_week_nummer=5<br>werkorder_start_datum=%{x}<br>werkorder_doorlooptijd=%{y}",
         "legendgroup": "werkorder_week_nummer=5",
         "line": {
          "color": "#636efa",
          "dash": "solid"
         },
         "mode": "lines",
         "name": "werkorder_week_nummer=5",
         "showlegend": true,
         "type": "scatter",
         "x": [
          "2019-01-29T00:00:00",
          "2019-01-21T00:00:00",
          "2019-01-24T00:00:00",
          "2019-01-29T00:00:00"
         ],
         "xaxis": "x",
         "y": [
          432000000000000,
          691200000000000,
          345600000000000,
          345600000000000
         ],
         "yaxis": "y"
        },
        {
         "hoverlabel": {
          "namelength": 0
         },
         "hovertemplate": "werkorder_week_nummer=7<br>werkorder_start_datum=%{x}<br>werkorder_doorlooptijd=%{y}",
         "legendgroup": "werkorder_week_nummer=7",
         "line": {
          "color": "#EF553B",
          "dash": "solid"
         },
         "mode": "lines",
         "name": "werkorder_week_nummer=7",
         "showlegend": true,
         "type": "scatter",
         "x": [
          "2019-02-05T00:00:00"
         ],
         "xaxis": "x",
         "y": [
          604800000000000
         ],
         "yaxis": "y"
        },
        {
         "hoverlabel": {
          "namelength": 0
         },
         "hovertemplate": "werkorder_week_nummer=40<br>werkorder_start_datum=%{x}<br>werkorder_doorlooptijd=%{y}",
         "legendgroup": "werkorder_week_nummer=40",
         "line": {
          "color": "#00cc96",
          "dash": "solid"
         },
         "mode": "lines",
         "name": "werkorder_week_nummer=40",
         "showlegend": true,
         "type": "scatter",
         "x": [
          "2019-10-04T00:00:00",
          "2019-09-24T00:00:00",
          "2019-09-28T00:00:00",
          "2019-09-28T00:00:00"
         ],
         "xaxis": "x",
         "y": [
          172800000000000,
          604800000000000,
          518400000000000,
          432000000000000
         ],
         "yaxis": "y"
        },
        {
         "hoverlabel": {
          "namelength": 0
         },
         "hovertemplate": "werkorder_week_nummer=36<br>werkorder_start_datum=%{x}<br>werkorder_doorlooptijd=%{y}",
         "legendgroup": "werkorder_week_nummer=36",
         "line": {
          "color": "#ab63fa",
          "dash": "solid"
         },
         "mode": "lines",
         "name": "werkorder_week_nummer=36",
         "showlegend": true,
         "type": "scatter",
         "x": [
          "2019-08-31T00:00:00",
          "2019-09-03T00:00:00",
          "2019-08-28T00:00:00",
          "2019-08-31T00:00:00",
          "2019-09-03T00:00:00",
          "2019-08-29T00:00:00"
         ],
         "xaxis": "x",
         "y": [
          518400000000000,
          432000000000000,
          518400000000000,
          604800000000000,
          259200000000000,
          691200000000000
         ],
         "yaxis": "y"
        },
        {
         "hoverlabel": {
          "namelength": 0
         },
         "hovertemplate": "werkorder_week_nummer=45<br>werkorder_start_datum=%{x}<br>werkorder_doorlooptijd=%{y}",
         "legendgroup": "werkorder_week_nummer=45",
         "line": {
          "color": "#FFA15A",
          "dash": "solid"
         },
         "mode": "lines",
         "name": "werkorder_week_nummer=45",
         "showlegend": true,
         "type": "scatter",
         "x": [
          "2019-11-04T00:00:00",
          "2019-10-30T00:00:00",
          "2019-11-02T00:00:00",
          "2019-11-04T00:00:00"
         ],
         "xaxis": "x",
         "y": [
          432000000000000,
          604800000000000,
          432000000000000,
          259200000000000
         ],
         "yaxis": "y"
        },
        {
         "hoverlabel": {
          "namelength": 0
         },
         "hovertemplate": "werkorder_week_nummer=11<br>werkorder_start_datum=%{x}<br>werkorder_doorlooptijd=%{y}",
         "legendgroup": "werkorder_week_nummer=11",
         "line": {
          "color": "#19d3f3",
          "dash": "solid"
         },
         "mode": "lines",
         "name": "werkorder_week_nummer=11",
         "showlegend": true,
         "type": "scatter",
         "x": [
          "2019-03-13T00:00:00",
          "2019-03-06T00:00:00",
          "2019-03-13T00:00:00",
          "2019-03-08T00:00:00"
         ],
         "xaxis": "x",
         "y": [
          345600000000000,
          691200000000000,
          345600000000000,
          345600000000000
         ],
         "yaxis": "y"
        },
        {
         "hoverlabel": {
          "namelength": 0
         },
         "hovertemplate": "werkorder_week_nummer=9<br>werkorder_start_datum=%{x}<br>werkorder_doorlooptijd=%{y}",
         "legendgroup": "werkorder_week_nummer=9",
         "line": {
          "color": "#FF6692",
          "dash": "solid"
         },
         "mode": "lines",
         "name": "werkorder_week_nummer=9",
         "showlegend": true,
         "type": "scatter",
         "x": [
          "2019-02-19T00:00:00",
          "2019-02-18T00:00:00",
          "2019-02-21T00:00:00",
          "2019-02-24T00:00:00"
         ],
         "xaxis": "x",
         "y": [
          691200000000000,
          691200000000000,
          432000000000000,
          172800000000000
         ],
         "yaxis": "y"
        },
        {
         "hoverlabel": {
          "namelength": 0
         },
         "hovertemplate": "werkorder_week_nummer=35<br>werkorder_start_datum=%{x}<br>werkorder_doorlooptijd=%{y}",
         "legendgroup": "werkorder_week_nummer=35",
         "line": {
          "color": "#B6E880",
          "dash": "solid"
         },
         "mode": "lines",
         "name": "werkorder_week_nummer=35",
         "showlegend": true,
         "type": "scatter",
         "x": [
          "2019-08-22T00:00:00",
          "2019-08-26T00:00:00",
          "2019-08-19T00:00:00"
         ],
         "xaxis": "x",
         "y": [
          345600000000000,
          432000000000000,
          777600000000000
         ],
         "yaxis": "y"
        },
        {
         "hoverlabel": {
          "namelength": 0
         },
         "hovertemplate": "werkorder_week_nummer=12<br>werkorder_start_datum=%{x}<br>werkorder_doorlooptijd=%{y}",
         "legendgroup": "werkorder_week_nummer=12",
         "line": {
          "color": "#FF97FF",
          "dash": "solid"
         },
         "mode": "lines",
         "name": "werkorder_week_nummer=12",
         "showlegend": true,
         "type": "scatter",
         "x": [
          "2019-03-20T00:00:00",
          "2019-03-19T00:00:00"
         ],
         "xaxis": "x",
         "y": [
          345600000000000,
          172800000000000
         ],
         "yaxis": "y"
        },
        {
         "hoverlabel": {
          "namelength": 0
         },
         "hovertemplate": "werkorder_week_nummer=28<br>werkorder_start_datum=%{x}<br>werkorder_doorlooptijd=%{y}",
         "legendgroup": "werkorder_week_nummer=28",
         "line": {
          "color": "#FECB52",
          "dash": "solid"
         },
         "mode": "lines",
         "name": "werkorder_week_nummer=28",
         "showlegend": true,
         "type": "scatter",
         "x": [
          "2019-07-07T00:00:00",
          "2019-07-09T00:00:00",
          "2019-07-05T00:00:00",
          "2019-07-03T00:00:00"
         ],
         "xaxis": "x",
         "y": [
          432000000000000,
          345600000000000,
          604800000000000,
          777600000000000
         ],
         "yaxis": "y"
        },
        {
         "hoverlabel": {
          "namelength": 0
         },
         "hovertemplate": "werkorder_week_nummer=49<br>werkorder_start_datum=%{x}<br>werkorder_doorlooptijd=%{y}",
         "legendgroup": "werkorder_week_nummer=49",
         "line": {
          "color": "#636efa",
          "dash": "solid"
         },
         "mode": "lines",
         "name": "werkorder_week_nummer=49",
         "showlegend": true,
         "type": "scatter",
         "x": [
          "2019-11-30T00:00:00",
          "2019-11-30T00:00:00",
          "2019-12-01T00:00:00",
          "2019-12-01T00:00:00",
          "2019-11-30T00:00:00",
          "2019-12-02T00:00:00"
         ],
         "xaxis": "x",
         "y": [
          604800000000000,
          691200000000000,
          604800000000000,
          172800000000000,
          518400000000000,
          259200000000000
         ],
         "yaxis": "y"
        },
        {
         "hoverlabel": {
          "namelength": 0
         },
         "hovertemplate": "werkorder_week_nummer=1<br>werkorder_start_datum=%{x}<br>werkorder_doorlooptijd=%{y}",
         "legendgroup": "werkorder_week_nummer=1",
         "line": {
          "color": "#EF553B",
          "dash": "solid"
         },
         "mode": "lines",
         "name": "werkorder_week_nummer=1",
         "showlegend": true,
         "type": "scatter",
         "x": [
          "2019-12-23T00:00:00",
          "2019-12-23T00:00:00",
          "2019-12-22T00:00:00",
          "2019-12-27T00:00:00"
         ],
         "xaxis": "x",
         "y": [
          691200000000000,
          777600000000000,
          777600000000000,
          518400000000000
         ],
         "yaxis": "y"
        },
        {
         "hoverlabel": {
          "namelength": 0
         },
         "hovertemplate": "werkorder_week_nummer=2<br>werkorder_start_datum=%{x}<br>werkorder_doorlooptijd=%{y}",
         "legendgroup": "werkorder_week_nummer=2",
         "line": {
          "color": "#00cc96",
          "dash": "solid"
         },
         "mode": "lines",
         "name": "werkorder_week_nummer=2",
         "showlegend": true,
         "type": "scatter",
         "x": [
          "2019-01-03T00:00:00",
          "2019-01-02T00:00:00",
          "2019-01-03T00:00:00",
          "2019-01-06T00:00:00",
          "2019-01-08T00:00:00",
          "2019-01-05T00:00:00"
         ],
         "xaxis": "x",
         "y": [
          432000000000000,
          777600000000000,
          518400000000000,
          518400000000000,
          345600000000000,
          604800000000000
         ],
         "yaxis": "y"
        },
        {
         "hoverlabel": {
          "namelength": 0
         },
         "hovertemplate": "werkorder_week_nummer=18<br>werkorder_start_datum=%{x}<br>werkorder_doorlooptijd=%{y}",
         "legendgroup": "werkorder_week_nummer=18",
         "line": {
          "color": "#ab63fa",
          "dash": "solid"
         },
         "mode": "lines",
         "name": "werkorder_week_nummer=18",
         "showlegend": true,
         "type": "scatter",
         "x": [
          "2019-05-03T00:00:00",
          "2019-04-26T00:00:00"
         ],
         "xaxis": "x",
         "y": [
          172800000000000,
          604800000000000
         ],
         "yaxis": "y"
        },
        {
         "hoverlabel": {
          "namelength": 0
         },
         "hovertemplate": "werkorder_week_nummer=10<br>werkorder_start_datum=%{x}<br>werkorder_doorlooptijd=%{y}",
         "legendgroup": "werkorder_week_nummer=10",
         "line": {
          "color": "#FFA15A",
          "dash": "solid"
         },
         "mode": "lines",
         "name": "werkorder_week_nummer=10",
         "showlegend": true,
         "type": "scatter",
         "x": [
          "2019-03-03T00:00:00",
          "2019-02-26T00:00:00",
          "2019-03-04T00:00:00"
         ],
         "xaxis": "x",
         "y": [
          518400000000000,
          604800000000000,
          518400000000000
         ],
         "yaxis": "y"
        },
        {
         "hoverlabel": {
          "namelength": 0
         },
         "hovertemplate": "werkorder_week_nummer=47<br>werkorder_start_datum=%{x}<br>werkorder_doorlooptijd=%{y}",
         "legendgroup": "werkorder_week_nummer=47",
         "line": {
          "color": "#19d3f3",
          "dash": "solid"
         },
         "mode": "lines",
         "name": "werkorder_week_nummer=47",
         "showlegend": true,
         "type": "scatter",
         "x": [
          "2019-11-14T00:00:00",
          "2019-11-17T00:00:00",
          "2019-11-09T00:00:00"
         ],
         "xaxis": "x",
         "y": [
          604800000000000,
          604800000000000,
          777600000000000
         ],
         "yaxis": "y"
        },
        {
         "hoverlabel": {
          "namelength": 0
         },
         "hovertemplate": "werkorder_week_nummer=22<br>werkorder_start_datum=%{x}<br>werkorder_doorlooptijd=%{y}",
         "legendgroup": "werkorder_week_nummer=22",
         "line": {
          "color": "#FF6692",
          "dash": "solid"
         },
         "mode": "lines",
         "name": "werkorder_week_nummer=22",
         "showlegend": true,
         "type": "scatter",
         "x": [
          "2019-05-28T00:00:00",
          "2019-05-25T00:00:00",
          "2019-05-20T00:00:00"
         ],
         "xaxis": "x",
         "y": [
          259200000000000,
          691200000000000,
          604800000000000
         ],
         "yaxis": "y"
        },
        {
         "hoverlabel": {
          "namelength": 0
         },
         "hovertemplate": "werkorder_week_nummer=17<br>werkorder_start_datum=%{x}<br>werkorder_doorlooptijd=%{y}",
         "legendgroup": "werkorder_week_nummer=17",
         "line": {
          "color": "#B6E880",
          "dash": "solid"
         },
         "mode": "lines",
         "name": "werkorder_week_nummer=17",
         "showlegend": true,
         "type": "scatter",
         "x": [
          "2019-04-19T00:00:00",
          "2019-04-25T00:00:00"
         ],
         "xaxis": "x",
         "y": [
          518400000000000,
          172800000000000
         ],
         "yaxis": "y"
        },
        {
         "hoverlabel": {
          "namelength": 0
         },
         "hovertemplate": "werkorder_week_nummer=29<br>werkorder_start_datum=%{x}<br>werkorder_doorlooptijd=%{y}",
         "legendgroup": "werkorder_week_nummer=29",
         "line": {
          "color": "#FF97FF",
          "dash": "solid"
         },
         "mode": "lines",
         "name": "werkorder_week_nummer=29",
         "showlegend": true,
         "type": "scatter",
         "x": [
          "2019-07-07T00:00:00",
          "2019-07-15T00:00:00",
          "2019-07-11T00:00:00",
          "2019-07-07T00:00:00",
          "2019-07-14T00:00:00"
         ],
         "xaxis": "x",
         "y": [
          691200000000000,
          259200000000000,
          518400000000000,
          691200000000000,
          604800000000000
         ],
         "yaxis": "y"
        },
        {
         "hoverlabel": {
          "namelength": 0
         },
         "hovertemplate": "werkorder_week_nummer=13<br>werkorder_start_datum=%{x}<br>werkorder_doorlooptijd=%{y}",
         "legendgroup": "werkorder_week_nummer=13",
         "line": {
          "color": "#FECB52",
          "dash": "solid"
         },
         "mode": "lines",
         "name": "werkorder_week_nummer=13",
         "showlegend": true,
         "type": "scatter",
         "x": [
          "2019-03-25T00:00:00",
          "2019-03-25T00:00:00",
          "2019-03-24T00:00:00"
         ],
         "xaxis": "x",
         "y": [
          172800000000000,
          259200000000000,
          518400000000000
         ],
         "yaxis": "y"
        },
        {
         "hoverlabel": {
          "namelength": 0
         },
         "hovertemplate": "werkorder_week_nummer=4<br>werkorder_start_datum=%{x}<br>werkorder_doorlooptijd=%{y}",
         "legendgroup": "werkorder_week_nummer=4",
         "line": {
          "color": "#636efa",
          "dash": "solid"
         },
         "mode": "lines",
         "name": "werkorder_week_nummer=4",
         "showlegend": true,
         "type": "scatter",
         "x": [
          "2019-01-18T00:00:00",
          "2019-01-20T00:00:00",
          "2019-01-15T00:00:00"
         ],
         "xaxis": "x",
         "y": [
          259200000000000,
          259200000000000,
          691200000000000
         ],
         "yaxis": "y"
        },
        {
         "hoverlabel": {
          "namelength": 0
         },
         "hovertemplate": "werkorder_week_nummer=25<br>werkorder_start_datum=%{x}<br>werkorder_doorlooptijd=%{y}",
         "legendgroup": "werkorder_week_nummer=25",
         "line": {
          "color": "#EF553B",
          "dash": "solid"
         },
         "mode": "lines",
         "name": "werkorder_week_nummer=25",
         "showlegend": true,
         "type": "scatter",
         "x": [
          "2019-06-14T00:00:00",
          "2019-06-16T00:00:00"
         ],
         "xaxis": "x",
         "y": [
          518400000000000,
          604800000000000
         ],
         "yaxis": "y"
        },
        {
         "hoverlabel": {
          "namelength": 0
         },
         "hovertemplate": "werkorder_week_nummer=3<br>werkorder_start_datum=%{x}<br>werkorder_doorlooptijd=%{y}",
         "legendgroup": "werkorder_week_nummer=3",
         "line": {
          "color": "#00cc96",
          "dash": "solid"
         },
         "mode": "lines",
         "name": "werkorder_week_nummer=3",
         "showlegend": true,
         "type": "scatter",
         "x": [
          "2019-01-09T00:00:00",
          "2019-01-07T00:00:00",
          "2019-01-12T00:00:00"
         ],
         "xaxis": "x",
         "y": [
          691200000000000,
          604800000000000,
          259200000000000
         ],
         "yaxis": "y"
        },
        {
         "hoverlabel": {
          "namelength": 0
         },
         "hovertemplate": "werkorder_week_nummer=20<br>werkorder_start_datum=%{x}<br>werkorder_doorlooptijd=%{y}",
         "legendgroup": "werkorder_week_nummer=20",
         "line": {
          "color": "#ab63fa",
          "dash": "solid"
         },
         "mode": "lines",
         "name": "werkorder_week_nummer=20",
         "showlegend": true,
         "type": "scatter",
         "x": [
          "2019-05-11T00:00:00",
          "2019-05-10T00:00:00"
         ],
         "xaxis": "x",
         "y": [
          691200000000000,
          345600000000000
         ],
         "yaxis": "y"
        },
        {
         "hoverlabel": {
          "namelength": 0
         },
         "hovertemplate": "werkorder_week_nummer=38<br>werkorder_start_datum=%{x}<br>werkorder_doorlooptijd=%{y}",
         "legendgroup": "werkorder_week_nummer=38",
         "line": {
          "color": "#FFA15A",
          "dash": "solid"
         },
         "mode": "lines",
         "name": "werkorder_week_nummer=38",
         "showlegend": true,
         "type": "scatter",
         "x": [
          "2019-09-14T00:00:00",
          "2019-09-09T00:00:00",
          "2019-09-16T00:00:00"
         ],
         "xaxis": "x",
         "y": [
          259200000000000,
          691200000000000,
          172800000000000
         ],
         "yaxis": "y"
        },
        {
         "hoverlabel": {
          "namelength": 0
         },
         "hovertemplate": "werkorder_week_nummer=51<br>werkorder_start_datum=%{x}<br>werkorder_doorlooptijd=%{y}",
         "legendgroup": "werkorder_week_nummer=51",
         "line": {
          "color": "#19d3f3",
          "dash": "solid"
         },
         "mode": "lines",
         "name": "werkorder_week_nummer=51",
         "showlegend": true,
         "type": "scatter",
         "x": [
          "2019-12-15T00:00:00",
          "2019-12-11T00:00:00",
          "2019-12-09T00:00:00"
         ],
         "xaxis": "x",
         "y": [
          432000000000000,
          518400000000000,
          604800000000000
         ],
         "yaxis": "y"
        },
        {
         "hoverlabel": {
          "namelength": 0
         },
         "hovertemplate": "werkorder_week_nummer=39<br>werkorder_start_datum=%{x}<br>werkorder_doorlooptijd=%{y}",
         "legendgroup": "werkorder_week_nummer=39",
         "line": {
          "color": "#FF6692",
          "dash": "solid"
         },
         "mode": "lines",
         "name": "werkorder_week_nummer=39",
         "showlegend": true,
         "type": "scatter",
         "x": [
          "2019-09-21T00:00:00"
         ],
         "xaxis": "x",
         "y": [
          518400000000000
         ],
         "yaxis": "y"
        },
        {
         "hoverlabel": {
          "namelength": 0
         },
         "hovertemplate": "werkorder_week_nummer=41<br>werkorder_start_datum=%{x}<br>werkorder_doorlooptijd=%{y}",
         "legendgroup": "werkorder_week_nummer=41",
         "line": {
          "color": "#B6E880",
          "dash": "solid"
         },
         "mode": "lines",
         "name": "werkorder_week_nummer=41",
         "showlegend": true,
         "type": "scatter",
         "x": [
          "2019-10-02T00:00:00",
          "2019-10-03T00:00:00"
         ],
         "xaxis": "x",
         "y": [
          604800000000000,
          691200000000000
         ],
         "yaxis": "y"
        },
        {
         "hoverlabel": {
          "namelength": 0
         },
         "hovertemplate": "werkorder_week_nummer=8<br>werkorder_start_datum=%{x}<br>werkorder_doorlooptijd=%{y}",
         "legendgroup": "werkorder_week_nummer=8",
         "line": {
          "color": "#FF97FF",
          "dash": "solid"
         },
         "mode": "lines",
         "name": "werkorder_week_nummer=8",
         "showlegend": true,
         "type": "scatter",
         "x": [
          "2019-02-13T00:00:00",
          "2019-02-20T00:00:00",
          "2019-02-17T00:00:00"
         ],
         "xaxis": "x",
         "y": [
          691200000000000,
          345600000000000,
          518400000000000
         ],
         "yaxis": "y"
        },
        {
         "hoverlabel": {
          "namelength": 0
         },
         "hovertemplate": "werkorder_week_nummer=15<br>werkorder_start_datum=%{x}<br>werkorder_doorlooptijd=%{y}",
         "legendgroup": "werkorder_week_nummer=15",
         "line": {
          "color": "#FECB52",
          "dash": "solid"
         },
         "mode": "lines",
         "name": "werkorder_week_nummer=15",
         "showlegend": true,
         "type": "scatter",
         "x": [
          "2019-04-03T00:00:00",
          "2019-04-02T00:00:00",
          "2019-04-08T00:00:00",
          "2019-04-04T00:00:00"
         ],
         "xaxis": "x",
         "y": [
          691200000000000,
          691200000000000,
          345600000000000,
          432000000000000
         ],
         "yaxis": "y"
        },
        {
         "hoverlabel": {
          "namelength": 0
         },
         "hovertemplate": "werkorder_week_nummer=42<br>werkorder_start_datum=%{x}<br>werkorder_doorlooptijd=%{y}",
         "legendgroup": "werkorder_week_nummer=42",
         "line": {
          "color": "#636efa",
          "dash": "solid"
         },
         "mode": "lines",
         "name": "werkorder_week_nummer=42",
         "showlegend": true,
         "type": "scatter",
         "x": [
          "2019-10-10T00:00:00",
          "2019-10-13T00:00:00",
          "2019-10-14T00:00:00"
         ],
         "xaxis": "x",
         "y": [
          604800000000000,
          604800000000000,
          518400000000000
         ],
         "yaxis": "y"
        },
        {
         "hoverlabel": {
          "namelength": 0
         },
         "hovertemplate": "werkorder_week_nummer=26<br>werkorder_start_datum=%{x}<br>werkorder_doorlooptijd=%{y}",
         "legendgroup": "werkorder_week_nummer=26",
         "line": {
          "color": "#EF553B",
          "dash": "solid"
         },
         "mode": "lines",
         "name": "werkorder_week_nummer=26",
         "showlegend": true,
         "type": "scatter",
         "x": [
          "2019-06-18T00:00:00"
         ],
         "xaxis": "x",
         "y": [
          604800000000000
         ],
         "yaxis": "y"
        },
        {
         "hoverlabel": {
          "namelength": 0
         },
         "hovertemplate": "werkorder_week_nummer=46<br>werkorder_start_datum=%{x}<br>werkorder_doorlooptijd=%{y}",
         "legendgroup": "werkorder_week_nummer=46",
         "line": {
          "color": "#00cc96",
          "dash": "solid"
         },
         "mode": "lines",
         "name": "werkorder_week_nummer=46",
         "showlegend": true,
         "type": "scatter",
         "x": [
          "2019-11-12T00:00:00"
         ],
         "xaxis": "x",
         "y": [
          345600000000000
         ],
         "yaxis": "y"
        },
        {
         "hoverlabel": {
          "namelength": 0
         },
         "hovertemplate": "werkorder_week_nummer=31<br>werkorder_start_datum=%{x}<br>werkorder_doorlooptijd=%{y}",
         "legendgroup": "werkorder_week_nummer=31",
         "line": {
          "color": "#ab63fa",
          "dash": "solid"
         },
         "mode": "lines",
         "name": "werkorder_week_nummer=31",
         "showlegend": true,
         "type": "scatter",
         "x": [
          "2019-07-28T00:00:00"
         ],
         "xaxis": "x",
         "y": [
          432000000000000
         ],
         "yaxis": "y"
        },
        {
         "hoverlabel": {
          "namelength": 0
         },
         "hovertemplate": "werkorder_week_nummer=30<br>werkorder_start_datum=%{x}<br>werkorder_doorlooptijd=%{y}",
         "legendgroup": "werkorder_week_nummer=30",
         "line": {
          "color": "#FFA15A",
          "dash": "solid"
         },
         "mode": "lines",
         "name": "werkorder_week_nummer=30",
         "showlegend": true,
         "type": "scatter",
         "x": [
          "2019-07-20T00:00:00"
         ],
         "xaxis": "x",
         "y": [
          345600000000000
         ],
         "yaxis": "y"
        },
        {
         "hoverlabel": {
          "namelength": 0
         },
         "hovertemplate": "werkorder_week_nummer=43<br>werkorder_start_datum=%{x}<br>werkorder_doorlooptijd=%{y}",
         "legendgroup": "werkorder_week_nummer=43",
         "line": {
          "color": "#19d3f3",
          "dash": "solid"
         },
         "mode": "lines",
         "name": "werkorder_week_nummer=43",
         "showlegend": true,
         "type": "scatter",
         "x": [
          "2019-10-14T00:00:00",
          "2019-10-21T00:00:00",
          "2019-10-24T00:00:00"
         ],
         "xaxis": "x",
         "y": [
          691200000000000,
          432000000000000,
          172800000000000
         ],
         "yaxis": "y"
        },
        {
         "hoverlabel": {
          "namelength": 0
         },
         "hovertemplate": "werkorder_week_nummer=24<br>werkorder_start_datum=%{x}<br>werkorder_doorlooptijd=%{y}",
         "legendgroup": "werkorder_week_nummer=24",
         "line": {
          "color": "#FF6692",
          "dash": "solid"
         },
         "mode": "lines",
         "name": "werkorder_week_nummer=24",
         "showlegend": true,
         "type": "scatter",
         "x": [
          "2019-06-05T00:00:00"
         ],
         "xaxis": "x",
         "y": [
          432000000000000
         ],
         "yaxis": "y"
        }
       ],
       "layout": {
        "height": 600,
        "legend": {
         "tracegroupgap": 0
        },
        "margin": {
         "t": 60
        },
        "template": {
         "data": {
          "bar": [
           {
            "error_x": {
             "color": "#2a3f5f"
            },
            "error_y": {
             "color": "#2a3f5f"
            },
            "marker": {
             "line": {
              "color": "#E5ECF6",
              "width": 0.5
             }
            },
            "type": "bar"
           }
          ],
          "barpolar": [
           {
            "marker": {
             "line": {
              "color": "#E5ECF6",
              "width": 0.5
             }
            },
            "type": "barpolar"
           }
          ],
          "carpet": [
           {
            "aaxis": {
             "endlinecolor": "#2a3f5f",
             "gridcolor": "white",
             "linecolor": "white",
             "minorgridcolor": "white",
             "startlinecolor": "#2a3f5f"
            },
            "baxis": {
             "endlinecolor": "#2a3f5f",
             "gridcolor": "white",
             "linecolor": "white",
             "minorgridcolor": "white",
             "startlinecolor": "#2a3f5f"
            },
            "type": "carpet"
           }
          ],
          "choropleth": [
           {
            "colorbar": {
             "outlinewidth": 0,
             "ticks": ""
            },
            "type": "choropleth"
           }
          ],
          "contour": [
           {
            "colorbar": {
             "outlinewidth": 0,
             "ticks": ""
            },
            "colorscale": [
             [
              0,
              "#0d0887"
             ],
             [
              0.1111111111111111,
              "#46039f"
             ],
             [
              0.2222222222222222,
              "#7201a8"
             ],
             [
              0.3333333333333333,
              "#9c179e"
             ],
             [
              0.4444444444444444,
              "#bd3786"
             ],
             [
              0.5555555555555556,
              "#d8576b"
             ],
             [
              0.6666666666666666,
              "#ed7953"
             ],
             [
              0.7777777777777778,
              "#fb9f3a"
             ],
             [
              0.8888888888888888,
              "#fdca26"
             ],
             [
              1,
              "#f0f921"
             ]
            ],
            "type": "contour"
           }
          ],
          "contourcarpet": [
           {
            "colorbar": {
             "outlinewidth": 0,
             "ticks": ""
            },
            "type": "contourcarpet"
           }
          ],
          "heatmap": [
           {
            "colorbar": {
             "outlinewidth": 0,
             "ticks": ""
            },
            "colorscale": [
             [
              0,
              "#0d0887"
             ],
             [
              0.1111111111111111,
              "#46039f"
             ],
             [
              0.2222222222222222,
              "#7201a8"
             ],
             [
              0.3333333333333333,
              "#9c179e"
             ],
             [
              0.4444444444444444,
              "#bd3786"
             ],
             [
              0.5555555555555556,
              "#d8576b"
             ],
             [
              0.6666666666666666,
              "#ed7953"
             ],
             [
              0.7777777777777778,
              "#fb9f3a"
             ],
             [
              0.8888888888888888,
              "#fdca26"
             ],
             [
              1,
              "#f0f921"
             ]
            ],
            "type": "heatmap"
           }
          ],
          "heatmapgl": [
           {
            "colorbar": {
             "outlinewidth": 0,
             "ticks": ""
            },
            "colorscale": [
             [
              0,
              "#0d0887"
             ],
             [
              0.1111111111111111,
              "#46039f"
             ],
             [
              0.2222222222222222,
              "#7201a8"
             ],
             [
              0.3333333333333333,
              "#9c179e"
             ],
             [
              0.4444444444444444,
              "#bd3786"
             ],
             [
              0.5555555555555556,
              "#d8576b"
             ],
             [
              0.6666666666666666,
              "#ed7953"
             ],
             [
              0.7777777777777778,
              "#fb9f3a"
             ],
             [
              0.8888888888888888,
              "#fdca26"
             ],
             [
              1,
              "#f0f921"
             ]
            ],
            "type": "heatmapgl"
           }
          ],
          "histogram": [
           {
            "marker": {
             "colorbar": {
              "outlinewidth": 0,
              "ticks": ""
             }
            },
            "type": "histogram"
           }
          ],
          "histogram2d": [
           {
            "colorbar": {
             "outlinewidth": 0,
             "ticks": ""
            },
            "colorscale": [
             [
              0,
              "#0d0887"
             ],
             [
              0.1111111111111111,
              "#46039f"
             ],
             [
              0.2222222222222222,
              "#7201a8"
             ],
             [
              0.3333333333333333,
              "#9c179e"
             ],
             [
              0.4444444444444444,
              "#bd3786"
             ],
             [
              0.5555555555555556,
              "#d8576b"
             ],
             [
              0.6666666666666666,
              "#ed7953"
             ],
             [
              0.7777777777777778,
              "#fb9f3a"
             ],
             [
              0.8888888888888888,
              "#fdca26"
             ],
             [
              1,
              "#f0f921"
             ]
            ],
            "type": "histogram2d"
           }
          ],
          "histogram2dcontour": [
           {
            "colorbar": {
             "outlinewidth": 0,
             "ticks": ""
            },
            "colorscale": [
             [
              0,
              "#0d0887"
             ],
             [
              0.1111111111111111,
              "#46039f"
             ],
             [
              0.2222222222222222,
              "#7201a8"
             ],
             [
              0.3333333333333333,
              "#9c179e"
             ],
             [
              0.4444444444444444,
              "#bd3786"
             ],
             [
              0.5555555555555556,
              "#d8576b"
             ],
             [
              0.6666666666666666,
              "#ed7953"
             ],
             [
              0.7777777777777778,
              "#fb9f3a"
             ],
             [
              0.8888888888888888,
              "#fdca26"
             ],
             [
              1,
              "#f0f921"
             ]
            ],
            "type": "histogram2dcontour"
           }
          ],
          "mesh3d": [
           {
            "colorbar": {
             "outlinewidth": 0,
             "ticks": ""
            },
            "type": "mesh3d"
           }
          ],
          "parcoords": [
           {
            "line": {
             "colorbar": {
              "outlinewidth": 0,
              "ticks": ""
             }
            },
            "type": "parcoords"
           }
          ],
          "scatter": [
           {
            "marker": {
             "colorbar": {
              "outlinewidth": 0,
              "ticks": ""
             }
            },
            "type": "scatter"
           }
          ],
          "scatter3d": [
           {
            "line": {
             "colorbar": {
              "outlinewidth": 0,
              "ticks": ""
             }
            },
            "marker": {
             "colorbar": {
              "outlinewidth": 0,
              "ticks": ""
             }
            },
            "type": "scatter3d"
           }
          ],
          "scattercarpet": [
           {
            "marker": {
             "colorbar": {
              "outlinewidth": 0,
              "ticks": ""
             }
            },
            "type": "scattercarpet"
           }
          ],
          "scattergeo": [
           {
            "marker": {
             "colorbar": {
              "outlinewidth": 0,
              "ticks": ""
             }
            },
            "type": "scattergeo"
           }
          ],
          "scattergl": [
           {
            "marker": {
             "colorbar": {
              "outlinewidth": 0,
              "ticks": ""
             }
            },
            "type": "scattergl"
           }
          ],
          "scattermapbox": [
           {
            "marker": {
             "colorbar": {
              "outlinewidth": 0,
              "ticks": ""
             }
            },
            "type": "scattermapbox"
           }
          ],
          "scatterpolar": [
           {
            "marker": {
             "colorbar": {
              "outlinewidth": 0,
              "ticks": ""
             }
            },
            "type": "scatterpolar"
           }
          ],
          "scatterpolargl": [
           {
            "marker": {
             "colorbar": {
              "outlinewidth": 0,
              "ticks": ""
             }
            },
            "type": "scatterpolargl"
           }
          ],
          "scatterternary": [
           {
            "marker": {
             "colorbar": {
              "outlinewidth": 0,
              "ticks": ""
             }
            },
            "type": "scatterternary"
           }
          ],
          "surface": [
           {
            "colorbar": {
             "outlinewidth": 0,
             "ticks": ""
            },
            "colorscale": [
             [
              0,
              "#0d0887"
             ],
             [
              0.1111111111111111,
              "#46039f"
             ],
             [
              0.2222222222222222,
              "#7201a8"
             ],
             [
              0.3333333333333333,
              "#9c179e"
             ],
             [
              0.4444444444444444,
              "#bd3786"
             ],
             [
              0.5555555555555556,
              "#d8576b"
             ],
             [
              0.6666666666666666,
              "#ed7953"
             ],
             [
              0.7777777777777778,
              "#fb9f3a"
             ],
             [
              0.8888888888888888,
              "#fdca26"
             ],
             [
              1,
              "#f0f921"
             ]
            ],
            "type": "surface"
           }
          ],
          "table": [
           {
            "cells": {
             "fill": {
              "color": "#EBF0F8"
             },
             "line": {
              "color": "white"
             }
            },
            "header": {
             "fill": {
              "color": "#C8D4E3"
             },
             "line": {
              "color": "white"
             }
            },
            "type": "table"
           }
          ]
         },
         "layout": {
          "annotationdefaults": {
           "arrowcolor": "#2a3f5f",
           "arrowhead": 0,
           "arrowwidth": 1
          },
          "colorscale": {
           "diverging": [
            [
             0,
             "#8e0152"
            ],
            [
             0.1,
             "#c51b7d"
            ],
            [
             0.2,
             "#de77ae"
            ],
            [
             0.3,
             "#f1b6da"
            ],
            [
             0.4,
             "#fde0ef"
            ],
            [
             0.5,
             "#f7f7f7"
            ],
            [
             0.6,
             "#e6f5d0"
            ],
            [
             0.7,
             "#b8e186"
            ],
            [
             0.8,
             "#7fbc41"
            ],
            [
             0.9,
             "#4d9221"
            ],
            [
             1,
             "#276419"
            ]
           ],
           "sequential": [
            [
             0,
             "#0d0887"
            ],
            [
             0.1111111111111111,
             "#46039f"
            ],
            [
             0.2222222222222222,
             "#7201a8"
            ],
            [
             0.3333333333333333,
             "#9c179e"
            ],
            [
             0.4444444444444444,
             "#bd3786"
            ],
            [
             0.5555555555555556,
             "#d8576b"
            ],
            [
             0.6666666666666666,
             "#ed7953"
            ],
            [
             0.7777777777777778,
             "#fb9f3a"
            ],
            [
             0.8888888888888888,
             "#fdca26"
            ],
            [
             1,
             "#f0f921"
            ]
           ],
           "sequentialminus": [
            [
             0,
             "#0d0887"
            ],
            [
             0.1111111111111111,
             "#46039f"
            ],
            [
             0.2222222222222222,
             "#7201a8"
            ],
            [
             0.3333333333333333,
             "#9c179e"
            ],
            [
             0.4444444444444444,
             "#bd3786"
            ],
            [
             0.5555555555555556,
             "#d8576b"
            ],
            [
             0.6666666666666666,
             "#ed7953"
            ],
            [
             0.7777777777777778,
             "#fb9f3a"
            ],
            [
             0.8888888888888888,
             "#fdca26"
            ],
            [
             1,
             "#f0f921"
            ]
           ]
          },
          "colorway": [
           "#636efa",
           "#EF553B",
           "#00cc96",
           "#ab63fa",
           "#FFA15A",
           "#19d3f3",
           "#FF6692",
           "#B6E880",
           "#FF97FF",
           "#FECB52"
          ],
          "font": {
           "color": "#2a3f5f"
          },
          "geo": {
           "bgcolor": "white",
           "lakecolor": "white",
           "landcolor": "#E5ECF6",
           "showlakes": true,
           "showland": true,
           "subunitcolor": "white"
          },
          "hoverlabel": {
           "align": "left"
          },
          "hovermode": "closest",
          "mapbox": {
           "style": "light"
          },
          "paper_bgcolor": "white",
          "plot_bgcolor": "#E5ECF6",
          "polar": {
           "angularaxis": {
            "gridcolor": "white",
            "linecolor": "white",
            "ticks": ""
           },
           "bgcolor": "#E5ECF6",
           "radialaxis": {
            "gridcolor": "white",
            "linecolor": "white",
            "ticks": ""
           }
          },
          "scene": {
           "xaxis": {
            "backgroundcolor": "#E5ECF6",
            "gridcolor": "white",
            "gridwidth": 2,
            "linecolor": "white",
            "showbackground": true,
            "ticks": "",
            "zerolinecolor": "white"
           },
           "yaxis": {
            "backgroundcolor": "#E5ECF6",
            "gridcolor": "white",
            "gridwidth": 2,
            "linecolor": "white",
            "showbackground": true,
            "ticks": "",
            "zerolinecolor": "white"
           },
           "zaxis": {
            "backgroundcolor": "#E5ECF6",
            "gridcolor": "white",
            "gridwidth": 2,
            "linecolor": "white",
            "showbackground": true,
            "ticks": "",
            "zerolinecolor": "white"
           }
          },
          "shapedefaults": {
           "line": {
            "color": "#2a3f5f"
           }
          },
          "ternary": {
           "aaxis": {
            "gridcolor": "white",
            "linecolor": "white",
            "ticks": ""
           },
           "baxis": {
            "gridcolor": "white",
            "linecolor": "white",
            "ticks": ""
           },
           "bgcolor": "#E5ECF6",
           "caxis": {
            "gridcolor": "white",
            "linecolor": "white",
            "ticks": ""
           }
          },
          "title": {
           "x": 0.05
          },
          "xaxis": {
           "automargin": true,
           "gridcolor": "white",
           "linecolor": "white",
           "ticks": "",
           "zerolinecolor": "white",
           "zerolinewidth": 2
          },
          "yaxis": {
           "automargin": true,
           "gridcolor": "white",
           "linecolor": "white",
           "ticks": "",
           "zerolinecolor": "white",
           "zerolinewidth": 2
          }
         }
        },
        "xaxis": {
         "anchor": "y",
         "domain": [
          0,
          0.98
         ],
         "title": {
          "text": "werkorder_start_datum"
         }
        },
        "yaxis": {
         "anchor": "x",
         "domain": [
          0,
          1
         ],
         "title": {
          "text": "werkorder_doorlooptijd"
         }
        }
       }
      },
      "text/html": [
       "<div>\n",
       "        \n",
       "        \n",
       "            <div id=\"0920c001-5d3e-4b57-96b9-21344845e86d\" class=\"plotly-graph-div\" style=\"height:600px; width:100%;\"></div>\n",
       "            <script type=\"text/javascript\">\n",
       "                require([\"plotly\"], function(Plotly) {\n",
       "                    window.PLOTLYENV=window.PLOTLYENV || {};\n",
       "                    \n",
       "                if (document.getElementById(\"0920c001-5d3e-4b57-96b9-21344845e86d\")) {\n",
       "                    Plotly.newPlot(\n",
       "                        '0920c001-5d3e-4b57-96b9-21344845e86d',\n",
       "                        [{\"hoverlabel\": {\"namelength\": 0}, \"hovertemplate\": \"werkorder_week_nummer=44<br>werkorder_start_datum=%{x}<br>werkorder_doorlooptijd=%{y}\", \"legendgroup\": \"werkorder_week_nummer=44\", \"line\": {\"color\": \"#636efa\", \"dash\": \"solid\"}, \"mode\": \"lines\", \"name\": \"werkorder_week_nummer=44\", \"showlegend\": true, \"type\": \"scatter\", \"x\": [\"2019-10-20T00:00:00\", \"2019-10-26T00:00:00\", \"2019-10-21T00:00:00\", \"2019-10-25T00:00:00\", \"2019-10-29T00:00:00\", \"2019-10-21T00:00:00\", \"2019-10-26T00:00:00\"], \"xaxis\": \"x\", \"y\": [777600000000000, 172800000000000, 777600000000000, 345600000000000, 259200000000000, 691200000000000, 345600000000000], \"yaxis\": \"y\"}, {\"hoverlabel\": {\"namelength\": 0}, \"hovertemplate\": \"werkorder_week_nummer=27<br>werkorder_start_datum=%{x}<br>werkorder_doorlooptijd=%{y}\", \"legendgroup\": \"werkorder_week_nummer=27\", \"line\": {\"color\": \"#EF553B\", \"dash\": \"solid\"}, \"mode\": \"lines\", \"name\": \"werkorder_week_nummer=27\", \"showlegend\": true, \"type\": \"scatter\", \"x\": [\"2019-06-30T00:00:00\", \"2019-07-01T00:00:00\", \"2019-06-28T00:00:00\", \"2019-06-27T00:00:00\", \"2019-06-28T00:00:00\", \"2019-06-30T00:00:00\"], \"xaxis\": \"x\", \"y\": [259200000000000, 518400000000000, 604800000000000, 691200000000000, 432000000000000, 259200000000000], \"yaxis\": \"y\"}, {\"hoverlabel\": {\"namelength\": 0}, \"hovertemplate\": \"werkorder_week_nummer=6<br>werkorder_start_datum=%{x}<br>werkorder_doorlooptijd=%{y}\", \"legendgroup\": \"werkorder_week_nummer=6\", \"line\": {\"color\": \"#00cc96\", \"dash\": \"solid\"}, \"mode\": \"lines\", \"name\": \"werkorder_week_nummer=6\", \"showlegend\": true, \"type\": \"scatter\", \"x\": [\"2019-02-04T00:00:00\", \"2019-02-06T00:00:00\", \"2019-02-04T00:00:00\", \"2019-02-07T00:00:00\", \"2019-02-03T00:00:00\", \"2019-02-08T00:00:00\", \"2019-02-03T00:00:00\"], \"xaxis\": \"x\", \"y\": [432000000000000, 172800000000000, 518400000000000, 259200000000000, 432000000000000, 172800000000000, 432000000000000], \"yaxis\": \"y\"}, {\"hoverlabel\": {\"namelength\": 0}, \"hovertemplate\": \"werkorder_week_nummer=52<br>werkorder_start_datum=%{x}<br>werkorder_doorlooptijd=%{y}\", \"legendgroup\": \"werkorder_week_nummer=52\", \"line\": {\"color\": \"#ab63fa\", \"dash\": \"solid\"}, \"mode\": \"lines\", \"name\": \"werkorder_week_nummer=52\", \"showlegend\": true, \"type\": \"scatter\", \"x\": [\"2019-12-19T00:00:00\", \"2019-12-19T00:00:00\", \"2019-12-19T00:00:00\", \"2019-12-22T00:00:00\", \"2019-12-18T00:00:00\", \"2019-12-21T00:00:00\"], \"xaxis\": \"x\", \"y\": [777600000000000, 345600000000000, 518400000000000, 345600000000000, 518400000000000, 345600000000000], \"yaxis\": \"y\"}, {\"hoverlabel\": {\"namelength\": 0}, \"hovertemplate\": \"werkorder_week_nummer=50<br>werkorder_start_datum=%{x}<br>werkorder_doorlooptijd=%{y}\", \"legendgroup\": \"werkorder_week_nummer=50\", \"line\": {\"color\": \"#FFA15A\", \"dash\": \"solid\"}, \"mode\": \"lines\", \"name\": \"werkorder_week_nummer=50\", \"showlegend\": true, \"type\": \"scatter\", \"x\": [\"2019-12-09T00:00:00\", \"2019-12-05T00:00:00\", \"2019-12-11T00:00:00\", \"2019-12-11T00:00:00\", \"2019-12-04T00:00:00\", \"2019-12-07T00:00:00\", \"2019-12-05T00:00:00\"], \"xaxis\": \"x\", \"y\": [259200000000000, 604800000000000, 172800000000000, 259200000000000, 691200000000000, 691200000000000, 777600000000000], \"yaxis\": \"y\"}, {\"hoverlabel\": {\"namelength\": 0}, \"hovertemplate\": \"werkorder_week_nummer=37<br>werkorder_start_datum=%{x}<br>werkorder_doorlooptijd=%{y}\", \"legendgroup\": \"werkorder_week_nummer=37\", \"line\": {\"color\": \"#19d3f3\", \"dash\": \"solid\"}, \"mode\": \"lines\", \"name\": \"werkorder_week_nummer=37\", \"showlegend\": true, \"type\": \"scatter\", \"x\": [\"2019-09-08T00:00:00\", \"2019-09-05T00:00:00\"], \"xaxis\": \"x\", \"y\": [259200000000000, 345600000000000], \"yaxis\": \"y\"}, {\"hoverlabel\": {\"namelength\": 0}, \"hovertemplate\": \"werkorder_week_nummer=19<br>werkorder_start_datum=%{x}<br>werkorder_doorlooptijd=%{y}\", \"legendgroup\": \"werkorder_week_nummer=19\", \"line\": {\"color\": \"#FF6692\", \"dash\": \"solid\"}, \"mode\": \"lines\", \"name\": \"werkorder_week_nummer=19\", \"showlegend\": true, \"type\": \"scatter\", \"x\": [\"2019-05-02T00:00:00\", \"2019-05-02T00:00:00\"], \"xaxis\": \"x\", \"y\": [777600000000000, 518400000000000], \"yaxis\": \"y\"}, {\"hoverlabel\": {\"namelength\": 0}, \"hovertemplate\": \"werkorder_week_nummer=14<br>werkorder_start_datum=%{x}<br>werkorder_doorlooptijd=%{y}\", \"legendgroup\": \"werkorder_week_nummer=14\", \"line\": {\"color\": \"#B6E880\", \"dash\": \"solid\"}, \"mode\": \"lines\", \"name\": \"werkorder_week_nummer=14\", \"showlegend\": true, \"type\": \"scatter\", \"x\": [\"2019-03-28T00:00:00\", \"2019-04-03T00:00:00\", \"2019-03-31T00:00:00\", \"2019-03-27T00:00:00\", \"2019-03-29T00:00:00\", \"2019-04-02T00:00:00\"], \"xaxis\": \"x\", \"y\": [691200000000000, 259200000000000, 259200000000000, 518400000000000, 518400000000000, 345600000000000], \"yaxis\": \"y\"}, {\"hoverlabel\": {\"namelength\": 0}, \"hovertemplate\": \"werkorder_week_nummer=33<br>werkorder_start_datum=%{x}<br>werkorder_doorlooptijd=%{y}\", \"legendgroup\": \"werkorder_week_nummer=33\", \"line\": {\"color\": \"#FF97FF\", \"dash\": \"solid\"}, \"mode\": \"lines\", \"name\": \"werkorder_week_nummer=33\", \"showlegend\": true, \"type\": \"scatter\", \"x\": [\"2019-08-10T00:00:00\", \"2019-08-13T00:00:00\", \"2019-08-12T00:00:00\"], \"xaxis\": \"x\", \"y\": [518400000000000, 432000000000000, 259200000000000], \"yaxis\": \"y\"}, {\"hoverlabel\": {\"namelength\": 0}, \"hovertemplate\": \"werkorder_week_nummer=21<br>werkorder_start_datum=%{x}<br>werkorder_doorlooptijd=%{y}\", \"legendgroup\": \"werkorder_week_nummer=21\", \"line\": {\"color\": \"#FECB52\", \"dash\": \"solid\"}, \"mode\": \"lines\", \"name\": \"werkorder_week_nummer=21\", \"showlegend\": true, \"type\": \"scatter\", \"x\": [\"2019-05-15T00:00:00\", \"2019-05-16T00:00:00\"], \"xaxis\": \"x\", \"y\": [691200000000000, 345600000000000], \"yaxis\": \"y\"}, {\"hoverlabel\": {\"namelength\": 0}, \"hovertemplate\": \"werkorder_week_nummer=5<br>werkorder_start_datum=%{x}<br>werkorder_doorlooptijd=%{y}\", \"legendgroup\": \"werkorder_week_nummer=5\", \"line\": {\"color\": \"#636efa\", \"dash\": \"solid\"}, \"mode\": \"lines\", \"name\": \"werkorder_week_nummer=5\", \"showlegend\": true, \"type\": \"scatter\", \"x\": [\"2019-01-29T00:00:00\", \"2019-01-21T00:00:00\", \"2019-01-24T00:00:00\", \"2019-01-29T00:00:00\"], \"xaxis\": \"x\", \"y\": [432000000000000, 691200000000000, 345600000000000, 345600000000000], \"yaxis\": \"y\"}, {\"hoverlabel\": {\"namelength\": 0}, \"hovertemplate\": \"werkorder_week_nummer=7<br>werkorder_start_datum=%{x}<br>werkorder_doorlooptijd=%{y}\", \"legendgroup\": \"werkorder_week_nummer=7\", \"line\": {\"color\": \"#EF553B\", \"dash\": \"solid\"}, \"mode\": \"lines\", \"name\": \"werkorder_week_nummer=7\", \"showlegend\": true, \"type\": \"scatter\", \"x\": [\"2019-02-05T00:00:00\"], \"xaxis\": \"x\", \"y\": [604800000000000], \"yaxis\": \"y\"}, {\"hoverlabel\": {\"namelength\": 0}, \"hovertemplate\": \"werkorder_week_nummer=40<br>werkorder_start_datum=%{x}<br>werkorder_doorlooptijd=%{y}\", \"legendgroup\": \"werkorder_week_nummer=40\", \"line\": {\"color\": \"#00cc96\", \"dash\": \"solid\"}, \"mode\": \"lines\", \"name\": \"werkorder_week_nummer=40\", \"showlegend\": true, \"type\": \"scatter\", \"x\": [\"2019-10-04T00:00:00\", \"2019-09-24T00:00:00\", \"2019-09-28T00:00:00\", \"2019-09-28T00:00:00\"], \"xaxis\": \"x\", \"y\": [172800000000000, 604800000000000, 518400000000000, 432000000000000], \"yaxis\": \"y\"}, {\"hoverlabel\": {\"namelength\": 0}, \"hovertemplate\": \"werkorder_week_nummer=36<br>werkorder_start_datum=%{x}<br>werkorder_doorlooptijd=%{y}\", \"legendgroup\": \"werkorder_week_nummer=36\", \"line\": {\"color\": \"#ab63fa\", \"dash\": \"solid\"}, \"mode\": \"lines\", \"name\": \"werkorder_week_nummer=36\", \"showlegend\": true, \"type\": \"scatter\", \"x\": [\"2019-08-31T00:00:00\", \"2019-09-03T00:00:00\", \"2019-08-28T00:00:00\", \"2019-08-31T00:00:00\", \"2019-09-03T00:00:00\", \"2019-08-29T00:00:00\"], \"xaxis\": \"x\", \"y\": [518400000000000, 432000000000000, 518400000000000, 604800000000000, 259200000000000, 691200000000000], \"yaxis\": \"y\"}, {\"hoverlabel\": {\"namelength\": 0}, \"hovertemplate\": \"werkorder_week_nummer=45<br>werkorder_start_datum=%{x}<br>werkorder_doorlooptijd=%{y}\", \"legendgroup\": \"werkorder_week_nummer=45\", \"line\": {\"color\": \"#FFA15A\", \"dash\": \"solid\"}, \"mode\": \"lines\", \"name\": \"werkorder_week_nummer=45\", \"showlegend\": true, \"type\": \"scatter\", \"x\": [\"2019-11-04T00:00:00\", \"2019-10-30T00:00:00\", \"2019-11-02T00:00:00\", \"2019-11-04T00:00:00\"], \"xaxis\": \"x\", \"y\": [432000000000000, 604800000000000, 432000000000000, 259200000000000], \"yaxis\": \"y\"}, {\"hoverlabel\": {\"namelength\": 0}, \"hovertemplate\": \"werkorder_week_nummer=11<br>werkorder_start_datum=%{x}<br>werkorder_doorlooptijd=%{y}\", \"legendgroup\": \"werkorder_week_nummer=11\", \"line\": {\"color\": \"#19d3f3\", \"dash\": \"solid\"}, \"mode\": \"lines\", \"name\": \"werkorder_week_nummer=11\", \"showlegend\": true, \"type\": \"scatter\", \"x\": [\"2019-03-13T00:00:00\", \"2019-03-06T00:00:00\", \"2019-03-13T00:00:00\", \"2019-03-08T00:00:00\"], \"xaxis\": \"x\", \"y\": [345600000000000, 691200000000000, 345600000000000, 345600000000000], \"yaxis\": \"y\"}, {\"hoverlabel\": {\"namelength\": 0}, \"hovertemplate\": \"werkorder_week_nummer=9<br>werkorder_start_datum=%{x}<br>werkorder_doorlooptijd=%{y}\", \"legendgroup\": \"werkorder_week_nummer=9\", \"line\": {\"color\": \"#FF6692\", \"dash\": \"solid\"}, \"mode\": \"lines\", \"name\": \"werkorder_week_nummer=9\", \"showlegend\": true, \"type\": \"scatter\", \"x\": [\"2019-02-19T00:00:00\", \"2019-02-18T00:00:00\", \"2019-02-21T00:00:00\", \"2019-02-24T00:00:00\"], \"xaxis\": \"x\", \"y\": [691200000000000, 691200000000000, 432000000000000, 172800000000000], \"yaxis\": \"y\"}, {\"hoverlabel\": {\"namelength\": 0}, \"hovertemplate\": \"werkorder_week_nummer=35<br>werkorder_start_datum=%{x}<br>werkorder_doorlooptijd=%{y}\", \"legendgroup\": \"werkorder_week_nummer=35\", \"line\": {\"color\": \"#B6E880\", \"dash\": \"solid\"}, \"mode\": \"lines\", \"name\": \"werkorder_week_nummer=35\", \"showlegend\": true, \"type\": \"scatter\", \"x\": [\"2019-08-22T00:00:00\", \"2019-08-26T00:00:00\", \"2019-08-19T00:00:00\"], \"xaxis\": \"x\", \"y\": [345600000000000, 432000000000000, 777600000000000], \"yaxis\": \"y\"}, {\"hoverlabel\": {\"namelength\": 0}, \"hovertemplate\": \"werkorder_week_nummer=12<br>werkorder_start_datum=%{x}<br>werkorder_doorlooptijd=%{y}\", \"legendgroup\": \"werkorder_week_nummer=12\", \"line\": {\"color\": \"#FF97FF\", \"dash\": \"solid\"}, \"mode\": \"lines\", \"name\": \"werkorder_week_nummer=12\", \"showlegend\": true, \"type\": \"scatter\", \"x\": [\"2019-03-20T00:00:00\", \"2019-03-19T00:00:00\"], \"xaxis\": \"x\", \"y\": [345600000000000, 172800000000000], \"yaxis\": \"y\"}, {\"hoverlabel\": {\"namelength\": 0}, \"hovertemplate\": \"werkorder_week_nummer=28<br>werkorder_start_datum=%{x}<br>werkorder_doorlooptijd=%{y}\", \"legendgroup\": \"werkorder_week_nummer=28\", \"line\": {\"color\": \"#FECB52\", \"dash\": \"solid\"}, \"mode\": \"lines\", \"name\": \"werkorder_week_nummer=28\", \"showlegend\": true, \"type\": \"scatter\", \"x\": [\"2019-07-07T00:00:00\", \"2019-07-09T00:00:00\", \"2019-07-05T00:00:00\", \"2019-07-03T00:00:00\"], \"xaxis\": \"x\", \"y\": [432000000000000, 345600000000000, 604800000000000, 777600000000000], \"yaxis\": \"y\"}, {\"hoverlabel\": {\"namelength\": 0}, \"hovertemplate\": \"werkorder_week_nummer=49<br>werkorder_start_datum=%{x}<br>werkorder_doorlooptijd=%{y}\", \"legendgroup\": \"werkorder_week_nummer=49\", \"line\": {\"color\": \"#636efa\", \"dash\": \"solid\"}, \"mode\": \"lines\", \"name\": \"werkorder_week_nummer=49\", \"showlegend\": true, \"type\": \"scatter\", \"x\": [\"2019-11-30T00:00:00\", \"2019-11-30T00:00:00\", \"2019-12-01T00:00:00\", \"2019-12-01T00:00:00\", \"2019-11-30T00:00:00\", \"2019-12-02T00:00:00\"], \"xaxis\": \"x\", \"y\": [604800000000000, 691200000000000, 604800000000000, 172800000000000, 518400000000000, 259200000000000], \"yaxis\": \"y\"}, {\"hoverlabel\": {\"namelength\": 0}, \"hovertemplate\": \"werkorder_week_nummer=1<br>werkorder_start_datum=%{x}<br>werkorder_doorlooptijd=%{y}\", \"legendgroup\": \"werkorder_week_nummer=1\", \"line\": {\"color\": \"#EF553B\", \"dash\": \"solid\"}, \"mode\": \"lines\", \"name\": \"werkorder_week_nummer=1\", \"showlegend\": true, \"type\": \"scatter\", \"x\": [\"2019-12-23T00:00:00\", \"2019-12-23T00:00:00\", \"2019-12-22T00:00:00\", \"2019-12-27T00:00:00\"], \"xaxis\": \"x\", \"y\": [691200000000000, 777600000000000, 777600000000000, 518400000000000], \"yaxis\": \"y\"}, {\"hoverlabel\": {\"namelength\": 0}, \"hovertemplate\": \"werkorder_week_nummer=2<br>werkorder_start_datum=%{x}<br>werkorder_doorlooptijd=%{y}\", \"legendgroup\": \"werkorder_week_nummer=2\", \"line\": {\"color\": \"#00cc96\", \"dash\": \"solid\"}, \"mode\": \"lines\", \"name\": \"werkorder_week_nummer=2\", \"showlegend\": true, \"type\": \"scatter\", \"x\": [\"2019-01-03T00:00:00\", \"2019-01-02T00:00:00\", \"2019-01-03T00:00:00\", \"2019-01-06T00:00:00\", \"2019-01-08T00:00:00\", \"2019-01-05T00:00:00\"], \"xaxis\": \"x\", \"y\": [432000000000000, 777600000000000, 518400000000000, 518400000000000, 345600000000000, 604800000000000], \"yaxis\": \"y\"}, {\"hoverlabel\": {\"namelength\": 0}, \"hovertemplate\": \"werkorder_week_nummer=18<br>werkorder_start_datum=%{x}<br>werkorder_doorlooptijd=%{y}\", \"legendgroup\": \"werkorder_week_nummer=18\", \"line\": {\"color\": \"#ab63fa\", \"dash\": \"solid\"}, \"mode\": \"lines\", \"name\": \"werkorder_week_nummer=18\", \"showlegend\": true, \"type\": \"scatter\", \"x\": [\"2019-05-03T00:00:00\", \"2019-04-26T00:00:00\"], \"xaxis\": \"x\", \"y\": [172800000000000, 604800000000000], \"yaxis\": \"y\"}, {\"hoverlabel\": {\"namelength\": 0}, \"hovertemplate\": \"werkorder_week_nummer=10<br>werkorder_start_datum=%{x}<br>werkorder_doorlooptijd=%{y}\", \"legendgroup\": \"werkorder_week_nummer=10\", \"line\": {\"color\": \"#FFA15A\", \"dash\": \"solid\"}, \"mode\": \"lines\", \"name\": \"werkorder_week_nummer=10\", \"showlegend\": true, \"type\": \"scatter\", \"x\": [\"2019-03-03T00:00:00\", \"2019-02-26T00:00:00\", \"2019-03-04T00:00:00\"], \"xaxis\": \"x\", \"y\": [518400000000000, 604800000000000, 518400000000000], \"yaxis\": \"y\"}, {\"hoverlabel\": {\"namelength\": 0}, \"hovertemplate\": \"werkorder_week_nummer=47<br>werkorder_start_datum=%{x}<br>werkorder_doorlooptijd=%{y}\", \"legendgroup\": \"werkorder_week_nummer=47\", \"line\": {\"color\": \"#19d3f3\", \"dash\": \"solid\"}, \"mode\": \"lines\", \"name\": \"werkorder_week_nummer=47\", \"showlegend\": true, \"type\": \"scatter\", \"x\": [\"2019-11-14T00:00:00\", \"2019-11-17T00:00:00\", \"2019-11-09T00:00:00\"], \"xaxis\": \"x\", \"y\": [604800000000000, 604800000000000, 777600000000000], \"yaxis\": \"y\"}, {\"hoverlabel\": {\"namelength\": 0}, \"hovertemplate\": \"werkorder_week_nummer=22<br>werkorder_start_datum=%{x}<br>werkorder_doorlooptijd=%{y}\", \"legendgroup\": \"werkorder_week_nummer=22\", \"line\": {\"color\": \"#FF6692\", \"dash\": \"solid\"}, \"mode\": \"lines\", \"name\": \"werkorder_week_nummer=22\", \"showlegend\": true, \"type\": \"scatter\", \"x\": [\"2019-05-28T00:00:00\", \"2019-05-25T00:00:00\", \"2019-05-20T00:00:00\"], \"xaxis\": \"x\", \"y\": [259200000000000, 691200000000000, 604800000000000], \"yaxis\": \"y\"}, {\"hoverlabel\": {\"namelength\": 0}, \"hovertemplate\": \"werkorder_week_nummer=17<br>werkorder_start_datum=%{x}<br>werkorder_doorlooptijd=%{y}\", \"legendgroup\": \"werkorder_week_nummer=17\", \"line\": {\"color\": \"#B6E880\", \"dash\": \"solid\"}, \"mode\": \"lines\", \"name\": \"werkorder_week_nummer=17\", \"showlegend\": true, \"type\": \"scatter\", \"x\": [\"2019-04-19T00:00:00\", \"2019-04-25T00:00:00\"], \"xaxis\": \"x\", \"y\": [518400000000000, 172800000000000], \"yaxis\": \"y\"}, {\"hoverlabel\": {\"namelength\": 0}, \"hovertemplate\": \"werkorder_week_nummer=29<br>werkorder_start_datum=%{x}<br>werkorder_doorlooptijd=%{y}\", \"legendgroup\": \"werkorder_week_nummer=29\", \"line\": {\"color\": \"#FF97FF\", \"dash\": \"solid\"}, \"mode\": \"lines\", \"name\": \"werkorder_week_nummer=29\", \"showlegend\": true, \"type\": \"scatter\", \"x\": [\"2019-07-07T00:00:00\", \"2019-07-15T00:00:00\", \"2019-07-11T00:00:00\", \"2019-07-07T00:00:00\", \"2019-07-14T00:00:00\"], \"xaxis\": \"x\", \"y\": [691200000000000, 259200000000000, 518400000000000, 691200000000000, 604800000000000], \"yaxis\": \"y\"}, {\"hoverlabel\": {\"namelength\": 0}, \"hovertemplate\": \"werkorder_week_nummer=13<br>werkorder_start_datum=%{x}<br>werkorder_doorlooptijd=%{y}\", \"legendgroup\": \"werkorder_week_nummer=13\", \"line\": {\"color\": \"#FECB52\", \"dash\": \"solid\"}, \"mode\": \"lines\", \"name\": \"werkorder_week_nummer=13\", \"showlegend\": true, \"type\": \"scatter\", \"x\": [\"2019-03-25T00:00:00\", \"2019-03-25T00:00:00\", \"2019-03-24T00:00:00\"], \"xaxis\": \"x\", \"y\": [172800000000000, 259200000000000, 518400000000000], \"yaxis\": \"y\"}, {\"hoverlabel\": {\"namelength\": 0}, \"hovertemplate\": \"werkorder_week_nummer=4<br>werkorder_start_datum=%{x}<br>werkorder_doorlooptijd=%{y}\", \"legendgroup\": \"werkorder_week_nummer=4\", \"line\": {\"color\": \"#636efa\", \"dash\": \"solid\"}, \"mode\": \"lines\", \"name\": \"werkorder_week_nummer=4\", \"showlegend\": true, \"type\": \"scatter\", \"x\": [\"2019-01-18T00:00:00\", \"2019-01-20T00:00:00\", \"2019-01-15T00:00:00\"], \"xaxis\": \"x\", \"y\": [259200000000000, 259200000000000, 691200000000000], \"yaxis\": \"y\"}, {\"hoverlabel\": {\"namelength\": 0}, \"hovertemplate\": \"werkorder_week_nummer=25<br>werkorder_start_datum=%{x}<br>werkorder_doorlooptijd=%{y}\", \"legendgroup\": \"werkorder_week_nummer=25\", \"line\": {\"color\": \"#EF553B\", \"dash\": \"solid\"}, \"mode\": \"lines\", \"name\": \"werkorder_week_nummer=25\", \"showlegend\": true, \"type\": \"scatter\", \"x\": [\"2019-06-14T00:00:00\", \"2019-06-16T00:00:00\"], \"xaxis\": \"x\", \"y\": [518400000000000, 604800000000000], \"yaxis\": \"y\"}, {\"hoverlabel\": {\"namelength\": 0}, \"hovertemplate\": \"werkorder_week_nummer=3<br>werkorder_start_datum=%{x}<br>werkorder_doorlooptijd=%{y}\", \"legendgroup\": \"werkorder_week_nummer=3\", \"line\": {\"color\": \"#00cc96\", \"dash\": \"solid\"}, \"mode\": \"lines\", \"name\": \"werkorder_week_nummer=3\", \"showlegend\": true, \"type\": \"scatter\", \"x\": [\"2019-01-09T00:00:00\", \"2019-01-07T00:00:00\", \"2019-01-12T00:00:00\"], \"xaxis\": \"x\", \"y\": [691200000000000, 604800000000000, 259200000000000], \"yaxis\": \"y\"}, {\"hoverlabel\": {\"namelength\": 0}, \"hovertemplate\": \"werkorder_week_nummer=20<br>werkorder_start_datum=%{x}<br>werkorder_doorlooptijd=%{y}\", \"legendgroup\": \"werkorder_week_nummer=20\", \"line\": {\"color\": \"#ab63fa\", \"dash\": \"solid\"}, \"mode\": \"lines\", \"name\": \"werkorder_week_nummer=20\", \"showlegend\": true, \"type\": \"scatter\", \"x\": [\"2019-05-11T00:00:00\", \"2019-05-10T00:00:00\"], \"xaxis\": \"x\", \"y\": [691200000000000, 345600000000000], \"yaxis\": \"y\"}, {\"hoverlabel\": {\"namelength\": 0}, \"hovertemplate\": \"werkorder_week_nummer=38<br>werkorder_start_datum=%{x}<br>werkorder_doorlooptijd=%{y}\", \"legendgroup\": \"werkorder_week_nummer=38\", \"line\": {\"color\": \"#FFA15A\", \"dash\": \"solid\"}, \"mode\": \"lines\", \"name\": \"werkorder_week_nummer=38\", \"showlegend\": true, \"type\": \"scatter\", \"x\": [\"2019-09-14T00:00:00\", \"2019-09-09T00:00:00\", \"2019-09-16T00:00:00\"], \"xaxis\": \"x\", \"y\": [259200000000000, 691200000000000, 172800000000000], \"yaxis\": \"y\"}, {\"hoverlabel\": {\"namelength\": 0}, \"hovertemplate\": \"werkorder_week_nummer=51<br>werkorder_start_datum=%{x}<br>werkorder_doorlooptijd=%{y}\", \"legendgroup\": \"werkorder_week_nummer=51\", \"line\": {\"color\": \"#19d3f3\", \"dash\": \"solid\"}, \"mode\": \"lines\", \"name\": \"werkorder_week_nummer=51\", \"showlegend\": true, \"type\": \"scatter\", \"x\": [\"2019-12-15T00:00:00\", \"2019-12-11T00:00:00\", \"2019-12-09T00:00:00\"], \"xaxis\": \"x\", \"y\": [432000000000000, 518400000000000, 604800000000000], \"yaxis\": \"y\"}, {\"hoverlabel\": {\"namelength\": 0}, \"hovertemplate\": \"werkorder_week_nummer=39<br>werkorder_start_datum=%{x}<br>werkorder_doorlooptijd=%{y}\", \"legendgroup\": \"werkorder_week_nummer=39\", \"line\": {\"color\": \"#FF6692\", \"dash\": \"solid\"}, \"mode\": \"lines\", \"name\": \"werkorder_week_nummer=39\", \"showlegend\": true, \"type\": \"scatter\", \"x\": [\"2019-09-21T00:00:00\"], \"xaxis\": \"x\", \"y\": [518400000000000], \"yaxis\": \"y\"}, {\"hoverlabel\": {\"namelength\": 0}, \"hovertemplate\": \"werkorder_week_nummer=41<br>werkorder_start_datum=%{x}<br>werkorder_doorlooptijd=%{y}\", \"legendgroup\": \"werkorder_week_nummer=41\", \"line\": {\"color\": \"#B6E880\", \"dash\": \"solid\"}, \"mode\": \"lines\", \"name\": \"werkorder_week_nummer=41\", \"showlegend\": true, \"type\": \"scatter\", \"x\": [\"2019-10-02T00:00:00\", \"2019-10-03T00:00:00\"], \"xaxis\": \"x\", \"y\": [604800000000000, 691200000000000], \"yaxis\": \"y\"}, {\"hoverlabel\": {\"namelength\": 0}, \"hovertemplate\": \"werkorder_week_nummer=8<br>werkorder_start_datum=%{x}<br>werkorder_doorlooptijd=%{y}\", \"legendgroup\": \"werkorder_week_nummer=8\", \"line\": {\"color\": \"#FF97FF\", \"dash\": \"solid\"}, \"mode\": \"lines\", \"name\": \"werkorder_week_nummer=8\", \"showlegend\": true, \"type\": \"scatter\", \"x\": [\"2019-02-13T00:00:00\", \"2019-02-20T00:00:00\", \"2019-02-17T00:00:00\"], \"xaxis\": \"x\", \"y\": [691200000000000, 345600000000000, 518400000000000], \"yaxis\": \"y\"}, {\"hoverlabel\": {\"namelength\": 0}, \"hovertemplate\": \"werkorder_week_nummer=15<br>werkorder_start_datum=%{x}<br>werkorder_doorlooptijd=%{y}\", \"legendgroup\": \"werkorder_week_nummer=15\", \"line\": {\"color\": \"#FECB52\", \"dash\": \"solid\"}, \"mode\": \"lines\", \"name\": \"werkorder_week_nummer=15\", \"showlegend\": true, \"type\": \"scatter\", \"x\": [\"2019-04-03T00:00:00\", \"2019-04-02T00:00:00\", \"2019-04-08T00:00:00\", \"2019-04-04T00:00:00\"], \"xaxis\": \"x\", \"y\": [691200000000000, 691200000000000, 345600000000000, 432000000000000], \"yaxis\": \"y\"}, {\"hoverlabel\": {\"namelength\": 0}, \"hovertemplate\": \"werkorder_week_nummer=42<br>werkorder_start_datum=%{x}<br>werkorder_doorlooptijd=%{y}\", \"legendgroup\": \"werkorder_week_nummer=42\", \"line\": {\"color\": \"#636efa\", \"dash\": \"solid\"}, \"mode\": \"lines\", \"name\": \"werkorder_week_nummer=42\", \"showlegend\": true, \"type\": \"scatter\", \"x\": [\"2019-10-10T00:00:00\", \"2019-10-13T00:00:00\", \"2019-10-14T00:00:00\"], \"xaxis\": \"x\", \"y\": [604800000000000, 604800000000000, 518400000000000], \"yaxis\": \"y\"}, {\"hoverlabel\": {\"namelength\": 0}, \"hovertemplate\": \"werkorder_week_nummer=26<br>werkorder_start_datum=%{x}<br>werkorder_doorlooptijd=%{y}\", \"legendgroup\": \"werkorder_week_nummer=26\", \"line\": {\"color\": \"#EF553B\", \"dash\": \"solid\"}, \"mode\": \"lines\", \"name\": \"werkorder_week_nummer=26\", \"showlegend\": true, \"type\": \"scatter\", \"x\": [\"2019-06-18T00:00:00\"], \"xaxis\": \"x\", \"y\": [604800000000000], \"yaxis\": \"y\"}, {\"hoverlabel\": {\"namelength\": 0}, \"hovertemplate\": \"werkorder_week_nummer=46<br>werkorder_start_datum=%{x}<br>werkorder_doorlooptijd=%{y}\", \"legendgroup\": \"werkorder_week_nummer=46\", \"line\": {\"color\": \"#00cc96\", \"dash\": \"solid\"}, \"mode\": \"lines\", \"name\": \"werkorder_week_nummer=46\", \"showlegend\": true, \"type\": \"scatter\", \"x\": [\"2019-11-12T00:00:00\"], \"xaxis\": \"x\", \"y\": [345600000000000], \"yaxis\": \"y\"}, {\"hoverlabel\": {\"namelength\": 0}, \"hovertemplate\": \"werkorder_week_nummer=31<br>werkorder_start_datum=%{x}<br>werkorder_doorlooptijd=%{y}\", \"legendgroup\": \"werkorder_week_nummer=31\", \"line\": {\"color\": \"#ab63fa\", \"dash\": \"solid\"}, \"mode\": \"lines\", \"name\": \"werkorder_week_nummer=31\", \"showlegend\": true, \"type\": \"scatter\", \"x\": [\"2019-07-28T00:00:00\"], \"xaxis\": \"x\", \"y\": [432000000000000], \"yaxis\": \"y\"}, {\"hoverlabel\": {\"namelength\": 0}, \"hovertemplate\": \"werkorder_week_nummer=30<br>werkorder_start_datum=%{x}<br>werkorder_doorlooptijd=%{y}\", \"legendgroup\": \"werkorder_week_nummer=30\", \"line\": {\"color\": \"#FFA15A\", \"dash\": \"solid\"}, \"mode\": \"lines\", \"name\": \"werkorder_week_nummer=30\", \"showlegend\": true, \"type\": \"scatter\", \"x\": [\"2019-07-20T00:00:00\"], \"xaxis\": \"x\", \"y\": [345600000000000], \"yaxis\": \"y\"}, {\"hoverlabel\": {\"namelength\": 0}, \"hovertemplate\": \"werkorder_week_nummer=43<br>werkorder_start_datum=%{x}<br>werkorder_doorlooptijd=%{y}\", \"legendgroup\": \"werkorder_week_nummer=43\", \"line\": {\"color\": \"#19d3f3\", \"dash\": \"solid\"}, \"mode\": \"lines\", \"name\": \"werkorder_week_nummer=43\", \"showlegend\": true, \"type\": \"scatter\", \"x\": [\"2019-10-14T00:00:00\", \"2019-10-21T00:00:00\", \"2019-10-24T00:00:00\"], \"xaxis\": \"x\", \"y\": [691200000000000, 432000000000000, 172800000000000], \"yaxis\": \"y\"}, {\"hoverlabel\": {\"namelength\": 0}, \"hovertemplate\": \"werkorder_week_nummer=24<br>werkorder_start_datum=%{x}<br>werkorder_doorlooptijd=%{y}\", \"legendgroup\": \"werkorder_week_nummer=24\", \"line\": {\"color\": \"#FF6692\", \"dash\": \"solid\"}, \"mode\": \"lines\", \"name\": \"werkorder_week_nummer=24\", \"showlegend\": true, \"type\": \"scatter\", \"x\": [\"2019-06-05T00:00:00\"], \"xaxis\": \"x\", \"y\": [432000000000000], \"yaxis\": \"y\"}],\n",
       "                        {\"height\": 600, \"legend\": {\"tracegroupgap\": 0}, \"margin\": {\"t\": 60}, \"template\": {\"data\": {\"bar\": [{\"error_x\": {\"color\": \"#2a3f5f\"}, \"error_y\": {\"color\": \"#2a3f5f\"}, \"marker\": {\"line\": {\"color\": \"#E5ECF6\", \"width\": 0.5}}, \"type\": \"bar\"}], \"barpolar\": [{\"marker\": {\"line\": {\"color\": \"#E5ECF6\", \"width\": 0.5}}, \"type\": \"barpolar\"}], \"carpet\": [{\"aaxis\": {\"endlinecolor\": \"#2a3f5f\", \"gridcolor\": \"white\", \"linecolor\": \"white\", \"minorgridcolor\": \"white\", \"startlinecolor\": \"#2a3f5f\"}, \"baxis\": {\"endlinecolor\": \"#2a3f5f\", \"gridcolor\": \"white\", \"linecolor\": \"white\", \"minorgridcolor\": \"white\", \"startlinecolor\": \"#2a3f5f\"}, \"type\": \"carpet\"}], \"choropleth\": [{\"colorbar\": {\"outlinewidth\": 0, \"ticks\": \"\"}, \"type\": \"choropleth\"}], \"contour\": [{\"colorbar\": {\"outlinewidth\": 0, \"ticks\": \"\"}, \"colorscale\": [[0.0, \"#0d0887\"], [0.1111111111111111, \"#46039f\"], [0.2222222222222222, \"#7201a8\"], [0.3333333333333333, \"#9c179e\"], [0.4444444444444444, \"#bd3786\"], [0.5555555555555556, \"#d8576b\"], [0.6666666666666666, \"#ed7953\"], [0.7777777777777778, \"#fb9f3a\"], [0.8888888888888888, \"#fdca26\"], [1.0, \"#f0f921\"]], \"type\": \"contour\"}], \"contourcarpet\": [{\"colorbar\": {\"outlinewidth\": 0, \"ticks\": \"\"}, \"type\": \"contourcarpet\"}], \"heatmap\": [{\"colorbar\": {\"outlinewidth\": 0, \"ticks\": \"\"}, \"colorscale\": [[0.0, \"#0d0887\"], [0.1111111111111111, \"#46039f\"], [0.2222222222222222, \"#7201a8\"], [0.3333333333333333, \"#9c179e\"], [0.4444444444444444, \"#bd3786\"], [0.5555555555555556, \"#d8576b\"], [0.6666666666666666, \"#ed7953\"], [0.7777777777777778, \"#fb9f3a\"], [0.8888888888888888, \"#fdca26\"], [1.0, \"#f0f921\"]], \"type\": \"heatmap\"}], \"heatmapgl\": [{\"colorbar\": {\"outlinewidth\": 0, \"ticks\": \"\"}, \"colorscale\": [[0.0, \"#0d0887\"], [0.1111111111111111, \"#46039f\"], [0.2222222222222222, \"#7201a8\"], [0.3333333333333333, \"#9c179e\"], [0.4444444444444444, \"#bd3786\"], [0.5555555555555556, \"#d8576b\"], [0.6666666666666666, \"#ed7953\"], [0.7777777777777778, \"#fb9f3a\"], [0.8888888888888888, \"#fdca26\"], [1.0, \"#f0f921\"]], \"type\": \"heatmapgl\"}], \"histogram\": [{\"marker\": {\"colorbar\": {\"outlinewidth\": 0, \"ticks\": \"\"}}, \"type\": \"histogram\"}], \"histogram2d\": [{\"colorbar\": {\"outlinewidth\": 0, \"ticks\": \"\"}, \"colorscale\": [[0.0, \"#0d0887\"], [0.1111111111111111, \"#46039f\"], [0.2222222222222222, \"#7201a8\"], [0.3333333333333333, \"#9c179e\"], [0.4444444444444444, \"#bd3786\"], [0.5555555555555556, \"#d8576b\"], [0.6666666666666666, \"#ed7953\"], [0.7777777777777778, \"#fb9f3a\"], [0.8888888888888888, \"#fdca26\"], [1.0, \"#f0f921\"]], \"type\": \"histogram2d\"}], \"histogram2dcontour\": [{\"colorbar\": {\"outlinewidth\": 0, \"ticks\": \"\"}, \"colorscale\": [[0.0, \"#0d0887\"], [0.1111111111111111, \"#46039f\"], [0.2222222222222222, \"#7201a8\"], [0.3333333333333333, \"#9c179e\"], [0.4444444444444444, \"#bd3786\"], [0.5555555555555556, \"#d8576b\"], [0.6666666666666666, \"#ed7953\"], [0.7777777777777778, \"#fb9f3a\"], [0.8888888888888888, \"#fdca26\"], [1.0, \"#f0f921\"]], \"type\": \"histogram2dcontour\"}], \"mesh3d\": [{\"colorbar\": {\"outlinewidth\": 0, \"ticks\": \"\"}, \"type\": \"mesh3d\"}], \"parcoords\": [{\"line\": {\"colorbar\": {\"outlinewidth\": 0, \"ticks\": \"\"}}, \"type\": \"parcoords\"}], \"scatter\": [{\"marker\": {\"colorbar\": {\"outlinewidth\": 0, \"ticks\": \"\"}}, \"type\": \"scatter\"}], \"scatter3d\": [{\"line\": {\"colorbar\": {\"outlinewidth\": 0, \"ticks\": \"\"}}, \"marker\": {\"colorbar\": {\"outlinewidth\": 0, \"ticks\": \"\"}}, \"type\": \"scatter3d\"}], \"scattercarpet\": [{\"marker\": {\"colorbar\": {\"outlinewidth\": 0, \"ticks\": \"\"}}, \"type\": \"scattercarpet\"}], \"scattergeo\": [{\"marker\": {\"colorbar\": {\"outlinewidth\": 0, \"ticks\": \"\"}}, \"type\": \"scattergeo\"}], \"scattergl\": [{\"marker\": {\"colorbar\": {\"outlinewidth\": 0, \"ticks\": \"\"}}, \"type\": \"scattergl\"}], \"scattermapbox\": [{\"marker\": {\"colorbar\": {\"outlinewidth\": 0, \"ticks\": \"\"}}, \"type\": \"scattermapbox\"}], \"scatterpolar\": [{\"marker\": {\"colorbar\": {\"outlinewidth\": 0, \"ticks\": \"\"}}, \"type\": \"scatterpolar\"}], \"scatterpolargl\": [{\"marker\": {\"colorbar\": {\"outlinewidth\": 0, \"ticks\": \"\"}}, \"type\": \"scatterpolargl\"}], \"scatterternary\": [{\"marker\": {\"colorbar\": {\"outlinewidth\": 0, \"ticks\": \"\"}}, \"type\": \"scatterternary\"}], \"surface\": [{\"colorbar\": {\"outlinewidth\": 0, \"ticks\": \"\"}, \"colorscale\": [[0.0, \"#0d0887\"], [0.1111111111111111, \"#46039f\"], [0.2222222222222222, \"#7201a8\"], [0.3333333333333333, \"#9c179e\"], [0.4444444444444444, \"#bd3786\"], [0.5555555555555556, \"#d8576b\"], [0.6666666666666666, \"#ed7953\"], [0.7777777777777778, \"#fb9f3a\"], [0.8888888888888888, \"#fdca26\"], [1.0, \"#f0f921\"]], \"type\": \"surface\"}], \"table\": [{\"cells\": {\"fill\": {\"color\": \"#EBF0F8\"}, \"line\": {\"color\": \"white\"}}, \"header\": {\"fill\": {\"color\": \"#C8D4E3\"}, \"line\": {\"color\": \"white\"}}, \"type\": \"table\"}]}, \"layout\": {\"annotationdefaults\": {\"arrowcolor\": \"#2a3f5f\", \"arrowhead\": 0, \"arrowwidth\": 1}, \"colorscale\": {\"diverging\": [[0, \"#8e0152\"], [0.1, \"#c51b7d\"], [0.2, \"#de77ae\"], [0.3, \"#f1b6da\"], [0.4, \"#fde0ef\"], [0.5, \"#f7f7f7\"], [0.6, \"#e6f5d0\"], [0.7, \"#b8e186\"], [0.8, \"#7fbc41\"], [0.9, \"#4d9221\"], [1, \"#276419\"]], \"sequential\": [[0.0, \"#0d0887\"], [0.1111111111111111, \"#46039f\"], [0.2222222222222222, \"#7201a8\"], [0.3333333333333333, \"#9c179e\"], [0.4444444444444444, \"#bd3786\"], [0.5555555555555556, \"#d8576b\"], [0.6666666666666666, \"#ed7953\"], [0.7777777777777778, \"#fb9f3a\"], [0.8888888888888888, \"#fdca26\"], [1.0, \"#f0f921\"]], \"sequentialminus\": [[0.0, \"#0d0887\"], [0.1111111111111111, \"#46039f\"], [0.2222222222222222, \"#7201a8\"], [0.3333333333333333, \"#9c179e\"], [0.4444444444444444, \"#bd3786\"], [0.5555555555555556, \"#d8576b\"], [0.6666666666666666, \"#ed7953\"], [0.7777777777777778, \"#fb9f3a\"], [0.8888888888888888, \"#fdca26\"], [1.0, \"#f0f921\"]]}, \"colorway\": [\"#636efa\", \"#EF553B\", \"#00cc96\", \"#ab63fa\", \"#FFA15A\", \"#19d3f3\", \"#FF6692\", \"#B6E880\", \"#FF97FF\", \"#FECB52\"], \"font\": {\"color\": \"#2a3f5f\"}, \"geo\": {\"bgcolor\": \"white\", \"lakecolor\": \"white\", \"landcolor\": \"#E5ECF6\", \"showlakes\": true, \"showland\": true, \"subunitcolor\": \"white\"}, \"hoverlabel\": {\"align\": \"left\"}, \"hovermode\": \"closest\", \"mapbox\": {\"style\": \"light\"}, \"paper_bgcolor\": \"white\", \"plot_bgcolor\": \"#E5ECF6\", \"polar\": {\"angularaxis\": {\"gridcolor\": \"white\", \"linecolor\": \"white\", \"ticks\": \"\"}, \"bgcolor\": \"#E5ECF6\", \"radialaxis\": {\"gridcolor\": \"white\", \"linecolor\": \"white\", \"ticks\": \"\"}}, \"scene\": {\"xaxis\": {\"backgroundcolor\": \"#E5ECF6\", \"gridcolor\": \"white\", \"gridwidth\": 2, \"linecolor\": \"white\", \"showbackground\": true, \"ticks\": \"\", \"zerolinecolor\": \"white\"}, \"yaxis\": {\"backgroundcolor\": \"#E5ECF6\", \"gridcolor\": \"white\", \"gridwidth\": 2, \"linecolor\": \"white\", \"showbackground\": true, \"ticks\": \"\", \"zerolinecolor\": \"white\"}, \"zaxis\": {\"backgroundcolor\": \"#E5ECF6\", \"gridcolor\": \"white\", \"gridwidth\": 2, \"linecolor\": \"white\", \"showbackground\": true, \"ticks\": \"\", \"zerolinecolor\": \"white\"}}, \"shapedefaults\": {\"line\": {\"color\": \"#2a3f5f\"}}, \"ternary\": {\"aaxis\": {\"gridcolor\": \"white\", \"linecolor\": \"white\", \"ticks\": \"\"}, \"baxis\": {\"gridcolor\": \"white\", \"linecolor\": \"white\", \"ticks\": \"\"}, \"bgcolor\": \"#E5ECF6\", \"caxis\": {\"gridcolor\": \"white\", \"linecolor\": \"white\", \"ticks\": \"\"}}, \"title\": {\"x\": 0.05}, \"xaxis\": {\"automargin\": true, \"gridcolor\": \"white\", \"linecolor\": \"white\", \"ticks\": \"\", \"zerolinecolor\": \"white\", \"zerolinewidth\": 2}, \"yaxis\": {\"automargin\": true, \"gridcolor\": \"white\", \"linecolor\": \"white\", \"ticks\": \"\", \"zerolinecolor\": \"white\", \"zerolinewidth\": 2}}}, \"xaxis\": {\"anchor\": \"y\", \"domain\": [0.0, 0.98], \"title\": {\"text\": \"werkorder_start_datum\"}}, \"yaxis\": {\"anchor\": \"x\", \"domain\": [0.0, 1.0], \"title\": {\"text\": \"werkorder_doorlooptijd\"}}},\n",
       "                        {\"responsive\": true}\n",
       "                    ).then(function(){\n",
       "                            \n",
       "var gd = document.getElementById('0920c001-5d3e-4b57-96b9-21344845e86d');\n",
       "var x = new MutationObserver(function (mutations, observer) {{\n",
       "        var display = window.getComputedStyle(gd).display;\n",
       "        if (!display || display === 'none') {{\n",
       "            console.log([gd, 'removed!']);\n",
       "            Plotly.purge(gd);\n",
       "            observer.disconnect();\n",
       "        }}\n",
       "}});\n",
       "\n",
       "// Listen for the removal of the full notebook cells\n",
       "var notebookContainer = gd.closest('#notebook-container');\n",
       "if (notebookContainer) {{\n",
       "    x.observe(notebookContainer, {childList: true});\n",
       "}}\n",
       "\n",
       "// Listen for the clearing of the current output cell\n",
       "var outputEl = gd.closest('.output');\n",
       "if (outputEl) {{\n",
       "    x.observe(outputEl, {childList: true});\n",
       "}}\n",
       "\n",
       "                        })\n",
       "                };\n",
       "                });\n",
       "            </script>\n",
       "        </div>"
      ]
     },
     "metadata": {},
     "output_type": "display_data"
    }
   ],
   "source": [
    "%matplotlib inline\n",
    "\n",
    "#df = px.data.gapminder().query(\"continent=='Oceania'\")\n",
    "fig = px.line(werkorder_df, x=\"werkorder_start_datum\", y=\"werkorder_doorlooptijd\", color='werkorder_week_nummer')\n",
    "fig.show()"
   ]
  },
  {
   "cell_type": "code",
   "execution_count": null,
   "metadata": {},
   "outputs": [],
   "source": []
  },
  {
   "cell_type": "code",
   "execution_count": 17,
   "metadata": {},
   "outputs": [
    {
     "name": "stdout",
     "output_type": "stream",
     "text": [
      "          klant_id  klant_naam  klant_achternaam  klant_woonplaats  \\\n",
      "klant_id                                                             \n",
      "0                8          24                67                87   \n",
      "0                8          24                67                87   \n",
      "0                8          24                67                87   \n",
      "0                8          24                67                87   \n",
      "1               79          48                10                94   \n",
      "1               79          48                10                94   \n",
      "1               79          48                10                94   \n",
      "1               79          48                10                94   \n",
      "\n",
      "         verkoop_order_datum  product_id  \n",
      "klant_id                                  \n",
      "0                 2019-05-01           2  \n",
      "0                 2019-02-21           0  \n",
      "0                 2019-01-08           0  \n",
      "0                 2019-10-25           2  \n",
      "1                 2019-04-18           2  \n",
      "1                 2019-09-15           0  \n",
      "1                 2019-03-26           2  \n",
      "1                 2019-06-27           0  \n"
     ]
    }
   ],
   "source": [
    "klant__verkoop_order_df = klant_df.join(verkoop_order_df.set_index('klant_id'), lsuffix='le_', rsuffix='re_')\n",
    "\n",
    "if show_intermediate_results == True:    \n",
    "    print(klant__verkoop_order_df.head(8))"
   ]
  },
  {
   "cell_type": "code",
   "execution_count": null,
   "metadata": {},
   "outputs": [],
   "source": []
  },
  {
   "cell_type": "code",
   "execution_count": null,
   "metadata": {},
   "outputs": [],
   "source": []
  },
  {
   "cell_type": "code",
   "execution_count": null,
   "metadata": {},
   "outputs": [],
   "source": []
  },
  {
   "cell_type": "code",
   "execution_count": 18,
   "metadata": {},
   "outputs": [],
   "source": [
    "def save_dateframes(dataframes_list):\n",
    "    \n",
    "    for df in dataframes_list:\n",
    "        try:\n",
    "            globals()[df].to_csv(path_or_buf=str(df)+'.csv', sep='|')\n",
    "            globals()[df].to_csv(path_or_buf=str(df)+'.tsv', sep='\\t')\n",
    "        except:\n",
    "            print('Failed to save {} to TSV file.'.format(df))"
   ]
  },
  {
   "cell_type": "code",
   "execution_count": 19,
   "metadata": {},
   "outputs": [
    {
     "name": "stdout",
     "output_type": "stream",
     "text": [
      "Failed to save achternamen_df to TSV file.\n"
     ]
    }
   ],
   "source": [
    "save_dateframes(dataframes_list)"
   ]
  },
  {
   "cell_type": "code",
   "execution_count": null,
   "metadata": {},
   "outputs": [],
   "source": []
  },
  {
   "cell_type": "code",
   "execution_count": null,
   "metadata": {},
   "outputs": [],
   "source": []
  }
 ],
 "metadata": {
  "kernelspec": {
   "display_name": "Python 3",
   "language": "python",
   "name": "python3"
  },
  "language_info": {
   "codemirror_mode": {
    "name": "ipython",
    "version": 3
   },
   "file_extension": ".py",
   "mimetype": "text/x-python",
   "name": "python",
   "nbconvert_exporter": "python",
   "pygments_lexer": "ipython3",
   "version": "3.7.3"
  }
 },
 "nbformat": 4,
 "nbformat_minor": 2
}
