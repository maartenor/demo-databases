{
 "cells": [
  {
   "cell_type": "code",
   "execution_count": 915,
   "metadata": {},
   "outputs": [],
   "source": [
    "import pandas as pd\n",
    "import datetime as dt\n",
    "from datetime import timedelta\n",
    "from datetime import datetime\n",
    "from numpy import random\n",
    "from numpy import nan\n",
    "import plotly.express as px\n",
    "\n",
    "\n",
    "glob_random_state=100\n",
    "random.seed(glob_random_state)\n",
    "year=str('2019')\n",
    "\n",
    "show_intermediate_results = True\n",
    "\n",
    "n_verkoop_order_df = 158 #random.randint(150,400)"
   ]
  },
  {
   "cell_type": "code",
   "execution_count": null,
   "metadata": {},
   "outputs": [],
   "source": []
  },
  {
   "cell_type": "code",
   "execution_count": 916,
   "metadata": {},
   "outputs": [],
   "source": [
    "dataframes_list = ['klant_df', 'verkoop_order_df', 'product_df', 'werkorder_df', 'machine_df',\n",
    "                   'woonplaatsen_df', 'achternamen_df', 'onderdelen_df', 'BOM_df', 'route_df']"
   ]
  },
  {
   "cell_type": "code",
   "execution_count": 917,
   "metadata": {},
   "outputs": [],
   "source": [
    "def create_dataframes(dataframes_list):\n",
    "    for df in dataframes_list:\n",
    "        vars()[df] = pd.DataFrame()"
   ]
  },
  {
   "cell_type": "code",
   "execution_count": null,
   "metadata": {},
   "outputs": [],
   "source": []
  },
  {
   "cell_type": "code",
   "execution_count": 918,
   "metadata": {},
   "outputs": [
    {
     "name": "stdout",
     "output_type": "stream",
     "text": [
      "          klant_id  klant_naam  klant_achternaam  klant_woonplaats\n",
      "klant_id                                                          \n",
      "0                8          24                67                87\n",
      "1               79          48                10                94\n",
      "2               52          98                53                66\n",
      "3               98          14                34                24\n",
      "4               15          60                58                16\n",
      "5                9          93                86                 2\n",
      "6               27           4                31                 1\n",
      "7               13          83                 4                91\n",
      "8               59          67                 7                49\n",
      "9               47          65                61                14\n"
     ]
    }
   ],
   "source": [
    "klant_df = pd.DataFrame(random.randint(0,100,size=(25, 4)),  \\\n",
    "                        columns=['klant_id','klant_naam','klant_achternaam','klant_woonplaats'])\n",
    "klant_df.index.rename('klant_id', inplace=True)\n",
    "\n",
    "\n",
    "if show_intermediate_results == True:\n",
    "\n",
    "    print(klant_df.head(10))"
   ]
  },
  {
   "cell_type": "code",
   "execution_count": 919,
   "metadata": {},
   "outputs": [
    {
     "name": "stdout",
     "output_type": "stream",
     "text": [
      "         Woonplaats  Gemeente|Naam  Gemeente|Code  Provincie|Naam  \\\n",
      "1            Aadorp          Almelo         GM0141     Overijssel   \n",
      "2        Aagtekerke           Veere         GM0717        Zeeland   \n",
      "3            Aalden       Coevorden         GM0109        Drenthe   \n",
      "4          Aalsmeer        Aalsmeer         GM0358  Noord-Holland   \n",
      "5   Aalsmeerderbrug  Haarlemmermeer         GM0394  Noord-Holland   \n",
      "6             Aalst      Zaltbommel         GM0297     Gelderland   \n",
      "7            Aalsum     Dongeradeel         GM0058      Friesland   \n",
      "8            Aalten          Aalten         GM0197     Gelderland   \n",
      "9           Ter Aar       Nieuwkoop         GM0569   Zuid-Holland   \n",
      "10         Ter Aard           Assen         GM0106        Drenthe   \n",
      "\n",
      "   Provincie|Code   Landsdeel|Naam Landsdeel|Code\"  \n",
      "1            PV23   Oost-Nederland           LD02\"  \n",
      "2            PV29   West-Nederland           LD03\"  \n",
      "3            PV22  Noord-Nederland           LD01\"  \n",
      "4            PV27   West-Nederland           LD03\"  \n",
      "5            PV27   West-Nederland           LD03\"  \n",
      "6            PV25   Oost-Nederland           LD02\"  \n",
      "7            PV21  Noord-Nederland           LD01\"  \n",
      "8            PV25   Oost-Nederland           LD02\"  \n",
      "9            PV28   West-Nederland           LD03\"  \n",
      "10           PV22  Noord-Nederland           LD01\"  \n"
     ]
    },
    {
     "name": "stderr",
     "output_type": "stream",
     "text": [
      "C:\\ProgramData\\Anaconda3\\lib\\site-packages\\ipykernel_launcher.py:1: ParserWarning:\n",
      "\n",
      "Falling back to the 'python' engine because the 'c' engine does not support regex separators (separators > 1 char and different from '\\s+' are interpreted as regex); you can avoid this warning by specifying engine='python'.\n",
      "\n"
     ]
    }
   ],
   "source": [
    "woonplaatsen_df = pd.read_csv('Woonplaatsen_in_Nederland_2018_07042020_210926.csv', sep='\";\"', skiprows=3)\n",
    "\n",
    "woonplaatsen_df = woonplaatsen_df[1:]\n",
    "new_column_names = list(woonplaatsen_df.columns)\n",
    "new_column_names[0]='Woonplaats'\n",
    "woonplaatsen_df.columns = new_column_names\n",
    "\n",
    "woonplaatsen_df['Woonplaats'] = woonplaatsen_df['Woonplaats'].apply(lambda x: str(x).replace('\"', '') )\n",
    "\n",
    "if show_intermediate_results == True:\n",
    "    \n",
    "    print(woonplaatsen_df.head(10) )"
   ]
  },
  {
   "cell_type": "code",
   "execution_count": 940,
   "metadata": {},
   "outputs": [],
   "source": [
    "# import modules\n",
    "#import random\n",
    "import datetime\n",
    "\n",
    "# create function accepting a single parameter, the year as a four digit number\n",
    "def get_random_date(year):\n",
    "    \n",
    "    calendar=pd.bdate_range(start='01-01-'+year, end='31-12-'+year)\n",
    "    random_day=random.randint(0, 261)\n",
    "    \n",
    "    # try to get a date\n",
    "    try:\n",
    "#        return datetime.datetime.strptime('{} {}'.format(random.randint(1, 366), year), '%j %Y')\n",
    "        return datetime.datetime.strptime(calendar[random_day].strftime('%Y-%m-%d') ,'%Y-%m-%d')\n",
    "\n",
    "    # if the value happens to be in the leap year range, try again\n",
    "    except ValueError:\n",
    "        get_random_date(year)"
   ]
  },
  {
   "cell_type": "code",
   "execution_count": 921,
   "metadata": {},
   "outputs": [
    {
     "name": "stdout",
     "output_type": "stream",
     "text": [
      "n_verkoop_order_df : 158\n",
      "\n",
      "                  klant_id verkoop_order_datum\n",
      "verkoop_order_id                              \n",
      "0                       16          2019-01-02\n",
      "1                       15          2019-01-02\n",
      "2                       13          2019-01-03\n",
      "3                       21          2019-01-07\n",
      "4                       20          2019-01-08\n",
      "5                        4          2019-01-09\n",
      "6                       17          2019-01-09\n",
      "7                        8          2019-01-10\n",
      "8                        8          2019-01-10\n",
      "9                        7          2019-01-14\n"
     ]
    }
   ],
   "source": [
    "verkoop_order_df = pd.DataFrame(data=(random.randint(0,25, size=(n_verkoop_order_df, 2))), columns=['klant_id','verkoop_order_datum'])\n",
    "verkoop_order_df['verkoop_order_datum'] = verkoop_order_df['verkoop_order_datum'].apply(lambda x: get_random_date(year))\n",
    "verkoop_order_df.sort_values(by='verkoop_order_datum', inplace=True)\n",
    "verkoop_order_df.reset_index(drop=True, inplace=True)\n",
    "verkoop_order_df.index.rename('verkoop_order_id', inplace=True)\n",
    "\n",
    "\n",
    "if show_intermediate_results == True:\n",
    "    print('n_verkoop_order_df : {}\\n'.format(n_verkoop_order_df))\n",
    "    print(verkoop_order_df.head(10))"
   ]
  },
  {
   "cell_type": "code",
   "execution_count": 922,
   "metadata": {},
   "outputs": [
    {
     "data": {
      "image/png": "[encoded data removed]",
      "text/plain": [
       "<Figure size 1440x144 with 1 Axes>"
      ]
     },
     "metadata": {
      "needs_background": "light"
     },
     "output_type": "display_data"
    }
   ],
   "source": [
    "if show_intermediate_results == True:\n",
    "    verkoop_order_df.plot(x='verkoop_order_datum', figsize=(20,2), legend=False, title='Aantal_verkoop_orders_per_datum', kind='line')"
   ]
  },
  {
   "cell_type": "code",
   "execution_count": 923,
   "metadata": {},
   "outputs": [
    {
     "data": {
      "application/vnd.plotly.v1+json": {
       "config": {
        "plotlyServerURL": "https://plot.ly"
       },
       "data": [
        {
         "alignmentgroup": "True",
         "bingroup": "x",
         "hovertemplate": "verkoop_order_datum=%{x}<br>count=%{y}<extra></extra>",
         "legendgroup": "",
         "marker": {
          "color": "#636efa"
         },
         "name": "",
         "nbinsx": 12,
         "offsetgroup": "",
         "orientation": "v",
         "showlegend": false,
         "type": "histogram",
         "x": [
          "2019-01-02",
          "2019-01-02",
          "2019-01-03",
          "2019-01-07",
          "2019-01-08",
          "2019-01-09",
          "2019-01-09",
          "2019-01-10",
          "2019-01-10",
          "2019-01-14",
          "2019-01-16",
          "2019-01-21",
          "2019-01-21",
          "2019-01-22",
          "2019-01-24",
          "2019-01-25",
          "2019-01-29",
          "2019-02-01",
          "2019-02-06",
          "2019-02-07",
          "2019-02-07",
          "2019-02-08",
          "2019-02-11",
          "2019-02-14",
          "2019-02-15",
          "2019-02-15",
          "2019-02-15",
          "2019-02-19",
          "2019-02-19",
          "2019-02-20",
          "2019-02-21",
          "2019-02-21",
          "2019-03-01",
          "2019-03-05",
          "2019-03-07",
          "2019-03-07",
          "2019-03-07",
          "2019-03-11",
          "2019-03-12",
          "2019-03-13",
          "2019-03-15",
          "2019-03-19",
          "2019-03-19",
          "2019-03-21",
          "2019-03-22",
          "2019-03-27",
          "2019-03-28",
          "2019-03-29",
          "2019-03-29",
          "2019-04-03",
          "2019-04-09",
          "2019-04-10",
          "2019-04-16",
          "2019-04-17",
          "2019-04-18",
          "2019-04-18",
          "2019-04-19",
          "2019-04-22",
          "2019-04-25",
          "2019-04-25",
          "2019-04-25",
          "2019-04-25",
          "2019-04-29",
          "2019-05-01",
          "2019-05-01",
          "2019-05-01",
          "2019-05-03",
          "2019-05-06",
          "2019-05-07",
          "2019-05-08",
          "2019-05-08",
          "2019-05-09",
          "2019-05-09",
          "2019-05-10",
          "2019-05-10",
          "2019-05-13",
          "2019-05-15",
          "2019-05-30",
          "2019-06-06",
          "2019-06-07",
          "2019-06-07",
          "2019-06-11",
          "2019-06-18",
          "2019-06-19",
          "2019-06-19",
          "2019-06-21",
          "2019-06-27",
          "2019-06-28",
          "2019-07-01",
          "2019-07-02",
          "2019-07-08",
          "2019-07-09",
          "2019-07-09",
          "2019-07-10",
          "2019-07-15",
          "2019-07-16",
          "2019-07-16",
          "2019-07-18",
          "2019-07-22",
          "2019-07-22",
          "2019-07-24",
          "2019-07-30",
          "2019-07-31",
          "2019-07-31",
          "2019-08-05",
          "2019-08-05",
          "2019-08-15",
          "2019-08-19",
          "2019-08-21",
          "2019-08-22",
          "2019-08-26",
          "2019-08-29",
          "2019-09-04",
          "2019-09-05",
          "2019-09-06",
          "2019-09-09",
          "2019-09-10",
          "2019-09-10",
          "2019-09-11",
          "2019-09-12",
          "2019-09-13",
          "2019-09-17",
          "2019-09-18",
          "2019-09-18",
          "2019-09-19",
          "2019-09-20",
          "2019-09-24",
          "2019-09-30",
          "2019-09-30",
          "2019-10-07",
          "2019-10-18",
          "2019-10-23",
          "2019-11-05",
          "2019-11-08",
          "2019-11-08",
          "2019-11-19",
          "2019-11-20",
          "2019-11-21",
          "2019-11-21",
          "2019-11-27",
          "2019-11-27",
          "2019-11-28",
          "2019-11-29",
          "2019-12-03",
          "2019-12-04",
          "2019-12-05",
          "2019-12-10",
          "2019-12-10",
          "2019-12-11",
          "2019-12-12",
          "2019-12-16",
          "2019-12-18",
          "2019-12-18",
          "2019-12-18",
          "2019-12-20",
          "2019-12-24",
          "2019-12-26",
          "2019-12-31"
         ],
         "xaxis": "x",
         "yaxis": "y"
        }
       ],
       "layout": {
        "barmode": "relative",
        "legend": {
         "tracegroupgap": 0
        },
        "margin": {
         "t": 60
        },
        "template": {
         "data": {
          "bar": [
           {
            "error_x": {
             "color": "#2a3f5f"
            },
            "error_y": {
             "color": "#2a3f5f"
            },
            "marker": {
             "line": {
              "color": "#E5ECF6",
              "width": 0.5
             }
            },
            "type": "bar"
           }
          ],
          "barpolar": [
           {
            "marker": {
             "line": {
              "color": "#E5ECF6",
              "width": 0.5
             }
            },
            "type": "barpolar"
           }
          ],
          "carpet": [
           {
            "aaxis": {
             "endlinecolor": "#2a3f5f",
             "gridcolor": "white",
             "linecolor": "white",
             "minorgridcolor": "white",
             "startlinecolor": "#2a3f5f"
            },
            "baxis": {
             "endlinecolor": "#2a3f5f",
             "gridcolor": "white",
             "linecolor": "white",
             "minorgridcolor": "white",
             "startlinecolor": "#2a3f5f"
            },
            "type": "carpet"
           }
          ],
          "choropleth": [
           {
            "colorbar": {
             "outlinewidth": 0,
             "ticks": ""
            },
            "type": "choropleth"
           }
          ],
          "contour": [
           {
            "colorbar": {
             "outlinewidth": 0,
             "ticks": ""
            },
            "colorscale": [
             [
              0,
              "#0d0887"
             ],
             [
              0.1111111111111111,
              "#46039f"
             ],
             [
              0.2222222222222222,
              "#7201a8"
             ],
             [
              0.3333333333333333,
              "#9c179e"
             ],
             [
              0.4444444444444444,
              "#bd3786"
             ],
             [
              0.5555555555555556,
              "#d8576b"
             ],
             [
              0.6666666666666666,
              "#ed7953"
             ],
             [
              0.7777777777777778,
              "#fb9f3a"
             ],
             [
              0.8888888888888888,
              "#fdca26"
             ],
             [
              1,
              "#f0f921"
             ]
            ],
            "type": "contour"
           }
          ],
          "contourcarpet": [
           {
            "colorbar": {
             "outlinewidth": 0,
             "ticks": ""
            },
            "type": "contourcarpet"
           }
          ],
          "heatmap": [
           {
            "colorbar": {
             "outlinewidth": 0,
             "ticks": ""
            },
            "colorscale": [
             [
              0,
              "#0d0887"
             ],
             [
              0.1111111111111111,
              "#46039f"
             ],
             [
              0.2222222222222222,
              "#7201a8"
             ],
             [
              0.3333333333333333,
              "#9c179e"
             ],
             [
              0.4444444444444444,
              "#bd3786"
             ],
             [
              0.5555555555555556,
              "#d8576b"
             ],
             [
              0.6666666666666666,
              "#ed7953"
             ],
             [
              0.7777777777777778,
              "#fb9f3a"
             ],
             [
              0.8888888888888888,
              "#fdca26"
             ],
             [
              1,
              "#f0f921"
             ]
            ],
            "type": "heatmap"
           }
          ],
          "heatmapgl": [
           {
            "colorbar": {
             "outlinewidth": 0,
             "ticks": ""
            },
            "colorscale": [
             [
              0,
              "#0d0887"
             ],
             [
              0.1111111111111111,
              "#46039f"
             ],
             [
              0.2222222222222222,
              "#7201a8"
             ],
             [
              0.3333333333333333,
              "#9c179e"
             ],
             [
              0.4444444444444444,
              "#bd3786"
             ],
             [
              0.5555555555555556,
              "#d8576b"
             ],
             [
              0.6666666666666666,
              "#ed7953"
             ],
             [
              0.7777777777777778,
              "#fb9f3a"
             ],
             [
              0.8888888888888888,
              "#fdca26"
             ],
             [
              1,
              "#f0f921"
             ]
            ],
            "type": "heatmapgl"
           }
          ],
          "histogram": [
           {
            "marker": {
             "colorbar": {
              "outlinewidth": 0,
              "ticks": ""
             }
            },
            "type": "histogram"
           }
          ],
          "histogram2d": [
           {
            "colorbar": {
             "outlinewidth": 0,
             "ticks": ""
            },
            "colorscale": [
             [
              0,
              "#0d0887"
             ],
             [
              0.1111111111111111,
              "#46039f"
             ],
             [
              0.2222222222222222,
              "#7201a8"
             ],
             [
              0.3333333333333333,
              "#9c179e"
             ],
             [
              0.4444444444444444,
              "#bd3786"
             ],
             [
              0.5555555555555556,
              "#d8576b"
             ],
             [
              0.6666666666666666,
              "#ed7953"
             ],
             [
              0.7777777777777778,
              "#fb9f3a"
             ],
             [
              0.8888888888888888,
              "#fdca26"
             ],
             [
              1,
              "#f0f921"
             ]
            ],
            "type": "histogram2d"
           }
          ],
          "histogram2dcontour": [
           {
            "colorbar": {
             "outlinewidth": 0,
             "ticks": ""
            },
            "colorscale": [
             [
              0,
              "#0d0887"
             ],
             [
              0.1111111111111111,
              "#46039f"
             ],
             [
              0.2222222222222222,
              "#7201a8"
             ],
             [
              0.3333333333333333,
              "#9c179e"
             ],
             [
              0.4444444444444444,
              "#bd3786"
             ],
             [
              0.5555555555555556,
              "#d8576b"
             ],
             [
              0.6666666666666666,
              "#ed7953"
             ],
             [
              0.7777777777777778,
              "#fb9f3a"
             ],
             [
              0.8888888888888888,
              "#fdca26"
             ],
             [
              1,
              "#f0f921"
             ]
            ],
            "type": "histogram2dcontour"
           }
          ],
          "mesh3d": [
           {
            "colorbar": {
             "outlinewidth": 0,
             "ticks": ""
            },
            "type": "mesh3d"
           }
          ],
          "parcoords": [
           {
            "line": {
             "colorbar": {
              "outlinewidth": 0,
              "ticks": ""
             }
            },
            "type": "parcoords"
           }
          ],
          "pie": [
           {
            "automargin": true,
            "type": "pie"
           }
          ],
          "scatter": [
           {
            "marker": {
             "colorbar": {
              "outlinewidth": 0,
              "ticks": ""
             }
            },
            "type": "scatter"
           }
          ],
          "scatter3d": [
           {
            "line": {
             "colorbar": {
              "outlinewidth": 0,
              "ticks": ""
             }
            },
            "marker": {
             "colorbar": {
              "outlinewidth": 0,
              "ticks": ""
             }
            },
            "type": "scatter3d"
           }
          ],
          "scattercarpet": [
           {
            "marker": {
             "colorbar": {
              "outlinewidth": 0,
              "ticks": ""
             }
            },
            "type": "scattercarpet"
           }
          ],
          "scattergeo": [
           {
            "marker": {
             "colorbar": {
              "outlinewidth": 0,
              "ticks": ""
             }
            },
            "type": "scattergeo"
           }
          ],
          "scattergl": [
           {
            "marker": {
             "colorbar": {
              "outlinewidth": 0,
              "ticks": ""
             }
            },
            "type": "scattergl"
           }
          ],
          "scattermapbox": [
           {
            "marker": {
             "colorbar": {
              "outlinewidth": 0,
              "ticks": ""
             }
            },
            "type": "scattermapbox"
           }
          ],
          "scatterpolar": [
           {
            "marker": {
             "colorbar": {
              "outlinewidth": 0,
              "ticks": ""
             }
            },
            "type": "scatterpolar"
           }
          ],
          "scatterpolargl": [
           {
            "marker": {
             "colorbar": {
              "outlinewidth": 0,
              "ticks": ""
             }
            },
            "type": "scatterpolargl"
           }
          ],
          "scatterternary": [
           {
            "marker": {
             "colorbar": {
              "outlinewidth": 0,
              "ticks": ""
             }
            },
            "type": "scatterternary"
           }
          ],
          "surface": [
           {
            "colorbar": {
             "outlinewidth": 0,
             "ticks": ""
            },
            "colorscale": [
             [
              0,
              "#0d0887"
             ],
             [
              0.1111111111111111,
              "#46039f"
             ],
             [
              0.2222222222222222,
              "#7201a8"
             ],
             [
              0.3333333333333333,
              "#9c179e"
             ],
             [
              0.4444444444444444,
              "#bd3786"
             ],
             [
              0.5555555555555556,
              "#d8576b"
             ],
             [
              0.6666666666666666,
              "#ed7953"
             ],
             [
              0.7777777777777778,
              "#fb9f3a"
             ],
             [
              0.8888888888888888,
              "#fdca26"
             ],
             [
              1,
              "#f0f921"
             ]
            ],
            "type": "surface"
           }
          ],
          "table": [
           {
            "cells": {
             "fill": {
              "color": "#EBF0F8"
             },
             "line": {
              "color": "white"
             }
            },
            "header": {
             "fill": {
              "color": "#C8D4E3"
             },
             "line": {
              "color": "white"
             }
            },
            "type": "table"
           }
          ]
         },
         "layout": {
          "annotationdefaults": {
           "arrowcolor": "#2a3f5f",
           "arrowhead": 0,
           "arrowwidth": 1
          },
          "coloraxis": {
           "colorbar": {
            "outlinewidth": 0,
            "ticks": ""
           }
          },
          "colorscale": {
           "diverging": [
            [
             0,
             "#8e0152"
            ],
            [
             0.1,
             "#c51b7d"
            ],
            [
             0.2,
             "#de77ae"
            ],
            [
             0.3,
             "#f1b6da"
            ],
            [
             0.4,
             "#fde0ef"
            ],
            [
             0.5,
             "#f7f7f7"
            ],
            [
             0.6,
             "#e6f5d0"
            ],
            [
             0.7,
             "#b8e186"
            ],
            [
             0.8,
             "#7fbc41"
            ],
            [
             0.9,
             "#4d9221"
            ],
            [
             1,
             "#276419"
            ]
           ],
           "sequential": [
            [
             0,
             "#0d0887"
            ],
            [
             0.1111111111111111,
             "#46039f"
            ],
            [
             0.2222222222222222,
             "#7201a8"
            ],
            [
             0.3333333333333333,
             "#9c179e"
            ],
            [
             0.4444444444444444,
             "#bd3786"
            ],
            [
             0.5555555555555556,
             "#d8576b"
            ],
            [
             0.6666666666666666,
             "#ed7953"
            ],
            [
             0.7777777777777778,
             "#fb9f3a"
            ],
            [
             0.8888888888888888,
             "#fdca26"
            ],
            [
             1,
             "#f0f921"
            ]
           ],
           "sequentialminus": [
            [
             0,
             "#0d0887"
            ],
            [
             0.1111111111111111,
             "#46039f"
            ],
            [
             0.2222222222222222,
             "#7201a8"
            ],
            [
             0.3333333333333333,
             "#9c179e"
            ],
            [
             0.4444444444444444,
             "#bd3786"
            ],
            [
             0.5555555555555556,
             "#d8576b"
            ],
            [
             0.6666666666666666,
             "#ed7953"
            ],
            [
             0.7777777777777778,
             "#fb9f3a"
            ],
            [
             0.8888888888888888,
             "#fdca26"
            ],
            [
             1,
             "#f0f921"
            ]
           ]
          },
          "colorway": [
           "#636efa",
           "#EF553B",
           "#00cc96",
           "#ab63fa",
           "#FFA15A",
           "#19d3f3",
           "#FF6692",
           "#B6E880",
           "#FF97FF",
           "#FECB52"
          ],
          "font": {
           "color": "#2a3f5f"
          },
          "geo": {
           "bgcolor": "white",
           "lakecolor": "white",
           "landcolor": "#E5ECF6",
           "showlakes": true,
           "showland": true,
           "subunitcolor": "white"
          },
          "hoverlabel": {
           "align": "left"
          },
          "hovermode": "closest",
          "mapbox": {
           "style": "light"
          },
          "paper_bgcolor": "white",
          "plot_bgcolor": "#E5ECF6",
          "polar": {
           "angularaxis": {
            "gridcolor": "white",
            "linecolor": "white",
            "ticks": ""
           },
           "bgcolor": "#E5ECF6",
           "radialaxis": {
            "gridcolor": "white",
            "linecolor": "white",
            "ticks": ""
           }
          },
          "scene": {
           "xaxis": {
            "backgroundcolor": "#E5ECF6",
            "gridcolor": "white",
            "gridwidth": 2,
            "linecolor": "white",
            "showbackground": true,
            "ticks": "",
            "zerolinecolor": "white"
           },
           "yaxis": {
            "backgroundcolor": "#E5ECF6",
            "gridcolor": "white",
            "gridwidth": 2,
            "linecolor": "white",
            "showbackground": true,
            "ticks": "",
            "zerolinecolor": "white"
           },
           "zaxis": {
            "backgroundcolor": "#E5ECF6",
            "gridcolor": "white",
            "gridwidth": 2,
            "linecolor": "white",
            "showbackground": true,
            "ticks": "",
            "zerolinecolor": "white"
           }
          },
          "shapedefaults": {
           "line": {
            "color": "#2a3f5f"
           }
          },
          "ternary": {
           "aaxis": {
            "gridcolor": "white",
            "linecolor": "white",
            "ticks": ""
           },
           "baxis": {
            "gridcolor": "white",
            "linecolor": "white",
            "ticks": ""
           },
           "bgcolor": "#E5ECF6",
           "caxis": {
            "gridcolor": "white",
            "linecolor": "white",
            "ticks": ""
           }
          },
          "title": {
           "x": 0.05
          },
          "xaxis": {
           "automargin": true,
           "gridcolor": "white",
           "linecolor": "white",
           "ticks": "",
           "title": {
            "standoff": 15
           },
           "zerolinecolor": "white",
           "zerolinewidth": 2
          },
          "yaxis": {
           "automargin": true,
           "gridcolor": "white",
           "linecolor": "white",
           "ticks": "",
           "title": {
            "standoff": 15
           },
           "zerolinecolor": "white",
           "zerolinewidth": 2
          }
         }
        },
        "xaxis": {
         "anchor": "y",
         "domain": [
          0,
          1
         ],
         "title": {
          "text": "verkoop_order_datum"
         }
        },
        "yaxis": {
         "anchor": "x",
         "domain": [
          0,
          1
         ],
         "title": {
          "text": "count"
         }
        }
       }
      },
      "text/html": [
       "<div>\n",
       "        \n",
       "        \n",
       "            <div id=\"506ba0fd-e28c-4993-854a-623f90c8d944\" class=\"plotly-graph-div\" style=\"height:525px; width:100%;\"></div>\n",
       "            <script type=\"text/javascript\">\n",
       "                require([\"plotly\"], function(Plotly) {\n",
       "                    window.PLOTLYENV=window.PLOTLYENV || {};\n",
       "                    \n",
       "                if (document.getElementById(\"506ba0fd-e28c-4993-854a-623f90c8d944\")) {\n",
       "                    Plotly.newPlot(\n",
       "                        '506ba0fd-e28c-4993-854a-623f90c8d944',\n",
       "                        [{\"alignmentgroup\": \"True\", \"bingroup\": \"x\", \"hovertemplate\": \"verkoop_order_datum=%{x}<br>count=%{y}<extra></extra>\", \"legendgroup\": \"\", \"marker\": {\"color\": \"#636efa\"}, \"name\": \"\", \"nbinsx\": 12, \"offsetgroup\": \"\", \"orientation\": \"v\", \"showlegend\": false, \"type\": \"histogram\", \"x\": [\"2019-01-02\", \"2019-01-02\", \"2019-01-03\", \"2019-01-07\", \"2019-01-08\", \"2019-01-09\", \"2019-01-09\", \"2019-01-10\", \"2019-01-10\", \"2019-01-14\", \"2019-01-16\", \"2019-01-21\", \"2019-01-21\", \"2019-01-22\", \"2019-01-24\", \"2019-01-25\", \"2019-01-29\", \"2019-02-01\", \"2019-02-06\", \"2019-02-07\", \"2019-02-07\", \"2019-02-08\", \"2019-02-11\", \"2019-02-14\", \"2019-02-15\", \"2019-02-15\", \"2019-02-15\", \"2019-02-19\", \"2019-02-19\", \"2019-02-20\", \"2019-02-21\", \"2019-02-21\", \"2019-03-01\", \"2019-03-05\", \"2019-03-07\", \"2019-03-07\", \"2019-03-07\", \"2019-03-11\", \"2019-03-12\", \"2019-03-13\", \"2019-03-15\", \"2019-03-19\", \"2019-03-19\", \"2019-03-21\", \"2019-03-22\", \"2019-03-27\", \"2019-03-28\", \"2019-03-29\", \"2019-03-29\", \"2019-04-03\", \"2019-04-09\", \"2019-04-10\", \"2019-04-16\", \"2019-04-17\", \"2019-04-18\", \"2019-04-18\", \"2019-04-19\", \"2019-04-22\", \"2019-04-25\", \"2019-04-25\", \"2019-04-25\", \"2019-04-25\", \"2019-04-29\", \"2019-05-01\", \"2019-05-01\", \"2019-05-01\", \"2019-05-03\", \"2019-05-06\", \"2019-05-07\", \"2019-05-08\", \"2019-05-08\", \"2019-05-09\", \"2019-05-09\", \"2019-05-10\", \"2019-05-10\", \"2019-05-13\", \"2019-05-15\", \"2019-05-30\", \"2019-06-06\", \"2019-06-07\", \"2019-06-07\", \"2019-06-11\", \"2019-06-18\", \"2019-06-19\", \"2019-06-19\", \"2019-06-21\", \"2019-06-27\", \"2019-06-28\", \"2019-07-01\", \"2019-07-02\", \"2019-07-08\", \"2019-07-09\", \"2019-07-09\", \"2019-07-10\", \"2019-07-15\", \"2019-07-16\", \"2019-07-16\", \"2019-07-18\", \"2019-07-22\", \"2019-07-22\", \"2019-07-24\", \"2019-07-30\", \"2019-07-31\", \"2019-07-31\", \"2019-08-05\", \"2019-08-05\", \"2019-08-15\", \"2019-08-19\", \"2019-08-21\", \"2019-08-22\", \"2019-08-26\", \"2019-08-29\", \"2019-09-04\", \"2019-09-05\", \"2019-09-06\", \"2019-09-09\", \"2019-09-10\", \"2019-09-10\", \"2019-09-11\", \"2019-09-12\", \"2019-09-13\", \"2019-09-17\", \"2019-09-18\", \"2019-09-18\", \"2019-09-19\", \"2019-09-20\", \"2019-09-24\", \"2019-09-30\", \"2019-09-30\", \"2019-10-07\", \"2019-10-18\", \"2019-10-23\", \"2019-11-05\", \"2019-11-08\", \"2019-11-08\", \"2019-11-19\", \"2019-11-20\", \"2019-11-21\", \"2019-11-21\", \"2019-11-27\", \"2019-11-27\", \"2019-11-28\", \"2019-11-29\", \"2019-12-03\", \"2019-12-04\", \"2019-12-05\", \"2019-12-10\", \"2019-12-10\", \"2019-12-11\", \"2019-12-12\", \"2019-12-16\", \"2019-12-18\", \"2019-12-18\", \"2019-12-18\", \"2019-12-20\", \"2019-12-24\", \"2019-12-26\", \"2019-12-31\"], \"xaxis\": \"x\", \"yaxis\": \"y\"}],\n",
       "                        {\"barmode\": \"relative\", \"legend\": {\"tracegroupgap\": 0}, \"margin\": {\"t\": 60}, \"template\": {\"data\": {\"bar\": [{\"error_x\": {\"color\": \"#2a3f5f\"}, \"error_y\": {\"color\": \"#2a3f5f\"}, \"marker\": {\"line\": {\"color\": \"#E5ECF6\", \"width\": 0.5}}, \"type\": \"bar\"}], \"barpolar\": [{\"marker\": {\"line\": {\"color\": \"#E5ECF6\", \"width\": 0.5}}, \"type\": \"barpolar\"}], \"carpet\": [{\"aaxis\": {\"endlinecolor\": \"#2a3f5f\", \"gridcolor\": \"white\", \"linecolor\": \"white\", \"minorgridcolor\": \"white\", \"startlinecolor\": \"#2a3f5f\"}, \"baxis\": {\"endlinecolor\": \"#2a3f5f\", \"gridcolor\": \"white\", \"linecolor\": \"white\", \"minorgridcolor\": \"white\", \"startlinecolor\": \"#2a3f5f\"}, \"type\": \"carpet\"}], \"choropleth\": [{\"colorbar\": {\"outlinewidth\": 0, \"ticks\": \"\"}, \"type\": \"choropleth\"}], \"contour\": [{\"colorbar\": {\"outlinewidth\": 0, \"ticks\": \"\"}, \"colorscale\": [[0.0, \"#0d0887\"], [0.1111111111111111, \"#46039f\"], [0.2222222222222222, \"#7201a8\"], [0.3333333333333333, \"#9c179e\"], [0.4444444444444444, \"#bd3786\"], [0.5555555555555556, \"#d8576b\"], [0.6666666666666666, \"#ed7953\"], [0.7777777777777778, \"#fb9f3a\"], [0.8888888888888888, \"#fdca26\"], [1.0, \"#f0f921\"]], \"type\": \"contour\"}], \"contourcarpet\": [{\"colorbar\": {\"outlinewidth\": 0, \"ticks\": \"\"}, \"type\": \"contourcarpet\"}], \"heatmap\": [{\"colorbar\": {\"outlinewidth\": 0, \"ticks\": \"\"}, \"colorscale\": [[0.0, \"#0d0887\"], [0.1111111111111111, \"#46039f\"], [0.2222222222222222, \"#7201a8\"], [0.3333333333333333, \"#9c179e\"], [0.4444444444444444, \"#bd3786\"], [0.5555555555555556, \"#d8576b\"], [0.6666666666666666, \"#ed7953\"], [0.7777777777777778, \"#fb9f3a\"], [0.8888888888888888, \"#fdca26\"], [1.0, \"#f0f921\"]], \"type\": \"heatmap\"}], \"heatmapgl\": [{\"colorbar\": {\"outlinewidth\": 0, \"ticks\": \"\"}, \"colorscale\": [[0.0, \"#0d0887\"], [0.1111111111111111, \"#46039f\"], [0.2222222222222222, \"#7201a8\"], [0.3333333333333333, \"#9c179e\"], [0.4444444444444444, \"#bd3786\"], [0.5555555555555556, \"#d8576b\"], [0.6666666666666666, \"#ed7953\"], [0.7777777777777778, \"#fb9f3a\"], [0.8888888888888888, \"#fdca26\"], [1.0, \"#f0f921\"]], \"type\": \"heatmapgl\"}], \"histogram\": [{\"marker\": {\"colorbar\": {\"outlinewidth\": 0, \"ticks\": \"\"}}, \"type\": \"histogram\"}], \"histogram2d\": [{\"colorbar\": {\"outlinewidth\": 0, \"ticks\": \"\"}, \"colorscale\": [[0.0, \"#0d0887\"], [0.1111111111111111, \"#46039f\"], [0.2222222222222222, \"#7201a8\"], [0.3333333333333333, \"#9c179e\"], [0.4444444444444444, \"#bd3786\"], [0.5555555555555556, \"#d8576b\"], [0.6666666666666666, \"#ed7953\"], [0.7777777777777778, \"#fb9f3a\"], [0.8888888888888888, \"#fdca26\"], [1.0, \"#f0f921\"]], \"type\": \"histogram2d\"}], \"histogram2dcontour\": [{\"colorbar\": {\"outlinewidth\": 0, \"ticks\": \"\"}, \"colorscale\": [[0.0, \"#0d0887\"], [0.1111111111111111, \"#46039f\"], [0.2222222222222222, \"#7201a8\"], [0.3333333333333333, \"#9c179e\"], [0.4444444444444444, \"#bd3786\"], [0.5555555555555556, \"#d8576b\"], [0.6666666666666666, \"#ed7953\"], [0.7777777777777778, \"#fb9f3a\"], [0.8888888888888888, \"#fdca26\"], [1.0, \"#f0f921\"]], \"type\": \"histogram2dcontour\"}], \"mesh3d\": [{\"colorbar\": {\"outlinewidth\": 0, \"ticks\": \"\"}, \"type\": \"mesh3d\"}], \"parcoords\": [{\"line\": {\"colorbar\": {\"outlinewidth\": 0, \"ticks\": \"\"}}, \"type\": \"parcoords\"}], \"pie\": [{\"automargin\": true, \"type\": \"pie\"}], \"scatter\": [{\"marker\": {\"colorbar\": {\"outlinewidth\": 0, \"ticks\": \"\"}}, \"type\": \"scatter\"}], \"scatter3d\": [{\"line\": {\"colorbar\": {\"outlinewidth\": 0, \"ticks\": \"\"}}, \"marker\": {\"colorbar\": {\"outlinewidth\": 0, \"ticks\": \"\"}}, \"type\": \"scatter3d\"}], \"scattercarpet\": [{\"marker\": {\"colorbar\": {\"outlinewidth\": 0, \"ticks\": \"\"}}, \"type\": \"scattercarpet\"}], \"scattergeo\": [{\"marker\": {\"colorbar\": {\"outlinewidth\": 0, \"ticks\": \"\"}}, \"type\": \"scattergeo\"}], \"scattergl\": [{\"marker\": {\"colorbar\": {\"outlinewidth\": 0, \"ticks\": \"\"}}, \"type\": \"scattergl\"}], \"scattermapbox\": [{\"marker\": {\"colorbar\": {\"outlinewidth\": 0, \"ticks\": \"\"}}, \"type\": \"scattermapbox\"}], \"scatterpolar\": [{\"marker\": {\"colorbar\": {\"outlinewidth\": 0, \"ticks\": \"\"}}, \"type\": \"scatterpolar\"}], \"scatterpolargl\": [{\"marker\": {\"colorbar\": {\"outlinewidth\": 0, \"ticks\": \"\"}}, \"type\": \"scatterpolargl\"}], \"scatterternary\": [{\"marker\": {\"colorbar\": {\"outlinewidth\": 0, \"ticks\": \"\"}}, \"type\": \"scatterternary\"}], \"surface\": [{\"colorbar\": {\"outlinewidth\": 0, \"ticks\": \"\"}, \"colorscale\": [[0.0, \"#0d0887\"], [0.1111111111111111, \"#46039f\"], [0.2222222222222222, \"#7201a8\"], [0.3333333333333333, \"#9c179e\"], [0.4444444444444444, \"#bd3786\"], [0.5555555555555556, \"#d8576b\"], [0.6666666666666666, \"#ed7953\"], [0.7777777777777778, \"#fb9f3a\"], [0.8888888888888888, \"#fdca26\"], [1.0, \"#f0f921\"]], \"type\": \"surface\"}], \"table\": [{\"cells\": {\"fill\": {\"color\": \"#EBF0F8\"}, \"line\": {\"color\": \"white\"}}, \"header\": {\"fill\": {\"color\": \"#C8D4E3\"}, \"line\": {\"color\": \"white\"}}, \"type\": \"table\"}]}, \"layout\": {\"annotationdefaults\": {\"arrowcolor\": \"#2a3f5f\", \"arrowhead\": 0, \"arrowwidth\": 1}, \"coloraxis\": {\"colorbar\": {\"outlinewidth\": 0, \"ticks\": \"\"}}, \"colorscale\": {\"diverging\": [[0, \"#8e0152\"], [0.1, \"#c51b7d\"], [0.2, \"#de77ae\"], [0.3, \"#f1b6da\"], [0.4, \"#fde0ef\"], [0.5, \"#f7f7f7\"], [0.6, \"#e6f5d0\"], [0.7, \"#b8e186\"], [0.8, \"#7fbc41\"], [0.9, \"#4d9221\"], [1, \"#276419\"]], \"sequential\": [[0.0, \"#0d0887\"], [0.1111111111111111, \"#46039f\"], [0.2222222222222222, \"#7201a8\"], [0.3333333333333333, \"#9c179e\"], [0.4444444444444444, \"#bd3786\"], [0.5555555555555556, \"#d8576b\"], [0.6666666666666666, \"#ed7953\"], [0.7777777777777778, \"#fb9f3a\"], [0.8888888888888888, \"#fdca26\"], [1.0, \"#f0f921\"]], \"sequentialminus\": [[0.0, \"#0d0887\"], [0.1111111111111111, \"#46039f\"], [0.2222222222222222, \"#7201a8\"], [0.3333333333333333, \"#9c179e\"], [0.4444444444444444, \"#bd3786\"], [0.5555555555555556, \"#d8576b\"], [0.6666666666666666, \"#ed7953\"], [0.7777777777777778, \"#fb9f3a\"], [0.8888888888888888, \"#fdca26\"], [1.0, \"#f0f921\"]]}, \"colorway\": [\"#636efa\", \"#EF553B\", \"#00cc96\", \"#ab63fa\", \"#FFA15A\", \"#19d3f3\", \"#FF6692\", \"#B6E880\", \"#FF97FF\", \"#FECB52\"], \"font\": {\"color\": \"#2a3f5f\"}, \"geo\": {\"bgcolor\": \"white\", \"lakecolor\": \"white\", \"landcolor\": \"#E5ECF6\", \"showlakes\": true, \"showland\": true, \"subunitcolor\": \"white\"}, \"hoverlabel\": {\"align\": \"left\"}, \"hovermode\": \"closest\", \"mapbox\": {\"style\": \"light\"}, \"paper_bgcolor\": \"white\", \"plot_bgcolor\": \"#E5ECF6\", \"polar\": {\"angularaxis\": {\"gridcolor\": \"white\", \"linecolor\": \"white\", \"ticks\": \"\"}, \"bgcolor\": \"#E5ECF6\", \"radialaxis\": {\"gridcolor\": \"white\", \"linecolor\": \"white\", \"ticks\": \"\"}}, \"scene\": {\"xaxis\": {\"backgroundcolor\": \"#E5ECF6\", \"gridcolor\": \"white\", \"gridwidth\": 2, \"linecolor\": \"white\", \"showbackground\": true, \"ticks\": \"\", \"zerolinecolor\": \"white\"}, \"yaxis\": {\"backgroundcolor\": \"#E5ECF6\", \"gridcolor\": \"white\", \"gridwidth\": 2, \"linecolor\": \"white\", \"showbackground\": true, \"ticks\": \"\", \"zerolinecolor\": \"white\"}, \"zaxis\": {\"backgroundcolor\": \"#E5ECF6\", \"gridcolor\": \"white\", \"gridwidth\": 2, \"linecolor\": \"white\", \"showbackground\": true, \"ticks\": \"\", \"zerolinecolor\": \"white\"}}, \"shapedefaults\": {\"line\": {\"color\": \"#2a3f5f\"}}, \"ternary\": {\"aaxis\": {\"gridcolor\": \"white\", \"linecolor\": \"white\", \"ticks\": \"\"}, \"baxis\": {\"gridcolor\": \"white\", \"linecolor\": \"white\", \"ticks\": \"\"}, \"bgcolor\": \"#E5ECF6\", \"caxis\": {\"gridcolor\": \"white\", \"linecolor\": \"white\", \"ticks\": \"\"}}, \"title\": {\"x\": 0.05}, \"xaxis\": {\"automargin\": true, \"gridcolor\": \"white\", \"linecolor\": \"white\", \"ticks\": \"\", \"title\": {\"standoff\": 15}, \"zerolinecolor\": \"white\", \"zerolinewidth\": 2}, \"yaxis\": {\"automargin\": true, \"gridcolor\": \"white\", \"linecolor\": \"white\", \"ticks\": \"\", \"title\": {\"standoff\": 15}, \"zerolinecolor\": \"white\", \"zerolinewidth\": 2}}}, \"xaxis\": {\"anchor\": \"y\", \"domain\": [0.0, 1.0], \"title\": {\"text\": \"verkoop_order_datum\"}}, \"yaxis\": {\"anchor\": \"x\", \"domain\": [0.0, 1.0], \"title\": {\"text\": \"count\"}}},\n",
       "                        {\"responsive\": true}\n",
       "                    ).then(function(){\n",
       "                            \n",
       "var gd = document.getElementById('506ba0fd-e28c-4993-854a-623f90c8d944');\n",
       "var x = new MutationObserver(function (mutations, observer) {{\n",
       "        var display = window.getComputedStyle(gd).display;\n",
       "        if (!display || display === 'none') {{\n",
       "            console.log([gd, 'removed!']);\n",
       "            Plotly.purge(gd);\n",
       "            observer.disconnect();\n",
       "        }}\n",
       "}});\n",
       "\n",
       "// Listen for the removal of the full notebook cells\n",
       "var notebookContainer = gd.closest('#notebook-container');\n",
       "if (notebookContainer) {{\n",
       "    x.observe(notebookContainer, {childList: true});\n",
       "}}\n",
       "\n",
       "// Listen for the clearing of the current output cell\n",
       "var outputEl = gd.closest('.output');\n",
       "if (outputEl) {{\n",
       "    x.observe(outputEl, {childList: true});\n",
       "}}\n",
       "\n",
       "                        })\n",
       "                };\n",
       "                });\n",
       "            </script>\n",
       "        </div>"
      ]
     },
     "metadata": {},
     "output_type": "display_data"
    }
   ],
   "source": [
    "if show_intermediate_results == True:\n",
    "#    verkoop_order_df.hist(column='klant_id', bins=10)\n",
    "    fig=px.histogram(verkoop_order_df, x='verkoop_order_datum', nbins=12)\n",
    "    fig.show()"
   ]
  },
  {
   "cell_type": "code",
   "execution_count": 924,
   "metadata": {},
   "outputs": [
    {
     "data": {
      "application/vnd.plotly.v1+json": {
       "config": {
        "plotlyServerURL": "https://plot.ly"
       },
       "data": [
        {
         "alignmentgroup": "True",
         "bingroup": "x",
         "hovertemplate": "klant_id=%{x}<br>count=%{y}<extra></extra>",
         "legendgroup": "",
         "marker": {
          "color": "#636efa"
         },
         "name": "",
         "nbinsx": 10,
         "offsetgroup": "",
         "orientation": "v",
         "showlegend": false,
         "type": "histogram",
         "x": [
          16,
          15,
          13,
          21,
          20,
          4,
          17,
          8,
          8,
          7,
          2,
          4,
          17,
          15,
          16,
          22,
          10,
          3,
          24,
          4,
          24,
          4,
          15,
          9,
          23,
          13,
          19,
          13,
          4,
          19,
          23,
          6,
          17,
          10,
          4,
          17,
          18,
          6,
          19,
          5,
          7,
          3,
          0,
          23,
          15,
          16,
          18,
          10,
          10,
          14,
          8,
          6,
          24,
          8,
          1,
          19,
          5,
          14,
          15,
          9,
          22,
          24,
          2,
          15,
          22,
          21,
          14,
          20,
          10,
          17,
          11,
          13,
          23,
          17,
          20,
          23,
          9,
          23,
          3,
          10,
          13,
          22,
          19,
          13,
          6,
          12,
          5,
          17,
          7,
          13,
          19,
          22,
          17,
          16,
          9,
          12,
          16,
          17,
          13,
          21,
          22,
          19,
          0,
          2,
          24,
          19,
          5,
          1,
          2,
          16,
          18,
          2,
          12,
          6,
          7,
          20,
          0,
          21,
          21,
          13,
          1,
          23,
          21,
          23,
          23,
          22,
          18,
          3,
          6,
          3,
          15,
          13,
          23,
          21,
          22,
          16,
          3,
          5,
          19,
          20,
          12,
          8,
          0,
          1,
          19,
          16,
          10,
          18,
          13,
          23,
          12,
          23,
          22,
          21,
          11,
          17,
          2,
          11
         ],
         "xaxis": "x",
         "yaxis": "y"
        }
       ],
       "layout": {
        "barmode": "relative",
        "legend": {
         "tracegroupgap": 0
        },
        "margin": {
         "t": 60
        },
        "template": {
         "data": {
          "bar": [
           {
            "error_x": {
             "color": "#2a3f5f"
            },
            "error_y": {
             "color": "#2a3f5f"
            },
            "marker": {
             "line": {
              "color": "#E5ECF6",
              "width": 0.5
             }
            },
            "type": "bar"
           }
          ],
          "barpolar": [
           {
            "marker": {
             "line": {
              "color": "#E5ECF6",
              "width": 0.5
             }
            },
            "type": "barpolar"
           }
          ],
          "carpet": [
           {
            "aaxis": {
             "endlinecolor": "#2a3f5f",
             "gridcolor": "white",
             "linecolor": "white",
             "minorgridcolor": "white",
             "startlinecolor": "#2a3f5f"
            },
            "baxis": {
             "endlinecolor": "#2a3f5f",
             "gridcolor": "white",
             "linecolor": "white",
             "minorgridcolor": "white",
             "startlinecolor": "#2a3f5f"
            },
            "type": "carpet"
           }
          ],
          "choropleth": [
           {
            "colorbar": {
             "outlinewidth": 0,
             "ticks": ""
            },
            "type": "choropleth"
           }
          ],
          "contour": [
           {
            "colorbar": {
             "outlinewidth": 0,
             "ticks": ""
            },
            "colorscale": [
             [
              0,
              "#0d0887"
             ],
             [
              0.1111111111111111,
              "#46039f"
             ],
             [
              0.2222222222222222,
              "#7201a8"
             ],
             [
              0.3333333333333333,
              "#9c179e"
             ],
             [
              0.4444444444444444,
              "#bd3786"
             ],
             [
              0.5555555555555556,
              "#d8576b"
             ],
             [
              0.6666666666666666,
              "#ed7953"
             ],
             [
              0.7777777777777778,
              "#fb9f3a"
             ],
             [
              0.8888888888888888,
              "#fdca26"
             ],
             [
              1,
              "#f0f921"
             ]
            ],
            "type": "contour"
           }
          ],
          "contourcarpet": [
           {
            "colorbar": {
             "outlinewidth": 0,
             "ticks": ""
            },
            "type": "contourcarpet"
           }
          ],
          "heatmap": [
           {
            "colorbar": {
             "outlinewidth": 0,
             "ticks": ""
            },
            "colorscale": [
             [
              0,
              "#0d0887"
             ],
             [
              0.1111111111111111,
              "#46039f"
             ],
             [
              0.2222222222222222,
              "#7201a8"
             ],
             [
              0.3333333333333333,
              "#9c179e"
             ],
             [
              0.4444444444444444,
              "#bd3786"
             ],
             [
              0.5555555555555556,
              "#d8576b"
             ],
             [
              0.6666666666666666,
              "#ed7953"
             ],
             [
              0.7777777777777778,
              "#fb9f3a"
             ],
             [
              0.8888888888888888,
              "#fdca26"
             ],
             [
              1,
              "#f0f921"
             ]
            ],
            "type": "heatmap"
           }
          ],
          "heatmapgl": [
           {
            "colorbar": {
             "outlinewidth": 0,
             "ticks": ""
            },
            "colorscale": [
             [
              0,
              "#0d0887"
             ],
             [
              0.1111111111111111,
              "#46039f"
             ],
             [
              0.2222222222222222,
              "#7201a8"
             ],
             [
              0.3333333333333333,
              "#9c179e"
             ],
             [
              0.4444444444444444,
              "#bd3786"
             ],
             [
              0.5555555555555556,
              "#d8576b"
             ],
             [
              0.6666666666666666,
              "#ed7953"
             ],
             [
              0.7777777777777778,
              "#fb9f3a"
             ],
             [
              0.8888888888888888,
              "#fdca26"
             ],
             [
              1,
              "#f0f921"
             ]
            ],
            "type": "heatmapgl"
           }
          ],
          "histogram": [
           {
            "marker": {
             "colorbar": {
              "outlinewidth": 0,
              "ticks": ""
             }
            },
            "type": "histogram"
           }
          ],
          "histogram2d": [
           {
            "colorbar": {
             "outlinewidth": 0,
             "ticks": ""
            },
            "colorscale": [
             [
              0,
              "#0d0887"
             ],
             [
              0.1111111111111111,
              "#46039f"
             ],
             [
              0.2222222222222222,
              "#7201a8"
             ],
             [
              0.3333333333333333,
              "#9c179e"
             ],
             [
              0.4444444444444444,
              "#bd3786"
             ],
             [
              0.5555555555555556,
              "#d8576b"
             ],
             [
              0.6666666666666666,
              "#ed7953"
             ],
             [
              0.7777777777777778,
              "#fb9f3a"
             ],
             [
              0.8888888888888888,
              "#fdca26"
             ],
             [
              1,
              "#f0f921"
             ]
            ],
            "type": "histogram2d"
           }
          ],
          "histogram2dcontour": [
           {
            "colorbar": {
             "outlinewidth": 0,
             "ticks": ""
            },
            "colorscale": [
             [
              0,
              "#0d0887"
             ],
             [
              0.1111111111111111,
              "#46039f"
             ],
             [
              0.2222222222222222,
              "#7201a8"
             ],
             [
              0.3333333333333333,
              "#9c179e"
             ],
             [
              0.4444444444444444,
              "#bd3786"
             ],
             [
              0.5555555555555556,
              "#d8576b"
             ],
             [
              0.6666666666666666,
              "#ed7953"
             ],
             [
              0.7777777777777778,
              "#fb9f3a"
             ],
             [
              0.8888888888888888,
              "#fdca26"
             ],
             [
              1,
              "#f0f921"
             ]
            ],
            "type": "histogram2dcontour"
           }
          ],
          "mesh3d": [
           {
            "colorbar": {
             "outlinewidth": 0,
             "ticks": ""
            },
            "type": "mesh3d"
           }
          ],
          "parcoords": [
           {
            "line": {
             "colorbar": {
              "outlinewidth": 0,
              "ticks": ""
             }
            },
            "type": "parcoords"
           }
          ],
          "pie": [
           {
            "automargin": true,
            "type": "pie"
           }
          ],
          "scatter": [
           {
            "marker": {
             "colorbar": {
              "outlinewidth": 0,
              "ticks": ""
             }
            },
            "type": "scatter"
           }
          ],
          "scatter3d": [
           {
            "line": {
             "colorbar": {
              "outlinewidth": 0,
              "ticks": ""
             }
            },
            "marker": {
             "colorbar": {
              "outlinewidth": 0,
              "ticks": ""
             }
            },
            "type": "scatter3d"
           }
          ],
          "scattercarpet": [
           {
            "marker": {
             "colorbar": {
              "outlinewidth": 0,
              "ticks": ""
             }
            },
            "type": "scattercarpet"
           }
          ],
          "scattergeo": [
           {
            "marker": {
             "colorbar": {
              "outlinewidth": 0,
              "ticks": ""
             }
            },
            "type": "scattergeo"
           }
          ],
          "scattergl": [
           {
            "marker": {
             "colorbar": {
              "outlinewidth": 0,
              "ticks": ""
             }
            },
            "type": "scattergl"
           }
          ],
          "scattermapbox": [
           {
            "marker": {
             "colorbar": {
              "outlinewidth": 0,
              "ticks": ""
             }
            },
            "type": "scattermapbox"
           }
          ],
          "scatterpolar": [
           {
            "marker": {
             "colorbar": {
              "outlinewidth": 0,
              "ticks": ""
             }
            },
            "type": "scatterpolar"
           }
          ],
          "scatterpolargl": [
           {
            "marker": {
             "colorbar": {
              "outlinewidth": 0,
              "ticks": ""
             }
            },
            "type": "scatterpolargl"
           }
          ],
          "scatterternary": [
           {
            "marker": {
             "colorbar": {
              "outlinewidth": 0,
              "ticks": ""
             }
            },
            "type": "scatterternary"
           }
          ],
          "surface": [
           {
            "colorbar": {
             "outlinewidth": 0,
             "ticks": ""
            },
            "colorscale": [
             [
              0,
              "#0d0887"
             ],
             [
              0.1111111111111111,
              "#46039f"
             ],
             [
              0.2222222222222222,
              "#7201a8"
             ],
             [
              0.3333333333333333,
              "#9c179e"
             ],
             [
              0.4444444444444444,
              "#bd3786"
             ],
             [
              0.5555555555555556,
              "#d8576b"
             ],
             [
              0.6666666666666666,
              "#ed7953"
             ],
             [
              0.7777777777777778,
              "#fb9f3a"
             ],
             [
              0.8888888888888888,
              "#fdca26"
             ],
             [
              1,
              "#f0f921"
             ]
            ],
            "type": "surface"
           }
          ],
          "table": [
           {
            "cells": {
             "fill": {
              "color": "#EBF0F8"
             },
             "line": {
              "color": "white"
             }
            },
            "header": {
             "fill": {
              "color": "#C8D4E3"
             },
             "line": {
              "color": "white"
             }
            },
            "type": "table"
           }
          ]
         },
         "layout": {
          "annotationdefaults": {
           "arrowcolor": "#2a3f5f",
           "arrowhead": 0,
           "arrowwidth": 1
          },
          "coloraxis": {
           "colorbar": {
            "outlinewidth": 0,
            "ticks": ""
           }
          },
          "colorscale": {
           "diverging": [
            [
             0,
             "#8e0152"
            ],
            [
             0.1,
             "#c51b7d"
            ],
            [
             0.2,
             "#de77ae"
            ],
            [
             0.3,
             "#f1b6da"
            ],
            [
             0.4,
             "#fde0ef"
            ],
            [
             0.5,
             "#f7f7f7"
            ],
            [
             0.6,
             "#e6f5d0"
            ],
            [
             0.7,
             "#b8e186"
            ],
            [
             0.8,
             "#7fbc41"
            ],
            [
             0.9,
             "#4d9221"
            ],
            [
             1,
             "#276419"
            ]
           ],
           "sequential": [
            [
             0,
             "#0d0887"
            ],
            [
             0.1111111111111111,
             "#46039f"
            ],
            [
             0.2222222222222222,
             "#7201a8"
            ],
            [
             0.3333333333333333,
             "#9c179e"
            ],
            [
             0.4444444444444444,
             "#bd3786"
            ],
            [
             0.5555555555555556,
             "#d8576b"
            ],
            [
             0.6666666666666666,
             "#ed7953"
            ],
            [
             0.7777777777777778,
             "#fb9f3a"
            ],
            [
             0.8888888888888888,
             "#fdca26"
            ],
            [
             1,
             "#f0f921"
            ]
           ],
           "sequentialminus": [
            [
             0,
             "#0d0887"
            ],
            [
             0.1111111111111111,
             "#46039f"
            ],
            [
             0.2222222222222222,
             "#7201a8"
            ],
            [
             0.3333333333333333,
             "#9c179e"
            ],
            [
             0.4444444444444444,
             "#bd3786"
            ],
            [
             0.5555555555555556,
             "#d8576b"
            ],
            [
             0.6666666666666666,
             "#ed7953"
            ],
            [
             0.7777777777777778,
             "#fb9f3a"
            ],
            [
             0.8888888888888888,
             "#fdca26"
            ],
            [
             1,
             "#f0f921"
            ]
           ]
          },
          "colorway": [
           "#636efa",
           "#EF553B",
           "#00cc96",
           "#ab63fa",
           "#FFA15A",
           "#19d3f3",
           "#FF6692",
           "#B6E880",
           "#FF97FF",
           "#FECB52"
          ],
          "font": {
           "color": "#2a3f5f"
          },
          "geo": {
           "bgcolor": "white",
           "lakecolor": "white",
           "landcolor": "#E5ECF6",
           "showlakes": true,
           "showland": true,
           "subunitcolor": "white"
          },
          "hoverlabel": {
           "align": "left"
          },
          "hovermode": "closest",
          "mapbox": {
           "style": "light"
          },
          "paper_bgcolor": "white",
          "plot_bgcolor": "#E5ECF6",
          "polar": {
           "angularaxis": {
            "gridcolor": "white",
            "linecolor": "white",
            "ticks": ""
           },
           "bgcolor": "#E5ECF6",
           "radialaxis": {
            "gridcolor": "white",
            "linecolor": "white",
            "ticks": ""
           }
          },
          "scene": {
           "xaxis": {
            "backgroundcolor": "#E5ECF6",
            "gridcolor": "white",
            "gridwidth": 2,
            "linecolor": "white",
            "showbackground": true,
            "ticks": "",
            "zerolinecolor": "white"
           },
           "yaxis": {
            "backgroundcolor": "#E5ECF6",
            "gridcolor": "white",
            "gridwidth": 2,
            "linecolor": "white",
            "showbackground": true,
            "ticks": "",
            "zerolinecolor": "white"
           },
           "zaxis": {
            "backgroundcolor": "#E5ECF6",
            "gridcolor": "white",
            "gridwidth": 2,
            "linecolor": "white",
            "showbackground": true,
            "ticks": "",
            "zerolinecolor": "white"
           }
          },
          "shapedefaults": {
           "line": {
            "color": "#2a3f5f"
           }
          },
          "ternary": {
           "aaxis": {
            "gridcolor": "white",
            "linecolor": "white",
            "ticks": ""
           },
           "baxis": {
            "gridcolor": "white",
            "linecolor": "white",
            "ticks": ""
           },
           "bgcolor": "#E5ECF6",
           "caxis": {
            "gridcolor": "white",
            "linecolor": "white",
            "ticks": ""
           }
          },
          "title": {
           "x": 0.05
          },
          "xaxis": {
           "automargin": true,
           "gridcolor": "white",
           "linecolor": "white",
           "ticks": "",
           "title": {
            "standoff": 15
           },
           "zerolinecolor": "white",
           "zerolinewidth": 2
          },
          "yaxis": {
           "automargin": true,
           "gridcolor": "white",
           "linecolor": "white",
           "ticks": "",
           "title": {
            "standoff": 15
           },
           "zerolinecolor": "white",
           "zerolinewidth": 2
          }
         }
        },
        "xaxis": {
         "anchor": "y",
         "domain": [
          0,
          1
         ],
         "title": {
          "text": "klant_id"
         }
        },
        "yaxis": {
         "anchor": "x",
         "domain": [
          0,
          1
         ],
         "title": {
          "text": "count"
         }
        }
       }
      },
      "text/html": [
       "<div>\n",
       "        \n",
       "        \n",
       "            <div id=\"2263b7b5-ce6d-4abb-b664-0c7f2d51341d\" class=\"plotly-graph-div\" style=\"height:525px; width:100%;\"></div>\n",
       "            <script type=\"text/javascript\">\n",
       "                require([\"plotly\"], function(Plotly) {\n",
       "                    window.PLOTLYENV=window.PLOTLYENV || {};\n",
       "                    \n",
       "                if (document.getElementById(\"2263b7b5-ce6d-4abb-b664-0c7f2d51341d\")) {\n",
       "                    Plotly.newPlot(\n",
       "                        '2263b7b5-ce6d-4abb-b664-0c7f2d51341d',\n",
       "                        [{\"alignmentgroup\": \"True\", \"bingroup\": \"x\", \"hovertemplate\": \"klant_id=%{x}<br>count=%{y}<extra></extra>\", \"legendgroup\": \"\", \"marker\": {\"color\": \"#636efa\"}, \"name\": \"\", \"nbinsx\": 10, \"offsetgroup\": \"\", \"orientation\": \"v\", \"showlegend\": false, \"type\": \"histogram\", \"x\": [16, 15, 13, 21, 20, 4, 17, 8, 8, 7, 2, 4, 17, 15, 16, 22, 10, 3, 24, 4, 24, 4, 15, 9, 23, 13, 19, 13, 4, 19, 23, 6, 17, 10, 4, 17, 18, 6, 19, 5, 7, 3, 0, 23, 15, 16, 18, 10, 10, 14, 8, 6, 24, 8, 1, 19, 5, 14, 15, 9, 22, 24, 2, 15, 22, 21, 14, 20, 10, 17, 11, 13, 23, 17, 20, 23, 9, 23, 3, 10, 13, 22, 19, 13, 6, 12, 5, 17, 7, 13, 19, 22, 17, 16, 9, 12, 16, 17, 13, 21, 22, 19, 0, 2, 24, 19, 5, 1, 2, 16, 18, 2, 12, 6, 7, 20, 0, 21, 21, 13, 1, 23, 21, 23, 23, 22, 18, 3, 6, 3, 15, 13, 23, 21, 22, 16, 3, 5, 19, 20, 12, 8, 0, 1, 19, 16, 10, 18, 13, 23, 12, 23, 22, 21, 11, 17, 2, 11], \"xaxis\": \"x\", \"yaxis\": \"y\"}],\n",
       "                        {\"barmode\": \"relative\", \"legend\": {\"tracegroupgap\": 0}, \"margin\": {\"t\": 60}, \"template\": {\"data\": {\"bar\": [{\"error_x\": {\"color\": \"#2a3f5f\"}, \"error_y\": {\"color\": \"#2a3f5f\"}, \"marker\": {\"line\": {\"color\": \"#E5ECF6\", \"width\": 0.5}}, \"type\": \"bar\"}], \"barpolar\": [{\"marker\": {\"line\": {\"color\": \"#E5ECF6\", \"width\": 0.5}}, \"type\": \"barpolar\"}], \"carpet\": [{\"aaxis\": {\"endlinecolor\": \"#2a3f5f\", \"gridcolor\": \"white\", \"linecolor\": \"white\", \"minorgridcolor\": \"white\", \"startlinecolor\": \"#2a3f5f\"}, \"baxis\": {\"endlinecolor\": \"#2a3f5f\", \"gridcolor\": \"white\", \"linecolor\": \"white\", \"minorgridcolor\": \"white\", \"startlinecolor\": \"#2a3f5f\"}, \"type\": \"carpet\"}], \"choropleth\": [{\"colorbar\": {\"outlinewidth\": 0, \"ticks\": \"\"}, \"type\": \"choropleth\"}], \"contour\": [{\"colorbar\": {\"outlinewidth\": 0, \"ticks\": \"\"}, \"colorscale\": [[0.0, \"#0d0887\"], [0.1111111111111111, \"#46039f\"], [0.2222222222222222, \"#7201a8\"], [0.3333333333333333, \"#9c179e\"], [0.4444444444444444, \"#bd3786\"], [0.5555555555555556, \"#d8576b\"], [0.6666666666666666, \"#ed7953\"], [0.7777777777777778, \"#fb9f3a\"], [0.8888888888888888, \"#fdca26\"], [1.0, \"#f0f921\"]], \"type\": \"contour\"}], \"contourcarpet\": [{\"colorbar\": {\"outlinewidth\": 0, \"ticks\": \"\"}, \"type\": \"contourcarpet\"}], \"heatmap\": [{\"colorbar\": {\"outlinewidth\": 0, \"ticks\": \"\"}, \"colorscale\": [[0.0, \"#0d0887\"], [0.1111111111111111, \"#46039f\"], [0.2222222222222222, \"#7201a8\"], [0.3333333333333333, \"#9c179e\"], [0.4444444444444444, \"#bd3786\"], [0.5555555555555556, \"#d8576b\"], [0.6666666666666666, \"#ed7953\"], [0.7777777777777778, \"#fb9f3a\"], [0.8888888888888888, \"#fdca26\"], [1.0, \"#f0f921\"]], \"type\": \"heatmap\"}], \"heatmapgl\": [{\"colorbar\": {\"outlinewidth\": 0, \"ticks\": \"\"}, \"colorscale\": [[0.0, \"#0d0887\"], [0.1111111111111111, \"#46039f\"], [0.2222222222222222, \"#7201a8\"], [0.3333333333333333, \"#9c179e\"], [0.4444444444444444, \"#bd3786\"], [0.5555555555555556, \"#d8576b\"], [0.6666666666666666, \"#ed7953\"], [0.7777777777777778, \"#fb9f3a\"], [0.8888888888888888, \"#fdca26\"], [1.0, \"#f0f921\"]], \"type\": \"heatmapgl\"}], \"histogram\": [{\"marker\": {\"colorbar\": {\"outlinewidth\": 0, \"ticks\": \"\"}}, \"type\": \"histogram\"}], \"histogram2d\": [{\"colorbar\": {\"outlinewidth\": 0, \"ticks\": \"\"}, \"colorscale\": [[0.0, \"#0d0887\"], [0.1111111111111111, \"#46039f\"], [0.2222222222222222, \"#7201a8\"], [0.3333333333333333, \"#9c179e\"], [0.4444444444444444, \"#bd3786\"], [0.5555555555555556, \"#d8576b\"], [0.6666666666666666, \"#ed7953\"], [0.7777777777777778, \"#fb9f3a\"], [0.8888888888888888, \"#fdca26\"], [1.0, \"#f0f921\"]], \"type\": \"histogram2d\"}], \"histogram2dcontour\": [{\"colorbar\": {\"outlinewidth\": 0, \"ticks\": \"\"}, \"colorscale\": [[0.0, \"#0d0887\"], [0.1111111111111111, \"#46039f\"], [0.2222222222222222, \"#7201a8\"], [0.3333333333333333, \"#9c179e\"], [0.4444444444444444, \"#bd3786\"], [0.5555555555555556, \"#d8576b\"], [0.6666666666666666, \"#ed7953\"], [0.7777777777777778, \"#fb9f3a\"], [0.8888888888888888, \"#fdca26\"], [1.0, \"#f0f921\"]], \"type\": \"histogram2dcontour\"}], \"mesh3d\": [{\"colorbar\": {\"outlinewidth\": 0, \"ticks\": \"\"}, \"type\": \"mesh3d\"}], \"parcoords\": [{\"line\": {\"colorbar\": {\"outlinewidth\": 0, \"ticks\": \"\"}}, \"type\": \"parcoords\"}], \"pie\": [{\"automargin\": true, \"type\": \"pie\"}], \"scatter\": [{\"marker\": {\"colorbar\": {\"outlinewidth\": 0, \"ticks\": \"\"}}, \"type\": \"scatter\"}], \"scatter3d\": [{\"line\": {\"colorbar\": {\"outlinewidth\": 0, \"ticks\": \"\"}}, \"marker\": {\"colorbar\": {\"outlinewidth\": 0, \"ticks\": \"\"}}, \"type\": \"scatter3d\"}], \"scattercarpet\": [{\"marker\": {\"colorbar\": {\"outlinewidth\": 0, \"ticks\": \"\"}}, \"type\": \"scattercarpet\"}], \"scattergeo\": [{\"marker\": {\"colorbar\": {\"outlinewidth\": 0, \"ticks\": \"\"}}, \"type\": \"scattergeo\"}], \"scattergl\": [{\"marker\": {\"colorbar\": {\"outlinewidth\": 0, \"ticks\": \"\"}}, \"type\": \"scattergl\"}], \"scattermapbox\": [{\"marker\": {\"colorbar\": {\"outlinewidth\": 0, \"ticks\": \"\"}}, \"type\": \"scattermapbox\"}], \"scatterpolar\": [{\"marker\": {\"colorbar\": {\"outlinewidth\": 0, \"ticks\": \"\"}}, \"type\": \"scatterpolar\"}], \"scatterpolargl\": [{\"marker\": {\"colorbar\": {\"outlinewidth\": 0, \"ticks\": \"\"}}, \"type\": \"scatterpolargl\"}], \"scatterternary\": [{\"marker\": {\"colorbar\": {\"outlinewidth\": 0, \"ticks\": \"\"}}, \"type\": \"scatterternary\"}], \"surface\": [{\"colorbar\": {\"outlinewidth\": 0, \"ticks\": \"\"}, \"colorscale\": [[0.0, \"#0d0887\"], [0.1111111111111111, \"#46039f\"], [0.2222222222222222, \"#7201a8\"], [0.3333333333333333, \"#9c179e\"], [0.4444444444444444, \"#bd3786\"], [0.5555555555555556, \"#d8576b\"], [0.6666666666666666, \"#ed7953\"], [0.7777777777777778, \"#fb9f3a\"], [0.8888888888888888, \"#fdca26\"], [1.0, \"#f0f921\"]], \"type\": \"surface\"}], \"table\": [{\"cells\": {\"fill\": {\"color\": \"#EBF0F8\"}, \"line\": {\"color\": \"white\"}}, \"header\": {\"fill\": {\"color\": \"#C8D4E3\"}, \"line\": {\"color\": \"white\"}}, \"type\": \"table\"}]}, \"layout\": {\"annotationdefaults\": {\"arrowcolor\": \"#2a3f5f\", \"arrowhead\": 0, \"arrowwidth\": 1}, \"coloraxis\": {\"colorbar\": {\"outlinewidth\": 0, \"ticks\": \"\"}}, \"colorscale\": {\"diverging\": [[0, \"#8e0152\"], [0.1, \"#c51b7d\"], [0.2, \"#de77ae\"], [0.3, \"#f1b6da\"], [0.4, \"#fde0ef\"], [0.5, \"#f7f7f7\"], [0.6, \"#e6f5d0\"], [0.7, \"#b8e186\"], [0.8, \"#7fbc41\"], [0.9, \"#4d9221\"], [1, \"#276419\"]], \"sequential\": [[0.0, \"#0d0887\"], [0.1111111111111111, \"#46039f\"], [0.2222222222222222, \"#7201a8\"], [0.3333333333333333, \"#9c179e\"], [0.4444444444444444, \"#bd3786\"], [0.5555555555555556, \"#d8576b\"], [0.6666666666666666, \"#ed7953\"], [0.7777777777777778, \"#fb9f3a\"], [0.8888888888888888, \"#fdca26\"], [1.0, \"#f0f921\"]], \"sequentialminus\": [[0.0, \"#0d0887\"], [0.1111111111111111, \"#46039f\"], [0.2222222222222222, \"#7201a8\"], [0.3333333333333333, \"#9c179e\"], [0.4444444444444444, \"#bd3786\"], [0.5555555555555556, \"#d8576b\"], [0.6666666666666666, \"#ed7953\"], [0.7777777777777778, \"#fb9f3a\"], [0.8888888888888888, \"#fdca26\"], [1.0, \"#f0f921\"]]}, \"colorway\": [\"#636efa\", \"#EF553B\", \"#00cc96\", \"#ab63fa\", \"#FFA15A\", \"#19d3f3\", \"#FF6692\", \"#B6E880\", \"#FF97FF\", \"#FECB52\"], \"font\": {\"color\": \"#2a3f5f\"}, \"geo\": {\"bgcolor\": \"white\", \"lakecolor\": \"white\", \"landcolor\": \"#E5ECF6\", \"showlakes\": true, \"showland\": true, \"subunitcolor\": \"white\"}, \"hoverlabel\": {\"align\": \"left\"}, \"hovermode\": \"closest\", \"mapbox\": {\"style\": \"light\"}, \"paper_bgcolor\": \"white\", \"plot_bgcolor\": \"#E5ECF6\", \"polar\": {\"angularaxis\": {\"gridcolor\": \"white\", \"linecolor\": \"white\", \"ticks\": \"\"}, \"bgcolor\": \"#E5ECF6\", \"radialaxis\": {\"gridcolor\": \"white\", \"linecolor\": \"white\", \"ticks\": \"\"}}, \"scene\": {\"xaxis\": {\"backgroundcolor\": \"#E5ECF6\", \"gridcolor\": \"white\", \"gridwidth\": 2, \"linecolor\": \"white\", \"showbackground\": true, \"ticks\": \"\", \"zerolinecolor\": \"white\"}, \"yaxis\": {\"backgroundcolor\": \"#E5ECF6\", \"gridcolor\": \"white\", \"gridwidth\": 2, \"linecolor\": \"white\", \"showbackground\": true, \"ticks\": \"\", \"zerolinecolor\": \"white\"}, \"zaxis\": {\"backgroundcolor\": \"#E5ECF6\", \"gridcolor\": \"white\", \"gridwidth\": 2, \"linecolor\": \"white\", \"showbackground\": true, \"ticks\": \"\", \"zerolinecolor\": \"white\"}}, \"shapedefaults\": {\"line\": {\"color\": \"#2a3f5f\"}}, \"ternary\": {\"aaxis\": {\"gridcolor\": \"white\", \"linecolor\": \"white\", \"ticks\": \"\"}, \"baxis\": {\"gridcolor\": \"white\", \"linecolor\": \"white\", \"ticks\": \"\"}, \"bgcolor\": \"#E5ECF6\", \"caxis\": {\"gridcolor\": \"white\", \"linecolor\": \"white\", \"ticks\": \"\"}}, \"title\": {\"x\": 0.05}, \"xaxis\": {\"automargin\": true, \"gridcolor\": \"white\", \"linecolor\": \"white\", \"ticks\": \"\", \"title\": {\"standoff\": 15}, \"zerolinecolor\": \"white\", \"zerolinewidth\": 2}, \"yaxis\": {\"automargin\": true, \"gridcolor\": \"white\", \"linecolor\": \"white\", \"ticks\": \"\", \"title\": {\"standoff\": 15}, \"zerolinecolor\": \"white\", \"zerolinewidth\": 2}}}, \"xaxis\": {\"anchor\": \"y\", \"domain\": [0.0, 1.0], \"title\": {\"text\": \"klant_id\"}}, \"yaxis\": {\"anchor\": \"x\", \"domain\": [0.0, 1.0], \"title\": {\"text\": \"count\"}}},\n",
       "                        {\"responsive\": true}\n",
       "                    ).then(function(){\n",
       "                            \n",
       "var gd = document.getElementById('2263b7b5-ce6d-4abb-b664-0c7f2d51341d');\n",
       "var x = new MutationObserver(function (mutations, observer) {{\n",
       "        var display = window.getComputedStyle(gd).display;\n",
       "        if (!display || display === 'none') {{\n",
       "            console.log([gd, 'removed!']);\n",
       "            Plotly.purge(gd);\n",
       "            observer.disconnect();\n",
       "        }}\n",
       "}});\n",
       "\n",
       "// Listen for the removal of the full notebook cells\n",
       "var notebookContainer = gd.closest('#notebook-container');\n",
       "if (notebookContainer) {{\n",
       "    x.observe(notebookContainer, {childList: true});\n",
       "}}\n",
       "\n",
       "// Listen for the clearing of the current output cell\n",
       "var outputEl = gd.closest('.output');\n",
       "if (outputEl) {{\n",
       "    x.observe(outputEl, {childList: true});\n",
       "}}\n",
       "\n",
       "                        })\n",
       "                };\n",
       "                });\n",
       "            </script>\n",
       "        </div>"
      ]
     },
     "metadata": {},
     "output_type": "display_data"
    }
   ],
   "source": [
    "if show_intermediate_results == True:\n",
    "#    verkoop_order_df.hist(column='klant_id', bins=10)\n",
    "    fig=px.histogram(verkoop_order_df, x='klant_id', nbins=10)\n",
    "    fig.show()"
   ]
  },
  {
   "cell_type": "code",
   "execution_count": 925,
   "metadata": {},
   "outputs": [
    {
     "data": {
      "image/png": "[encoded data removed]",
      "text/plain": [
       "<Figure size 432x288 with 1 Axes>"
      ]
     },
     "metadata": {
      "needs_background": "light"
     },
     "output_type": "display_data"
    }
   ],
   "source": [
    "verkoop_order_df['product_id'] = verkoop_order_df['verkoop_order_datum'].apply(lambda x: random.randint(0,3))\n",
    "\n",
    "\n",
    "if show_intermediate_results == True:\n",
    "    verkoop_order_df['product_id'].hist()"
   ]
  },
  {
   "cell_type": "code",
   "execution_count": 926,
   "metadata": {},
   "outputs": [
    {
     "name": "stdout",
     "output_type": "stream",
     "text": [
      "            product_id   product_naam revisie product_verkoop_prijs  \\\n",
      "product_id                                                            \n",
      "0                    0  Robot arm (S)       A                  [75]   \n",
      "1                    1  Robot arm (M)       A                  [78]   \n",
      "2                    2  Robot arm (L)       A                  [69]   \n",
      "3                    4  Robot arm (L)       B                  [69]   \n",
      "4                    3  Robot arm (S)       B                  [75]   \n",
      "\n",
      "           product_kost_prijs  \n",
      "product_id                     \n",
      "0                      [45.0]  \n",
      "1                      [46.8]  \n",
      "2                      [41.4]  \n",
      "3                      [58.4]  \n",
      "4                      [50.0]  \n"
     ]
    }
   ],
   "source": [
    "product_verkoop_prijs_S, product_verkoop_prijs_M, product_verkoop_prijs_L = random.randint(50, 80, size=(3,1))\n",
    "ratio_kp = 0.6\n",
    "\n",
    "product_data={\n",
    " 0:{'name':'Robot arm (S)',\n",
    "    'revisie':'A',\n",
    "    'kostprijs':product_verkoop_prijs_S,\n",
    "     'verkoopprijs':product_verkoop_prijs_S*ratio_kp},\n",
    " 1:{'name':'Robot arm (M)',\n",
    "    'revisie':'A',\n",
    "    'kostprijs':product_verkoop_prijs_M,\n",
    "     'verkoopprijs':product_verkoop_prijs_M*ratio_kp},\n",
    " 2:{'name':'Robot arm (L)',\n",
    "    'revisie':'A',\n",
    "    'kostprijs':product_verkoop_prijs_L,\n",
    "     'verkoopprijs':product_verkoop_prijs_L*ratio_kp},\n",
    " 4:{'name':'Robot arm (L)',                                 # 'product_id' without a bill of material, for example purpose\n",
    "    'revisie':'B',\n",
    "    'kostprijs':product_verkoop_prijs_L,\n",
    "     'verkoopprijs':product_verkoop_prijs_L*ratio_kp+17},\n",
    " 3:{'name':'Robot arm (S)',\n",
    "    'revisie':'B',\n",
    "    'kostprijs':product_verkoop_prijs_S,\n",
    "     'verkoopprijs':product_verkoop_prijs_S*ratio_kp+5}\n",
    "}\n",
    "\n",
    "\n",
    "product_df = pd.DataFrame.from_dict(product_data, orient='index').reset_index()\n",
    "product_df.columns = ['product_id','product_naam','revisie','product_verkoop_prijs','product_kost_prijs']\n",
    "\n",
    "\n",
    "product_df.index.rename('product_id', inplace=True)\n",
    "\n",
    "\n",
    "if show_intermediate_results == True:\n",
    "    \n",
    "    print(product_df.head(10) )"
   ]
  },
  {
   "cell_type": "code",
   "execution_count": 927,
   "metadata": {},
   "outputs": [
    {
     "name": "stdout",
     "output_type": "stream",
     "text": [
      "   onderdeel_id              onderdeel_naam  onderdeel_kostprijs  \\\n",
      "0             0                        Bout                0.002   \n",
      "1             1                        Moer                0.002   \n",
      "2             2                  Schakelaar                3.075   \n",
      "3             3            Sensor, controle                9.651   \n",
      "4             4           Afdek kap plastic                1.003   \n",
      "5             5                 Staal frame               16.432   \n",
      "6             6  Afdek kap recylced plastic                6.103   \n",
      "\n",
      "  onderdeel_type_beschrijving  \n",
      "0                  Mechanisch  \n",
      "1                  Mechanisch  \n",
      "2                  Electrisch  \n",
      "3                  Electrisch  \n",
      "4               Ruw Materiaal  \n",
      "5               Ruw Materiaal  \n",
      "6               Ruw Materiaal  \n"
     ]
    }
   ],
   "source": [
    "def onderdelen():\n",
    "    onderdeel_type=pd.DataFrame.from_dict({0:\"Ruw Materiaal\",\\\n",
    "                                           1:\"Mechanisch\",\\\n",
    "                                           2:\"Electrisch\"},\\\n",
    "                                         orient='index',\\\n",
    "                                         columns=['onderdeel_type_beschrijving'])\n",
    "    onderdeel_type.index.rename('onderdeel_type_id', inplace=True)\n",
    "    \n",
    "    onderdelen=pd.DataFrame()\n",
    "    columns=['onderdeel_id','onderdeel_naam','onderdeel_kostprijs','onderdeel_type']\n",
    "    data= [[0,\"Bout\",0.002,1],\n",
    "           [1,\"Moer\",0.002,1], \n",
    "           [2,\"Schakelaar\",3.075,2], \n",
    "           [3,\"Sensor, controle\",9.651,2], \n",
    "           [4,\"Afdek kap plastic\",1.003,0], \n",
    "           [5,\"Staal frame\",16.432,0],\n",
    "           [6,\"Afdek kap recylced plastic\",6.103,0], \n",
    "          ]\n",
    "    onderdelen=pd.DataFrame(data=data, columns=columns)\n",
    "    \n",
    "    onderdelen=onderdelen.join(onderdeel_type, on='onderdeel_type')\n",
    "    onderdelen.drop(columns=['onderdeel_type'], inplace=True)\n",
    "    \n",
    "    return onderdelen\n",
    "\n",
    "if show_intermediate_results == True:\n",
    "    print(onderdelen())"
   ]
  },
  {
   "cell_type": "code",
   "execution_count": 928,
   "metadata": {},
   "outputs": [
    {
     "data": {
      "text/html": [
       "<div>\n",
       "<style scoped>\n",
       "    .dataframe tbody tr th:only-of-type {\n",
       "        vertical-align: middle;\n",
       "    }\n",
       "\n",
       "    .dataframe tbody tr th {\n",
       "        vertical-align: top;\n",
       "    }\n",
       "\n",
       "    .dataframe thead th {\n",
       "        text-align: right;\n",
       "    }\n",
       "</style>\n",
       "<table border=\"1\" class=\"dataframe\">\n",
       "  <thead>\n",
       "    <tr style=\"text-align: right;\">\n",
       "      <th></th>\n",
       "      <th>onderdeel_id</th>\n",
       "      <th>onderdeel_naam</th>\n",
       "      <th>onderdeel_kostprijs</th>\n",
       "      <th>onderdeel_type_beschrijving</th>\n",
       "    </tr>\n",
       "  </thead>\n",
       "  <tbody>\n",
       "    <tr>\n",
       "      <td>0</td>\n",
       "      <td>0</td>\n",
       "      <td>Bout</td>\n",
       "      <td>0.002</td>\n",
       "      <td>Mechanisch</td>\n",
       "    </tr>\n",
       "    <tr>\n",
       "      <td>1</td>\n",
       "      <td>1</td>\n",
       "      <td>Moer</td>\n",
       "      <td>0.002</td>\n",
       "      <td>Mechanisch</td>\n",
       "    </tr>\n",
       "    <tr>\n",
       "      <td>2</td>\n",
       "      <td>2</td>\n",
       "      <td>Schakelaar</td>\n",
       "      <td>3.075</td>\n",
       "      <td>Electrisch</td>\n",
       "    </tr>\n",
       "    <tr>\n",
       "      <td>3</td>\n",
       "      <td>3</td>\n",
       "      <td>Sensor, controle</td>\n",
       "      <td>9.651</td>\n",
       "      <td>Electrisch</td>\n",
       "    </tr>\n",
       "    <tr>\n",
       "      <td>4</td>\n",
       "      <td>4</td>\n",
       "      <td>Afdek kap plastic</td>\n",
       "      <td>1.003</td>\n",
       "      <td>Ruw Materiaal</td>\n",
       "    </tr>\n",
       "    <tr>\n",
       "      <td>5</td>\n",
       "      <td>5</td>\n",
       "      <td>Staal frame</td>\n",
       "      <td>16.432</td>\n",
       "      <td>Ruw Materiaal</td>\n",
       "    </tr>\n",
       "    <tr>\n",
       "      <td>6</td>\n",
       "      <td>6</td>\n",
       "      <td>Afdek kap recylced plastic</td>\n",
       "      <td>6.103</td>\n",
       "      <td>Ruw Materiaal</td>\n",
       "    </tr>\n",
       "  </tbody>\n",
       "</table>\n",
       "</div>"
      ],
      "text/plain": [
       "   onderdeel_id              onderdeel_naam  onderdeel_kostprijs  \\\n",
       "0             0                        Bout                0.002   \n",
       "1             1                        Moer                0.002   \n",
       "2             2                  Schakelaar                3.075   \n",
       "3             3            Sensor, controle                9.651   \n",
       "4             4           Afdek kap plastic                1.003   \n",
       "5             5                 Staal frame               16.432   \n",
       "6             6  Afdek kap recylced plastic                6.103   \n",
       "\n",
       "  onderdeel_type_beschrijving  \n",
       "0                  Mechanisch  \n",
       "1                  Mechanisch  \n",
       "2                  Electrisch  \n",
       "3                  Electrisch  \n",
       "4               Ruw Materiaal  \n",
       "5               Ruw Materiaal  \n",
       "6               Ruw Materiaal  "
      ]
     },
     "execution_count": 928,
     "metadata": {},
     "output_type": "execute_result"
    }
   ],
   "source": [
    "onderdelen_df=onderdelen()\n",
    "onderdelen_df"
   ]
  },
  {
   "cell_type": "code",
   "execution_count": null,
   "metadata": {},
   "outputs": [],
   "source": []
  },
  {
   "cell_type": "code",
   "execution_count": 929,
   "metadata": {},
   "outputs": [
    {
     "name": "stdout",
     "output_type": "stream",
     "text": [
      "    product_id product_revisie  BOM_lijn  BOM_hoeveelheid BOM_eenheid  \\\n",
      "0          0.0               A       0.0              2.0       stuks   \n",
      "1          0.0               A       1.0              2.0       stuks   \n",
      "2          0.0               A       2.0              1.0       stuks   \n",
      "3          0.0               A       4.0              4.0       stuks   \n",
      "4          0.0               A       5.0              1.0       stuks   \n",
      "5          1.0               A       0.0              2.0       stuks   \n",
      "6          1.0               A       1.0              2.0       stuks   \n",
      "7          1.0               A       2.0              1.0       stuks   \n",
      "8          1.0               A       3.0              1.0       stuks   \n",
      "9          1.0               A       4.0              4.0       stuks   \n",
      "10         1.0               A       5.0              1.0       stuks   \n",
      "11         2.0               A       0.0              2.0       stuks   \n",
      "12         2.0               A       1.0              2.0       stuks   \n",
      "13         2.0               A       2.0              1.0       stuks   \n",
      "14         2.0               A       3.0              4.0       stuks   \n",
      "15         2.0               A       4.0             12.0       stuks   \n",
      "16         2.0               A       5.0              2.0       stuks   \n",
      "17         3.0               B       0.0              2.0       stuks   \n",
      "18         3.0               B       1.0              2.0       stuks   \n",
      "19         3.0               B       2.0              1.0       stuks   \n",
      "20         3.0               B       3.0              1.0       stuks   \n",
      "21         3.0               B       4.0              4.0       stuks   \n",
      "22         3.0               B       5.0              1.0       stuks   \n",
      "23         4.0             NaN       NaN              NaN         NaN   \n",
      "\n",
      "    BOM_onderdeel_id_kind  \n",
      "0                     0.0  \n",
      "1                     1.0  \n",
      "2                     2.0  \n",
      "3                     4.0  \n",
      "4                     5.0  \n",
      "5                     0.0  \n",
      "6                     1.0  \n",
      "7                     2.0  \n",
      "8                     3.0  \n",
      "9                     4.0  \n",
      "10                    5.0  \n",
      "11                    0.0  \n",
      "12                    1.0  \n",
      "13                    2.0  \n",
      "14                    3.0  \n",
      "15                    4.0  \n",
      "16                    5.0  \n",
      "17                    0.0  \n",
      "18                    1.0  \n",
      "19                    2.0  \n",
      "20                    3.0  \n",
      "21                    6.0  \n",
      "22                    5.0  \n",
      "23                    NaN  \n"
     ]
    }
   ],
   "source": [
    "def bill_of_materials(product_df):\n",
    "    BOM=pd.DataFrame()\n",
    "    columns=['product_id','product_revisie','BOM_lijn','BOM_hoeveelheid','BOM_eenheid','BOM_onderdeel_id_kind']\n",
    "\n",
    "    data=[[0,'A', 0, 2, 'stuks', 0],\n",
    "          [0,'A', 1, 2, 'stuks', 1],\n",
    "          [0,'A', 2, 1, 'stuks', 2],\n",
    "         # [0,'A', 3, 1, 'stuks', 3],   # Removed with intention \n",
    "          [0,'A', 4, 4, 'stuks', 4],\n",
    "          [0,'A', 5, 1, 'stuks', 5],\n",
    "\n",
    "          [1,'A', 0, 2, 'stuks', 0],\n",
    "          [1,'A', 1, 2, 'stuks', 1],\n",
    "          [1,'A', 2, 1, 'stuks', 2],\n",
    "          [1,'A', 3, 1, 'stuks', 3],\n",
    "          [1,'A', 4, 4, 'stuks', 4],\n",
    "          [1,'A', 5, 1, 'stuks', 5], \n",
    "         \n",
    "          [2,'A', 0, 2, 'stuks', 0],\n",
    "          [2,'A', 1, 2, 'stuks', 1],\n",
    "          [2,'A', 2, 1, 'stuks', 2],\n",
    "          [2,'A', 3, 4, 'stuks', 3],\n",
    "          [2,'A', 4, 12, 'stuks', 4],\n",
    "          [2,'A', 5, 2, 'stuks', 5],\n",
    "         \n",
    "          [3,'B', 0, 2, 'stuks', 0],  # Updated revision on same product as product_id = 0\n",
    "          [3,'B', 1, 2, 'stuks', 1],\n",
    "          [3,'B', 2, 1, 'stuks', 2],\n",
    "          [3,'B', 3, 1, 'stuks', 3],  # BOM_lijn #3 added     \n",
    "          [3,'B', 4, 4, 'stuks', 6],  # Replaced with onderdeel #6 Afdek kap recylced plastic\n",
    "          [3,'B', 5, 1, 'stuks', 5]]\n",
    "    \n",
    "    BOM=pd.DataFrame(data=data, columns=columns)\n",
    "    BOM.index.rename('BOM_id', inplace=True)\n",
    "    \n",
    "    # Just create an empty 'BOM_id' if a product_id is given\n",
    "    products=list(product_df.index)\n",
    "    for val in products:\n",
    "        if val not in BOM['product_id'].unique():\n",
    "            BOM=BOM.append(dict(zip(columns,[val,None,nan,nan,None,nan])),ignore_index=True)\n",
    "    \n",
    "    return BOM\n",
    "\n",
    "\n",
    "if show_intermediate_results == True:\n",
    "    print(bill_of_materials(product_df))"
   ]
  },
  {
   "cell_type": "code",
   "execution_count": 930,
   "metadata": {},
   "outputs": [],
   "source": [
    "BOM_df=bill_of_materials(product_df)"
   ]
  },
  {
   "cell_type": "code",
   "execution_count": 931,
   "metadata": {},
   "outputs": [
    {
     "name": "stdout",
     "output_type": "stream",
     "text": [
      "2019-01-03 \t:  2 \tRev :   A \n",
      "\n",
      "2019-04-03 \t:  0 \tRev :   A \n",
      "\n",
      "2019-07-03 \t:  1 \tRev :   A \n",
      "\n",
      "2019-08-03 \t:  3 \tRev :   B \n",
      "\n",
      "2019-09-03 \t:  4 \tRev :   B \n",
      "\n",
      "2019-10-03 \t:  1 \tRev :   A \n",
      "\n"
     ]
    }
   ],
   "source": [
    "def verkoop_order_product_map(verkoop_order_datum, product_df, year=year): #, glob_random_state=glob_random_state):\n",
    "    product_df=product_df[['product_id', 'product_naam', 'revisie']]\n",
    "    \n",
    "    # find the minimum revision per product_naam\n",
    "    idx = product_df.groupby(['product_naam'])['revisie'].transform(min) == product_df['revisie']\n",
    "    prod_df_rev_min=product_df[idx].copy()\n",
    "    \n",
    "    # and the max/highest revision\n",
    "    idx = product_df.groupby(['product_naam'])['revisie'].transform(max) == product_df['revisie']\n",
    "    prod_df_rev_max=product_df[idx].copy()\n",
    "\n",
    "    \n",
    "    if verkoop_order_datum < year+'-08-01':\n",
    "        verkocht_product_id=prod_df_rev_min.sample(1) #, random_state=glob_random_state)\n",
    "    else: \n",
    "        verkocht_product_id=prod_df_rev_max.sample(1)\n",
    "\n",
    "   \n",
    "    return int(verkocht_product_id['product_id'])\n",
    "\n",
    "if show_intermediate_results == True:\n",
    "    for verkoop_order_datum in ['2019-01-03','2019-04-03','2019-07-03','2019-08-03','2019-09-03','2019-10-03']:\n",
    "        prod=verkoop_order_product_map(verkoop_order_datum, product_df, year)\n",
    "        print(verkoop_order_datum,'\\t: ',prod,'\\tRev :  ',product_df.iloc[prod]['revisie'],'\\n')"
   ]
  },
  {
   "cell_type": "code",
   "execution_count": 932,
   "metadata": {},
   "outputs": [
    {
     "data": {
      "text/html": [
       "<div>\n",
       "<style scoped>\n",
       "    .dataframe tbody tr th:only-of-type {\n",
       "        vertical-align: middle;\n",
       "    }\n",
       "\n",
       "    .dataframe tbody tr th {\n",
       "        vertical-align: top;\n",
       "    }\n",
       "\n",
       "    .dataframe thead th {\n",
       "        text-align: right;\n",
       "    }\n",
       "</style>\n",
       "<table border=\"1\" class=\"dataframe\">\n",
       "  <thead>\n",
       "    <tr style=\"text-align: right;\">\n",
       "      <th></th>\n",
       "      <th>klant_id</th>\n",
       "      <th>verkoop_order_datum</th>\n",
       "      <th>product_id</th>\n",
       "      <th>verkocht_product_id</th>\n",
       "      <th>verkocht_product_aantal</th>\n",
       "    </tr>\n",
       "    <tr>\n",
       "      <th>verkoop_order_id</th>\n",
       "      <th></th>\n",
       "      <th></th>\n",
       "      <th></th>\n",
       "      <th></th>\n",
       "      <th></th>\n",
       "    </tr>\n",
       "  </thead>\n",
       "  <tbody>\n",
       "    <tr>\n",
       "      <td>0</td>\n",
       "      <td>16</td>\n",
       "      <td>2019-01-02</td>\n",
       "      <td>0</td>\n",
       "      <td>3</td>\n",
       "      <td>1</td>\n",
       "    </tr>\n",
       "    <tr>\n",
       "      <td>1</td>\n",
       "      <td>15</td>\n",
       "      <td>2019-01-02</td>\n",
       "      <td>2</td>\n",
       "      <td>1</td>\n",
       "      <td>1</td>\n",
       "    </tr>\n",
       "    <tr>\n",
       "      <td>2</td>\n",
       "      <td>13</td>\n",
       "      <td>2019-01-03</td>\n",
       "      <td>2</td>\n",
       "      <td>1</td>\n",
       "      <td>1</td>\n",
       "    </tr>\n",
       "    <tr>\n",
       "      <td>3</td>\n",
       "      <td>21</td>\n",
       "      <td>2019-01-07</td>\n",
       "      <td>0</td>\n",
       "      <td>4</td>\n",
       "      <td>1</td>\n",
       "    </tr>\n",
       "    <tr>\n",
       "      <td>4</td>\n",
       "      <td>20</td>\n",
       "      <td>2019-01-08</td>\n",
       "      <td>0</td>\n",
       "      <td>3</td>\n",
       "      <td>1</td>\n",
       "    </tr>\n",
       "    <tr>\n",
       "      <td>...</td>\n",
       "      <td>...</td>\n",
       "      <td>...</td>\n",
       "      <td>...</td>\n",
       "      <td>...</td>\n",
       "      <td>...</td>\n",
       "    </tr>\n",
       "    <tr>\n",
       "      <td>153</td>\n",
       "      <td>21</td>\n",
       "      <td>2019-12-18</td>\n",
       "      <td>0</td>\n",
       "      <td>3</td>\n",
       "      <td>1</td>\n",
       "    </tr>\n",
       "    <tr>\n",
       "      <td>154</td>\n",
       "      <td>11</td>\n",
       "      <td>2019-12-20</td>\n",
       "      <td>1</td>\n",
       "      <td>3</td>\n",
       "      <td>1</td>\n",
       "    </tr>\n",
       "    <tr>\n",
       "      <td>155</td>\n",
       "      <td>17</td>\n",
       "      <td>2019-12-24</td>\n",
       "      <td>0</td>\n",
       "      <td>3</td>\n",
       "      <td>1</td>\n",
       "    </tr>\n",
       "    <tr>\n",
       "      <td>156</td>\n",
       "      <td>2</td>\n",
       "      <td>2019-12-26</td>\n",
       "      <td>0</td>\n",
       "      <td>3</td>\n",
       "      <td>1</td>\n",
       "    </tr>\n",
       "    <tr>\n",
       "      <td>157</td>\n",
       "      <td>11</td>\n",
       "      <td>2019-12-31</td>\n",
       "      <td>0</td>\n",
       "      <td>3</td>\n",
       "      <td>1</td>\n",
       "    </tr>\n",
       "  </tbody>\n",
       "</table>\n",
       "<p>158 rows × 5 columns</p>\n",
       "</div>"
      ],
      "text/plain": [
       "                  klant_id verkoop_order_datum  product_id  \\\n",
       "verkoop_order_id                                             \n",
       "0                       16          2019-01-02           0   \n",
       "1                       15          2019-01-02           2   \n",
       "2                       13          2019-01-03           2   \n",
       "3                       21          2019-01-07           0   \n",
       "4                       20          2019-01-08           0   \n",
       "...                    ...                 ...         ...   \n",
       "153                     21          2019-12-18           0   \n",
       "154                     11          2019-12-20           1   \n",
       "155                     17          2019-12-24           0   \n",
       "156                      2          2019-12-26           0   \n",
       "157                     11          2019-12-31           0   \n",
       "\n",
       "                  verkocht_product_id  verkocht_product_aantal  \n",
       "verkoop_order_id                                                \n",
       "0                                   3                        1  \n",
       "1                                   1                        1  \n",
       "2                                   1                        1  \n",
       "3                                   4                        1  \n",
       "4                                   3                        1  \n",
       "...                               ...                      ...  \n",
       "153                                 3                        1  \n",
       "154                                 3                        1  \n",
       "155                                 3                        1  \n",
       "156                                 3                        1  \n",
       "157                                 3                        1  \n",
       "\n",
       "[158 rows x 5 columns]"
      ]
     },
     "execution_count": 932,
     "metadata": {},
     "output_type": "execute_result"
    }
   ],
   "source": [
    "verkoop_order_df['verkocht_product_id'] = verkoop_order_df['verkoop_order_datum'].apply(\\\n",
    "                                                        lambda x: verkoop_order_product_map(verkoop_order_datum,\\\n",
    "                                                                                            product_df, year=year))\n",
    "verkoop_order_df['verkocht_product_aantal'] = 1\n",
    "\n",
    "if show_intermediate_results == True:\n",
    "    print(verkoop_order_df)"
   ]
  },
  {
   "cell_type": "code",
   "execution_count": null,
   "metadata": {},
   "outputs": [],
   "source": []
  },
  {
   "cell_type": "code",
   "execution_count": 933,
   "metadata": {},
   "outputs": [
    {
     "name": "stdout",
     "output_type": "stream",
     "text": [
      "            machine_id machine_type\n",
      "machine_id                         \n",
      "0                    0         boor\n",
      "1                    1        frees\n",
      "2                    2         buig\n",
      "3                    3          CNC\n",
      "4                    4         snij\n",
      "5                    5         boor\n",
      "6                    6        stans\n",
      "7                    7          CNC\n",
      "8                    8         snij\n",
      "9                    9          CNC\n"
     ]
    }
   ],
   "source": [
    "machine_data ={\n",
    "    0:{'machine_type':'boor'},\n",
    "    1:{'machine_type':'frees'},\n",
    "    2:{'machine_type':'buig'},\n",
    "    3:{'machine_type':'CNC'},\n",
    "    4:{'machine_type':'snij'},\n",
    "    5:{'machine_type':'boor'},\n",
    "    6:{'machine_type':'stans'},\n",
    "    7:{'machine_type':'CNC'},\n",
    "    8:{'machine_type':'snij'},\n",
    "    9:{'machine_type':'CNC'},\n",
    "    10:{'machine_type':'CNC'},\n",
    "    11:{'machine_type':'CNC'},\n",
    "    12:{'machine_type':'boor'}    \n",
    "    }\n",
    "machine_df = pd.DataFrame.from_dict(machine_data, orient='index').reset_index()\n",
    "machine_df.columns = ['machine_id','machine_type']\n",
    "\n",
    "\n",
    "machine_df.index.rename('machine_id', inplace=True)\n",
    "\n",
    "\n",
    "if show_intermediate_results == True:\n",
    "    \n",
    "    print(machine_df.head(10) )"
   ]
  },
  {
   "cell_type": "code",
   "execution_count": 939,
   "metadata": {},
   "outputs": [
    {
     "data": {
      "text/plain": [
       "'2019-01-16'"
      ]
     },
     "execution_count": 939,
     "metadata": {},
     "output_type": "execute_result"
    }
   ],
   "source": [
    "werkorder_df.verkoop_order_datum[10]"
   ]
  },
  {
   "cell_type": "code",
   "execution_count": null,
   "metadata": {},
   "outputs": [],
   "source": []
  },
  {
   "cell_type": "code",
   "execution_count": null,
   "metadata": {},
   "outputs": [],
   "source": []
  },
  {
   "cell_type": "code",
   "execution_count": null,
   "metadata": {},
   "outputs": [],
   "source": []
  },
  {
   "cell_type": "code",
   "execution_count": 934,
   "metadata": {},
   "outputs": [
    {
     "ename": "TypeError",
     "evalue": "can only concatenate str (not \"datetime.timedelta\") to str",
     "output_type": "error",
     "traceback": [
      "\u001b[1;31m---------------------------------------------------------------------------\u001b[0m",
      "\u001b[1;31mTypeError\u001b[0m                                 Traceback (most recent call last)",
      "\u001b[1;32m<ipython-input-934-01592a9ba9c4>\u001b[0m in \u001b[0;36m<module>\u001b[1;34m\u001b[0m\n\u001b[0;32m      3\u001b[0m \u001b[0mwerkorder_df\u001b[0m\u001b[1;33m.\u001b[0m\u001b[0mreset_index\u001b[0m\u001b[1;33m(\u001b[0m\u001b[0minplace\u001b[0m \u001b[1;33m=\u001b[0m \u001b[1;32mTrue\u001b[0m\u001b[1;33m)\u001b[0m\u001b[1;33m\u001b[0m\u001b[1;33m\u001b[0m\u001b[0m\n\u001b[0;32m      4\u001b[0m \u001b[0mwerkorder_df\u001b[0m\u001b[1;33m.\u001b[0m\u001b[0mindex\u001b[0m\u001b[1;33m.\u001b[0m\u001b[0mrename\u001b[0m\u001b[1;33m(\u001b[0m\u001b[1;34m'werkorder_id'\u001b[0m\u001b[1;33m,\u001b[0m \u001b[0minplace\u001b[0m\u001b[1;33m=\u001b[0m\u001b[1;32mTrue\u001b[0m\u001b[1;33m)\u001b[0m\u001b[1;33m\u001b[0m\u001b[1;33m\u001b[0m\u001b[0m\n\u001b[1;32m----> 5\u001b[1;33m \u001b[0mwerkorder_df\u001b[0m\u001b[1;33m[\u001b[0m\u001b[1;34m'werkorder_start_datum'\u001b[0m\u001b[1;33m]\u001b[0m \u001b[1;33m=\u001b[0m \u001b[0mwerkorder_df\u001b[0m\u001b[1;33m[\u001b[0m\u001b[1;34m'verkoop_order_datum'\u001b[0m\u001b[1;33m]\u001b[0m\u001b[1;33m.\u001b[0m\u001b[0mapply\u001b[0m\u001b[1;33m(\u001b[0m\u001b[1;32mlambda\u001b[0m \u001b[0mx\u001b[0m\u001b[1;33m:\u001b[0m \u001b[0mx\u001b[0m\u001b[1;33m+\u001b[0m\u001b[0mtimedelta\u001b[0m\u001b[1;33m(\u001b[0m\u001b[0mdays\u001b[0m\u001b[1;33m=\u001b[0m\u001b[0mrandom\u001b[0m\u001b[1;33m.\u001b[0m\u001b[0mrandint\u001b[0m\u001b[1;33m(\u001b[0m\u001b[1;36m0\u001b[0m\u001b[1;33m,\u001b[0m\u001b[1;36m2\u001b[0m\u001b[1;33m)\u001b[0m\u001b[1;33m)\u001b[0m\u001b[1;33m)\u001b[0m\u001b[1;33m\u001b[0m\u001b[1;33m\u001b[0m\u001b[0m\n\u001b[0m\u001b[0;32m      6\u001b[0m \u001b[0mwerkorder_df\u001b[0m\u001b[1;33m[\u001b[0m\u001b[1;34m'werkorder_eind_datum'\u001b[0m\u001b[1;33m]\u001b[0m \u001b[1;33m=\u001b[0m \u001b[0mwerkorder_df\u001b[0m\u001b[1;33m[\u001b[0m\u001b[1;34m'verkoop_order_datum'\u001b[0m\u001b[1;33m]\u001b[0m\u001b[1;33m.\u001b[0m\u001b[0mapply\u001b[0m\u001b[1;33m(\u001b[0m\u001b[1;32mlambda\u001b[0m \u001b[0mx\u001b[0m\u001b[1;33m:\u001b[0m \u001b[0mx\u001b[0m\u001b[1;33m+\u001b[0m\u001b[0mtimedelta\u001b[0m\u001b[1;33m(\u001b[0m\u001b[0mdays\u001b[0m\u001b[1;33m=\u001b[0m\u001b[0mrandom\u001b[0m\u001b[1;33m.\u001b[0m\u001b[0mrandint\u001b[0m\u001b[1;33m(\u001b[0m\u001b[1;36m3\u001b[0m\u001b[1;33m,\u001b[0m\u001b[1;36m10\u001b[0m\u001b[1;33m)\u001b[0m\u001b[1;33m)\u001b[0m\u001b[1;33m)\u001b[0m\u001b[1;33m\u001b[0m\u001b[1;33m\u001b[0m\u001b[0m\n\u001b[0;32m      7\u001b[0m \u001b[1;33m\u001b[0m\u001b[0m\n",
      "\u001b[1;32mC:\\ProgramData\\Anaconda3\\lib\\site-packages\\pandas\\core\\series.py\u001b[0m in \u001b[0;36mapply\u001b[1;34m(self, func, convert_dtype, args, **kwds)\u001b[0m\n\u001b[0;32m   4040\u001b[0m             \u001b[1;32melse\u001b[0m\u001b[1;33m:\u001b[0m\u001b[1;33m\u001b[0m\u001b[1;33m\u001b[0m\u001b[0m\n\u001b[0;32m   4041\u001b[0m                 \u001b[0mvalues\u001b[0m \u001b[1;33m=\u001b[0m \u001b[0mself\u001b[0m\u001b[1;33m.\u001b[0m\u001b[0mastype\u001b[0m\u001b[1;33m(\u001b[0m\u001b[0mobject\u001b[0m\u001b[1;33m)\u001b[0m\u001b[1;33m.\u001b[0m\u001b[0mvalues\u001b[0m\u001b[1;33m\u001b[0m\u001b[1;33m\u001b[0m\u001b[0m\n\u001b[1;32m-> 4042\u001b[1;33m                 \u001b[0mmapped\u001b[0m \u001b[1;33m=\u001b[0m \u001b[0mlib\u001b[0m\u001b[1;33m.\u001b[0m\u001b[0mmap_infer\u001b[0m\u001b[1;33m(\u001b[0m\u001b[0mvalues\u001b[0m\u001b[1;33m,\u001b[0m \u001b[0mf\u001b[0m\u001b[1;33m,\u001b[0m \u001b[0mconvert\u001b[0m\u001b[1;33m=\u001b[0m\u001b[0mconvert_dtype\u001b[0m\u001b[1;33m)\u001b[0m\u001b[1;33m\u001b[0m\u001b[1;33m\u001b[0m\u001b[0m\n\u001b[0m\u001b[0;32m   4043\u001b[0m \u001b[1;33m\u001b[0m\u001b[0m\n\u001b[0;32m   4044\u001b[0m         \u001b[1;32mif\u001b[0m \u001b[0mlen\u001b[0m\u001b[1;33m(\u001b[0m\u001b[0mmapped\u001b[0m\u001b[1;33m)\u001b[0m \u001b[1;32mand\u001b[0m \u001b[0misinstance\u001b[0m\u001b[1;33m(\u001b[0m\u001b[0mmapped\u001b[0m\u001b[1;33m[\u001b[0m\u001b[1;36m0\u001b[0m\u001b[1;33m]\u001b[0m\u001b[1;33m,\u001b[0m \u001b[0mSeries\u001b[0m\u001b[1;33m)\u001b[0m\u001b[1;33m:\u001b[0m\u001b[1;33m\u001b[0m\u001b[1;33m\u001b[0m\u001b[0m\n",
      "\u001b[1;32mpandas\\_libs\\lib.pyx\u001b[0m in \u001b[0;36mpandas._libs.lib.map_infer\u001b[1;34m()\u001b[0m\n",
      "\u001b[1;32m<ipython-input-934-01592a9ba9c4>\u001b[0m in \u001b[0;36m<lambda>\u001b[1;34m(x)\u001b[0m\n\u001b[0;32m      3\u001b[0m \u001b[0mwerkorder_df\u001b[0m\u001b[1;33m.\u001b[0m\u001b[0mreset_index\u001b[0m\u001b[1;33m(\u001b[0m\u001b[0minplace\u001b[0m \u001b[1;33m=\u001b[0m \u001b[1;32mTrue\u001b[0m\u001b[1;33m)\u001b[0m\u001b[1;33m\u001b[0m\u001b[1;33m\u001b[0m\u001b[0m\n\u001b[0;32m      4\u001b[0m \u001b[0mwerkorder_df\u001b[0m\u001b[1;33m.\u001b[0m\u001b[0mindex\u001b[0m\u001b[1;33m.\u001b[0m\u001b[0mrename\u001b[0m\u001b[1;33m(\u001b[0m\u001b[1;34m'werkorder_id'\u001b[0m\u001b[1;33m,\u001b[0m \u001b[0minplace\u001b[0m\u001b[1;33m=\u001b[0m\u001b[1;32mTrue\u001b[0m\u001b[1;33m)\u001b[0m\u001b[1;33m\u001b[0m\u001b[1;33m\u001b[0m\u001b[0m\n\u001b[1;32m----> 5\u001b[1;33m \u001b[0mwerkorder_df\u001b[0m\u001b[1;33m[\u001b[0m\u001b[1;34m'werkorder_start_datum'\u001b[0m\u001b[1;33m]\u001b[0m \u001b[1;33m=\u001b[0m \u001b[0mwerkorder_df\u001b[0m\u001b[1;33m[\u001b[0m\u001b[1;34m'verkoop_order_datum'\u001b[0m\u001b[1;33m]\u001b[0m\u001b[1;33m.\u001b[0m\u001b[0mapply\u001b[0m\u001b[1;33m(\u001b[0m\u001b[1;32mlambda\u001b[0m \u001b[0mx\u001b[0m\u001b[1;33m:\u001b[0m \u001b[0mx\u001b[0m\u001b[1;33m+\u001b[0m\u001b[0mtimedelta\u001b[0m\u001b[1;33m(\u001b[0m\u001b[0mdays\u001b[0m\u001b[1;33m=\u001b[0m\u001b[0mrandom\u001b[0m\u001b[1;33m.\u001b[0m\u001b[0mrandint\u001b[0m\u001b[1;33m(\u001b[0m\u001b[1;36m0\u001b[0m\u001b[1;33m,\u001b[0m\u001b[1;36m2\u001b[0m\u001b[1;33m)\u001b[0m\u001b[1;33m)\u001b[0m\u001b[1;33m)\u001b[0m\u001b[1;33m\u001b[0m\u001b[1;33m\u001b[0m\u001b[0m\n\u001b[0m\u001b[0;32m      6\u001b[0m \u001b[0mwerkorder_df\u001b[0m\u001b[1;33m[\u001b[0m\u001b[1;34m'werkorder_eind_datum'\u001b[0m\u001b[1;33m]\u001b[0m \u001b[1;33m=\u001b[0m \u001b[0mwerkorder_df\u001b[0m\u001b[1;33m[\u001b[0m\u001b[1;34m'verkoop_order_datum'\u001b[0m\u001b[1;33m]\u001b[0m\u001b[1;33m.\u001b[0m\u001b[0mapply\u001b[0m\u001b[1;33m(\u001b[0m\u001b[1;32mlambda\u001b[0m \u001b[0mx\u001b[0m\u001b[1;33m:\u001b[0m \u001b[0mx\u001b[0m\u001b[1;33m+\u001b[0m\u001b[0mtimedelta\u001b[0m\u001b[1;33m(\u001b[0m\u001b[0mdays\u001b[0m\u001b[1;33m=\u001b[0m\u001b[0mrandom\u001b[0m\u001b[1;33m.\u001b[0m\u001b[0mrandint\u001b[0m\u001b[1;33m(\u001b[0m\u001b[1;36m3\u001b[0m\u001b[1;33m,\u001b[0m\u001b[1;36m10\u001b[0m\u001b[1;33m)\u001b[0m\u001b[1;33m)\u001b[0m\u001b[1;33m)\u001b[0m\u001b[1;33m\u001b[0m\u001b[1;33m\u001b[0m\u001b[0m\n\u001b[0;32m      7\u001b[0m \u001b[1;33m\u001b[0m\u001b[0m\n",
      "\u001b[1;31mTypeError\u001b[0m: can only concatenate str (not \"datetime.timedelta\") to str"
     ]
    }
   ],
   "source": [
    "# werkorder_df = pd.DataFrame(data=(random.randint(0,25, size=(n_verkoop_order_df, 2))), columns=['klant_id','verkoop_order_datum'])\n",
    "werkorder_df = verkoop_order_df.copy()\n",
    "werkorder_df.reset_index(inplace = True)\n",
    "werkorder_df.index.rename('werkorder_id', inplace=True)\n",
    "werkorder_df['werkorder_start_datum'] = werkorder_df['verkoop_order_datum'].apply(lambda x: x+timedelta(days=random.randint(0,2)))\n",
    "werkorder_df['werkorder_eind_datum'] = werkorder_df['verkoop_order_datum'].apply(lambda x: x+timedelta(days=random.randint(3,10)))\n",
    "\n",
    "\n",
    "werkorder_df.drop(['klant_id','verkoop_order_datum'], axis=1, inplace=True)\n",
    "\n",
    "if show_intermediate_results == True:\n",
    "    print('n_werkorder_df : {}\\n'.format(len(werkorder_df)))\n",
    "    print(werkorder_df.head(10))"
   ]
  },
  {
   "cell_type": "code",
   "execution_count": null,
   "metadata": {},
   "outputs": [],
   "source": []
  },
  {
   "cell_type": "code",
   "execution_count": null,
   "metadata": {},
   "outputs": [],
   "source": []
  },
  {
   "cell_type": "code",
   "execution_count": null,
   "metadata": {},
   "outputs": [],
   "source": [
    "# Map products with a randaom amount of machines using both dataframes\n",
    "\n",
    "def product_machines_map(product_df, machine_df):\n",
    "    dictionary={}\n",
    "    inner_dict={}\n",
    "    machine_types=machine_df.machine_type.unique()\n",
    "    machine_types=list(machine_types)[::-1]\n",
    "    machine_types=['stans', 'snij', 'buig', 'frees', 'CNC', 'boor']\n",
    "    print('\\nHard code machine types and order: {}\\n'.format(machine_types))\n",
    "    product_ids=list(product_df.product_id.unique())\n",
    "    step=0\n",
    "    \n",
    "    for prod_id in product_ids:\n",
    "        low=random.randint(0,2)\n",
    "        high=random.randint(3,6)\n",
    " #       print(high)\n",
    "        for step in range(low,high):\n",
    "            inner_dict[step]=machine_types[step]\n",
    "            \n",
    "        dictionary[prod_id]=inner_dict\n",
    "        inner_dict={}\n",
    "    \n",
    "    return dictionary\n",
    "\n",
    "if show_intermediate_results == True:\n",
    "    print(product_machines_map(product_df, machine_df))"
   ]
  },
  {
   "cell_type": "raw",
   "metadata": {},
   "source": [
    "# Reverse list order\n",
    "list(machine_df.machine_type.unique())[::-1]"
   ]
  },
  {
   "cell_type": "code",
   "execution_count": null,
   "metadata": {},
   "outputs": [],
   "source": [
    "def zipper(l1, l2):\n",
    "    return [list(l) for l in zip(l1, l2)]"
   ]
  },
  {
   "cell_type": "code",
   "execution_count": null,
   "metadata": {},
   "outputs": [],
   "source": [
    "def pick_random_machine(machine_type, machine_df):\n",
    "    machine_id=0\n",
    "    \n",
    "    rand_pick=machine_df[machine_df['machine_type'] == machine_type]['machine_id']\n",
    "    machine_id=rand_pick.iloc[random.randint(0, len(rand_pick))]\n",
    "    \n",
    "    return machine_id\n",
    "\n",
    "# machine_df.sort_values('machine_type')"
   ]
  },
  {
   "cell_type": "code",
   "execution_count": null,
   "metadata": {},
   "outputs": [],
   "source": []
  },
  {
   "cell_type": "code",
   "execution_count": null,
   "metadata": {},
   "outputs": [],
   "source": [
    "def bewerkingstijd(product_id, machine_id):\n",
    "    bewerking_tijd = 1.3\n",
    "    \n",
    "    producten=list(product_df.index)\n",
    "    machines=list(machine_df.index)\n",
    "#    machines=list(machine_df.sort_values('machine_type').index)\n",
    "    \n",
    "#    matrix=random.randint(low=1, high=10, size=(len(producten), len(machines)))\n",
    "    matrix=[[4, 9, 2, 9, 8, 8, 5, 15, 6, 12, 8, 6, 2],\n",
    "            [3, 8, 1, 11, 5, 2, 4, 13, 3, 15, 6, 7, 2],\n",
    "            [2, 6, 1, 12, 9, 7, 5, 16, 8, 16, 5, 4, 4]]\n",
    "    \n",
    "    df=pd.DataFrame(data=matrix, columns=machines)\n",
    "\n",
    "    bewerking_tijd=df[machine_id].iloc[product_id]\n",
    "    \n",
    "    return round(bewerking_tijd)\n",
    "\n",
    "if show_intermediate_results == True:\n",
    "    n,i =(1,4)\n",
    "    print('\\nproduct_id: {}\\t machine_id: {}\\n'.format(list(product_df.index)[n], list(machine_df.index)[i]))\n",
    "    print(bewerkingstijd(list(product_df.index)[n], list(machine_df.index)[i]))"
   ]
  },
  {
   "cell_type": "code",
   "execution_count": null,
   "metadata": {},
   "outputs": [],
   "source": [
    "def create_routes(werkorder_df, machine_df):\n",
    "    columns=['werkorder_id','machine_id','step_id','bewerking_tijd']\n",
    "    routes=pd.DataFrame(columns=columns)\n",
    "    prod_machi_map=product_machines_map(product_df, machine_df)\n",
    "    \n",
    "    step=0\n",
    "    machine='-'\n",
    "    bewerking_tijd=1\n",
    "    \n",
    "    for wo in list(werkorder_df.index):\n",
    "        \n",
    "        # select a product_id for a given werkorder wo\n",
    "        p=werkorder_df.iloc[wo]['product_id']\n",
    "        \n",
    "        # per step in the available steps/'keys' of a product\n",
    "        for step in prod_machi_map[p].keys():\n",
    "            \n",
    "            # return the machine_id based on the machine_type\n",
    "            machine=pick_random_machine(prod_machi_map[p][step], machine_df) \n",
    "            bewerking_tijd=bewerkingstijd(p,machine)\n",
    "            routes=routes.append(dict(zipper(columns, [wo, machine, step, bewerking_tijd])), ignore_index=True)\n",
    "    \n",
    "    return routes\n",
    "    \n",
    "# df=create_routes(werkorder_df[:20], machine_df)\n",
    "# df.head(20)"
   ]
  },
  {
   "cell_type": "code",
   "execution_count": null,
   "metadata": {},
   "outputs": [],
   "source": []
  },
  {
   "cell_type": "raw",
   "metadata": {},
   "source": [
    "route_df.groupby(['werkorder_id', 'step_id','machine_id'], sort=True).sum().groupby(level=0).cumsum() #.reset_index()"
   ]
  },
  {
   "cell_type": "raw",
   "metadata": {},
   "source": [
    "route_df.groupby(['werkorder_id', 'step_id','machine_id'], sort=True).sum().groupby(level=0).cumsum().reset_index(inplace=False)"
   ]
  },
  {
   "cell_type": "code",
   "execution_count": null,
   "metadata": {},
   "outputs": [],
   "source": [
    "def days_hours_minutes(td):\n",
    "    return td.days, td.seconds//3600, (td.seconds//60)%60"
   ]
  },
  {
   "cell_type": "code",
   "execution_count": null,
   "metadata": {},
   "outputs": [],
   "source": []
  },
  {
   "cell_type": "code",
   "execution_count": null,
   "metadata": {},
   "outputs": [],
   "source": [
    "route_df = create_routes(werkorder_df, machine_df)\n",
    "route_df['bewerking_tijd_cumsum'] = route_df[['werkorder_id', 'step_id','bewerking_tijd']].groupby(['werkorder_id', 'step_id'], \\\n",
    "                                                     sort=True).sum().groupby(level=0).cumsum().reset_index(inplace=False)['bewerking_tijd']\n",
    "route_df['bewerking_tijd_cumsum_timedelta'] = route_df['bewerking_tijd_cumsum'].apply(lambda x: x)\n",
    "\n",
    "if show_intermediate_results == True:\n",
    "    print(route_df.head(30))"
   ]
  },
  {
   "cell_type": "code",
   "execution_count": null,
   "metadata": {},
   "outputs": [],
   "source": []
  },
  {
   "cell_type": "code",
   "execution_count": null,
   "metadata": {},
   "outputs": [],
   "source": [
    "werkorder_df['werkorder_doorlooptijd'] = werkorder_df['werkorder_eind_datum']-werkorder_df['werkorder_start_datum']\n",
    "werkorder_df['werkorder_maand_nummer'] = werkorder_df['werkorder_eind_datum'].apply(lambda x: x.isocalendar()[2])\n",
    "werkorder_df['werkorder_doorlooptijd'].plot(figsize=(20,2))\n",
    "\n",
    "\n",
    "\n",
    "print('\\n\\n\\t\\tWerkorder doorloop tijd\\n')\n",
    "#werkorder_df.drop(labels=['werkorder_doorlooptijd'], axis=1, inplace=True)"
   ]
  },
  {
   "cell_type": "code",
   "execution_count": null,
   "metadata": {},
   "outputs": [],
   "source": []
  },
  {
   "cell_type": "code",
   "execution_count": null,
   "metadata": {},
   "outputs": [],
   "source": [
    "fig = px.line(werkorder_df.sort_values(\"werkorder_maand_nummer\", ascending=False),  y=\"werkorder_doorlooptijd\", color='werkorder_maand_nummer')\n",
    "fig.show()"
   ]
  },
  {
   "cell_type": "code",
   "execution_count": null,
   "metadata": {},
   "outputs": [],
   "source": [
    "fig = px.line(werkorder_df.sort_values(\"werkorder_doorlooptijd\", ascending=False),  y=\"werkorder_doorlooptijd\", color='werkorder_maand_nummer')\n",
    "fig.show()"
   ]
  },
  {
   "cell_type": "code",
   "execution_count": null,
   "metadata": {},
   "outputs": [],
   "source": []
  },
  {
   "cell_type": "code",
   "execution_count": null,
   "metadata": {},
   "outputs": [],
   "source": [
    "klant__verkoop_order_df = klant_df.join(verkoop_order_df.set_index('klant_id'), lsuffix='le_', rsuffix='re_')\n",
    "\n",
    "if show_intermediate_results == True:    \n",
    "    print(klant__verkoop_order_df.head(8))"
   ]
  },
  {
   "cell_type": "code",
   "execution_count": null,
   "metadata": {},
   "outputs": [],
   "source": []
  },
  {
   "cell_type": "code",
   "execution_count": null,
   "metadata": {},
   "outputs": [],
   "source": []
  },
  {
   "cell_type": "code",
   "execution_count": null,
   "metadata": {},
   "outputs": [],
   "source": []
  },
  {
   "cell_type": "code",
   "execution_count": null,
   "metadata": {},
   "outputs": [],
   "source": [
    "def save_dateframes(dataframes_list):\n",
    "    \n",
    "    for df in dataframes_list:\n",
    "        try:\n",
    "            globals()[df].to_csv(path_or_buf=str(df)+'.csv', sep='|')\n",
    "            globals()[df].to_csv(path_or_buf=str(df)+'.tsv', sep='\\t')\n",
    "        except:\n",
    "            print('Failed to save {} to TSV file.'.format(df))"
   ]
  },
  {
   "cell_type": "markdown",
   "metadata": {},
   "source": [
    "save_dateframes(dataframes_list)"
   ]
  },
  {
   "cell_type": "code",
   "execution_count": null,
   "metadata": {},
   "outputs": [],
   "source": []
  },
  {
   "cell_type": "code",
   "execution_count": null,
   "metadata": {},
   "outputs": [],
   "source": []
  }
 ],
 "metadata": {
  "kernelspec": {
   "display_name": "Python 3",
   "language": "python",
   "name": "python3"
  },
  "language_info": {
   "codemirror_mode": {
    "name": "ipython",
    "version": 3
   },
   "file_extension": ".py",
   "mimetype": "text/x-python",
   "name": "python",
   "nbconvert_exporter": "python",
   "pygments_lexer": "ipython3",
   "version": "3.7.4"
  }
 },
 "nbformat": 4,
 "nbformat_minor": 4
}
