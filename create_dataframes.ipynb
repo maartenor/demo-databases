{
 "cells": [
  {
   "cell_type": "code",
   "execution_count": null,
   "metadata": {},
   "outputs": [],
   "source": [
    "import pandas as pd\n",
    "import datetime as dt\n",
    "from datetime import timedelta\n",
    "from datetime import datetime\n",
    "from numpy import random\n",
    "from numpy import nan\n",
    "import plotly.express as px\n",
    "\n",
    "\n",
    "glob_random_state=100\n",
    "random.seed(glob_random_state)\n",
    "year=str('2019')\n",
    "\n",
    "show_intermediate_results = True #True \n",
    "\n",
    "n_verkoop_order_df = 158 #random.randint(150,400)"
   ]
  },
  {
   "cell_type": "code",
   "execution_count": null,
   "metadata": {},
   "outputs": [],
   "source": []
  },
  {
   "cell_type": "code",
   "execution_count": null,
   "metadata": {},
   "outputs": [],
   "source": [
    "dataframes_list = ['klant_df', 'verkoop_order_df', 'product_df', 'werkorder_df', 'machine_df',\n",
    "                   'woonplaatsen_df', 'achternamen_df', 'onderdelen_df', 'BOM_df', 'route_df']"
   ]
  },
  {
   "cell_type": "code",
   "execution_count": null,
   "metadata": {},
   "outputs": [],
   "source": [
    "def create_dataframes(dataframes_list):\n",
    "    for df in dataframes_list:\n",
    "        vars()[df] = pd.DataFrame()"
   ]
  },
  {
   "cell_type": "code",
   "execution_count": null,
   "metadata": {},
   "outputs": [],
   "source": []
  },
  {
   "cell_type": "code",
   "execution_count": null,
   "metadata": {},
   "outputs": [],
   "source": [
    "klant_df = pd.DataFrame(random.randint(0,100,size=(25, 4)),  \\\n",
    "                        columns=['klant_id','klant_naam','klant_achternaam','klant_woonplaats'])\n",
    "klant_df.index.rename('klant_id', inplace=True)\n",
    "\n",
    "\n",
    "if show_intermediate_results == True:\n",
    "\n",
    "    print(klant_df.head(10))"
   ]
  },
  {
   "cell_type": "raw",
   "metadata": {},
   "source": [
    "for node in xroot[:3]:\n",
    "    for elem in list(node):\n",
    "            print(elem.text)"
   ]
  },
  {
   "cell_type": "raw",
   "metadata": {},
   "source": [
    "xroot.getchildren()[0].getchildren()[2].text"
   ]
  },
  {
   "cell_type": "raw",
   "metadata": {},
   "source": [
    "xroot.getchildren()[0].getchildren()"
   ]
  },
  {
   "cell_type": "code",
   "execution_count": null,
   "metadata": {},
   "outputs": [],
   "source": [
    "import xml.etree.ElementTree as et \n",
    "\n",
    "xtree = et.parse(\"fn_10kw.xml\")\n",
    "xroot = xtree.getroot()\n",
    "\n",
    "df_columns=['achternaam', 'achternaam_los', 'voorvoegsel']\n",
    "rows=[]\n",
    "\n",
    "for node in xroot:\n",
    "#     record = node.attrib.get(\"record\")\n",
    "#     naam = node.find(\"naam\")  #.text if node is not None else None\n",
    "\n",
    "    naam = ''\n",
    "    achternaam_los = node.getchildren()[2].text if node is not None else None\n",
    "    prefix = node.getchildren()[1].text if node is not None else None\n",
    "    if prefix is not None:\n",
    "        naam = achternaam_los+', '+prefix\n",
    "    else: naam = achternaam_los\n",
    "    \n",
    "    rows.append({'achternaam':naam, 'achternaam_los':achternaam_los, 'voorvoegsel':prefix})\n",
    "\n",
    "achternamen_df = pd.DataFrame(rows, columns=df_columns)\n",
    "achternamen_df = achternamen_df.sample(len(klant_df))\n",
    "achternamen_df.reset_index(inplace=True)\n",
    "achternamen_df.index=klant_df['klant_achternaam']\n",
    "\n",
    "\n",
    "voornamen_df = pd.read_csv('voornamen.txt', sep=';', skiprows=0, encoding='latin-1')\n",
    "voornamen_df.columns=['geslacht','meet_jaar','maand','voornaam', 'rang']\n",
    "voornamen_df = voornamen_df.sample(len(klant_df))\n",
    "voornamen_df.reset_index(inplace=True)\n",
    "voornamen_df.index=klant_df['klant_naam']\n",
    "\n",
    "\n",
    "klant_df=klant_df.join(achternamen_df['achternaam'], on='klant_achternaam')\n",
    "klant_df=klant_df.join(voornamen_df[['voornaam','geslacht']], on='klant_naam')\n",
    "klant_df.drop(columns=['klant_achternaam','klant_naam'], inplace=True)\n",
    "klant_df.drop_duplicates(subset=['klant_id','klant_woonplaats'], keep='first', inplace=True)\n",
    "\n",
    "del voornamen_df, achternamen_df"
   ]
  },
  {
   "cell_type": "code",
   "execution_count": null,
   "metadata": {},
   "outputs": [],
   "source": []
  },
  {
   "cell_type": "code",
   "execution_count": null,
   "metadata": {},
   "outputs": [],
   "source": []
  },
  {
   "cell_type": "code",
   "execution_count": null,
   "metadata": {},
   "outputs": [],
   "source": [
    "woonplaatsen_df = pd.read_csv('Woonplaatsen_in_Nederland_2018_07042020_210926.csv', sep='\";\"', skiprows=3)\n",
    "\n",
    "woonplaatsen_df = woonplaatsen_df[1:]\n",
    "new_column_names = list(woonplaatsen_df.columns)\n",
    "new_column_names[0]='Woonplaats'\n",
    "woonplaatsen_df.columns = new_column_names\n",
    "\n",
    "# Take small sample of woonplaatsen_df and create new (incorrect) indexes (based on klant_df)\n",
    "woonplaatsen_df=woonplaatsen_df.sample(len(klant_df))\n",
    "woonplaatsen_df.reset_index(inplace=True)\n",
    "woonplaatsen_df.index=klant_df['klant_woonplaats']\n",
    "\n",
    "woonplaatsen_df['Woonplaats'] = woonplaatsen_df['Woonplaats'].apply(lambda x: str(x).replace('\"', '') )\n",
    "\n",
    "\n",
    "\n",
    "if show_intermediate_results == True:\n",
    "    \n",
    "    print(woonplaatsen_df.head(10) )"
   ]
  },
  {
   "cell_type": "code",
   "execution_count": null,
   "metadata": {},
   "outputs": [],
   "source": []
  },
  {
   "cell_type": "code",
   "execution_count": null,
   "metadata": {},
   "outputs": [],
   "source": [
    "klant_df=klant_df.join(woonplaatsen_df[['Woonplaats', 'Gemeente|Naam ', 'Gemeente|Code ', 'Provincie|Naam']],\\\n",
    "              on='klant_woonplaats')\n",
    "klant_df.drop(columns=['klant_woonplaats'], inplace=True)\n",
    "klant_df=klant_df[~klant_df.duplicated(subset=['klant_id','achternaam'], keep='first')]\n",
    "del woonplaatsen_df\n",
    "klant_df"
   ]
  },
  {
   "cell_type": "code",
   "execution_count": null,
   "metadata": {},
   "outputs": [],
   "source": []
  },
  {
   "cell_type": "code",
   "execution_count": null,
   "metadata": {},
   "outputs": [],
   "source": [
    "# import modules\n",
    "#import random\n",
    "import datetime\n",
    "\n",
    "# create function accepting a single parameter, the year as a four digit number\n",
    "def get_random_date(year):\n",
    "    \n",
    "    calendar=pd.bdate_range(start='01-01-'+year, end='31-12-'+year)\n",
    "    random_day=random.randint(0, 261)\n",
    "    \n",
    "    # try to get a date\n",
    "    try:\n",
    "#        return datetime.datetime.strptime('{} {}'.format(random.randint(1, 366), year), '%j %Y')\n",
    "        return datetime.datetime.strptime(calendar[random_day].strftime('%Y-%m-%d') ,'%Y-%m-%d')\n",
    "\n",
    "    # if the value happens to be in the leap year range, try again\n",
    "    except ValueError:\n",
    "        get_random_date(year)"
   ]
  },
  {
   "cell_type": "code",
   "execution_count": null,
   "metadata": {},
   "outputs": [],
   "source": [
    "verkoop_order_df = pd.DataFrame(data=(random.randint(0,25, size=(n_verkoop_order_df, 2))), columns=['klant_id','verkoop_order_datum'])\n",
    "verkoop_order_df['verkoop_order_datum'] = verkoop_order_df['verkoop_order_datum'].apply(lambda x: get_random_date(year))\n",
    "verkoop_order_df.sort_values(by='verkoop_order_datum', inplace=True)\n",
    "verkoop_order_df.reset_index(drop=True, inplace=True)\n",
    "verkoop_order_df.index.rename('verkoop_order_id', inplace=True)\n",
    "\n",
    "\n",
    "if show_intermediate_results == True:\n",
    "    print('n_verkoop_order_df : {}\\n'.format(n_verkoop_order_df))\n",
    "    print(verkoop_order_df.head(10))"
   ]
  },
  {
   "cell_type": "code",
   "execution_count": null,
   "metadata": {},
   "outputs": [],
   "source": [
    "if show_intermediate_results == True:\n",
    "    verkoop_order_df.plot(x='verkoop_order_datum', figsize=(20,2), legend=False, title='Aantal_verkoop_orders_per_datum', kind='line')"
   ]
  },
  {
   "cell_type": "code",
   "execution_count": null,
   "metadata": {},
   "outputs": [],
   "source": [
    "if show_intermediate_results == True:\n",
    "#    verkoop_order_df.hist(column='klant_id', bins=10)\n",
    "    fig=px.histogram(verkoop_order_df, x='verkoop_order_datum', nbins=12)\n",
    "    fig.show()"
   ]
  },
  {
   "cell_type": "code",
   "execution_count": null,
   "metadata": {},
   "outputs": [],
   "source": [
    "if show_intermediate_results == True:\n",
    "#    verkoop_order_df.hist(column='klant_id', bins=10)\n",
    "    fig=px.histogram(verkoop_order_df, x='klant_id', nbins=10)\n",
    "    fig.show()"
   ]
  },
  {
   "cell_type": "code",
   "execution_count": null,
   "metadata": {
    "scrolled": false
   },
   "outputs": [],
   "source": [
    "product_verkoop_prijs_S, product_verkoop_prijs_M, product_verkoop_prijs_L = random.randint(50, 80, size=(3,1))\n",
    "ratio_kp = 0.6\n",
    "\n",
    "# Solve Issue #4 \n",
    "product_data={                                             # Adding new product_id, requires to add bewerkingstijd() and BOM\n",
    " 0:{'name':'Robot arm (S)',\n",
    "    'revisie':'A',\n",
    "    'kostprijs':float(product_verkoop_prijs_S),\n",
    "    'verkoopprijs':float(product_verkoop_prijs_S*ratio_kp)},\n",
    " 1:{'name':'Robot arm (M)',\n",
    "    'revisie':'A',\n",
    "    'kostprijs':float(product_verkoop_prijs_M),\n",
    "    'verkoopprijs':float(product_verkoop_prijs_M*ratio_kp)},\n",
    " 2:{'name':'Robot arm (L)',\n",
    "    'revisie':'A',\n",
    "    'kostprijs':float(product_verkoop_prijs_L),\n",
    "    'verkoopprijs':float(product_verkoop_prijs_L*ratio_kp)},\n",
    " 4:{'name':'Robot arm (L)',                                 # 'product_id' without a bill of material, for example purpose\n",
    "    'revisie':'B',\n",
    "    'kostprijs':float(product_verkoop_prijs_L),\n",
    "    'verkoopprijs':float(product_verkoop_prijs_L*ratio_kp+17)},\n",
    "3:{'name':'Robot arm (S)',\n",
    "    'revisie':'B',\n",
    "    'kostprijs':float(product_verkoop_prijs_S),\n",
    "    'verkoopprijs':float(product_verkoop_prijs_S*ratio_kp+5)},\n",
    "}\n",
    "\n",
    "\n",
    "product_df = pd.DataFrame.from_dict(product_data, orient='index').reset_index()\n",
    "product_df.columns = ['product_id','product_naam','revisie','product_verkoop_prijs','product_kost_prijs']\n",
    "\n",
    "product_df.index.rename('product_id', inplace=True)\n",
    "# product_df.drop('product_id', axis=1, inplace=True)\n",
    "\n",
    "if show_intermediate_results == True:\n",
    "    \n",
    "    print(product_df.head(10) )"
   ]
  },
  {
   "cell_type": "code",
   "execution_count": null,
   "metadata": {},
   "outputs": [],
   "source": []
  },
  {
   "cell_type": "code",
   "execution_count": null,
   "metadata": {},
   "outputs": [],
   "source": [
    "# Solve issue #5\n",
    "# # Opnieuw vullen van 'product_id' met de nieuwe id zoals ze gecreeerd zijn in product_df\n",
    "# verkoop_order_df['product_id'] = verkoop_order_df['verkoop_order_datum'].apply(\\\n",
    "#                                                         lambda x: random.randint(0,len(product_df)))"
   ]
  },
  {
   "cell_type": "code",
   "execution_count": null,
   "metadata": {},
   "outputs": [],
   "source": [
    "def onderdelen():\n",
    "    onderdeel_type=pd.DataFrame.from_dict({0:\"Ruw Materiaal\",\\\n",
    "                                           1:\"Mechanisch\",\\\n",
    "                                           2:\"Electrisch\"},\\\n",
    "                                         orient='index',\\\n",
    "                                         columns=['onderdeel_type_beschrijving'])\n",
    "    onderdeel_type.index.rename('onderdeel_type_id', inplace=True)\n",
    "    \n",
    "    onderdelen=pd.DataFrame()\n",
    "    columns=['onderdeel_id','onderdeel_naam','onderdeel_kostprijs','onderdeel_type']\n",
    "    data= [[0,\"Bout\",0.002,1],\n",
    "           [1,\"Moer\",0.002,1], \n",
    "           [2,\"Schakelaar\",3.075,2], \n",
    "           [3,\"Sensor, controle\",9.651,2], \n",
    "           [4,\"Afdek kap plastic\",1.003,0], \n",
    "           [5,\"Staal frame\",16.432,0],\n",
    "           [6,\"Afdek kap recylced plastic\",6.103,0], \n",
    "          ]\n",
    "    onderdelen=pd.DataFrame(data=data, columns=columns)\n",
    "    \n",
    "    onderdelen=onderdelen.join(onderdeel_type, on='onderdeel_type')\n",
    "    onderdelen.drop(columns=['onderdeel_type'], inplace=True)\n",
    "    \n",
    "    return onderdelen\n",
    "\n",
    "if show_intermediate_results == True:\n",
    "    print(onderdelen())"
   ]
  },
  {
   "cell_type": "code",
   "execution_count": null,
   "metadata": {},
   "outputs": [],
   "source": [
    "onderdelen_df=onderdelen()\n",
    "onderdelen_df"
   ]
  },
  {
   "cell_type": "code",
   "execution_count": null,
   "metadata": {},
   "outputs": [],
   "source": [
    "def bill_of_materials(product_df):\n",
    "    BOM=pd.DataFrame()\n",
    "    columns=['product_id','product_revisie','BOM_lijn','BOM_hoeveelheid','BOM_eenheid','BOM_onderdeel_id_kind']\n",
    "\n",
    "    data=[[0,'A', 0, 2, 'stuks', 0],\n",
    "          [0,'A', 1, 2, 'stuks', 1],\n",
    "          [0,'A', 2, 1, 'stuks', 2],\n",
    "         # [0,'A', 3, 1, 'stuks', 3],   # Removed with intention \n",
    "          [0,'A', 4, 4, 'stuks', 4],\n",
    "          [0,'A', 5, 1, 'stuks', 5],\n",
    "\n",
    "          [1,'A', 0, 2, 'stuks', 0],\n",
    "          [1,'A', 1, 2, 'stuks', 1],\n",
    "          [1,'A', 2, 1, 'stuks', 2],\n",
    "          [1,'A', 3, 1, 'stuks', 3],\n",
    "          [1,'A', 4, 4, 'stuks', 4],\n",
    "          [1,'A', 5, 1, 'stuks', 5], \n",
    "         \n",
    "          [2,'A', 0, 2, 'stuks', 0],\n",
    "          [2,'A', 1, 2, 'stuks', 1],\n",
    "          [2,'A', 2, 1, 'stuks', 2],\n",
    "          [2,'A', 3, 4, 'stuks', 3],\n",
    "          [2,'A', 4, 12, 'stuks', 4],\n",
    "          [2,'A', 5, 2, 'stuks', 5],\n",
    "         \n",
    "          [3,'B', 0, 2, 'stuks', 0],  # Updated revision on same product as product_id = 0\n",
    "          [3,'B', 1, 2, 'stuks', 1],\n",
    "          [3,'B', 2, 1, 'stuks', 2],\n",
    "          [3,'B', 3, 1, 'stuks', 3],  # BOM_lijn #3 added     \n",
    "          [3,'B', 4, 4, 'stuks', 6],  # Replaced with onderdeel #6 Afdek kap recylced plastic\n",
    "          [3,'B', 5, 1, 'stuks', 5]]\n",
    "    \n",
    "    BOM=pd.DataFrame(data=data, columns=columns)\n",
    "    BOM.index.rename('BOM_id', inplace=True)\n",
    "    \n",
    "    # Just create an empty 'BOM_id' if a product_id is given\n",
    "    products=list(product_df.index)\n",
    "    for val in products:\n",
    "        if val not in BOM['product_id'].unique():\n",
    "            BOM=BOM.append(dict(zip(columns,[val,None,'','',None,''])),ignore_index=True)\n",
    "\n",
    "#     # Convert ID's from floats to integers\n",
    "#     BOM=BOM.dropna().select_dtypes(include=['float64']).astype('int16', copy=False)\n",
    "#     # just don't use np.nan on integer columns to prevent them being converted to float...\n",
    "    \n",
    "    return BOM\n",
    "\n",
    "\n",
    "if show_intermediate_results == True:\n",
    "    print(bill_of_materials(product_df))"
   ]
  },
  {
   "cell_type": "code",
   "execution_count": null,
   "metadata": {},
   "outputs": [],
   "source": [
    "BOM_df=bill_of_materials(product_df)"
   ]
  },
  {
   "cell_type": "code",
   "execution_count": null,
   "metadata": {},
   "outputs": [],
   "source": [
    "def verkoop_order_product_map(verkoop_order_datum, product_df, year=year): #, glob_random_state=glob_random_state):\n",
    "    product_df=product_df[['product_id', 'product_naam', 'revisie']]\n",
    "    \n",
    "    # find the minimum revision per product_naam\n",
    "    idx = product_df.groupby(['product_naam'])['revisie'].transform(min) == product_df['revisie']\n",
    "    prod_df_rev_min=product_df[idx].copy()\n",
    "    \n",
    "    # and the max/highest revision\n",
    "    idx = product_df.groupby(['product_naam'])['revisie'].transform(max) == product_df['revisie']\n",
    "    prod_df_rev_max=product_df[idx].copy()\n",
    "    \n",
    "    if type(verkoop_order_datum) != str:\n",
    "        if type(verkoop_order_datum) != datetime.datetime:\n",
    "            verkoop_order_datum = str(datetime.datetime.strptime(verkoop_order_datum.strftime('%Y-%m-%d') ,'%Y-%m-%d'))\n",
    "    \n",
    "    if verkoop_order_datum < year+'-08-01':\n",
    "        verkocht_product_id=prod_df_rev_min.sample(1) #, random_state=glob_random_state)\n",
    "    else: \n",
    "        verkocht_product_id=prod_df_rev_max.sample(1)\n",
    "\n",
    "   \n",
    "    return int(verkocht_product_id['product_id'])\n",
    "\n",
    "if show_intermediate_results == True:\n",
    "    for verkoop_order_datum in ['2019-01-03','2019-04-03','2019-07-03','2019-08-03','2019-09-03','2019-10-03']:\n",
    "        prod=verkoop_order_product_map(verkoop_order_datum, product_df, year)\n",
    "        print(verkoop_order_datum,'\\t: ',prod,'\\tRev :  ',product_df.iloc[prod]['revisie'],'\\n')"
   ]
  },
  {
   "cell_type": "code",
   "execution_count": null,
   "metadata": {},
   "outputs": [],
   "source": [
    "verkoop_order_df['verkocht_product_id'] = verkoop_order_df['verkoop_order_datum'].apply(\\\n",
    "                                                        lambda x: verkoop_order_product_map(x,\\\n",
    "                                                                                            product_df, year=year))\n",
    "\n",
    "verkoop_order_df['verkocht_product_aantal'] = 1\n",
    "\n",
    "if show_intermediate_results == True:\n",
    "    print(verkoop_order_df)"
   ]
  },
  {
   "cell_type": "code",
   "execution_count": null,
   "metadata": {},
   "outputs": [],
   "source": []
  },
  {
   "cell_type": "code",
   "execution_count": null,
   "metadata": {},
   "outputs": [],
   "source": [
    "# verkoop_order_df['product_id'] = verkoop_order_df['verkoop_order_datum'].apply(lambda x: random.randint(0,3))\n",
    "\n",
    "\n",
    "if show_intermediate_results == True:\n",
    "    verkoop_order_df['verkocht_product_id'].hist()"
   ]
  },
  {
   "cell_type": "code",
   "execution_count": null,
   "metadata": {},
   "outputs": [],
   "source": [
    "# verkoop_order_df['product_id'] = verkoop_order_df['verkoop_order_datum'].apply(lambda x: random.randint(0,3))\n",
    "# Solve Issue #5\n",
    "\n",
    "if show_intermediate_results == True:\n",
    "    verkoop_order_df['verkocht_product_id'].hist()"
   ]
  },
  {
   "cell_type": "code",
   "execution_count": null,
   "metadata": {},
   "outputs": [],
   "source": [
    "machine_data ={\n",
    "    # for issue #14 added energie_verbruik\n",
    "    0:{'machine_type':'boor'},\n",
    "    1:{'machine_type':'frees'},\n",
    "    2:{'machine_type':'buig'},\n",
    "    3:{'machine_type':'CNC'},\n",
    "    4:{'machine_type':'snij'},\n",
    "    5:{'machine_type':'boor'},\n",
    "    6:{'machine_type':'stans'},\n",
    "    7:{'machine_type':'CNC'},\n",
    "    8:{'machine_type':'snij'},\n",
    "    9:{'machine_type':'CNC'},\n",
    "    10:{'machine_type':'CNC'},\n",
    "    11:{'machine_type':'CNC'},\n",
    "    12:{'machine_type':'boor'},\n",
    "    13:{'machine_type':'assemblage'}   # abuse machine object to add an assembly step for issue #13\n",
    "    }\n",
    "machine_df = pd.DataFrame.from_dict(machine_data, orient='index').reset_index()\n",
    "machine_df.columns = ['machine_id','machine_type']\n",
    "\n",
    "\n",
    "machine_df.index.rename('machine_id', inplace=True)\n",
    "\n",
    "\n",
    "if show_intermediate_results == True:\n",
    "    \n",
    "    print(machine_df.head(10) )"
   ]
  },
  {
   "cell_type": "code",
   "execution_count": null,
   "metadata": {},
   "outputs": [],
   "source": []
  },
  {
   "cell_type": "code",
   "execution_count": null,
   "metadata": {},
   "outputs": [],
   "source": [
    "# werkorder_df = pd.DataFrame(data=(random.randint(0,25, size=(n_verkoop_order_df, 2))), columns=['klant_id','verkoop_order_datum'])\n",
    "werkorder_df = verkoop_order_df.copy()\n",
    "werkorder_df.reset_index(inplace = True)\n",
    "werkorder_df.index.rename('werkorder_id', inplace=True)\n",
    "werkorder_df['werkorder_start_datum'] = werkorder_df['verkoop_order_datum'].apply(lambda x: x+timedelta(days=random.randint(0,2)))\n",
    "werkorder_df['werkorder_eind_datum'] = werkorder_df['verkoop_order_datum'].apply(lambda x: x+timedelta(days=random.randint(3,10)))\n",
    "\n",
    "\n",
    "werkorder_df.drop(['klant_id','verkoop_order_datum'], axis=1, inplace=True)\n",
    "\n",
    "if show_intermediate_results == True:\n",
    "    print('n_werkorder_df : {}\\n'.format(len(werkorder_df)))\n",
    "    print(werkorder_df.head(10))"
   ]
  },
  {
   "cell_type": "code",
   "execution_count": null,
   "metadata": {},
   "outputs": [],
   "source": []
  },
  {
   "cell_type": "code",
   "execution_count": null,
   "metadata": {},
   "outputs": [],
   "source": []
  },
  {
   "cell_type": "code",
   "execution_count": null,
   "metadata": {},
   "outputs": [],
   "source": [
    "# Map products with a randaom amount of machines using both dataframes\n",
    "\n",
    "def product_machines_map(product_df, machine_df):\n",
    "    dictionary={}\n",
    "    inner_dict={}\n",
    "    machine_types=machine_df.machine_type.unique()\n",
    "    machine_types=list(machine_types)[::-1]\n",
    "    machine_types=['stans', 'snij', 'buig', 'frees', 'CNC', 'boor']\n",
    "    print('\\nHard code machine types and order: {}\\n'.format(machine_types))\n",
    "    product_ids=list(product_df.product_id.unique())\n",
    "    step=0\n",
    "    \n",
    "    for prod_id in product_ids:\n",
    "        low=random.randint(0,2)\n",
    "        high=random.randint(4,6)\n",
    " #       print(high)\n",
    "        for step in range(low,high):\n",
    "            inner_dict[step]=machine_types[step]\n",
    "        # add assemblage step (as a 'machine') in the mapping for issue #13\n",
    "        inner_dict[len(inner_dict.keys())]='assemblage'\n",
    "        dictionary[prod_id]=inner_dict\n",
    "        inner_dict={}\n",
    "    \n",
    "    return dictionary\n",
    "\n",
    "if show_intermediate_results == True:\n",
    "    print(product_machines_map(product_df, machine_df))"
   ]
  },
  {
   "cell_type": "code",
   "execution_count": null,
   "metadata": {},
   "outputs": [],
   "source": [
    "product_machines_map(product_df, machine_df)"
   ]
  },
  {
   "cell_type": "raw",
   "metadata": {},
   "source": [
    "# Reverse list order\n",
    "list(machine_df.machine_type.unique())[::-1]"
   ]
  },
  {
   "cell_type": "code",
   "execution_count": null,
   "metadata": {},
   "outputs": [],
   "source": [
    "def zipper(l1, l2):\n",
    "    return [list(l) for l in zip(l1, l2)]"
   ]
  },
  {
   "cell_type": "code",
   "execution_count": null,
   "metadata": {},
   "outputs": [],
   "source": []
  },
  {
   "cell_type": "code",
   "execution_count": null,
   "metadata": {},
   "outputs": [],
   "source": [
    "def pick_random_machine(machine_type, machine_df):\n",
    "    machine_id=0\n",
    "    \n",
    "    rand_pick=machine_df[machine_df['machine_type'] == machine_type]['machine_id']\n",
    "    machine_id=rand_pick.iloc[random.randint(0, len(rand_pick))]\n",
    "    \n",
    "    return machine_id\n",
    "\n",
    "# machine_df.sort_values('machine_type')"
   ]
  },
  {
   "cell_type": "code",
   "execution_count": null,
   "metadata": {},
   "outputs": [],
   "source": [
    "def bewerkingstijd(product_id, machine_id):\n",
    "    bewerking_tijd = 1.3\n",
    "    \n",
    "    producten=list(product_df.index)\n",
    "    machines=list(machine_df.index)\n",
    "#    machines=list(machine_df.sort_values('machine_type').index)\n",
    "    \n",
    "#    matrix=random.randint(low=1, high=10, size=(len(producten), len(machines)))\n",
    "    # added additional column for issue #13 to extend matrix object\n",
    "    matrix=[[4, 9, 2, 9, 8, 8, 5, 15, 6, 12, 8, 6, 2, 15],\n",
    "            [3, 8, 1, 11, 5, 2, 4, 13, 3, 15, 6, 7, 2, 14],\n",
    "            [2, 6, 1, 12, 9, 7, 5, 16, 8, 16, 5, 4, 4, 13],\n",
    "            [3, 7, 1, 10, 5, 2, 4, 13, 3, 16, 6, 7, 2, 10],\n",
    "            [3, 8, 1, 11, 5, 2, 5, 16, 8, 16, 5, 4, 4, 9]]\n",
    "    \n",
    "    df=pd.DataFrame(data=matrix, columns=machines)\n",
    "\n",
    "    bewerking_tijd=df[machine_id].iloc[product_id]\n",
    "    \n",
    "    return round(bewerking_tijd)\n",
    "\n",
    "if show_intermediate_results == True:\n",
    "    n,i =(1,4)\n",
    "    print('\\nproduct_id: {}\\t machine_id: {}\\n'.format(list(product_df.index)[n], list(machine_df.index)[i]))\n",
    "    print(bewerkingstijd(list(product_df.index)[n], list(machine_df.index)[i]))"
   ]
  },
  {
   "cell_type": "code",
   "execution_count": null,
   "metadata": {},
   "outputs": [],
   "source": [
    "def insert_row_in_df(row_number, df, row_value):\n",
    "    if row_number > df.index.max()+1: \n",
    "        print(\"Invalid row_number. Did not insert row into dataframe.\")\n",
    "        df_result=df\n",
    "    else:\n",
    "        # Slice the upper half of the dataframe \n",
    "        df1 = df[0:row_number] \n",
    "\n",
    "        # Store the result of lower half of the dataframe \n",
    "        df2 = df[row_number:] \n",
    "\n",
    "        # Inser the row in the upper half dataframe \n",
    "        df1.loc[row_number]=row_value \n",
    "\n",
    "        # Concat the two dataframes \n",
    "        df_result = pd.concat([df1, df2]) \n",
    "\n",
    "        # Reassign the index labels \n",
    "        df_result.index = [*range(df_result.shape[0])] \n",
    "   \n",
    "    # Return the updated dataframe \n",
    "    return df_result "
   ]
  },
  {
   "cell_type": "code",
   "execution_count": null,
   "metadata": {},
   "outputs": [],
   "source": []
  },
  {
   "cell_type": "code",
   "execution_count": null,
   "metadata": {},
   "outputs": [],
   "source": [
    "def create_routes(werkorder_df, machine_df):\n",
    "    columns=['werkorder_id','machine_id','step_id','bewerking_tijd']\n",
    "    routes=pd.DataFrame(columns=columns)\n",
    "    prod_machi_map=product_machines_map(product_df, machine_df)\n",
    "    \n",
    "    step=0\n",
    "    machine='-'\n",
    "    bewerking_tijd=1\n",
    "    \n",
    "    for wo in list(werkorder_df.index):\n",
    "        \n",
    "        # select a product_id for a given werkorder wo\n",
    "        p=werkorder_df.iloc[wo]['verkocht_product_id'] # solve Issue #5 product_id\n",
    "        \n",
    "        # per step in the available steps/'keys' of a product\n",
    "        for step in prod_machi_map[p].keys():\n",
    "            \n",
    "            # return the machine_id based on the machine_type\n",
    "            \n",
    "            # for issue #13. But don't use 'assemblage' to pick as random machine\n",
    "            #   Temp remove 'assemblage' step from machine object \n",
    "            if prod_machi_map[p][step] != 'assemblage':\n",
    "                machine=pick_random_machine(prod_machi_map[p][step], machine_df) \n",
    "\n",
    "            # for issue #13. Use only single existing 'machine' for 'assemblage' step\n",
    "            else: machine=machine_df[machine_df['machine_type'] == 'assemblage']['machine_id'].values[0]\n",
    "            \n",
    "            bewerking_tijd=bewerkingstijd(p,machine)\n",
    "            routes=routes.append(dict(zipper(columns, [wo, machine, step, bewerking_tijd])), ignore_index=True)\n",
    "        \n",
    "        # add another step for assembly at the end of a route dictionary\n",
    "    \n",
    "    return routes\n",
    "    \n",
    "# df=create_routes(werkorder_df[:20], machine_df)\n",
    "# df.head(20)"
   ]
  },
  {
   "cell_type": "raw",
   "metadata": {},
   "source": [
    "route_df.groupby(['werkorder_id', 'step_id','machine_id'], sort=True).sum().groupby(level=0).cumsum() #.reset_index()"
   ]
  },
  {
   "cell_type": "raw",
   "metadata": {},
   "source": [
    "route_df.groupby(['werkorder_id', 'step_id','machine_id'], sort=True).sum().groupby(level=0).cumsum().reset_index(inplace=False)"
   ]
  },
  {
   "cell_type": "code",
   "execution_count": null,
   "metadata": {},
   "outputs": [],
   "source": [
    "def days_hours_minutes(td):\n",
    "    return td.days, td.seconds//3600, (td.seconds//60)%60"
   ]
  },
  {
   "cell_type": "code",
   "execution_count": null,
   "metadata": {},
   "outputs": [],
   "source": [
    "route_df = create_routes(werkorder_df, machine_df)\n",
    "route_df['bewerking_tijd_cumsum'] = route_df[['werkorder_id', 'step_id','bewerking_tijd']].groupby(['werkorder_id', 'step_id'], \\\n",
    "                                                     sort=True).sum().groupby(level=0).cumsum().reset_index(inplace=False)['bewerking_tijd']\n",
    "route_df['bewerking_tijd_cumsum_timedelta'] = route_df['bewerking_tijd_cumsum'].apply(lambda x: x)\n",
    "\n",
    "if show_intermediate_results == True:\n",
    "    print(route_df.head(30))"
   ]
  },
  {
   "cell_type": "code",
   "execution_count": null,
   "metadata": {},
   "outputs": [],
   "source": []
  },
  {
   "cell_type": "code",
   "execution_count": null,
   "metadata": {},
   "outputs": [],
   "source": []
  },
  {
   "cell_type": "code",
   "execution_count": null,
   "metadata": {},
   "outputs": [],
   "source": [
    "werkorder_df['werkorder_doorlooptijd'] = werkorder_df['werkorder_eind_datum']-werkorder_df['werkorder_start_datum']\n",
    "# corrected to bypass Timestamps not being usefull in Power BI. Issue #2\n",
    "werkorder_df['werkorder_doorlooptijd'] = werkorder_df['werkorder_doorlooptijd'].apply(lambda x: x.days)\n",
    "werkorder_df['werkorder_maand_nummer'] = werkorder_df['werkorder_eind_datum'].apply(lambda x: x.isocalendar()[2])\n",
    "werkorder_df['werkorder_doorlooptijd'].plot(figsize=(20,2))\n",
    "\n",
    "\n",
    "\n",
    "print('\\n\\n\\t\\tWerkorder doorloop tijd\\n')\n",
    "#werkorder_df.drop(labels=['werkorder_doorlooptijd'], axis=1, inplace=True)"
   ]
  },
  {
   "cell_type": "code",
   "execution_count": null,
   "metadata": {},
   "outputs": [],
   "source": []
  },
  {
   "cell_type": "code",
   "execution_count": null,
   "metadata": {},
   "outputs": [],
   "source": [
    "fig = px.line(werkorder_df.sort_values(\"werkorder_maand_nummer\", ascending=False),  y=\"werkorder_doorlooptijd\", color='werkorder_maand_nummer')\n",
    "fig.show( )"
   ]
  },
  {
   "cell_type": "code",
   "execution_count": null,
   "metadata": {},
   "outputs": [],
   "source": [
    "fig = px.line(werkorder_df.sort_values(\"werkorder_doorlooptijd\", ascending=False),  y=\"werkorder_doorlooptijd\", color='werkorder_maand_nummer')\n",
    "fig.show()"
   ]
  },
  {
   "cell_type": "code",
   "execution_count": null,
   "metadata": {},
   "outputs": [],
   "source": []
  },
  {
   "cell_type": "code",
   "execution_count": null,
   "metadata": {},
   "outputs": [],
   "source": [
    "klant__verkoop_order_df = klant_df.join(verkoop_order_df.set_index('klant_id'), lsuffix='le_', rsuffix='re_')\n",
    "\n",
    "if show_intermediate_results == True:    \n",
    "    print(klant__verkoop_order_df.head(8))"
   ]
  },
  {
   "cell_type": "code",
   "execution_count": null,
   "metadata": {},
   "outputs": [],
   "source": []
  },
  {
   "cell_type": "code",
   "execution_count": null,
   "metadata": {},
   "outputs": [],
   "source": []
  },
  {
   "cell_type": "code",
   "execution_count": null,
   "metadata": {},
   "outputs": [],
   "source": [
    "def save_dateframes(dataframes_list):\n",
    "    \n",
    "    for df in dataframes_list:\n",
    "        # Solving issue #7\n",
    "        try:\n",
    "            if globals()[df].index.name == None:\n",
    "                old=globals()[df].index.name\n",
    "                globals()[df].index.name=str(df).replace('_df', '')+'_id'\n",
    "                print('{} >> {}'.format(old, globals()[df].index.name ))\n",
    "        except: \n",
    "            print('Unable to change index column name for dataframe {}.'.format(df))\n",
    "\n",
    "                \n",
    "        try:\n",
    "            \n",
    "            globals()[df].to_csv(path_or_buf=str(df)+'.csv', sep='|')\n",
    "            globals()[df].to_csv(path_or_buf=str(df)+'.tsv', sep='\\t')\n",
    "        except:\n",
    "            print('Failed to save {} to TSV file.'.format(df))"
   ]
  },
  {
   "cell_type": "markdown",
   "metadata": {},
   "source": [
    "save_dateframes(dataframes_list)"
   ]
  },
  {
   "cell_type": "code",
   "execution_count": null,
   "metadata": {},
   "outputs": [],
   "source": []
  },
  {
   "cell_type": "code",
   "execution_count": null,
   "metadata": {},
   "outputs": [],
   "source": []
  },
  {
   "cell_type": "code",
   "execution_count": null,
   "metadata": {},
   "outputs": [],
   "source": []
  }
 ],
 "metadata": {
  "kernelspec": {
   "display_name": "Python 3",
   "language": "python",
   "name": "python3"
  },
  "language_info": {
   "codemirror_mode": {
    "name": "ipython",
    "version": 3
   },
   "file_extension": ".py",
   "mimetype": "text/x-python",
   "name": "python",
   "nbconvert_exporter": "python",
   "pygments_lexer": "ipython3",
   "version": "3.7.4"
  }
 },
 "nbformat": 4,
 "nbformat_minor": 4
}
