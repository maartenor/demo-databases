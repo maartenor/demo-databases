{
 "cells": [
  {
   "cell_type": "code",
   "execution_count": 114,
   "metadata": {},
   "outputs": [],
   "source": [
    "import pandas as pd\n",
    "import datetime as dt\n",
    "from datetime import timedelta\n",
    "from datetime import datetime\n",
    "from numpy import random\n",
    "from numpy import nan\n",
    "import plotly.express as px\n",
    "\n",
    "\n",
    "glob_random_state=100\n",
    "random.seed(glob_random_state)\n",
    "year=str('2019')\n",
    "\n",
    "show_intermediate_results = True # False to not show graphs en example dataframes in this script; increased speed \n",
    "create_source_files = True # True to enable writing several dataframes to .CSV or .TSV files.\n",
    "\n",
    "n_verkoop_order_df = 162 #random.randint(150,1500)\n",
    "n_klant_df = 25 #random.randint(25,250)"
   ]
  },
  {
   "cell_type": "code",
   "execution_count": null,
   "metadata": {},
   "outputs": [],
   "source": []
  },
  {
   "cell_type": "code",
   "execution_count": 115,
   "metadata": {},
   "outputs": [],
   "source": [
    "dataframes_list = ['klant_df', 'verkoop_order_df', 'product_df', 'werkorder_df', 'machine_df',\n",
    "                    'onderdelen_df', 'BOM_df', 'route_df']  \n",
    "\n",
    "#  'woonplaatsen_df', 'achternamen_df',\n",
    "# Removed from list. Only created as temporary results and deleted after join with klant_df"
   ]
  },
  {
   "cell_type": "code",
   "execution_count": 116,
   "metadata": {},
   "outputs": [],
   "source": [
    "def create_dataframes(dataframes_list):\n",
    "    for df in dataframes_list:\n",
    "        vars()[df] = pd.DataFrame()"
   ]
  },
  {
   "cell_type": "code",
   "execution_count": null,
   "metadata": {},
   "outputs": [],
   "source": []
  },
  {
   "cell_type": "code",
   "execution_count": 117,
   "metadata": {},
   "outputs": [
    {
     "name": "stdout",
     "output_type": "stream",
     "text": [
      "          klant_id  klant_naam  klant_achternaam  klant_woonplaats\n",
      "klant_id                                                          \n",
      "0                8          24                67                87\n",
      "1               79          48                10                94\n",
      "2               52          98                53                66\n",
      "3               98          14                34                24\n",
      "4               15          60                58                16\n",
      "5                9          93                86                 2\n",
      "6               27           4                31                 1\n",
      "7               13          83                 4                91\n",
      "8               59          67                 7                49\n",
      "9               47          65                61                14\n"
     ]
    }
   ],
   "source": [
    "klant_df = pd.DataFrame(random.randint(0,100,size=(n_klant_df, 4)),  \\\n",
    "                        columns=['klant_id','klant_naam','klant_achternaam','klant_woonplaats'])\n",
    "klant_df.index.rename('klant_id', inplace=True)\n",
    "\n",
    "\n",
    "if show_intermediate_results == True:\n",
    "\n",
    "    print(klant_df.head(10))"
   ]
  },
  {
   "cell_type": "code",
   "execution_count": null,
   "metadata": {},
   "outputs": [],
   "source": []
  },
  {
   "cell_type": "raw",
   "metadata": {},
   "source": [
    "for node in xroot[:3]:\n",
    "    for elem in list(node):\n",
    "            print(elem.text)"
   ]
  },
  {
   "cell_type": "raw",
   "metadata": {},
   "source": [
    "xroot.getchildren()[0].getchildren()[2].text"
   ]
  },
  {
   "cell_type": "raw",
   "metadata": {},
   "source": [
    "xroot.getchildren()[0].getchildren()"
   ]
  },
  {
   "cell_type": "code",
   "execution_count": 118,
   "metadata": {},
   "outputs": [
    {
     "name": "stderr",
     "output_type": "stream",
     "text": [
      "C:\\ProgramData\\Anaconda3\\lib\\site-packages\\ipykernel_launcher.py:14: DeprecationWarning:\n",
      "\n",
      "This method will be removed in future versions.  Use 'list(elem)' or iteration over elem instead.\n",
      "\n",
      "C:\\ProgramData\\Anaconda3\\lib\\site-packages\\ipykernel_launcher.py:15: DeprecationWarning:\n",
      "\n",
      "This method will be removed in future versions.  Use 'list(elem)' or iteration over elem instead.\n",
      "\n"
     ]
    }
   ],
   "source": [
    "import xml.etree.ElementTree as et \n",
    "\n",
    "xtree = et.parse(\"fn_10kw.xml\")\n",
    "xroot = xtree.getroot()\n",
    "\n",
    "df_columns=['achternaam', 'achternaam_los', 'voorvoegsel']\n",
    "rows=[]\n",
    "\n",
    "for node in xroot:\n",
    "#     record = node.attrib.get(\"record\")\n",
    "#     naam = node.find(\"naam\")  #.text if node is not None else None\n",
    "\n",
    "    naam = ''\n",
    "    achternaam_los = node.getchildren()[2].text if node is not None else None\n",
    "    prefix = node.getchildren()[1].text if node is not None else None\n",
    "    if prefix is not None:\n",
    "        naam = achternaam_los+', '+prefix\n",
    "    else: naam = achternaam_los\n",
    "    \n",
    "    rows.append({'achternaam':naam, 'achternaam_los':achternaam_los, 'voorvoegsel':prefix})\n",
    "\n",
    "achternamen_df = pd.DataFrame(rows, columns=df_columns)\n",
    "achternamen_df = achternamen_df.sample(len(klant_df))\n",
    "achternamen_df.reset_index(inplace=True)\n",
    "achternamen_df.index=klant_df['klant_achternaam']\n",
    "\n",
    "\n",
    "voornamen_df = pd.read_csv('voornamen.txt', sep=';', skiprows=0, encoding='latin-1')\n",
    "voornamen_df.columns=['geslacht','meet_jaar','maand','voornaam', 'rang']\n",
    "voornamen_df = voornamen_df.sample(len(klant_df))\n",
    "voornamen_df.reset_index(inplace=True)\n",
    "voornamen_df.index=klant_df['klant_naam']\n",
    "\n",
    "\n",
    "klant_df=klant_df.join(achternamen_df['achternaam'], on='klant_achternaam')\n",
    "klant_df=klant_df.join(voornamen_df[['voornaam','geslacht']], on='klant_naam')\n",
    "klant_df.drop(columns=['klant_achternaam','klant_naam'], inplace=True)\n",
    "klant_df.drop_duplicates(subset=['klant_id','klant_woonplaats'], keep='first', inplace=True)\n",
    "\n",
    "del voornamen_df, achternamen_df"
   ]
  },
  {
   "cell_type": "code",
   "execution_count": null,
   "metadata": {},
   "outputs": [],
   "source": []
  },
  {
   "cell_type": "code",
   "execution_count": 119,
   "metadata": {},
   "outputs": [
    {
     "name": "stdout",
     "output_type": "stream",
     "text": [
      "                  index      Woonplaats Gemeente|Naam  Gemeente|Code   \\\n",
      "klant_woonplaats                                                        \n",
      "87                  192  Bergen op Zoom   BergenopZoom         GM0748   \n",
      "94                 1993         Stokkum    Montferland         GM1955   \n",
      "66                 1982        Stegeren          Ommen         GM0175   \n",
      "24                  785       Heemstede      Heemstede         GM0397   \n",
      "16                  891      Hoensbroek        Heerlen         GM0917   \n",
      "2                  1770    Rinsumageast    Dantumadiel         GM1891   \n",
      "1                   890      Hoenderloo            Ede         GM0228   \n",
      "91                   83           Annen      AaenHunze         GM1680   \n",
      "49                  196   Bergschenhoek  Lansingerland         GM1621   \n",
      "14                  563      Everdingen         Vianen         GM0620   \n",
      "\n",
      "                 Provincie|Naam Provincie|Code   Landsdeel|Naam  \\\n",
      "klant_woonplaats                                                  \n",
      "87                Noord-Brabant           PV30   Zuid-Nederland   \n",
      "94                   Gelderland           PV25   Oost-Nederland   \n",
      "66                   Overijssel           PV23   Oost-Nederland   \n",
      "24                Noord-Holland           PV27   West-Nederland   \n",
      "16                      Limburg           PV31   Zuid-Nederland   \n",
      "2                     Friesland           PV21  Noord-Nederland   \n",
      "1                    Gelderland           PV25   Oost-Nederland   \n",
      "91                      Drenthe           PV22  Noord-Nederland   \n",
      "49                 Zuid-Holland           PV28   West-Nederland   \n",
      "14                      Utrecht           PV26   West-Nederland   \n",
      "\n",
      "                 Landsdeel|Code\"  \n",
      "klant_woonplaats                  \n",
      "87                          LD04  \n",
      "94                          LD02  \n",
      "66                          LD02  \n",
      "24                          LD03  \n",
      "16                          LD04  \n",
      "2                           LD01  \n",
      "1                           LD02  \n",
      "91                          LD01  \n",
      "49                          LD03  \n",
      "14                          LD03  \n"
     ]
    },
    {
     "name": "stderr",
     "output_type": "stream",
     "text": [
      "C:\\ProgramData\\Anaconda3\\lib\\site-packages\\ipykernel_launcher.py:1: ParserWarning:\n",
      "\n",
      "Falling back to the 'python' engine because the 'c' engine does not support regex separators (separators > 1 char and different from '\\s+' are interpreted as regex); you can avoid this warning by specifying engine='python'.\n",
      "\n"
     ]
    }
   ],
   "source": [
    "woonplaatsen_df = pd.read_csv('Woonplaatsen_in_Nederland_2018_07042020_210926.csv', sep='\";\"', skiprows=3, encoding='UTF-8')\n",
    "# Added , encoding='UTF-8' to prevent value 'Súdwest-Fryslân' in CSV being loaded as 'SÃºdwest-FryslÃ¢n'\n",
    "\n",
    "woonplaatsen_df = woonplaatsen_df[1:]\n",
    "new_column_names = list(woonplaatsen_df.columns)\n",
    "new_column_names[0]='Woonplaats'\n",
    "woonplaatsen_df.columns = new_column_names\n",
    " \n",
    "woonplaatsen_df['Woonplaats'] = woonplaatsen_df['Woonplaats'].apply(lambda x: str(x).replace('\"', '') )\n",
    "woonplaatsen_df['Landsdeel|Code\"'] = woonplaatsen_df['Landsdeel|Code\"'].apply(lambda x: str(x).replace('\"', '') )\n",
    "\n",
    "\n",
    "# Take small sample of woonplaatsen_df and create new (incorrect) indexes (based on klant_df)\n",
    "woonplaatsen_df=woonplaatsen_df.sample(len(klant_df))\n",
    "woonplaatsen_df.reset_index(inplace=True)\n",
    "woonplaatsen_df.index=klant_df['klant_woonplaats']\n",
    "\n",
    "\n",
    "if show_intermediate_results == True:\n",
    "    \n",
    "    print(woonplaatsen_df.head(10) )"
   ]
  },
  {
   "cell_type": "code",
   "execution_count": null,
   "metadata": {},
   "outputs": [],
   "source": []
  },
  {
   "cell_type": "code",
   "execution_count": 120,
   "metadata": {},
   "outputs": [
    {
     "data": {
      "text/html": [
       "<div>\n",
       "<style scoped>\n",
       "    .dataframe tbody tr th:only-of-type {\n",
       "        vertical-align: middle;\n",
       "    }\n",
       "\n",
       "    .dataframe tbody tr th {\n",
       "        vertical-align: top;\n",
       "    }\n",
       "\n",
       "    .dataframe thead th {\n",
       "        text-align: right;\n",
       "    }\n",
       "</style>\n",
       "<table border=\"1\" class=\"dataframe\">\n",
       "  <thead>\n",
       "    <tr style=\"text-align: right;\">\n",
       "      <th></th>\n",
       "      <th>klant_id</th>\n",
       "      <th>achternaam</th>\n",
       "      <th>voornaam</th>\n",
       "      <th>geslacht</th>\n",
       "      <th>Woonplaats</th>\n",
       "      <th>Gemeente|Naam</th>\n",
       "      <th>Gemeente|Code</th>\n",
       "      <th>Provincie|Naam</th>\n",
       "    </tr>\n",
       "    <tr>\n",
       "      <th>klant_id</th>\n",
       "      <th></th>\n",
       "      <th></th>\n",
       "      <th></th>\n",
       "      <th></th>\n",
       "      <th></th>\n",
       "      <th></th>\n",
       "      <th></th>\n",
       "      <th></th>\n",
       "    </tr>\n",
       "  </thead>\n",
       "  <tbody>\n",
       "    <tr>\n",
       "      <td>0</td>\n",
       "      <td>8</td>\n",
       "      <td>Luijn, van</td>\n",
       "      <td>Noëlle</td>\n",
       "      <td>V</td>\n",
       "      <td>Bergen op Zoom</td>\n",
       "      <td>BergenopZoom</td>\n",
       "      <td>GM0748</td>\n",
       "      <td>Noord-Brabant</td>\n",
       "    </tr>\n",
       "    <tr>\n",
       "      <td>1</td>\n",
       "      <td>79</td>\n",
       "      <td>Oldenhuis</td>\n",
       "      <td>Feline</td>\n",
       "      <td>V</td>\n",
       "      <td>Stokkum</td>\n",
       "      <td>Montferland</td>\n",
       "      <td>GM1955</td>\n",
       "      <td>Gelderland</td>\n",
       "    </tr>\n",
       "    <tr>\n",
       "      <td>2</td>\n",
       "      <td>52</td>\n",
       "      <td>Li</td>\n",
       "      <td>Levi</td>\n",
       "      <td>M</td>\n",
       "      <td>Stegeren</td>\n",
       "      <td>Ommen</td>\n",
       "      <td>GM0175</td>\n",
       "      <td>Overijssel</td>\n",
       "    </tr>\n",
       "    <tr>\n",
       "      <td>3</td>\n",
       "      <td>98</td>\n",
       "      <td>Avest, ter</td>\n",
       "      <td>Willem</td>\n",
       "      <td>M</td>\n",
       "      <td>Heemstede</td>\n",
       "      <td>Heemstede</td>\n",
       "      <td>GM0397</td>\n",
       "      <td>Noord-Holland</td>\n",
       "    </tr>\n",
       "    <tr>\n",
       "      <td>4</td>\n",
       "      <td>15</td>\n",
       "      <td>Selhorst</td>\n",
       "      <td>Nynke</td>\n",
       "      <td>V</td>\n",
       "      <td>Hoensbroek</td>\n",
       "      <td>Heerlen</td>\n",
       "      <td>GM0917</td>\n",
       "      <td>Limburg</td>\n",
       "    </tr>\n",
       "    <tr>\n",
       "      <td>5</td>\n",
       "      <td>9</td>\n",
       "      <td>Westers</td>\n",
       "      <td>Lara</td>\n",
       "      <td>V</td>\n",
       "      <td>Rinsumageast</td>\n",
       "      <td>Dantumadiel</td>\n",
       "      <td>GM1891</td>\n",
       "      <td>Friesland</td>\n",
       "    </tr>\n",
       "    <tr>\n",
       "      <td>6</td>\n",
       "      <td>27</td>\n",
       "      <td>Mourik</td>\n",
       "      <td>Stefan</td>\n",
       "      <td>M</td>\n",
       "      <td>Hoenderloo</td>\n",
       "      <td>Ede</td>\n",
       "      <td>GM0228</td>\n",
       "      <td>Gelderland</td>\n",
       "    </tr>\n",
       "    <tr>\n",
       "      <td>7</td>\n",
       "      <td>13</td>\n",
       "      <td>Kesteren, van</td>\n",
       "      <td>Jeroen</td>\n",
       "      <td>M</td>\n",
       "      <td>Annen</td>\n",
       "      <td>AaenHunze</td>\n",
       "      <td>GM1680</td>\n",
       "      <td>Drenthe</td>\n",
       "    </tr>\n",
       "    <tr>\n",
       "      <td>8</td>\n",
       "      <td>59</td>\n",
       "      <td>Gomes</td>\n",
       "      <td>Job</td>\n",
       "      <td>M</td>\n",
       "      <td>Bergschenhoek</td>\n",
       "      <td>Lansingerland</td>\n",
       "      <td>GM1621</td>\n",
       "      <td>Zuid-Holland</td>\n",
       "    </tr>\n",
       "    <tr>\n",
       "      <td>9</td>\n",
       "      <td>47</td>\n",
       "      <td>Michels</td>\n",
       "      <td>Simon</td>\n",
       "      <td>M</td>\n",
       "      <td>Everdingen</td>\n",
       "      <td>Vianen</td>\n",
       "      <td>GM0620</td>\n",
       "      <td>Utrecht</td>\n",
       "    </tr>\n",
       "    <tr>\n",
       "      <td>10</td>\n",
       "      <td>55</td>\n",
       "      <td>Palen, van der</td>\n",
       "      <td>Selena</td>\n",
       "      <td>V</td>\n",
       "      <td>Rinsumageast</td>\n",
       "      <td>Dantumadiel</td>\n",
       "      <td>GM1891</td>\n",
       "      <td>Friesland</td>\n",
       "    </tr>\n",
       "    <tr>\n",
       "      <td>11</td>\n",
       "      <td>94</td>\n",
       "      <td>Thiel</td>\n",
       "      <td>Mohamed</td>\n",
       "      <td>M</td>\n",
       "      <td>Nieuwebrug</td>\n",
       "      <td>Heerenveen</td>\n",
       "      <td>GM0074</td>\n",
       "      <td>Friesland</td>\n",
       "    </tr>\n",
       "    <tr>\n",
       "      <td>12</td>\n",
       "      <td>53</td>\n",
       "      <td>Hof, op 't</td>\n",
       "      <td>Anna</td>\n",
       "      <td>V</td>\n",
       "      <td>Lemele</td>\n",
       "      <td>Ommen</td>\n",
       "      <td>GM0175</td>\n",
       "      <td>Overijssel</td>\n",
       "    </tr>\n",
       "    <tr>\n",
       "      <td>13</td>\n",
       "      <td>48</td>\n",
       "      <td>Dorrepaal</td>\n",
       "      <td>Ties</td>\n",
       "      <td>M</td>\n",
       "      <td>Broekland</td>\n",
       "      <td>Raalte</td>\n",
       "      <td>GM0177</td>\n",
       "      <td>Overijssel</td>\n",
       "    </tr>\n",
       "    <tr>\n",
       "      <td>14</td>\n",
       "      <td>44</td>\n",
       "      <td>Barbier</td>\n",
       "      <td>Merel</td>\n",
       "      <td>V</td>\n",
       "      <td>Schalsum</td>\n",
       "      <td>Waadhoeke</td>\n",
       "      <td>GM1949</td>\n",
       "      <td>Friesland</td>\n",
       "    </tr>\n",
       "    <tr>\n",
       "      <td>15</td>\n",
       "      <td>34</td>\n",
       "      <td>Vleeshouwers</td>\n",
       "      <td>Noor</td>\n",
       "      <td>V</td>\n",
       "      <td>Aalst</td>\n",
       "      <td>Zaltbommel</td>\n",
       "      <td>GM0297</td>\n",
       "      <td>Gelderland</td>\n",
       "    </tr>\n",
       "    <tr>\n",
       "      <td>16</td>\n",
       "      <td>72</td>\n",
       "      <td>Niesten</td>\n",
       "      <td>Robin</td>\n",
       "      <td>M</td>\n",
       "      <td>Aalst</td>\n",
       "      <td>Zaltbommel</td>\n",
       "      <td>GM0297</td>\n",
       "      <td>Gelderland</td>\n",
       "    </tr>\n",
       "    <tr>\n",
       "      <td>17</td>\n",
       "      <td>53</td>\n",
       "      <td>Boutkan</td>\n",
       "      <td>Bo</td>\n",
       "      <td>V</td>\n",
       "      <td>Annen</td>\n",
       "      <td>AaenHunze</td>\n",
       "      <td>GM1680</td>\n",
       "      <td>Drenthe</td>\n",
       "    </tr>\n",
       "    <tr>\n",
       "      <td>18</td>\n",
       "      <td>91</td>\n",
       "      <td>Li</td>\n",
       "      <td>Jeroen</td>\n",
       "      <td>M</td>\n",
       "      <td>Kreileroord</td>\n",
       "      <td>HollandsKroon</td>\n",
       "      <td>GM1911</td>\n",
       "      <td>Noord-Holland</td>\n",
       "    </tr>\n",
       "    <tr>\n",
       "      <td>19</td>\n",
       "      <td>0</td>\n",
       "      <td>Scheerhoorn</td>\n",
       "      <td>Robin</td>\n",
       "      <td>M</td>\n",
       "      <td>Eldersloo</td>\n",
       "      <td>AaenHunze</td>\n",
       "      <td>GM1680</td>\n",
       "      <td>Drenthe</td>\n",
       "    </tr>\n",
       "    <tr>\n",
       "      <td>20</td>\n",
       "      <td>3</td>\n",
       "      <td>Ribbers</td>\n",
       "      <td>Tom</td>\n",
       "      <td>M</td>\n",
       "      <td>Rhee</td>\n",
       "      <td>Assen</td>\n",
       "      <td>GM0106</td>\n",
       "      <td>Drenthe</td>\n",
       "    </tr>\n",
       "    <tr>\n",
       "      <td>21</td>\n",
       "      <td>79</td>\n",
       "      <td>Woldhuis</td>\n",
       "      <td>Eline</td>\n",
       "      <td>V</td>\n",
       "      <td>Leimuiderbrug</td>\n",
       "      <td>Haarlemmermeer</td>\n",
       "      <td>GM0394</td>\n",
       "      <td>Noord-Holland</td>\n",
       "    </tr>\n",
       "    <tr>\n",
       "      <td>22</td>\n",
       "      <td>3</td>\n",
       "      <td>Zoutenbier</td>\n",
       "      <td>Feline</td>\n",
       "      <td>V</td>\n",
       "      <td>Paesens</td>\n",
       "      <td>Dongeradeel</td>\n",
       "      <td>GM0058</td>\n",
       "      <td>Friesland</td>\n",
       "    </tr>\n",
       "    <tr>\n",
       "      <td>23</td>\n",
       "      <td>36</td>\n",
       "      <td>Waninge</td>\n",
       "      <td>Marc</td>\n",
       "      <td>M</td>\n",
       "      <td>Broekland</td>\n",
       "      <td>Raalte</td>\n",
       "      <td>GM0177</td>\n",
       "      <td>Overijssel</td>\n",
       "    </tr>\n",
       "    <tr>\n",
       "      <td>24</td>\n",
       "      <td>86</td>\n",
       "      <td>Thiel</td>\n",
       "      <td>Ayoub</td>\n",
       "      <td>M</td>\n",
       "      <td>Alphen aan den Rijn</td>\n",
       "      <td>AlphenaandenRijn</td>\n",
       "      <td>GM0484</td>\n",
       "      <td>Zuid-Holland</td>\n",
       "    </tr>\n",
       "  </tbody>\n",
       "</table>\n",
       "</div>"
      ],
      "text/plain": [
       "          klant_id      achternaam voornaam geslacht           Woonplaats  \\\n",
       "klant_id                                                                    \n",
       "0                8      Luijn, van   Noëlle        V       Bergen op Zoom   \n",
       "1               79       Oldenhuis   Feline        V              Stokkum   \n",
       "2               52              Li     Levi        M             Stegeren   \n",
       "3               98      Avest, ter   Willem        M            Heemstede   \n",
       "4               15        Selhorst    Nynke        V           Hoensbroek   \n",
       "5                9         Westers     Lara        V         Rinsumageast   \n",
       "6               27          Mourik   Stefan        M           Hoenderloo   \n",
       "7               13   Kesteren, van   Jeroen        M                Annen   \n",
       "8               59           Gomes      Job        M        Bergschenhoek   \n",
       "9               47         Michels    Simon        M           Everdingen   \n",
       "10              55  Palen, van der   Selena        V         Rinsumageast   \n",
       "11              94           Thiel  Mohamed        M           Nieuwebrug   \n",
       "12              53      Hof, op 't     Anna        V               Lemele   \n",
       "13              48       Dorrepaal     Ties        M            Broekland   \n",
       "14              44         Barbier    Merel        V             Schalsum   \n",
       "15              34    Vleeshouwers     Noor        V                Aalst   \n",
       "16              72         Niesten    Robin        M                Aalst   \n",
       "17              53         Boutkan       Bo        V                Annen   \n",
       "18              91              Li   Jeroen        M          Kreileroord   \n",
       "19               0     Scheerhoorn    Robin        M            Eldersloo   \n",
       "20               3         Ribbers      Tom        M                 Rhee   \n",
       "21              79        Woldhuis    Eline        V        Leimuiderbrug   \n",
       "22               3      Zoutenbier   Feline        V              Paesens   \n",
       "23              36         Waninge     Marc        M            Broekland   \n",
       "24              86           Thiel    Ayoub        M  Alphen aan den Rijn   \n",
       "\n",
       "            Gemeente|Naam  Gemeente|Code  Provincie|Naam  \n",
       "klant_id                                                  \n",
       "0             BergenopZoom         GM0748  Noord-Brabant  \n",
       "1              Montferland         GM1955     Gelderland  \n",
       "2                    Ommen         GM0175     Overijssel  \n",
       "3                Heemstede         GM0397  Noord-Holland  \n",
       "4                  Heerlen         GM0917        Limburg  \n",
       "5              Dantumadiel         GM1891      Friesland  \n",
       "6                      Ede         GM0228     Gelderland  \n",
       "7                AaenHunze         GM1680        Drenthe  \n",
       "8            Lansingerland         GM1621   Zuid-Holland  \n",
       "9                   Vianen         GM0620        Utrecht  \n",
       "10             Dantumadiel         GM1891      Friesland  \n",
       "11              Heerenveen         GM0074      Friesland  \n",
       "12                   Ommen         GM0175     Overijssel  \n",
       "13                  Raalte         GM0177     Overijssel  \n",
       "14               Waadhoeke         GM1949      Friesland  \n",
       "15              Zaltbommel         GM0297     Gelderland  \n",
       "16              Zaltbommel         GM0297     Gelderland  \n",
       "17               AaenHunze         GM1680        Drenthe  \n",
       "18           HollandsKroon         GM1911  Noord-Holland  \n",
       "19               AaenHunze         GM1680        Drenthe  \n",
       "20                   Assen         GM0106        Drenthe  \n",
       "21          Haarlemmermeer         GM0394  Noord-Holland  \n",
       "22             Dongeradeel         GM0058      Friesland  \n",
       "23                  Raalte         GM0177     Overijssel  \n",
       "24        AlphenaandenRijn         GM0484   Zuid-Holland  "
      ]
     },
     "execution_count": 120,
     "metadata": {},
     "output_type": "execute_result"
    }
   ],
   "source": [
    "klant_df=klant_df.join(woonplaatsen_df[['Woonplaats', 'Gemeente|Naam ', 'Gemeente|Code ', 'Provincie|Naam']],\\\n",
    "              on='klant_woonplaats')\n",
    "klant_df.drop(columns=['klant_woonplaats'], inplace=True)\n",
    "klant_df=klant_df[~klant_df.duplicated(subset=['klant_id','achternaam'], keep='first')]\n",
    "del woonplaatsen_df\n",
    "klant_df"
   ]
  },
  {
   "cell_type": "code",
   "execution_count": null,
   "metadata": {},
   "outputs": [],
   "source": []
  },
  {
   "cell_type": "code",
   "execution_count": 121,
   "metadata": {},
   "outputs": [],
   "source": [
    "# import modules\n",
    "#import random\n",
    "import datetime\n",
    "\n",
    "# create function accepting a single parameter, the year as a four digit number\n",
    "def get_random_date(year):\n",
    "    \n",
    "    calendar=pd.bdate_range(start='01-01-'+year, end='31-12-'+year)\n",
    "    random_day=random.randint(0, 261)\n",
    "    \n",
    "    # try to get a date\n",
    "    try:\n",
    "#        return datetime.datetime.strptime('{} {}'.format(random.randint(1, 366), year), '%j %Y')\n",
    "        return datetime.datetime.strptime(calendar[random_day].strftime('%Y-%m-%d') ,'%Y-%m-%d')\n",
    "\n",
    "    # if the value happens to be in the leap year range, try again\n",
    "    except ValueError:\n",
    "        get_random_date(year)"
   ]
  },
  {
   "cell_type": "code",
   "execution_count": 122,
   "metadata": {},
   "outputs": [
    {
     "name": "stdout",
     "output_type": "stream",
     "text": [
      "n_verkoop_order_df : 162\n",
      "\n",
      "                  klant_id verkoop_order_datum\n",
      "verkoop_order_id                              \n",
      "0                       21          2019-01-02\n",
      "1                       14          2019-01-03\n",
      "2                       18          2019-01-04\n",
      "3                        5          2019-01-09\n",
      "4                        3          2019-01-09\n",
      "5                       20          2019-01-10\n",
      "6                       20          2019-01-11\n",
      "7                        8          2019-01-11\n",
      "8                       19          2019-01-15\n",
      "9                       19          2019-01-17\n"
     ]
    }
   ],
   "source": [
    "verkoop_order_df = pd.DataFrame(data=(random.randint(0,25, size=(n_verkoop_order_df, 2))), columns=['klant_id','verkoop_order_datum'])\n",
    "verkoop_order_df['verkoop_order_datum'] = verkoop_order_df['verkoop_order_datum'].apply(lambda x: get_random_date(year))\n",
    "verkoop_order_df.sort_values(by='verkoop_order_datum', inplace=True)\n",
    "verkoop_order_df.reset_index(drop=True, inplace=True)\n",
    "verkoop_order_df.index.rename('verkoop_order_id', inplace=True)\n",
    "\n",
    "\n",
    "if show_intermediate_results == True:\n",
    "    print('n_verkoop_order_df : {}\\n'.format(n_verkoop_order_df))\n",
    "    print(verkoop_order_df.head(10))"
   ]
  },
  {
   "cell_type": "code",
   "execution_count": 123,
   "metadata": {},
   "outputs": [
    {
     "data": {
      "image/png": "[encoded data removed]",
      "text/plain": [
       "<Figure size 1440x144 with 1 Axes>"
      ]
     },
     "metadata": {
      "needs_background": "light"
     },
     "output_type": "display_data"
    }
   ],
   "source": [
    "if show_intermediate_results == True:\n",
    "    verkoop_order_df.plot(x='verkoop_order_datum', figsize=(20,2), legend=False, title='Aantal_verkoop_orders_per_datum', kind='line')"
   ]
  },
  {
   "cell_type": "code",
   "execution_count": 124,
   "metadata": {},
   "outputs": [
    {
     "data": {
      "application/vnd.plotly.v1+json": {
       "config": {
        "plotlyServerURL": "https://plot.ly"
       },
       "data": [
        {
         "alignmentgroup": "True",
         "bingroup": "x",
         "hovertemplate": "verkoop_order_datum=%{x}<br>count=%{y}<extra></extra>",
         "legendgroup": "",
         "marker": {
          "color": "#636efa"
         },
         "name": "",
         "nbinsx": 12,
         "offsetgroup": "",
         "orientation": "v",
         "showlegend": false,
         "type": "histogram",
         "x": [
          "2019-01-02T00:00:00",
          "2019-01-03T00:00:00",
          "2019-01-04T00:00:00",
          "2019-01-09T00:00:00",
          "2019-01-09T00:00:00",
          "2019-01-10T00:00:00",
          "2019-01-11T00:00:00",
          "2019-01-11T00:00:00",
          "2019-01-15T00:00:00",
          "2019-01-17T00:00:00",
          "2019-01-23T00:00:00",
          "2019-01-24T00:00:00",
          "2019-01-24T00:00:00",
          "2019-01-25T00:00:00",
          "2019-01-28T00:00:00",
          "2019-01-29T00:00:00",
          "2019-01-29T00:00:00",
          "2019-02-01T00:00:00",
          "2019-02-05T00:00:00",
          "2019-02-05T00:00:00",
          "2019-02-05T00:00:00",
          "2019-02-05T00:00:00",
          "2019-02-08T00:00:00",
          "2019-02-19T00:00:00",
          "2019-02-20T00:00:00",
          "2019-02-21T00:00:00",
          "2019-02-22T00:00:00",
          "2019-02-25T00:00:00",
          "2019-02-25T00:00:00",
          "2019-02-28T00:00:00",
          "2019-03-01T00:00:00",
          "2019-03-06T00:00:00",
          "2019-03-06T00:00:00",
          "2019-03-06T00:00:00",
          "2019-03-07T00:00:00",
          "2019-03-08T00:00:00",
          "2019-03-11T00:00:00",
          "2019-03-11T00:00:00",
          "2019-03-12T00:00:00",
          "2019-03-13T00:00:00",
          "2019-03-15T00:00:00",
          "2019-03-18T00:00:00",
          "2019-03-18T00:00:00",
          "2019-03-19T00:00:00",
          "2019-03-19T00:00:00",
          "2019-03-20T00:00:00",
          "2019-03-25T00:00:00",
          "2019-03-26T00:00:00",
          "2019-03-29T00:00:00",
          "2019-03-29T00:00:00",
          "2019-04-01T00:00:00",
          "2019-04-01T00:00:00",
          "2019-04-02T00:00:00",
          "2019-04-03T00:00:00",
          "2019-04-11T00:00:00",
          "2019-04-12T00:00:00",
          "2019-04-17T00:00:00",
          "2019-04-22T00:00:00",
          "2019-04-22T00:00:00",
          "2019-04-26T00:00:00",
          "2019-04-29T00:00:00",
          "2019-05-01T00:00:00",
          "2019-05-02T00:00:00",
          "2019-05-02T00:00:00",
          "2019-05-03T00:00:00",
          "2019-05-03T00:00:00",
          "2019-05-06T00:00:00",
          "2019-05-08T00:00:00",
          "2019-05-09T00:00:00",
          "2019-05-10T00:00:00",
          "2019-05-13T00:00:00",
          "2019-05-15T00:00:00",
          "2019-05-16T00:00:00",
          "2019-05-17T00:00:00",
          "2019-05-20T00:00:00",
          "2019-05-21T00:00:00",
          "2019-05-21T00:00:00",
          "2019-05-22T00:00:00",
          "2019-05-22T00:00:00",
          "2019-05-22T00:00:00",
          "2019-05-23T00:00:00",
          "2019-05-27T00:00:00",
          "2019-05-30T00:00:00",
          "2019-05-31T00:00:00",
          "2019-06-04T00:00:00",
          "2019-06-04T00:00:00",
          "2019-06-06T00:00:00",
          "2019-06-11T00:00:00",
          "2019-06-13T00:00:00",
          "2019-06-13T00:00:00",
          "2019-06-14T00:00:00",
          "2019-06-18T00:00:00",
          "2019-06-21T00:00:00",
          "2019-06-24T00:00:00",
          "2019-06-26T00:00:00",
          "2019-06-28T00:00:00",
          "2019-07-02T00:00:00",
          "2019-07-04T00:00:00",
          "2019-07-05T00:00:00",
          "2019-07-08T00:00:00",
          "2019-07-09T00:00:00",
          "2019-07-11T00:00:00",
          "2019-07-16T00:00:00",
          "2019-07-25T00:00:00",
          "2019-07-26T00:00:00",
          "2019-07-26T00:00:00",
          "2019-07-31T00:00:00",
          "2019-08-01T00:00:00",
          "2019-08-08T00:00:00",
          "2019-08-14T00:00:00",
          "2019-08-27T00:00:00",
          "2019-08-30T00:00:00",
          "2019-09-04T00:00:00",
          "2019-09-13T00:00:00",
          "2019-09-17T00:00:00",
          "2019-09-17T00:00:00",
          "2019-09-18T00:00:00",
          "2019-09-24T00:00:00",
          "2019-09-25T00:00:00",
          "2019-09-25T00:00:00",
          "2019-09-26T00:00:00",
          "2019-09-27T00:00:00",
          "2019-09-30T00:00:00",
          "2019-10-02T00:00:00",
          "2019-10-07T00:00:00",
          "2019-10-10T00:00:00",
          "2019-10-10T00:00:00",
          "2019-10-11T00:00:00",
          "2019-10-15T00:00:00",
          "2019-10-17T00:00:00",
          "2019-10-21T00:00:00",
          "2019-10-22T00:00:00",
          "2019-10-22T00:00:00",
          "2019-10-24T00:00:00",
          "2019-10-29T00:00:00",
          "2019-10-29T00:00:00",
          "2019-10-29T00:00:00",
          "2019-10-31T00:00:00",
          "2019-11-05T00:00:00",
          "2019-11-06T00:00:00",
          "2019-11-14T00:00:00",
          "2019-11-21T00:00:00",
          "2019-11-22T00:00:00",
          "2019-11-25T00:00:00",
          "2019-11-26T00:00:00",
          "2019-11-29T00:00:00",
          "2019-12-09T00:00:00",
          "2019-12-12T00:00:00",
          "2019-12-16T00:00:00",
          "2019-12-16T00:00:00",
          "2019-12-17T00:00:00",
          "2019-12-18T00:00:00",
          "2019-12-18T00:00:00",
          "2019-12-20T00:00:00",
          "2019-12-20T00:00:00",
          "2019-12-20T00:00:00",
          "2019-12-24T00:00:00",
          "2019-12-24T00:00:00",
          "2019-12-25T00:00:00",
          "2019-12-26T00:00:00",
          "2019-12-26T00:00:00",
          "2019-12-31T00:00:00"
         ],
         "xaxis": "x",
         "yaxis": "y"
        }
       ],
       "layout": {
        "barmode": "relative",
        "legend": {
         "tracegroupgap": 0
        },
        "margin": {
         "t": 60
        },
        "template": {
         "data": {
          "bar": [
           {
            "error_x": {
             "color": "#2a3f5f"
            },
            "error_y": {
             "color": "#2a3f5f"
            },
            "marker": {
             "line": {
              "color": "#E5ECF6",
              "width": 0.5
             }
            },
            "type": "bar"
           }
          ],
          "barpolar": [
           {
            "marker": {
             "line": {
              "color": "#E5ECF6",
              "width": 0.5
             }
            },
            "type": "barpolar"
           }
          ],
          "carpet": [
           {
            "aaxis": {
             "endlinecolor": "#2a3f5f",
             "gridcolor": "white",
             "linecolor": "white",
             "minorgridcolor": "white",
             "startlinecolor": "#2a3f5f"
            },
            "baxis": {
             "endlinecolor": "#2a3f5f",
             "gridcolor": "white",
             "linecolor": "white",
             "minorgridcolor": "white",
             "startlinecolor": "#2a3f5f"
            },
            "type": "carpet"
           }
          ],
          "choropleth": [
           {
            "colorbar": {
             "outlinewidth": 0,
             "ticks": ""
            },
            "type": "choropleth"
           }
          ],
          "contour": [
           {
            "colorbar": {
             "outlinewidth": 0,
             "ticks": ""
            },
            "colorscale": [
             [
              0,
              "#0d0887"
             ],
             [
              0.1111111111111111,
              "#46039f"
             ],
             [
              0.2222222222222222,
              "#7201a8"
             ],
             [
              0.3333333333333333,
              "#9c179e"
             ],
             [
              0.4444444444444444,
              "#bd3786"
             ],
             [
              0.5555555555555556,
              "#d8576b"
             ],
             [
              0.6666666666666666,
              "#ed7953"
             ],
             [
              0.7777777777777778,
              "#fb9f3a"
             ],
             [
              0.8888888888888888,
              "#fdca26"
             ],
             [
              1,
              "#f0f921"
             ]
            ],
            "type": "contour"
           }
          ],
          "contourcarpet": [
           {
            "colorbar": {
             "outlinewidth": 0,
             "ticks": ""
            },
            "type": "contourcarpet"
           }
          ],
          "heatmap": [
           {
            "colorbar": {
             "outlinewidth": 0,
             "ticks": ""
            },
            "colorscale": [
             [
              0,
              "#0d0887"
             ],
             [
              0.1111111111111111,
              "#46039f"
             ],
             [
              0.2222222222222222,
              "#7201a8"
             ],
             [
              0.3333333333333333,
              "#9c179e"
             ],
             [
              0.4444444444444444,
              "#bd3786"
             ],
             [
              0.5555555555555556,
              "#d8576b"
             ],
             [
              0.6666666666666666,
              "#ed7953"
             ],
             [
              0.7777777777777778,
              "#fb9f3a"
             ],
             [
              0.8888888888888888,
              "#fdca26"
             ],
             [
              1,
              "#f0f921"
             ]
            ],
            "type": "heatmap"
           }
          ],
          "heatmapgl": [
           {
            "colorbar": {
             "outlinewidth": 0,
             "ticks": ""
            },
            "colorscale": [
             [
              0,
              "#0d0887"
             ],
             [
              0.1111111111111111,
              "#46039f"
             ],
             [
              0.2222222222222222,
              "#7201a8"
             ],
             [
              0.3333333333333333,
              "#9c179e"
             ],
             [
              0.4444444444444444,
              "#bd3786"
             ],
             [
              0.5555555555555556,
              "#d8576b"
             ],
             [
              0.6666666666666666,
              "#ed7953"
             ],
             [
              0.7777777777777778,
              "#fb9f3a"
             ],
             [
              0.8888888888888888,
              "#fdca26"
             ],
             [
              1,
              "#f0f921"
             ]
            ],
            "type": "heatmapgl"
           }
          ],
          "histogram": [
           {
            "marker": {
             "colorbar": {
              "outlinewidth": 0,
              "ticks": ""
             }
            },
            "type": "histogram"
           }
          ],
          "histogram2d": [
           {
            "colorbar": {
             "outlinewidth": 0,
             "ticks": ""
            },
            "colorscale": [
             [
              0,
              "#0d0887"
             ],
             [
              0.1111111111111111,
              "#46039f"
             ],
             [
              0.2222222222222222,
              "#7201a8"
             ],
             [
              0.3333333333333333,
              "#9c179e"
             ],
             [
              0.4444444444444444,
              "#bd3786"
             ],
             [
              0.5555555555555556,
              "#d8576b"
             ],
             [
              0.6666666666666666,
              "#ed7953"
             ],
             [
              0.7777777777777778,
              "#fb9f3a"
             ],
             [
              0.8888888888888888,
              "#fdca26"
             ],
             [
              1,
              "#f0f921"
             ]
            ],
            "type": "histogram2d"
           }
          ],
          "histogram2dcontour": [
           {
            "colorbar": {
             "outlinewidth": 0,
             "ticks": ""
            },
            "colorscale": [
             [
              0,
              "#0d0887"
             ],
             [
              0.1111111111111111,
              "#46039f"
             ],
             [
              0.2222222222222222,
              "#7201a8"
             ],
             [
              0.3333333333333333,
              "#9c179e"
             ],
             [
              0.4444444444444444,
              "#bd3786"
             ],
             [
              0.5555555555555556,
              "#d8576b"
             ],
             [
              0.6666666666666666,
              "#ed7953"
             ],
             [
              0.7777777777777778,
              "#fb9f3a"
             ],
             [
              0.8888888888888888,
              "#fdca26"
             ],
             [
              1,
              "#f0f921"
             ]
            ],
            "type": "histogram2dcontour"
           }
          ],
          "mesh3d": [
           {
            "colorbar": {
             "outlinewidth": 0,
             "ticks": ""
            },
            "type": "mesh3d"
           }
          ],
          "parcoords": [
           {
            "line": {
             "colorbar": {
              "outlinewidth": 0,
              "ticks": ""
             }
            },
            "type": "parcoords"
           }
          ],
          "pie": [
           {
            "automargin": true,
            "type": "pie"
           }
          ],
          "scatter": [
           {
            "marker": {
             "colorbar": {
              "outlinewidth": 0,
              "ticks": ""
             }
            },
            "type": "scatter"
           }
          ],
          "scatter3d": [
           {
            "line": {
             "colorbar": {
              "outlinewidth": 0,
              "ticks": ""
             }
            },
            "marker": {
             "colorbar": {
              "outlinewidth": 0,
              "ticks": ""
             }
            },
            "type": "scatter3d"
           }
          ],
          "scattercarpet": [
           {
            "marker": {
             "colorbar": {
              "outlinewidth": 0,
              "ticks": ""
             }
            },
            "type": "scattercarpet"
           }
          ],
          "scattergeo": [
           {
            "marker": {
             "colorbar": {
              "outlinewidth": 0,
              "ticks": ""
             }
            },
            "type": "scattergeo"
           }
          ],
          "scattergl": [
           {
            "marker": {
             "colorbar": {
              "outlinewidth": 0,
              "ticks": ""
             }
            },
            "type": "scattergl"
           }
          ],
          "scattermapbox": [
           {
            "marker": {
             "colorbar": {
              "outlinewidth": 0,
              "ticks": ""
             }
            },
            "type": "scattermapbox"
           }
          ],
          "scatterpolar": [
           {
            "marker": {
             "colorbar": {
              "outlinewidth": 0,
              "ticks": ""
             }
            },
            "type": "scatterpolar"
           }
          ],
          "scatterpolargl": [
           {
            "marker": {
             "colorbar": {
              "outlinewidth": 0,
              "ticks": ""
             }
            },
            "type": "scatterpolargl"
           }
          ],
          "scatterternary": [
           {
            "marker": {
             "colorbar": {
              "outlinewidth": 0,
              "ticks": ""
             }
            },
            "type": "scatterternary"
           }
          ],
          "surface": [
           {
            "colorbar": {
             "outlinewidth": 0,
             "ticks": ""
            },
            "colorscale": [
             [
              0,
              "#0d0887"
             ],
             [
              0.1111111111111111,
              "#46039f"
             ],
             [
              0.2222222222222222,
              "#7201a8"
             ],
             [
              0.3333333333333333,
              "#9c179e"
             ],
             [
              0.4444444444444444,
              "#bd3786"
             ],
             [
              0.5555555555555556,
              "#d8576b"
             ],
             [
              0.6666666666666666,
              "#ed7953"
             ],
             [
              0.7777777777777778,
              "#fb9f3a"
             ],
             [
              0.8888888888888888,
              "#fdca26"
             ],
             [
              1,
              "#f0f921"
             ]
            ],
            "type": "surface"
           }
          ],
          "table": [
           {
            "cells": {
             "fill": {
              "color": "#EBF0F8"
             },
             "line": {
              "color": "white"
             }
            },
            "header": {
             "fill": {
              "color": "#C8D4E3"
             },
             "line": {
              "color": "white"
             }
            },
            "type": "table"
           }
          ]
         },
         "layout": {
          "annotationdefaults": {
           "arrowcolor": "#2a3f5f",
           "arrowhead": 0,
           "arrowwidth": 1
          },
          "coloraxis": {
           "colorbar": {
            "outlinewidth": 0,
            "ticks": ""
           }
          },
          "colorscale": {
           "diverging": [
            [
             0,
             "#8e0152"
            ],
            [
             0.1,
             "#c51b7d"
            ],
            [
             0.2,
             "#de77ae"
            ],
            [
             0.3,
             "#f1b6da"
            ],
            [
             0.4,
             "#fde0ef"
            ],
            [
             0.5,
             "#f7f7f7"
            ],
            [
             0.6,
             "#e6f5d0"
            ],
            [
             0.7,
             "#b8e186"
            ],
            [
             0.8,
             "#7fbc41"
            ],
            [
             0.9,
             "#4d9221"
            ],
            [
             1,
             "#276419"
            ]
           ],
           "sequential": [
            [
             0,
             "#0d0887"
            ],
            [
             0.1111111111111111,
             "#46039f"
            ],
            [
             0.2222222222222222,
             "#7201a8"
            ],
            [
             0.3333333333333333,
             "#9c179e"
            ],
            [
             0.4444444444444444,
             "#bd3786"
            ],
            [
             0.5555555555555556,
             "#d8576b"
            ],
            [
             0.6666666666666666,
             "#ed7953"
            ],
            [
             0.7777777777777778,
             "#fb9f3a"
            ],
            [
             0.8888888888888888,
             "#fdca26"
            ],
            [
             1,
             "#f0f921"
            ]
           ],
           "sequentialminus": [
            [
             0,
             "#0d0887"
            ],
            [
             0.1111111111111111,
             "#46039f"
            ],
            [
             0.2222222222222222,
             "#7201a8"
            ],
            [
             0.3333333333333333,
             "#9c179e"
            ],
            [
             0.4444444444444444,
             "#bd3786"
            ],
            [
             0.5555555555555556,
             "#d8576b"
            ],
            [
             0.6666666666666666,
             "#ed7953"
            ],
            [
             0.7777777777777778,
             "#fb9f3a"
            ],
            [
             0.8888888888888888,
             "#fdca26"
            ],
            [
             1,
             "#f0f921"
            ]
           ]
          },
          "colorway": [
           "#636efa",
           "#EF553B",
           "#00cc96",
           "#ab63fa",
           "#FFA15A",
           "#19d3f3",
           "#FF6692",
           "#B6E880",
           "#FF97FF",
           "#FECB52"
          ],
          "font": {
           "color": "#2a3f5f"
          },
          "geo": {
           "bgcolor": "white",
           "lakecolor": "white",
           "landcolor": "#E5ECF6",
           "showlakes": true,
           "showland": true,
           "subunitcolor": "white"
          },
          "hoverlabel": {
           "align": "left"
          },
          "hovermode": "closest",
          "mapbox": {
           "style": "light"
          },
          "paper_bgcolor": "white",
          "plot_bgcolor": "#E5ECF6",
          "polar": {
           "angularaxis": {
            "gridcolor": "white",
            "linecolor": "white",
            "ticks": ""
           },
           "bgcolor": "#E5ECF6",
           "radialaxis": {
            "gridcolor": "white",
            "linecolor": "white",
            "ticks": ""
           }
          },
          "scene": {
           "xaxis": {
            "backgroundcolor": "#E5ECF6",
            "gridcolor": "white",
            "gridwidth": 2,
            "linecolor": "white",
            "showbackground": true,
            "ticks": "",
            "zerolinecolor": "white"
           },
           "yaxis": {
            "backgroundcolor": "#E5ECF6",
            "gridcolor": "white",
            "gridwidth": 2,
            "linecolor": "white",
            "showbackground": true,
            "ticks": "",
            "zerolinecolor": "white"
           },
           "zaxis": {
            "backgroundcolor": "#E5ECF6",
            "gridcolor": "white",
            "gridwidth": 2,
            "linecolor": "white",
            "showbackground": true,
            "ticks": "",
            "zerolinecolor": "white"
           }
          },
          "shapedefaults": {
           "line": {
            "color": "#2a3f5f"
           }
          },
          "ternary": {
           "aaxis": {
            "gridcolor": "white",
            "linecolor": "white",
            "ticks": ""
           },
           "baxis": {
            "gridcolor": "white",
            "linecolor": "white",
            "ticks": ""
           },
           "bgcolor": "#E5ECF6",
           "caxis": {
            "gridcolor": "white",
            "linecolor": "white",
            "ticks": ""
           }
          },
          "title": {
           "x": 0.05
          },
          "xaxis": {
           "automargin": true,
           "gridcolor": "white",
           "linecolor": "white",
           "ticks": "",
           "title": {
            "standoff": 15
           },
           "zerolinecolor": "white",
           "zerolinewidth": 2
          },
          "yaxis": {
           "automargin": true,
           "gridcolor": "white",
           "linecolor": "white",
           "ticks": "",
           "title": {
            "standoff": 15
           },
           "zerolinecolor": "white",
           "zerolinewidth": 2
          }
         }
        },
        "xaxis": {
         "anchor": "y",
         "domain": [
          0,
          1
         ],
         "title": {
          "text": "verkoop_order_datum"
         }
        },
        "yaxis": {
         "anchor": "x",
         "domain": [
          0,
          1
         ],
         "title": {
          "text": "count"
         }
        }
       }
      },
      "text/html": [
       "<div>\n",
       "        \n",
       "        \n",
       "            <div id=\"58069630-4ad9-4652-adfd-92eab7e00726\" class=\"plotly-graph-div\" style=\"height:525px; width:100%;\"></div>\n",
       "            <script type=\"text/javascript\">\n",
       "                require([\"plotly\"], function(Plotly) {\n",
       "                    window.PLOTLYENV=window.PLOTLYENV || {};\n",
       "                    \n",
       "                if (document.getElementById(\"58069630-4ad9-4652-adfd-92eab7e00726\")) {\n",
       "                    Plotly.newPlot(\n",
       "                        '58069630-4ad9-4652-adfd-92eab7e00726',\n",
       "                        [{\"alignmentgroup\": \"True\", \"bingroup\": \"x\", \"hovertemplate\": \"verkoop_order_datum=%{x}<br>count=%{y}<extra></extra>\", \"legendgroup\": \"\", \"marker\": {\"color\": \"#636efa\"}, \"name\": \"\", \"nbinsx\": 12, \"offsetgroup\": \"\", \"orientation\": \"v\", \"showlegend\": false, \"type\": \"histogram\", \"x\": [\"2019-01-02T00:00:00\", \"2019-01-03T00:00:00\", \"2019-01-04T00:00:00\", \"2019-01-09T00:00:00\", \"2019-01-09T00:00:00\", \"2019-01-10T00:00:00\", \"2019-01-11T00:00:00\", \"2019-01-11T00:00:00\", \"2019-01-15T00:00:00\", \"2019-01-17T00:00:00\", \"2019-01-23T00:00:00\", \"2019-01-24T00:00:00\", \"2019-01-24T00:00:00\", \"2019-01-25T00:00:00\", \"2019-01-28T00:00:00\", \"2019-01-29T00:00:00\", \"2019-01-29T00:00:00\", \"2019-02-01T00:00:00\", \"2019-02-05T00:00:00\", \"2019-02-05T00:00:00\", \"2019-02-05T00:00:00\", \"2019-02-05T00:00:00\", \"2019-02-08T00:00:00\", \"2019-02-19T00:00:00\", \"2019-02-20T00:00:00\", \"2019-02-21T00:00:00\", \"2019-02-22T00:00:00\", \"2019-02-25T00:00:00\", \"2019-02-25T00:00:00\", \"2019-02-28T00:00:00\", \"2019-03-01T00:00:00\", \"2019-03-06T00:00:00\", \"2019-03-06T00:00:00\", \"2019-03-06T00:00:00\", \"2019-03-07T00:00:00\", \"2019-03-08T00:00:00\", \"2019-03-11T00:00:00\", \"2019-03-11T00:00:00\", \"2019-03-12T00:00:00\", \"2019-03-13T00:00:00\", \"2019-03-15T00:00:00\", \"2019-03-18T00:00:00\", \"2019-03-18T00:00:00\", \"2019-03-19T00:00:00\", \"2019-03-19T00:00:00\", \"2019-03-20T00:00:00\", \"2019-03-25T00:00:00\", \"2019-03-26T00:00:00\", \"2019-03-29T00:00:00\", \"2019-03-29T00:00:00\", \"2019-04-01T00:00:00\", \"2019-04-01T00:00:00\", \"2019-04-02T00:00:00\", \"2019-04-03T00:00:00\", \"2019-04-11T00:00:00\", \"2019-04-12T00:00:00\", \"2019-04-17T00:00:00\", \"2019-04-22T00:00:00\", \"2019-04-22T00:00:00\", \"2019-04-26T00:00:00\", \"2019-04-29T00:00:00\", \"2019-05-01T00:00:00\", \"2019-05-02T00:00:00\", \"2019-05-02T00:00:00\", \"2019-05-03T00:00:00\", \"2019-05-03T00:00:00\", \"2019-05-06T00:00:00\", \"2019-05-08T00:00:00\", \"2019-05-09T00:00:00\", \"2019-05-10T00:00:00\", \"2019-05-13T00:00:00\", \"2019-05-15T00:00:00\", \"2019-05-16T00:00:00\", \"2019-05-17T00:00:00\", \"2019-05-20T00:00:00\", \"2019-05-21T00:00:00\", \"2019-05-21T00:00:00\", \"2019-05-22T00:00:00\", \"2019-05-22T00:00:00\", \"2019-05-22T00:00:00\", \"2019-05-23T00:00:00\", \"2019-05-27T00:00:00\", \"2019-05-30T00:00:00\", \"2019-05-31T00:00:00\", \"2019-06-04T00:00:00\", \"2019-06-04T00:00:00\", \"2019-06-06T00:00:00\", \"2019-06-11T00:00:00\", \"2019-06-13T00:00:00\", \"2019-06-13T00:00:00\", \"2019-06-14T00:00:00\", \"2019-06-18T00:00:00\", \"2019-06-21T00:00:00\", \"2019-06-24T00:00:00\", \"2019-06-26T00:00:00\", \"2019-06-28T00:00:00\", \"2019-07-02T00:00:00\", \"2019-07-04T00:00:00\", \"2019-07-05T00:00:00\", \"2019-07-08T00:00:00\", \"2019-07-09T00:00:00\", \"2019-07-11T00:00:00\", \"2019-07-16T00:00:00\", \"2019-07-25T00:00:00\", \"2019-07-26T00:00:00\", \"2019-07-26T00:00:00\", \"2019-07-31T00:00:00\", \"2019-08-01T00:00:00\", \"2019-08-08T00:00:00\", \"2019-08-14T00:00:00\", \"2019-08-27T00:00:00\", \"2019-08-30T00:00:00\", \"2019-09-04T00:00:00\", \"2019-09-13T00:00:00\", \"2019-09-17T00:00:00\", \"2019-09-17T00:00:00\", \"2019-09-18T00:00:00\", \"2019-09-24T00:00:00\", \"2019-09-25T00:00:00\", \"2019-09-25T00:00:00\", \"2019-09-26T00:00:00\", \"2019-09-27T00:00:00\", \"2019-09-30T00:00:00\", \"2019-10-02T00:00:00\", \"2019-10-07T00:00:00\", \"2019-10-10T00:00:00\", \"2019-10-10T00:00:00\", \"2019-10-11T00:00:00\", \"2019-10-15T00:00:00\", \"2019-10-17T00:00:00\", \"2019-10-21T00:00:00\", \"2019-10-22T00:00:00\", \"2019-10-22T00:00:00\", \"2019-10-24T00:00:00\", \"2019-10-29T00:00:00\", \"2019-10-29T00:00:00\", \"2019-10-29T00:00:00\", \"2019-10-31T00:00:00\", \"2019-11-05T00:00:00\", \"2019-11-06T00:00:00\", \"2019-11-14T00:00:00\", \"2019-11-21T00:00:00\", \"2019-11-22T00:00:00\", \"2019-11-25T00:00:00\", \"2019-11-26T00:00:00\", \"2019-11-29T00:00:00\", \"2019-12-09T00:00:00\", \"2019-12-12T00:00:00\", \"2019-12-16T00:00:00\", \"2019-12-16T00:00:00\", \"2019-12-17T00:00:00\", \"2019-12-18T00:00:00\", \"2019-12-18T00:00:00\", \"2019-12-20T00:00:00\", \"2019-12-20T00:00:00\", \"2019-12-20T00:00:00\", \"2019-12-24T00:00:00\", \"2019-12-24T00:00:00\", \"2019-12-25T00:00:00\", \"2019-12-26T00:00:00\", \"2019-12-26T00:00:00\", \"2019-12-31T00:00:00\"], \"xaxis\": \"x\", \"yaxis\": \"y\"}],\n",
       "                        {\"barmode\": \"relative\", \"legend\": {\"tracegroupgap\": 0}, \"margin\": {\"t\": 60}, \"template\": {\"data\": {\"bar\": [{\"error_x\": {\"color\": \"#2a3f5f\"}, \"error_y\": {\"color\": \"#2a3f5f\"}, \"marker\": {\"line\": {\"color\": \"#E5ECF6\", \"width\": 0.5}}, \"type\": \"bar\"}], \"barpolar\": [{\"marker\": {\"line\": {\"color\": \"#E5ECF6\", \"width\": 0.5}}, \"type\": \"barpolar\"}], \"carpet\": [{\"aaxis\": {\"endlinecolor\": \"#2a3f5f\", \"gridcolor\": \"white\", \"linecolor\": \"white\", \"minorgridcolor\": \"white\", \"startlinecolor\": \"#2a3f5f\"}, \"baxis\": {\"endlinecolor\": \"#2a3f5f\", \"gridcolor\": \"white\", \"linecolor\": \"white\", \"minorgridcolor\": \"white\", \"startlinecolor\": \"#2a3f5f\"}, \"type\": \"carpet\"}], \"choropleth\": [{\"colorbar\": {\"outlinewidth\": 0, \"ticks\": \"\"}, \"type\": \"choropleth\"}], \"contour\": [{\"colorbar\": {\"outlinewidth\": 0, \"ticks\": \"\"}, \"colorscale\": [[0.0, \"#0d0887\"], [0.1111111111111111, \"#46039f\"], [0.2222222222222222, \"#7201a8\"], [0.3333333333333333, \"#9c179e\"], [0.4444444444444444, \"#bd3786\"], [0.5555555555555556, \"#d8576b\"], [0.6666666666666666, \"#ed7953\"], [0.7777777777777778, \"#fb9f3a\"], [0.8888888888888888, \"#fdca26\"], [1.0, \"#f0f921\"]], \"type\": \"contour\"}], \"contourcarpet\": [{\"colorbar\": {\"outlinewidth\": 0, \"ticks\": \"\"}, \"type\": \"contourcarpet\"}], \"heatmap\": [{\"colorbar\": {\"outlinewidth\": 0, \"ticks\": \"\"}, \"colorscale\": [[0.0, \"#0d0887\"], [0.1111111111111111, \"#46039f\"], [0.2222222222222222, \"#7201a8\"], [0.3333333333333333, \"#9c179e\"], [0.4444444444444444, \"#bd3786\"], [0.5555555555555556, \"#d8576b\"], [0.6666666666666666, \"#ed7953\"], [0.7777777777777778, \"#fb9f3a\"], [0.8888888888888888, \"#fdca26\"], [1.0, \"#f0f921\"]], \"type\": \"heatmap\"}], \"heatmapgl\": [{\"colorbar\": {\"outlinewidth\": 0, \"ticks\": \"\"}, \"colorscale\": [[0.0, \"#0d0887\"], [0.1111111111111111, \"#46039f\"], [0.2222222222222222, \"#7201a8\"], [0.3333333333333333, \"#9c179e\"], [0.4444444444444444, \"#bd3786\"], [0.5555555555555556, \"#d8576b\"], [0.6666666666666666, \"#ed7953\"], [0.7777777777777778, \"#fb9f3a\"], [0.8888888888888888, \"#fdca26\"], [1.0, \"#f0f921\"]], \"type\": \"heatmapgl\"}], \"histogram\": [{\"marker\": {\"colorbar\": {\"outlinewidth\": 0, \"ticks\": \"\"}}, \"type\": \"histogram\"}], \"histogram2d\": [{\"colorbar\": {\"outlinewidth\": 0, \"ticks\": \"\"}, \"colorscale\": [[0.0, \"#0d0887\"], [0.1111111111111111, \"#46039f\"], [0.2222222222222222, \"#7201a8\"], [0.3333333333333333, \"#9c179e\"], [0.4444444444444444, \"#bd3786\"], [0.5555555555555556, \"#d8576b\"], [0.6666666666666666, \"#ed7953\"], [0.7777777777777778, \"#fb9f3a\"], [0.8888888888888888, \"#fdca26\"], [1.0, \"#f0f921\"]], \"type\": \"histogram2d\"}], \"histogram2dcontour\": [{\"colorbar\": {\"outlinewidth\": 0, \"ticks\": \"\"}, \"colorscale\": [[0.0, \"#0d0887\"], [0.1111111111111111, \"#46039f\"], [0.2222222222222222, \"#7201a8\"], [0.3333333333333333, \"#9c179e\"], [0.4444444444444444, \"#bd3786\"], [0.5555555555555556, \"#d8576b\"], [0.6666666666666666, \"#ed7953\"], [0.7777777777777778, \"#fb9f3a\"], [0.8888888888888888, \"#fdca26\"], [1.0, \"#f0f921\"]], \"type\": \"histogram2dcontour\"}], \"mesh3d\": [{\"colorbar\": {\"outlinewidth\": 0, \"ticks\": \"\"}, \"type\": \"mesh3d\"}], \"parcoords\": [{\"line\": {\"colorbar\": {\"outlinewidth\": 0, \"ticks\": \"\"}}, \"type\": \"parcoords\"}], \"pie\": [{\"automargin\": true, \"type\": \"pie\"}], \"scatter\": [{\"marker\": {\"colorbar\": {\"outlinewidth\": 0, \"ticks\": \"\"}}, \"type\": \"scatter\"}], \"scatter3d\": [{\"line\": {\"colorbar\": {\"outlinewidth\": 0, \"ticks\": \"\"}}, \"marker\": {\"colorbar\": {\"outlinewidth\": 0, \"ticks\": \"\"}}, \"type\": \"scatter3d\"}], \"scattercarpet\": [{\"marker\": {\"colorbar\": {\"outlinewidth\": 0, \"ticks\": \"\"}}, \"type\": \"scattercarpet\"}], \"scattergeo\": [{\"marker\": {\"colorbar\": {\"outlinewidth\": 0, \"ticks\": \"\"}}, \"type\": \"scattergeo\"}], \"scattergl\": [{\"marker\": {\"colorbar\": {\"outlinewidth\": 0, \"ticks\": \"\"}}, \"type\": \"scattergl\"}], \"scattermapbox\": [{\"marker\": {\"colorbar\": {\"outlinewidth\": 0, \"ticks\": \"\"}}, \"type\": \"scattermapbox\"}], \"scatterpolar\": [{\"marker\": {\"colorbar\": {\"outlinewidth\": 0, \"ticks\": \"\"}}, \"type\": \"scatterpolar\"}], \"scatterpolargl\": [{\"marker\": {\"colorbar\": {\"outlinewidth\": 0, \"ticks\": \"\"}}, \"type\": \"scatterpolargl\"}], \"scatterternary\": [{\"marker\": {\"colorbar\": {\"outlinewidth\": 0, \"ticks\": \"\"}}, \"type\": \"scatterternary\"}], \"surface\": [{\"colorbar\": {\"outlinewidth\": 0, \"ticks\": \"\"}, \"colorscale\": [[0.0, \"#0d0887\"], [0.1111111111111111, \"#46039f\"], [0.2222222222222222, \"#7201a8\"], [0.3333333333333333, \"#9c179e\"], [0.4444444444444444, \"#bd3786\"], [0.5555555555555556, \"#d8576b\"], [0.6666666666666666, \"#ed7953\"], [0.7777777777777778, \"#fb9f3a\"], [0.8888888888888888, \"#fdca26\"], [1.0, \"#f0f921\"]], \"type\": \"surface\"}], \"table\": [{\"cells\": {\"fill\": {\"color\": \"#EBF0F8\"}, \"line\": {\"color\": \"white\"}}, \"header\": {\"fill\": {\"color\": \"#C8D4E3\"}, \"line\": {\"color\": \"white\"}}, \"type\": \"table\"}]}, \"layout\": {\"annotationdefaults\": {\"arrowcolor\": \"#2a3f5f\", \"arrowhead\": 0, \"arrowwidth\": 1}, \"coloraxis\": {\"colorbar\": {\"outlinewidth\": 0, \"ticks\": \"\"}}, \"colorscale\": {\"diverging\": [[0, \"#8e0152\"], [0.1, \"#c51b7d\"], [0.2, \"#de77ae\"], [0.3, \"#f1b6da\"], [0.4, \"#fde0ef\"], [0.5, \"#f7f7f7\"], [0.6, \"#e6f5d0\"], [0.7, \"#b8e186\"], [0.8, \"#7fbc41\"], [0.9, \"#4d9221\"], [1, \"#276419\"]], \"sequential\": [[0.0, \"#0d0887\"], [0.1111111111111111, \"#46039f\"], [0.2222222222222222, \"#7201a8\"], [0.3333333333333333, \"#9c179e\"], [0.4444444444444444, \"#bd3786\"], [0.5555555555555556, \"#d8576b\"], [0.6666666666666666, \"#ed7953\"], [0.7777777777777778, \"#fb9f3a\"], [0.8888888888888888, \"#fdca26\"], [1.0, \"#f0f921\"]], \"sequentialminus\": [[0.0, \"#0d0887\"], [0.1111111111111111, \"#46039f\"], [0.2222222222222222, \"#7201a8\"], [0.3333333333333333, \"#9c179e\"], [0.4444444444444444, \"#bd3786\"], [0.5555555555555556, \"#d8576b\"], [0.6666666666666666, \"#ed7953\"], [0.7777777777777778, \"#fb9f3a\"], [0.8888888888888888, \"#fdca26\"], [1.0, \"#f0f921\"]]}, \"colorway\": [\"#636efa\", \"#EF553B\", \"#00cc96\", \"#ab63fa\", \"#FFA15A\", \"#19d3f3\", \"#FF6692\", \"#B6E880\", \"#FF97FF\", \"#FECB52\"], \"font\": {\"color\": \"#2a3f5f\"}, \"geo\": {\"bgcolor\": \"white\", \"lakecolor\": \"white\", \"landcolor\": \"#E5ECF6\", \"showlakes\": true, \"showland\": true, \"subunitcolor\": \"white\"}, \"hoverlabel\": {\"align\": \"left\"}, \"hovermode\": \"closest\", \"mapbox\": {\"style\": \"light\"}, \"paper_bgcolor\": \"white\", \"plot_bgcolor\": \"#E5ECF6\", \"polar\": {\"angularaxis\": {\"gridcolor\": \"white\", \"linecolor\": \"white\", \"ticks\": \"\"}, \"bgcolor\": \"#E5ECF6\", \"radialaxis\": {\"gridcolor\": \"white\", \"linecolor\": \"white\", \"ticks\": \"\"}}, \"scene\": {\"xaxis\": {\"backgroundcolor\": \"#E5ECF6\", \"gridcolor\": \"white\", \"gridwidth\": 2, \"linecolor\": \"white\", \"showbackground\": true, \"ticks\": \"\", \"zerolinecolor\": \"white\"}, \"yaxis\": {\"backgroundcolor\": \"#E5ECF6\", \"gridcolor\": \"white\", \"gridwidth\": 2, \"linecolor\": \"white\", \"showbackground\": true, \"ticks\": \"\", \"zerolinecolor\": \"white\"}, \"zaxis\": {\"backgroundcolor\": \"#E5ECF6\", \"gridcolor\": \"white\", \"gridwidth\": 2, \"linecolor\": \"white\", \"showbackground\": true, \"ticks\": \"\", \"zerolinecolor\": \"white\"}}, \"shapedefaults\": {\"line\": {\"color\": \"#2a3f5f\"}}, \"ternary\": {\"aaxis\": {\"gridcolor\": \"white\", \"linecolor\": \"white\", \"ticks\": \"\"}, \"baxis\": {\"gridcolor\": \"white\", \"linecolor\": \"white\", \"ticks\": \"\"}, \"bgcolor\": \"#E5ECF6\", \"caxis\": {\"gridcolor\": \"white\", \"linecolor\": \"white\", \"ticks\": \"\"}}, \"title\": {\"x\": 0.05}, \"xaxis\": {\"automargin\": true, \"gridcolor\": \"white\", \"linecolor\": \"white\", \"ticks\": \"\", \"title\": {\"standoff\": 15}, \"zerolinecolor\": \"white\", \"zerolinewidth\": 2}, \"yaxis\": {\"automargin\": true, \"gridcolor\": \"white\", \"linecolor\": \"white\", \"ticks\": \"\", \"title\": {\"standoff\": 15}, \"zerolinecolor\": \"white\", \"zerolinewidth\": 2}}}, \"xaxis\": {\"anchor\": \"y\", \"domain\": [0.0, 1.0], \"title\": {\"text\": \"verkoop_order_datum\"}}, \"yaxis\": {\"anchor\": \"x\", \"domain\": [0.0, 1.0], \"title\": {\"text\": \"count\"}}},\n",
       "                        {\"responsive\": true}\n",
       "                    ).then(function(){\n",
       "                            \n",
       "var gd = document.getElementById('58069630-4ad9-4652-adfd-92eab7e00726');\n",
       "var x = new MutationObserver(function (mutations, observer) {{\n",
       "        var display = window.getComputedStyle(gd).display;\n",
       "        if (!display || display === 'none') {{\n",
       "            console.log([gd, 'removed!']);\n",
       "            Plotly.purge(gd);\n",
       "            observer.disconnect();\n",
       "        }}\n",
       "}});\n",
       "\n",
       "// Listen for the removal of the full notebook cells\n",
       "var notebookContainer = gd.closest('#notebook-container');\n",
       "if (notebookContainer) {{\n",
       "    x.observe(notebookContainer, {childList: true});\n",
       "}}\n",
       "\n",
       "// Listen for the clearing of the current output cell\n",
       "var outputEl = gd.closest('.output');\n",
       "if (outputEl) {{\n",
       "    x.observe(outputEl, {childList: true});\n",
       "}}\n",
       "\n",
       "                        })\n",
       "                };\n",
       "                });\n",
       "            </script>\n",
       "        </div>"
      ]
     },
     "metadata": {},
     "output_type": "display_data"
    }
   ],
   "source": [
    "if show_intermediate_results == True:\n",
    "#    verkoop_order_df.hist(column='klant_id', bins=10)\n",
    "    fig=px.histogram(verkoop_order_df, x='verkoop_order_datum', nbins=12)\n",
    "    fig.show()"
   ]
  },
  {
   "cell_type": "code",
   "execution_count": 125,
   "metadata": {},
   "outputs": [
    {
     "data": {
      "application/vnd.plotly.v1+json": {
       "config": {
        "plotlyServerURL": "https://plot.ly"
       },
       "data": [
        {
         "alignmentgroup": "True",
         "bingroup": "x",
         "hovertemplate": "klant_id=%{x}<br>count=%{y}<extra></extra>",
         "legendgroup": "",
         "marker": {
          "color": "#636efa"
         },
         "name": "",
         "nbinsx": 10,
         "offsetgroup": "",
         "orientation": "v",
         "showlegend": false,
         "type": "histogram",
         "x": [
          21,
          14,
          18,
          5,
          3,
          20,
          20,
          8,
          19,
          19,
          18,
          21,
          19,
          17,
          18,
          0,
          16,
          9,
          1,
          24,
          20,
          20,
          18,
          3,
          18,
          0,
          24,
          18,
          8,
          18,
          13,
          19,
          2,
          0,
          0,
          24,
          24,
          7,
          18,
          18,
          11,
          10,
          10,
          7,
          14,
          7,
          16,
          5,
          6,
          11,
          7,
          17,
          1,
          4,
          12,
          7,
          5,
          6,
          9,
          0,
          23,
          5,
          0,
          21,
          7,
          7,
          10,
          17,
          23,
          13,
          19,
          19,
          1,
          20,
          8,
          3,
          14,
          18,
          5,
          4,
          4,
          13,
          13,
          4,
          24,
          21,
          4,
          12,
          19,
          17,
          13,
          12,
          9,
          11,
          8,
          4,
          4,
          15,
          19,
          23,
          22,
          7,
          2,
          21,
          14,
          16,
          8,
          22,
          0,
          24,
          17,
          1,
          12,
          14,
          9,
          10,
          12,
          23,
          15,
          19,
          1,
          14,
          14,
          7,
          0,
          23,
          6,
          2,
          6,
          23,
          3,
          22,
          5,
          16,
          18,
          16,
          14,
          17,
          23,
          14,
          13,
          6,
          23,
          11,
          21,
          9,
          21,
          24,
          16,
          9,
          20,
          7,
          11,
          14,
          7,
          1,
          9,
          7,
          5,
          23,
          9,
          18
         ],
         "xaxis": "x",
         "yaxis": "y"
        }
       ],
       "layout": {
        "barmode": "relative",
        "legend": {
         "tracegroupgap": 0
        },
        "margin": {
         "t": 60
        },
        "template": {
         "data": {
          "bar": [
           {
            "error_x": {
             "color": "#2a3f5f"
            },
            "error_y": {
             "color": "#2a3f5f"
            },
            "marker": {
             "line": {
              "color": "#E5ECF6",
              "width": 0.5
             }
            },
            "type": "bar"
           }
          ],
          "barpolar": [
           {
            "marker": {
             "line": {
              "color": "#E5ECF6",
              "width": 0.5
             }
            },
            "type": "barpolar"
           }
          ],
          "carpet": [
           {
            "aaxis": {
             "endlinecolor": "#2a3f5f",
             "gridcolor": "white",
             "linecolor": "white",
             "minorgridcolor": "white",
             "startlinecolor": "#2a3f5f"
            },
            "baxis": {
             "endlinecolor": "#2a3f5f",
             "gridcolor": "white",
             "linecolor": "white",
             "minorgridcolor": "white",
             "startlinecolor": "#2a3f5f"
            },
            "type": "carpet"
           }
          ],
          "choropleth": [
           {
            "colorbar": {
             "outlinewidth": 0,
             "ticks": ""
            },
            "type": "choropleth"
           }
          ],
          "contour": [
           {
            "colorbar": {
             "outlinewidth": 0,
             "ticks": ""
            },
            "colorscale": [
             [
              0,
              "#0d0887"
             ],
             [
              0.1111111111111111,
              "#46039f"
             ],
             [
              0.2222222222222222,
              "#7201a8"
             ],
             [
              0.3333333333333333,
              "#9c179e"
             ],
             [
              0.4444444444444444,
              "#bd3786"
             ],
             [
              0.5555555555555556,
              "#d8576b"
             ],
             [
              0.6666666666666666,
              "#ed7953"
             ],
             [
              0.7777777777777778,
              "#fb9f3a"
             ],
             [
              0.8888888888888888,
              "#fdca26"
             ],
             [
              1,
              "#f0f921"
             ]
            ],
            "type": "contour"
           }
          ],
          "contourcarpet": [
           {
            "colorbar": {
             "outlinewidth": 0,
             "ticks": ""
            },
            "type": "contourcarpet"
           }
          ],
          "heatmap": [
           {
            "colorbar": {
             "outlinewidth": 0,
             "ticks": ""
            },
            "colorscale": [
             [
              0,
              "#0d0887"
             ],
             [
              0.1111111111111111,
              "#46039f"
             ],
             [
              0.2222222222222222,
              "#7201a8"
             ],
             [
              0.3333333333333333,
              "#9c179e"
             ],
             [
              0.4444444444444444,
              "#bd3786"
             ],
             [
              0.5555555555555556,
              "#d8576b"
             ],
             [
              0.6666666666666666,
              "#ed7953"
             ],
             [
              0.7777777777777778,
              "#fb9f3a"
             ],
             [
              0.8888888888888888,
              "#fdca26"
             ],
             [
              1,
              "#f0f921"
             ]
            ],
            "type": "heatmap"
           }
          ],
          "heatmapgl": [
           {
            "colorbar": {
             "outlinewidth": 0,
             "ticks": ""
            },
            "colorscale": [
             [
              0,
              "#0d0887"
             ],
             [
              0.1111111111111111,
              "#46039f"
             ],
             [
              0.2222222222222222,
              "#7201a8"
             ],
             [
              0.3333333333333333,
              "#9c179e"
             ],
             [
              0.4444444444444444,
              "#bd3786"
             ],
             [
              0.5555555555555556,
              "#d8576b"
             ],
             [
              0.6666666666666666,
              "#ed7953"
             ],
             [
              0.7777777777777778,
              "#fb9f3a"
             ],
             [
              0.8888888888888888,
              "#fdca26"
             ],
             [
              1,
              "#f0f921"
             ]
            ],
            "type": "heatmapgl"
           }
          ],
          "histogram": [
           {
            "marker": {
             "colorbar": {
              "outlinewidth": 0,
              "ticks": ""
             }
            },
            "type": "histogram"
           }
          ],
          "histogram2d": [
           {
            "colorbar": {
             "outlinewidth": 0,
             "ticks": ""
            },
            "colorscale": [
             [
              0,
              "#0d0887"
             ],
             [
              0.1111111111111111,
              "#46039f"
             ],
             [
              0.2222222222222222,
              "#7201a8"
             ],
             [
              0.3333333333333333,
              "#9c179e"
             ],
             [
              0.4444444444444444,
              "#bd3786"
             ],
             [
              0.5555555555555556,
              "#d8576b"
             ],
             [
              0.6666666666666666,
              "#ed7953"
             ],
             [
              0.7777777777777778,
              "#fb9f3a"
             ],
             [
              0.8888888888888888,
              "#fdca26"
             ],
             [
              1,
              "#f0f921"
             ]
            ],
            "type": "histogram2d"
           }
          ],
          "histogram2dcontour": [
           {
            "colorbar": {
             "outlinewidth": 0,
             "ticks": ""
            },
            "colorscale": [
             [
              0,
              "#0d0887"
             ],
             [
              0.1111111111111111,
              "#46039f"
             ],
             [
              0.2222222222222222,
              "#7201a8"
             ],
             [
              0.3333333333333333,
              "#9c179e"
             ],
             [
              0.4444444444444444,
              "#bd3786"
             ],
             [
              0.5555555555555556,
              "#d8576b"
             ],
             [
              0.6666666666666666,
              "#ed7953"
             ],
             [
              0.7777777777777778,
              "#fb9f3a"
             ],
             [
              0.8888888888888888,
              "#fdca26"
             ],
             [
              1,
              "#f0f921"
             ]
            ],
            "type": "histogram2dcontour"
           }
          ],
          "mesh3d": [
           {
            "colorbar": {
             "outlinewidth": 0,
             "ticks": ""
            },
            "type": "mesh3d"
           }
          ],
          "parcoords": [
           {
            "line": {
             "colorbar": {
              "outlinewidth": 0,
              "ticks": ""
             }
            },
            "type": "parcoords"
           }
          ],
          "pie": [
           {
            "automargin": true,
            "type": "pie"
           }
          ],
          "scatter": [
           {
            "marker": {
             "colorbar": {
              "outlinewidth": 0,
              "ticks": ""
             }
            },
            "type": "scatter"
           }
          ],
          "scatter3d": [
           {
            "line": {
             "colorbar": {
              "outlinewidth": 0,
              "ticks": ""
             }
            },
            "marker": {
             "colorbar": {
              "outlinewidth": 0,
              "ticks": ""
             }
            },
            "type": "scatter3d"
           }
          ],
          "scattercarpet": [
           {
            "marker": {
             "colorbar": {
              "outlinewidth": 0,
              "ticks": ""
             }
            },
            "type": "scattercarpet"
           }
          ],
          "scattergeo": [
           {
            "marker": {
             "colorbar": {
              "outlinewidth": 0,
              "ticks": ""
             }
            },
            "type": "scattergeo"
           }
          ],
          "scattergl": [
           {
            "marker": {
             "colorbar": {
              "outlinewidth": 0,
              "ticks": ""
             }
            },
            "type": "scattergl"
           }
          ],
          "scattermapbox": [
           {
            "marker": {
             "colorbar": {
              "outlinewidth": 0,
              "ticks": ""
             }
            },
            "type": "scattermapbox"
           }
          ],
          "scatterpolar": [
           {
            "marker": {
             "colorbar": {
              "outlinewidth": 0,
              "ticks": ""
             }
            },
            "type": "scatterpolar"
           }
          ],
          "scatterpolargl": [
           {
            "marker": {
             "colorbar": {
              "outlinewidth": 0,
              "ticks": ""
             }
            },
            "type": "scatterpolargl"
           }
          ],
          "scatterternary": [
           {
            "marker": {
             "colorbar": {
              "outlinewidth": 0,
              "ticks": ""
             }
            },
            "type": "scatterternary"
           }
          ],
          "surface": [
           {
            "colorbar": {
             "outlinewidth": 0,
             "ticks": ""
            },
            "colorscale": [
             [
              0,
              "#0d0887"
             ],
             [
              0.1111111111111111,
              "#46039f"
             ],
             [
              0.2222222222222222,
              "#7201a8"
             ],
             [
              0.3333333333333333,
              "#9c179e"
             ],
             [
              0.4444444444444444,
              "#bd3786"
             ],
             [
              0.5555555555555556,
              "#d8576b"
             ],
             [
              0.6666666666666666,
              "#ed7953"
             ],
             [
              0.7777777777777778,
              "#fb9f3a"
             ],
             [
              0.8888888888888888,
              "#fdca26"
             ],
             [
              1,
              "#f0f921"
             ]
            ],
            "type": "surface"
           }
          ],
          "table": [
           {
            "cells": {
             "fill": {
              "color": "#EBF0F8"
             },
             "line": {
              "color": "white"
             }
            },
            "header": {
             "fill": {
              "color": "#C8D4E3"
             },
             "line": {
              "color": "white"
             }
            },
            "type": "table"
           }
          ]
         },
         "layout": {
          "annotationdefaults": {
           "arrowcolor": "#2a3f5f",
           "arrowhead": 0,
           "arrowwidth": 1
          },
          "coloraxis": {
           "colorbar": {
            "outlinewidth": 0,
            "ticks": ""
           }
          },
          "colorscale": {
           "diverging": [
            [
             0,
             "#8e0152"
            ],
            [
             0.1,
             "#c51b7d"
            ],
            [
             0.2,
             "#de77ae"
            ],
            [
             0.3,
             "#f1b6da"
            ],
            [
             0.4,
             "#fde0ef"
            ],
            [
             0.5,
             "#f7f7f7"
            ],
            [
             0.6,
             "#e6f5d0"
            ],
            [
             0.7,
             "#b8e186"
            ],
            [
             0.8,
             "#7fbc41"
            ],
            [
             0.9,
             "#4d9221"
            ],
            [
             1,
             "#276419"
            ]
           ],
           "sequential": [
            [
             0,
             "#0d0887"
            ],
            [
             0.1111111111111111,
             "#46039f"
            ],
            [
             0.2222222222222222,
             "#7201a8"
            ],
            [
             0.3333333333333333,
             "#9c179e"
            ],
            [
             0.4444444444444444,
             "#bd3786"
            ],
            [
             0.5555555555555556,
             "#d8576b"
            ],
            [
             0.6666666666666666,
             "#ed7953"
            ],
            [
             0.7777777777777778,
             "#fb9f3a"
            ],
            [
             0.8888888888888888,
             "#fdca26"
            ],
            [
             1,
             "#f0f921"
            ]
           ],
           "sequentialminus": [
            [
             0,
             "#0d0887"
            ],
            [
             0.1111111111111111,
             "#46039f"
            ],
            [
             0.2222222222222222,
             "#7201a8"
            ],
            [
             0.3333333333333333,
             "#9c179e"
            ],
            [
             0.4444444444444444,
             "#bd3786"
            ],
            [
             0.5555555555555556,
             "#d8576b"
            ],
            [
             0.6666666666666666,
             "#ed7953"
            ],
            [
             0.7777777777777778,
             "#fb9f3a"
            ],
            [
             0.8888888888888888,
             "#fdca26"
            ],
            [
             1,
             "#f0f921"
            ]
           ]
          },
          "colorway": [
           "#636efa",
           "#EF553B",
           "#00cc96",
           "#ab63fa",
           "#FFA15A",
           "#19d3f3",
           "#FF6692",
           "#B6E880",
           "#FF97FF",
           "#FECB52"
          ],
          "font": {
           "color": "#2a3f5f"
          },
          "geo": {
           "bgcolor": "white",
           "lakecolor": "white",
           "landcolor": "#E5ECF6",
           "showlakes": true,
           "showland": true,
           "subunitcolor": "white"
          },
          "hoverlabel": {
           "align": "left"
          },
          "hovermode": "closest",
          "mapbox": {
           "style": "light"
          },
          "paper_bgcolor": "white",
          "plot_bgcolor": "#E5ECF6",
          "polar": {
           "angularaxis": {
            "gridcolor": "white",
            "linecolor": "white",
            "ticks": ""
           },
           "bgcolor": "#E5ECF6",
           "radialaxis": {
            "gridcolor": "white",
            "linecolor": "white",
            "ticks": ""
           }
          },
          "scene": {
           "xaxis": {
            "backgroundcolor": "#E5ECF6",
            "gridcolor": "white",
            "gridwidth": 2,
            "linecolor": "white",
            "showbackground": true,
            "ticks": "",
            "zerolinecolor": "white"
           },
           "yaxis": {
            "backgroundcolor": "#E5ECF6",
            "gridcolor": "white",
            "gridwidth": 2,
            "linecolor": "white",
            "showbackground": true,
            "ticks": "",
            "zerolinecolor": "white"
           },
           "zaxis": {
            "backgroundcolor": "#E5ECF6",
            "gridcolor": "white",
            "gridwidth": 2,
            "linecolor": "white",
            "showbackground": true,
            "ticks": "",
            "zerolinecolor": "white"
           }
          },
          "shapedefaults": {
           "line": {
            "color": "#2a3f5f"
           }
          },
          "ternary": {
           "aaxis": {
            "gridcolor": "white",
            "linecolor": "white",
            "ticks": ""
           },
           "baxis": {
            "gridcolor": "white",
            "linecolor": "white",
            "ticks": ""
           },
           "bgcolor": "#E5ECF6",
           "caxis": {
            "gridcolor": "white",
            "linecolor": "white",
            "ticks": ""
           }
          },
          "title": {
           "x": 0.05
          },
          "xaxis": {
           "automargin": true,
           "gridcolor": "white",
           "linecolor": "white",
           "ticks": "",
           "title": {
            "standoff": 15
           },
           "zerolinecolor": "white",
           "zerolinewidth": 2
          },
          "yaxis": {
           "automargin": true,
           "gridcolor": "white",
           "linecolor": "white",
           "ticks": "",
           "title": {
            "standoff": 15
           },
           "zerolinecolor": "white",
           "zerolinewidth": 2
          }
         }
        },
        "xaxis": {
         "anchor": "y",
         "domain": [
          0,
          1
         ],
         "title": {
          "text": "klant_id"
         }
        },
        "yaxis": {
         "anchor": "x",
         "domain": [
          0,
          1
         ],
         "title": {
          "text": "count"
         }
        }
       }
      },
      "text/html": [
       "<div>\n",
       "        \n",
       "        \n",
       "            <div id=\"d50e62eb-b3f9-4a0c-a8c7-e7d0163f2c90\" class=\"plotly-graph-div\" style=\"height:525px; width:100%;\"></div>\n",
       "            <script type=\"text/javascript\">\n",
       "                require([\"plotly\"], function(Plotly) {\n",
       "                    window.PLOTLYENV=window.PLOTLYENV || {};\n",
       "                    \n",
       "                if (document.getElementById(\"d50e62eb-b3f9-4a0c-a8c7-e7d0163f2c90\")) {\n",
       "                    Plotly.newPlot(\n",
       "                        'd50e62eb-b3f9-4a0c-a8c7-e7d0163f2c90',\n",
       "                        [{\"alignmentgroup\": \"True\", \"bingroup\": \"x\", \"hovertemplate\": \"klant_id=%{x}<br>count=%{y}<extra></extra>\", \"legendgroup\": \"\", \"marker\": {\"color\": \"#636efa\"}, \"name\": \"\", \"nbinsx\": 10, \"offsetgroup\": \"\", \"orientation\": \"v\", \"showlegend\": false, \"type\": \"histogram\", \"x\": [21, 14, 18, 5, 3, 20, 20, 8, 19, 19, 18, 21, 19, 17, 18, 0, 16, 9, 1, 24, 20, 20, 18, 3, 18, 0, 24, 18, 8, 18, 13, 19, 2, 0, 0, 24, 24, 7, 18, 18, 11, 10, 10, 7, 14, 7, 16, 5, 6, 11, 7, 17, 1, 4, 12, 7, 5, 6, 9, 0, 23, 5, 0, 21, 7, 7, 10, 17, 23, 13, 19, 19, 1, 20, 8, 3, 14, 18, 5, 4, 4, 13, 13, 4, 24, 21, 4, 12, 19, 17, 13, 12, 9, 11, 8, 4, 4, 15, 19, 23, 22, 7, 2, 21, 14, 16, 8, 22, 0, 24, 17, 1, 12, 14, 9, 10, 12, 23, 15, 19, 1, 14, 14, 7, 0, 23, 6, 2, 6, 23, 3, 22, 5, 16, 18, 16, 14, 17, 23, 14, 13, 6, 23, 11, 21, 9, 21, 24, 16, 9, 20, 7, 11, 14, 7, 1, 9, 7, 5, 23, 9, 18], \"xaxis\": \"x\", \"yaxis\": \"y\"}],\n",
       "                        {\"barmode\": \"relative\", \"legend\": {\"tracegroupgap\": 0}, \"margin\": {\"t\": 60}, \"template\": {\"data\": {\"bar\": [{\"error_x\": {\"color\": \"#2a3f5f\"}, \"error_y\": {\"color\": \"#2a3f5f\"}, \"marker\": {\"line\": {\"color\": \"#E5ECF6\", \"width\": 0.5}}, \"type\": \"bar\"}], \"barpolar\": [{\"marker\": {\"line\": {\"color\": \"#E5ECF6\", \"width\": 0.5}}, \"type\": \"barpolar\"}], \"carpet\": [{\"aaxis\": {\"endlinecolor\": \"#2a3f5f\", \"gridcolor\": \"white\", \"linecolor\": \"white\", \"minorgridcolor\": \"white\", \"startlinecolor\": \"#2a3f5f\"}, \"baxis\": {\"endlinecolor\": \"#2a3f5f\", \"gridcolor\": \"white\", \"linecolor\": \"white\", \"minorgridcolor\": \"white\", \"startlinecolor\": \"#2a3f5f\"}, \"type\": \"carpet\"}], \"choropleth\": [{\"colorbar\": {\"outlinewidth\": 0, \"ticks\": \"\"}, \"type\": \"choropleth\"}], \"contour\": [{\"colorbar\": {\"outlinewidth\": 0, \"ticks\": \"\"}, \"colorscale\": [[0.0, \"#0d0887\"], [0.1111111111111111, \"#46039f\"], [0.2222222222222222, \"#7201a8\"], [0.3333333333333333, \"#9c179e\"], [0.4444444444444444, \"#bd3786\"], [0.5555555555555556, \"#d8576b\"], [0.6666666666666666, \"#ed7953\"], [0.7777777777777778, \"#fb9f3a\"], [0.8888888888888888, \"#fdca26\"], [1.0, \"#f0f921\"]], \"type\": \"contour\"}], \"contourcarpet\": [{\"colorbar\": {\"outlinewidth\": 0, \"ticks\": \"\"}, \"type\": \"contourcarpet\"}], \"heatmap\": [{\"colorbar\": {\"outlinewidth\": 0, \"ticks\": \"\"}, \"colorscale\": [[0.0, \"#0d0887\"], [0.1111111111111111, \"#46039f\"], [0.2222222222222222, \"#7201a8\"], [0.3333333333333333, \"#9c179e\"], [0.4444444444444444, \"#bd3786\"], [0.5555555555555556, \"#d8576b\"], [0.6666666666666666, \"#ed7953\"], [0.7777777777777778, \"#fb9f3a\"], [0.8888888888888888, \"#fdca26\"], [1.0, \"#f0f921\"]], \"type\": \"heatmap\"}], \"heatmapgl\": [{\"colorbar\": {\"outlinewidth\": 0, \"ticks\": \"\"}, \"colorscale\": [[0.0, \"#0d0887\"], [0.1111111111111111, \"#46039f\"], [0.2222222222222222, \"#7201a8\"], [0.3333333333333333, \"#9c179e\"], [0.4444444444444444, \"#bd3786\"], [0.5555555555555556, \"#d8576b\"], [0.6666666666666666, \"#ed7953\"], [0.7777777777777778, \"#fb9f3a\"], [0.8888888888888888, \"#fdca26\"], [1.0, \"#f0f921\"]], \"type\": \"heatmapgl\"}], \"histogram\": [{\"marker\": {\"colorbar\": {\"outlinewidth\": 0, \"ticks\": \"\"}}, \"type\": \"histogram\"}], \"histogram2d\": [{\"colorbar\": {\"outlinewidth\": 0, \"ticks\": \"\"}, \"colorscale\": [[0.0, \"#0d0887\"], [0.1111111111111111, \"#46039f\"], [0.2222222222222222, \"#7201a8\"], [0.3333333333333333, \"#9c179e\"], [0.4444444444444444, \"#bd3786\"], [0.5555555555555556, \"#d8576b\"], [0.6666666666666666, \"#ed7953\"], [0.7777777777777778, \"#fb9f3a\"], [0.8888888888888888, \"#fdca26\"], [1.0, \"#f0f921\"]], \"type\": \"histogram2d\"}], \"histogram2dcontour\": [{\"colorbar\": {\"outlinewidth\": 0, \"ticks\": \"\"}, \"colorscale\": [[0.0, \"#0d0887\"], [0.1111111111111111, \"#46039f\"], [0.2222222222222222, \"#7201a8\"], [0.3333333333333333, \"#9c179e\"], [0.4444444444444444, \"#bd3786\"], [0.5555555555555556, \"#d8576b\"], [0.6666666666666666, \"#ed7953\"], [0.7777777777777778, \"#fb9f3a\"], [0.8888888888888888, \"#fdca26\"], [1.0, \"#f0f921\"]], \"type\": \"histogram2dcontour\"}], \"mesh3d\": [{\"colorbar\": {\"outlinewidth\": 0, \"ticks\": \"\"}, \"type\": \"mesh3d\"}], \"parcoords\": [{\"line\": {\"colorbar\": {\"outlinewidth\": 0, \"ticks\": \"\"}}, \"type\": \"parcoords\"}], \"pie\": [{\"automargin\": true, \"type\": \"pie\"}], \"scatter\": [{\"marker\": {\"colorbar\": {\"outlinewidth\": 0, \"ticks\": \"\"}}, \"type\": \"scatter\"}], \"scatter3d\": [{\"line\": {\"colorbar\": {\"outlinewidth\": 0, \"ticks\": \"\"}}, \"marker\": {\"colorbar\": {\"outlinewidth\": 0, \"ticks\": \"\"}}, \"type\": \"scatter3d\"}], \"scattercarpet\": [{\"marker\": {\"colorbar\": {\"outlinewidth\": 0, \"ticks\": \"\"}}, \"type\": \"scattercarpet\"}], \"scattergeo\": [{\"marker\": {\"colorbar\": {\"outlinewidth\": 0, \"ticks\": \"\"}}, \"type\": \"scattergeo\"}], \"scattergl\": [{\"marker\": {\"colorbar\": {\"outlinewidth\": 0, \"ticks\": \"\"}}, \"type\": \"scattergl\"}], \"scattermapbox\": [{\"marker\": {\"colorbar\": {\"outlinewidth\": 0, \"ticks\": \"\"}}, \"type\": \"scattermapbox\"}], \"scatterpolar\": [{\"marker\": {\"colorbar\": {\"outlinewidth\": 0, \"ticks\": \"\"}}, \"type\": \"scatterpolar\"}], \"scatterpolargl\": [{\"marker\": {\"colorbar\": {\"outlinewidth\": 0, \"ticks\": \"\"}}, \"type\": \"scatterpolargl\"}], \"scatterternary\": [{\"marker\": {\"colorbar\": {\"outlinewidth\": 0, \"ticks\": \"\"}}, \"type\": \"scatterternary\"}], \"surface\": [{\"colorbar\": {\"outlinewidth\": 0, \"ticks\": \"\"}, \"colorscale\": [[0.0, \"#0d0887\"], [0.1111111111111111, \"#46039f\"], [0.2222222222222222, \"#7201a8\"], [0.3333333333333333, \"#9c179e\"], [0.4444444444444444, \"#bd3786\"], [0.5555555555555556, \"#d8576b\"], [0.6666666666666666, \"#ed7953\"], [0.7777777777777778, \"#fb9f3a\"], [0.8888888888888888, \"#fdca26\"], [1.0, \"#f0f921\"]], \"type\": \"surface\"}], \"table\": [{\"cells\": {\"fill\": {\"color\": \"#EBF0F8\"}, \"line\": {\"color\": \"white\"}}, \"header\": {\"fill\": {\"color\": \"#C8D4E3\"}, \"line\": {\"color\": \"white\"}}, \"type\": \"table\"}]}, \"layout\": {\"annotationdefaults\": {\"arrowcolor\": \"#2a3f5f\", \"arrowhead\": 0, \"arrowwidth\": 1}, \"coloraxis\": {\"colorbar\": {\"outlinewidth\": 0, \"ticks\": \"\"}}, \"colorscale\": {\"diverging\": [[0, \"#8e0152\"], [0.1, \"#c51b7d\"], [0.2, \"#de77ae\"], [0.3, \"#f1b6da\"], [0.4, \"#fde0ef\"], [0.5, \"#f7f7f7\"], [0.6, \"#e6f5d0\"], [0.7, \"#b8e186\"], [0.8, \"#7fbc41\"], [0.9, \"#4d9221\"], [1, \"#276419\"]], \"sequential\": [[0.0, \"#0d0887\"], [0.1111111111111111, \"#46039f\"], [0.2222222222222222, \"#7201a8\"], [0.3333333333333333, \"#9c179e\"], [0.4444444444444444, \"#bd3786\"], [0.5555555555555556, \"#d8576b\"], [0.6666666666666666, \"#ed7953\"], [0.7777777777777778, \"#fb9f3a\"], [0.8888888888888888, \"#fdca26\"], [1.0, \"#f0f921\"]], \"sequentialminus\": [[0.0, \"#0d0887\"], [0.1111111111111111, \"#46039f\"], [0.2222222222222222, \"#7201a8\"], [0.3333333333333333, \"#9c179e\"], [0.4444444444444444, \"#bd3786\"], [0.5555555555555556, \"#d8576b\"], [0.6666666666666666, \"#ed7953\"], [0.7777777777777778, \"#fb9f3a\"], [0.8888888888888888, \"#fdca26\"], [1.0, \"#f0f921\"]]}, \"colorway\": [\"#636efa\", \"#EF553B\", \"#00cc96\", \"#ab63fa\", \"#FFA15A\", \"#19d3f3\", \"#FF6692\", \"#B6E880\", \"#FF97FF\", \"#FECB52\"], \"font\": {\"color\": \"#2a3f5f\"}, \"geo\": {\"bgcolor\": \"white\", \"lakecolor\": \"white\", \"landcolor\": \"#E5ECF6\", \"showlakes\": true, \"showland\": true, \"subunitcolor\": \"white\"}, \"hoverlabel\": {\"align\": \"left\"}, \"hovermode\": \"closest\", \"mapbox\": {\"style\": \"light\"}, \"paper_bgcolor\": \"white\", \"plot_bgcolor\": \"#E5ECF6\", \"polar\": {\"angularaxis\": {\"gridcolor\": \"white\", \"linecolor\": \"white\", \"ticks\": \"\"}, \"bgcolor\": \"#E5ECF6\", \"radialaxis\": {\"gridcolor\": \"white\", \"linecolor\": \"white\", \"ticks\": \"\"}}, \"scene\": {\"xaxis\": {\"backgroundcolor\": \"#E5ECF6\", \"gridcolor\": \"white\", \"gridwidth\": 2, \"linecolor\": \"white\", \"showbackground\": true, \"ticks\": \"\", \"zerolinecolor\": \"white\"}, \"yaxis\": {\"backgroundcolor\": \"#E5ECF6\", \"gridcolor\": \"white\", \"gridwidth\": 2, \"linecolor\": \"white\", \"showbackground\": true, \"ticks\": \"\", \"zerolinecolor\": \"white\"}, \"zaxis\": {\"backgroundcolor\": \"#E5ECF6\", \"gridcolor\": \"white\", \"gridwidth\": 2, \"linecolor\": \"white\", \"showbackground\": true, \"ticks\": \"\", \"zerolinecolor\": \"white\"}}, \"shapedefaults\": {\"line\": {\"color\": \"#2a3f5f\"}}, \"ternary\": {\"aaxis\": {\"gridcolor\": \"white\", \"linecolor\": \"white\", \"ticks\": \"\"}, \"baxis\": {\"gridcolor\": \"white\", \"linecolor\": \"white\", \"ticks\": \"\"}, \"bgcolor\": \"#E5ECF6\", \"caxis\": {\"gridcolor\": \"white\", \"linecolor\": \"white\", \"ticks\": \"\"}}, \"title\": {\"x\": 0.05}, \"xaxis\": {\"automargin\": true, \"gridcolor\": \"white\", \"linecolor\": \"white\", \"ticks\": \"\", \"title\": {\"standoff\": 15}, \"zerolinecolor\": \"white\", \"zerolinewidth\": 2}, \"yaxis\": {\"automargin\": true, \"gridcolor\": \"white\", \"linecolor\": \"white\", \"ticks\": \"\", \"title\": {\"standoff\": 15}, \"zerolinecolor\": \"white\", \"zerolinewidth\": 2}}}, \"xaxis\": {\"anchor\": \"y\", \"domain\": [0.0, 1.0], \"title\": {\"text\": \"klant_id\"}}, \"yaxis\": {\"anchor\": \"x\", \"domain\": [0.0, 1.0], \"title\": {\"text\": \"count\"}}},\n",
       "                        {\"responsive\": true}\n",
       "                    ).then(function(){\n",
       "                            \n",
       "var gd = document.getElementById('d50e62eb-b3f9-4a0c-a8c7-e7d0163f2c90');\n",
       "var x = new MutationObserver(function (mutations, observer) {{\n",
       "        var display = window.getComputedStyle(gd).display;\n",
       "        if (!display || display === 'none') {{\n",
       "            console.log([gd, 'removed!']);\n",
       "            Plotly.purge(gd);\n",
       "            observer.disconnect();\n",
       "        }}\n",
       "}});\n",
       "\n",
       "// Listen for the removal of the full notebook cells\n",
       "var notebookContainer = gd.closest('#notebook-container');\n",
       "if (notebookContainer) {{\n",
       "    x.observe(notebookContainer, {childList: true});\n",
       "}}\n",
       "\n",
       "// Listen for the clearing of the current output cell\n",
       "var outputEl = gd.closest('.output');\n",
       "if (outputEl) {{\n",
       "    x.observe(outputEl, {childList: true});\n",
       "}}\n",
       "\n",
       "                        })\n",
       "                };\n",
       "                });\n",
       "            </script>\n",
       "        </div>"
      ]
     },
     "metadata": {},
     "output_type": "display_data"
    }
   ],
   "source": [
    "if show_intermediate_results == True:\n",
    "#    verkoop_order_df.hist(column='klant_id', bins=10)\n",
    "    fig=px.histogram(verkoop_order_df, x='klant_id', nbins=10)\n",
    "    fig.show()"
   ]
  },
  {
   "cell_type": "code",
   "execution_count": 126,
   "metadata": {},
   "outputs": [
    {
     "name": "stdout",
     "output_type": "stream",
     "text": [
      "            product_id   product_naam revisie  product_verkoop_prijs  \\\n",
      "product_id                                                             \n",
      "0                    0  Robot arm (S)       A                   62.0   \n",
      "1                    1  Robot arm (M)       A                   77.0   \n",
      "2                    2  Robot arm (L)       A                   66.0   \n",
      "3                    4  Robot arm (L)       B                   66.0   \n",
      "4                    3  Robot arm (S)       B                   62.0   \n",
      "\n",
      "            product_kost_prijs  \n",
      "product_id                      \n",
      "0                         37.2  \n",
      "1                         46.2  \n",
      "2                         39.6  \n",
      "3                         56.6  \n",
      "4                         42.2  \n"
     ]
    }
   ],
   "source": [
    "product_verkoop_prijs_S, product_verkoop_prijs_M, product_verkoop_prijs_L = random.randint(50, 80, size=(3,1))\n",
    "ratio_kp = 0.6\n",
    "\n",
    "# Solve Issue #4 \n",
    "product_data={                                             # Adding new product_id, requires to add bewerkingstijd() and BOM\n",
    " 0:{'name':'Robot arm (S)',\n",
    "    'revisie':'A',\n",
    "    'kostprijs':float(product_verkoop_prijs_S),\n",
    "    'verkoopprijs':float(product_verkoop_prijs_S*ratio_kp)},\n",
    " 1:{'name':'Robot arm (M)',\n",
    "    'revisie':'A',\n",
    "    'kostprijs':float(product_verkoop_prijs_M),\n",
    "    'verkoopprijs':float(product_verkoop_prijs_M*ratio_kp)},\n",
    " 2:{'name':'Robot arm (L)',\n",
    "    'revisie':'A',\n",
    "    'kostprijs':float(product_verkoop_prijs_L),\n",
    "    'verkoopprijs':float(product_verkoop_prijs_L*ratio_kp)},\n",
    " 4:{'name':'Robot arm (L)',                                 # 'product_id' without a bill of material, for example purpose\n",
    "    'revisie':'B',\n",
    "    'kostprijs':float(product_verkoop_prijs_L),\n",
    "    'verkoopprijs':float(product_verkoop_prijs_L*ratio_kp+17)},\n",
    "3:{'name':'Robot arm (S)',\n",
    "    'revisie':'B',\n",
    "    'kostprijs':float(product_verkoop_prijs_S),\n",
    "    'verkoopprijs':float(product_verkoop_prijs_S*ratio_kp+5)},\n",
    "}\n",
    "\n",
    "\n",
    "product_df = pd.DataFrame.from_dict(product_data, orient='index').reset_index()\n",
    "product_df.columns = ['product_id','product_naam','revisie','product_verkoop_prijs','product_kost_prijs']\n",
    "\n",
    "product_df.index.rename('product_id', inplace=True)\n",
    "# product_df.drop('product_id', axis=1, inplace=True)\n",
    "\n",
    "if show_intermediate_results == True:\n",
    "    \n",
    "    print(product_df.head(10) )"
   ]
  },
  {
   "cell_type": "code",
   "execution_count": null,
   "metadata": {},
   "outputs": [],
   "source": []
  },
  {
   "cell_type": "code",
   "execution_count": 127,
   "metadata": {},
   "outputs": [],
   "source": [
    "# Solve issue #5\n",
    "# # Opnieuw vullen van 'product_id' met de nieuwe id zoals ze gecreeerd zijn in product_df\n",
    "# verkoop_order_df['product_id'] = verkoop_order_df['verkoop_order_datum'].apply(\\\n",
    "#                                                         lambda x: random.randint(0,len(product_df)))"
   ]
  },
  {
   "cell_type": "code",
   "execution_count": 128,
   "metadata": {},
   "outputs": [
    {
     "data": {
      "text/plain": [
       "'7.27\",\"2.53\",\"5.82\",\"2.02'"
      ]
     },
     "execution_count": 128,
     "metadata": {},
     "output_type": "execute_result"
    }
   ],
   "source": [
    "\"\"\"7,27\t2,53\t5,82\t2,02\"\"\".replace(',','.').replace('\\t','\\\",\\\"')\n"
   ]
  },
  {
   "cell_type": "code",
   "execution_count": 129,
   "metadata": {},
   "outputs": [
    {
     "name": "stdout",
     "output_type": "stream",
     "text": [
      "                           onderdeel_naam  onderdeel_kostprijs  \\\n",
      "onderdelen_id                                                    \n",
      "1000                                 Bout                0.002   \n",
      "1001                                 Moer                0.002   \n",
      "1002                           Schakelaar                3.075   \n",
      "1003                     Sensor, controle                9.651   \n",
      "1004                    Afdek kap plastic                1.003   \n",
      "1005                          Staal frame               16.432   \n",
      "1006           Afdek kap recycled plastic                6.103   \n",
      "1007                      Aluminium frame               16.231   \n",
      "\n",
      "               onderdeel_gewicht_p_st_kg        materiaal_type  \\\n",
      "onderdelen_id                                                    \n",
      "1000                               0.144   stainless steel 316   \n",
      "1001                               0.017   stainless steel 316   \n",
      "1002                               0.852         toggle switch   \n",
      "1003                               0.000              onbekend   \n",
      "1004                               0.340         polypropylene   \n",
      "1005                               2.025   stainless steel 316   \n",
      "1006                               0.000              onbekend   \n",
      "1007                               0.800  aluminium AMSQQA225B   \n",
      "\n",
      "              virgin_gebruik_kg_CO2_p_kg recycled_gebruik_kg_CO2_p_kg  \\\n",
      "onderdelen_id                                                           \n",
      "1000                                8.08                         1.55   \n",
      "1001                                8.08                         1.55   \n",
      "1002                               19.32                        19.32   \n",
      "1003                                   0                            0   \n",
      "1004                                2.04                         2.12   \n",
      "1005                                8.00                         2.00   \n",
      "1006                                   0                            0   \n",
      "1007                                7.27                         2.53   \n",
      "\n",
      "              emissie_virgin_gebruik_kg_CO2 emissie_recycled_gebruik_kg_CO2  \\\n",
      "onderdelen_id                                                                 \n",
      "1000                                   1.16                            0.22   \n",
      "1001                                   0.14                            0.03   \n",
      "1002                                  17.04                           17.04   \n",
      "1003                                      0                               0   \n",
      "1004                                   0.69                            0.72   \n",
      "1005                                  16.36                            3.14   \n",
      "1006                                      0                               0   \n",
      "1007                                   5.82                            2.02   \n",
      "\n",
      "              onderdeel_type_beschrijving  \n",
      "onderdelen_id                              \n",
      "1000                           Mechanisch  \n",
      "1001                           Mechanisch  \n",
      "1002                           Electrisch  \n",
      "1003                           Electrisch  \n",
      "1004                        Ruw Materiaal  \n",
      "1005                        Ruw Materiaal  \n",
      "1006                        Ruw Materiaal  \n",
      "1007                        Ruw Materiaal  \n"
     ]
    }
   ],
   "source": [
    "def onderdelen():\n",
    "    onderdeel_type=pd.DataFrame.from_dict({0:\"Ruw Materiaal\",\\\n",
    "                                           1:\"Mechanisch\",\\\n",
    "                                           2:\"Electrisch\"},\\\n",
    "                                         orient='index',\\\n",
    "                                         columns=['onderdeel_type_beschrijving'])\n",
    "    onderdeel_type.index.rename('onderdeel_type_id', inplace=True)\n",
    "    \n",
    "    onderdelen=pd.DataFrame()\n",
    "    columns=['onderdeel_id','onderdeel_naam','onderdeel_kostprijs',\n",
    "             'onderdeel_type','onderdeel_gewicht_p_st_kg','materiaal_type',\n",
    "             'virgin_gebruik_kg_CO2_p_kg','recycled_gebruik_kg_CO2_p_kg',\n",
    "             'emissie_virgin_gebruik_kg_CO2','emissie_recycled_gebruik_kg_CO2']\n",
    "    data= [[0,\"Bout\",0.002,1,0.144,\"stainless steel 316\",\"8.08\",\"1.55\",\"1.16\",\"0.22\"],\n",
    "           [1,\"Moer\",0.002,1,0.017,\"stainless steel 316\",\"8.08\",\"1.55\",\"0.14\",\"0.03\"], \n",
    "           [2,\"Schakelaar\",3.075,2,0.852,\"toggle switch\",\"19.32\",\"19.32\",\"17.04\",\"17.04\"], \n",
    "           [3,\"Sensor, controle\",9.651,2,0,\"onbekend\",\"0\",\"0\",\"0\",\"0\"],   # TO ADD \n",
    "           [4,\"Afdek kap plastic\",1.003,0,0.340,\"polypropylene\",\"2.04\",\"2.12\",\"0.69\",\"0.72\"], \n",
    "           [5,\"Staal frame\",16.432,0,2.025,\"stainless steel 316\",\"8.00\",\"2.00\",\"16.36\",\"3.14\"],\n",
    "           [6,\"Afdek kap recycled plastic\",6.103,0,0,\"onbekend\",\"0\",\"0\",\"0\",\"0\"], # TO ADD\n",
    "           [7,\"Aluminium frame\", 16.231,0,0.800,\"aluminium AMSQQA225B\",\"7.27\",\"2.53\",\"5.82\",\"2.02\"], \n",
    "          ]\n",
    "    onderdelen=pd.DataFrame(data=data, columns=columns)\n",
    "    \n",
    "    onderdelen=onderdelen.join(onderdeel_type, on='onderdeel_type')\n",
    "    onderdelen.drop(columns=['onderdeel_type'], inplace=True)\n",
    "    \n",
    "    onderdelen['onderdeel_id'] = onderdelen['onderdeel_id'].apply(lambda x: x+1000 if x < 1000 else x)\n",
    "    onderdelen.set_index(['onderdeel_id'], inplace=True)\n",
    "    onderdelen.index.rename('onderdelen_id', inplace=True)\n",
    "    \n",
    "    return onderdelen\n",
    "\n",
    "if show_intermediate_results == True:\n",
    "    print(onderdelen())"
   ]
  },
  {
   "cell_type": "code",
   "execution_count": 130,
   "metadata": {},
   "outputs": [
    {
     "data": {
      "text/html": [
       "<div>\n",
       "<style scoped>\n",
       "    .dataframe tbody tr th:only-of-type {\n",
       "        vertical-align: middle;\n",
       "    }\n",
       "\n",
       "    .dataframe tbody tr th {\n",
       "        vertical-align: top;\n",
       "    }\n",
       "\n",
       "    .dataframe thead th {\n",
       "        text-align: right;\n",
       "    }\n",
       "</style>\n",
       "<table border=\"1\" class=\"dataframe\">\n",
       "  <thead>\n",
       "    <tr style=\"text-align: right;\">\n",
       "      <th></th>\n",
       "      <th>onderdeel_naam</th>\n",
       "      <th>onderdeel_kostprijs</th>\n",
       "      <th>onderdeel_gewicht_p_st_kg</th>\n",
       "      <th>materiaal_type</th>\n",
       "      <th>virgin_gebruik_kg_CO2_p_kg</th>\n",
       "      <th>recycled_gebruik_kg_CO2_p_kg</th>\n",
       "      <th>emissie_virgin_gebruik_kg_CO2</th>\n",
       "      <th>emissie_recycled_gebruik_kg_CO2</th>\n",
       "      <th>onderdeel_type_beschrijving</th>\n",
       "    </tr>\n",
       "    <tr>\n",
       "      <th>onderdelen_id</th>\n",
       "      <th></th>\n",
       "      <th></th>\n",
       "      <th></th>\n",
       "      <th></th>\n",
       "      <th></th>\n",
       "      <th></th>\n",
       "      <th></th>\n",
       "      <th></th>\n",
       "      <th></th>\n",
       "    </tr>\n",
       "  </thead>\n",
       "  <tbody>\n",
       "    <tr>\n",
       "      <td>1000</td>\n",
       "      <td>Bout</td>\n",
       "      <td>0.002</td>\n",
       "      <td>0.144</td>\n",
       "      <td>stainless steel 316</td>\n",
       "      <td>8.08</td>\n",
       "      <td>1.55</td>\n",
       "      <td>1.16</td>\n",
       "      <td>0.22</td>\n",
       "      <td>Mechanisch</td>\n",
       "    </tr>\n",
       "    <tr>\n",
       "      <td>1001</td>\n",
       "      <td>Moer</td>\n",
       "      <td>0.002</td>\n",
       "      <td>0.017</td>\n",
       "      <td>stainless steel 316</td>\n",
       "      <td>8.08</td>\n",
       "      <td>1.55</td>\n",
       "      <td>0.14</td>\n",
       "      <td>0.03</td>\n",
       "      <td>Mechanisch</td>\n",
       "    </tr>\n",
       "    <tr>\n",
       "      <td>1002</td>\n",
       "      <td>Schakelaar</td>\n",
       "      <td>3.075</td>\n",
       "      <td>0.852</td>\n",
       "      <td>toggle switch</td>\n",
       "      <td>19.32</td>\n",
       "      <td>19.32</td>\n",
       "      <td>17.04</td>\n",
       "      <td>17.04</td>\n",
       "      <td>Electrisch</td>\n",
       "    </tr>\n",
       "    <tr>\n",
       "      <td>1003</td>\n",
       "      <td>Sensor, controle</td>\n",
       "      <td>9.651</td>\n",
       "      <td>0.000</td>\n",
       "      <td>onbekend</td>\n",
       "      <td>0</td>\n",
       "      <td>0</td>\n",
       "      <td>0</td>\n",
       "      <td>0</td>\n",
       "      <td>Electrisch</td>\n",
       "    </tr>\n",
       "    <tr>\n",
       "      <td>1004</td>\n",
       "      <td>Afdek kap plastic</td>\n",
       "      <td>1.003</td>\n",
       "      <td>0.340</td>\n",
       "      <td>polypropylene</td>\n",
       "      <td>2.04</td>\n",
       "      <td>2.12</td>\n",
       "      <td>0.69</td>\n",
       "      <td>0.72</td>\n",
       "      <td>Ruw Materiaal</td>\n",
       "    </tr>\n",
       "    <tr>\n",
       "      <td>1005</td>\n",
       "      <td>Staal frame</td>\n",
       "      <td>16.432</td>\n",
       "      <td>2.025</td>\n",
       "      <td>stainless steel 316</td>\n",
       "      <td>8.00</td>\n",
       "      <td>2.00</td>\n",
       "      <td>16.36</td>\n",
       "      <td>3.14</td>\n",
       "      <td>Ruw Materiaal</td>\n",
       "    </tr>\n",
       "    <tr>\n",
       "      <td>1006</td>\n",
       "      <td>Afdek kap recycled plastic</td>\n",
       "      <td>6.103</td>\n",
       "      <td>0.000</td>\n",
       "      <td>onbekend</td>\n",
       "      <td>0</td>\n",
       "      <td>0</td>\n",
       "      <td>0</td>\n",
       "      <td>0</td>\n",
       "      <td>Ruw Materiaal</td>\n",
       "    </tr>\n",
       "    <tr>\n",
       "      <td>1007</td>\n",
       "      <td>Aluminium frame</td>\n",
       "      <td>16.231</td>\n",
       "      <td>0.800</td>\n",
       "      <td>aluminium AMSQQA225B</td>\n",
       "      <td>7.27</td>\n",
       "      <td>2.53</td>\n",
       "      <td>5.82</td>\n",
       "      <td>2.02</td>\n",
       "      <td>Ruw Materiaal</td>\n",
       "    </tr>\n",
       "  </tbody>\n",
       "</table>\n",
       "</div>"
      ],
      "text/plain": [
       "                           onderdeel_naam  onderdeel_kostprijs  \\\n",
       "onderdelen_id                                                    \n",
       "1000                                 Bout                0.002   \n",
       "1001                                 Moer                0.002   \n",
       "1002                           Schakelaar                3.075   \n",
       "1003                     Sensor, controle                9.651   \n",
       "1004                    Afdek kap plastic                1.003   \n",
       "1005                          Staal frame               16.432   \n",
       "1006           Afdek kap recycled plastic                6.103   \n",
       "1007                      Aluminium frame               16.231   \n",
       "\n",
       "               onderdeel_gewicht_p_st_kg        materiaal_type  \\\n",
       "onderdelen_id                                                    \n",
       "1000                               0.144   stainless steel 316   \n",
       "1001                               0.017   stainless steel 316   \n",
       "1002                               0.852         toggle switch   \n",
       "1003                               0.000              onbekend   \n",
       "1004                               0.340         polypropylene   \n",
       "1005                               2.025   stainless steel 316   \n",
       "1006                               0.000              onbekend   \n",
       "1007                               0.800  aluminium AMSQQA225B   \n",
       "\n",
       "              virgin_gebruik_kg_CO2_p_kg recycled_gebruik_kg_CO2_p_kg  \\\n",
       "onderdelen_id                                                           \n",
       "1000                                8.08                         1.55   \n",
       "1001                                8.08                         1.55   \n",
       "1002                               19.32                        19.32   \n",
       "1003                                   0                            0   \n",
       "1004                                2.04                         2.12   \n",
       "1005                                8.00                         2.00   \n",
       "1006                                   0                            0   \n",
       "1007                                7.27                         2.53   \n",
       "\n",
       "              emissie_virgin_gebruik_kg_CO2 emissie_recycled_gebruik_kg_CO2  \\\n",
       "onderdelen_id                                                                 \n",
       "1000                                   1.16                            0.22   \n",
       "1001                                   0.14                            0.03   \n",
       "1002                                  17.04                           17.04   \n",
       "1003                                      0                               0   \n",
       "1004                                   0.69                            0.72   \n",
       "1005                                  16.36                            3.14   \n",
       "1006                                      0                               0   \n",
       "1007                                   5.82                            2.02   \n",
       "\n",
       "              onderdeel_type_beschrijving  \n",
       "onderdelen_id                              \n",
       "1000                           Mechanisch  \n",
       "1001                           Mechanisch  \n",
       "1002                           Electrisch  \n",
       "1003                           Electrisch  \n",
       "1004                        Ruw Materiaal  \n",
       "1005                        Ruw Materiaal  \n",
       "1006                        Ruw Materiaal  \n",
       "1007                        Ruw Materiaal  "
      ]
     },
     "execution_count": 130,
     "metadata": {},
     "output_type": "execute_result"
    }
   ],
   "source": [
    "onderdelen_df=onderdelen()\n",
    "onderdelen_df"
   ]
  },
  {
   "cell_type": "code",
   "execution_count": 131,
   "metadata": {},
   "outputs": [
    {
     "name": "stdout",
     "output_type": "stream",
     "text": [
      "        product_id product_revisie BOM_lijn BOM_hoeveelheid BOM_eenheid  \\\n",
      "BOM_id                                                                    \n",
      "0                0               A        0               2       stuks   \n",
      "1                0               A        1               2       stuks   \n",
      "2                0               A        2               1       stuks   \n",
      "3                0               A        4               4       stuks   \n",
      "4                0               A        5               1       stuks   \n",
      "5                1               A        0               2       stuks   \n",
      "6                1               A        1               2       stuks   \n",
      "7                1               A        2               1       stuks   \n",
      "8                1               A        3               1       stuks   \n",
      "9                1               A        4               4       stuks   \n",
      "10               1               A        5               1       stuks   \n",
      "11               2               A        0               2       stuks   \n",
      "12               2               A        1               2       stuks   \n",
      "13               2               A        2               1       stuks   \n",
      "14               2               A        3               4       stuks   \n",
      "15               2               A        4              12       stuks   \n",
      "16               2               A        5               2       stuks   \n",
      "17               3               B        0               2       stuks   \n",
      "18               3               B        1               2       stuks   \n",
      "19               3               B        2               1       stuks   \n",
      "20               3               B        3               1       stuks   \n",
      "21               3               B        4               4       stuks   \n",
      "22               3               B        5               1       stuks   \n",
      "\n",
      "        BOM_onderdeel_id_kind  \n",
      "BOM_id                         \n",
      "0                        1000  \n",
      "1                        1001  \n",
      "2                        1002  \n",
      "3                        1004  \n",
      "4                        1005  \n",
      "5                        1000  \n",
      "6                        1001  \n",
      "7                        1002  \n",
      "8                        1003  \n",
      "9                        1004  \n",
      "10                       1005  \n",
      "11                       1000  \n",
      "12                       1001  \n",
      "13                       1002  \n",
      "14                       1003  \n",
      "15                       1004  \n",
      "16                       1005  \n",
      "17                       1000  \n",
      "18                       1001  \n",
      "19                       1002  \n",
      "20                       1003  \n",
      "21                       1006  \n",
      "22                       1005  \n"
     ]
    }
   ],
   "source": [
    "def bill_of_materials(product_df):\n",
    "    BOM=pd.DataFrame()\n",
    "    columns=['product_id','product_revisie','BOM_lijn','BOM_hoeveelheid','BOM_eenheid','BOM_onderdeel_id_kind']\n",
    "\n",
    "    data=[[0,'A', 0, 2, 'stuks', 0],\n",
    "          [0,'A', 1, 2, 'stuks', 1],\n",
    "          [0,'A', 2, 1, 'stuks', 2],\n",
    "         # [0,'A', 3, 1, 'stuks', 3],   # Removed with intention \n",
    "          [0,'A', 4, 4, 'stuks', 4],\n",
    "          [0,'A', 5, 1, 'stuks', 5],\n",
    "\n",
    "          [1,'A', 0, 2, 'stuks', 0],\n",
    "          [1,'A', 1, 2, 'stuks', 1],\n",
    "          [1,'A', 2, 1, 'stuks', 2],\n",
    "          [1,'A', 3, 1, 'stuks', 3],\n",
    "          [1,'A', 4, 4, 'stuks', 4],\n",
    "          [1,'A', 5, 1, 'stuks', 5], \n",
    "         \n",
    "          [2,'A', 0, 2, 'stuks', 0],\n",
    "          [2,'A', 1, 2, 'stuks', 1],\n",
    "          [2,'A', 2, 1, 'stuks', 2],\n",
    "          [2,'A', 3, 4, 'stuks', 3],\n",
    "          [2,'A', 4, 12, 'stuks', 4],\n",
    "          [2,'A', 5, 2, 'stuks', 5],\n",
    "         \n",
    "          [3,'B', 0, 2, 'stuks', 0],  # Updated revision on same product as product_id = 0\n",
    "          [3,'B', 1, 2, 'stuks', 1],\n",
    "          [3,'B', 2, 1, 'stuks', 2],\n",
    "          [3,'B', 3, 1, 'stuks', 3],  # BOM_lijn #3 added     \n",
    "          [3,'B', 4, 4, 'stuks', 6],  # Replaced with onderdeel #6 Afdek kap recylced plastic\n",
    "          [3,'B', 5, 1, 'stuks', 5]]\n",
    "    \n",
    "    BOM=pd.DataFrame(data=data, columns=columns)\n",
    "    \n",
    "    # Just create an empty 'BOM_id' if a product_id is given that has no BOM lines defined\n",
    "    products=list(product_df.index)\n",
    "    for val in products:\n",
    "        if val not in BOM['product_id'].unique():\n",
    "            BOM=BOM.append(dict(zip(columns,[val,None,'','',None,''])),ignore_index=True)\n",
    "\n",
    "#     # Convert ID's from floats to integers\n",
    "#     BOM=BOM.dropna().select_dtypes(include=['float64']).astype('int16', copy=False)\n",
    "#     # just don't use np.nan on integer columns to prevent them being converted to float...\n",
    "\n",
    "    BOM.dropna(axis=0, how='any', inplace=True)\n",
    "    BOM['BOM_onderdeel_id_kind'].astype('int64')\n",
    "    BOM['BOM_onderdeel_id_kind']=BOM['BOM_onderdeel_id_kind'].apply(lambda x: x+1000 if x < 1000 else x)\n",
    "\n",
    "    BOM.index.rename('BOM_id', inplace=True)\n",
    "\n",
    "    \n",
    "    return BOM\n",
    "\n",
    "\n",
    "if show_intermediate_results == True:\n",
    "    print(bill_of_materials(product_df))"
   ]
  },
  {
   "cell_type": "code",
   "execution_count": 132,
   "metadata": {},
   "outputs": [],
   "source": [
    "BOM_df=bill_of_materials(product_df)"
   ]
  },
  {
   "cell_type": "code",
   "execution_count": 133,
   "metadata": {},
   "outputs": [
    {
     "name": "stdout",
     "output_type": "stream",
     "text": [
      "2019-01-03 \t:  2 \tRev :   A \n",
      "\n",
      "2019-04-03 \t:  2 \tRev :   A \n",
      "\n",
      "2019-07-03 \t:  0 \tRev :   A \n",
      "\n",
      "2019-08-03 \t:  3 \tRev :   B \n",
      "\n",
      "2019-09-03 \t:  3 \tRev :   B \n",
      "\n",
      "2019-10-03 \t:  4 \tRev :   B \n",
      "\n"
     ]
    }
   ],
   "source": [
    "def verkoop_order_product_map(verkoop_order_datum, product_df, year=year): #, glob_random_state=glob_random_state):\n",
    "    product_df=product_df[['product_id', 'product_naam', 'revisie']]\n",
    "    \n",
    "    # find the minimum revision per product_naam\n",
    "    idx = product_df.groupby(['product_naam'])['revisie'].transform(min) == product_df['revisie']\n",
    "    prod_df_rev_min=product_df[idx].copy()\n",
    "    \n",
    "    # and the max/highest revision\n",
    "    idx = product_df.groupby(['product_naam'])['revisie'].transform(max) == product_df['revisie']\n",
    "    prod_df_rev_max=product_df[idx].copy()\n",
    "    \n",
    "    if type(verkoop_order_datum) != str:\n",
    "        if type(verkoop_order_datum) != datetime.datetime:\n",
    "            verkoop_order_datum = str(datetime.datetime.strptime(verkoop_order_datum.strftime('%Y-%m-%d') ,'%Y-%m-%d'))\n",
    "    \n",
    "    if verkoop_order_datum < year+'-08-01':\n",
    "        verkocht_product_id=prod_df_rev_min.sample(1) #, random_state=glob_random_state)\n",
    "    else: \n",
    "        verkocht_product_id=prod_df_rev_max.sample(1)\n",
    "\n",
    "   \n",
    "    return int(verkocht_product_id['product_id'])\n",
    "\n",
    "if show_intermediate_results == True:\n",
    "    for verkoop_order_datum in ['2019-01-03','2019-04-03','2019-07-03','2019-08-03','2019-09-03','2019-10-03']:\n",
    "        prod=verkoop_order_product_map(verkoop_order_datum, product_df, year)\n",
    "        print(verkoop_order_datum,'\\t: ',prod,'\\tRev :  ',product_df.iloc[prod]['revisie'],'\\n')"
   ]
  },
  {
   "cell_type": "code",
   "execution_count": 134,
   "metadata": {},
   "outputs": [
    {
     "name": "stdout",
     "output_type": "stream",
     "text": [
      "                  klant_id verkoop_order_datum  verkocht_product_id  \\\n",
      "verkoop_order_id                                                      \n",
      "0                       21          2019-01-02                    0   \n",
      "1                       14          2019-01-03                    2   \n",
      "2                       18          2019-01-04                    1   \n",
      "3                        5          2019-01-09                    2   \n",
      "4                        3          2019-01-09                    2   \n",
      "...                    ...                 ...                  ...   \n",
      "157                      7          2019-12-24                    4   \n",
      "158                      5          2019-12-25                    4   \n",
      "159                     23          2019-12-26                    4   \n",
      "160                      9          2019-12-26                    3   \n",
      "161                     18          2019-12-31                    4   \n",
      "\n",
      "                  verkocht_product_aantal  \n",
      "verkoop_order_id                           \n",
      "0                                       1  \n",
      "1                                       1  \n",
      "2                                       1  \n",
      "3                                       1  \n",
      "4                                       1  \n",
      "...                                   ...  \n",
      "157                                     1  \n",
      "158                                     1  \n",
      "159                                     1  \n",
      "160                                     1  \n",
      "161                                     1  \n",
      "\n",
      "[162 rows x 4 columns]\n"
     ]
    }
   ],
   "source": [
    "verkoop_order_df['verkocht_product_id'] = verkoop_order_df['verkoop_order_datum'].apply(\\\n",
    "                                                        lambda x: verkoop_order_product_map(x,\\\n",
    "                                                                                            product_df, year=year))\n",
    "\n",
    "verkoop_order_df['verkocht_product_aantal'] = 1\n",
    "\n",
    "if show_intermediate_results == True:\n",
    "    print(verkoop_order_df)"
   ]
  },
  {
   "cell_type": "code",
   "execution_count": null,
   "metadata": {},
   "outputs": [],
   "source": []
  },
  {
   "cell_type": "code",
   "execution_count": 135,
   "metadata": {},
   "outputs": [
    {
     "data": {
      "image/png": "[encoded data removed]",
      "text/plain": [
       "<Figure size 432x288 with 1 Axes>"
      ]
     },
     "metadata": {
      "needs_background": "light"
     },
     "output_type": "display_data"
    }
   ],
   "source": [
    "# verkoop_order_df['product_id'] = verkoop_order_df['verkoop_order_datum'].apply(lambda x: random.randint(0,3))\n",
    "\n",
    "\n",
    "if show_intermediate_results == True:\n",
    "    verkoop_order_df['verkocht_product_id'].hist()"
   ]
  },
  {
   "cell_type": "code",
   "execution_count": 136,
   "metadata": {},
   "outputs": [
    {
     "data": {
      "image/png": "[encoded data removed]",
      "text/plain": [
       "<Figure size 432x288 with 1 Axes>"
      ]
     },
     "metadata": {
      "needs_background": "light"
     },
     "output_type": "display_data"
    }
   ],
   "source": [
    "# verkoop_order_df['product_id'] = verkoop_order_df['verkoop_order_datum'].apply(lambda x: random.randint(0,3))\n",
    "# Solve Issue #5\n",
    "\n",
    "if show_intermediate_results == True:\n",
    "    verkoop_order_df['verkocht_product_id'].hist()"
   ]
  },
  {
   "cell_type": "code",
   "execution_count": 137,
   "metadata": {},
   "outputs": [
    {
     "name": "stdout",
     "output_type": "stream",
     "text": [
      "            machine_id machine_type\n",
      "machine_id                         \n",
      "0                    0         boor\n",
      "1                    1        frees\n",
      "2                    2         buig\n",
      "3                    3          CNC\n",
      "4                    4         snij\n",
      "5                    5         boor\n",
      "6                    6        stans\n",
      "7                    7          CNC\n",
      "8                    8         snij\n",
      "9                    9          CNC\n"
     ]
    }
   ],
   "source": [
    "machine_data ={\n",
    "    # for issue #14 added energie_verbruik\n",
    "    0:{'machine_type':'boor'},\n",
    "    1:{'machine_type':'frees'},\n",
    "    2:{'machine_type':'buig'},\n",
    "    3:{'machine_type':'CNC'},\n",
    "    4:{'machine_type':'snij'},\n",
    "    5:{'machine_type':'boor'},\n",
    "    6:{'machine_type':'stans'},\n",
    "    7:{'machine_type':'CNC'},\n",
    "    8:{'machine_type':'snij'},\n",
    "    9:{'machine_type':'CNC'},\n",
    "    10:{'machine_type':'CNC'},\n",
    "    11:{'machine_type':'CNC'},\n",
    "    12:{'machine_type':'boor'},\n",
    "    13:{'machine_type':'assemblage'}   # abuse machine object to add an assembly step for issue #13\n",
    "    }\n",
    "machine_df = pd.DataFrame.from_dict(machine_data, orient='index').reset_index()\n",
    "machine_df.columns = ['machine_id','machine_type']\n",
    "\n",
    "\n",
    "machine_df.index.rename('machine_id', inplace=True)\n",
    "\n",
    "\n",
    "if show_intermediate_results == True:\n",
    "    \n",
    "    print(machine_df.head(10) )"
   ]
  },
  {
   "cell_type": "code",
   "execution_count": null,
   "metadata": {},
   "outputs": [],
   "source": []
  },
  {
   "cell_type": "code",
   "execution_count": 138,
   "metadata": {},
   "outputs": [
    {
     "name": "stdout",
     "output_type": "stream",
     "text": [
      "n_werkorder_df : 162\n",
      "\n",
      "              verkoop_order_id  verkocht_product_id  verkocht_product_aantal  \\\n",
      "werkorder_id                                                                   \n",
      "0                            0                    0                        1   \n",
      "1                            1                    2                        1   \n",
      "2                            2                    1                        1   \n",
      "3                            3                    2                        1   \n",
      "4                            4                    2                        1   \n",
      "5                            5                    0                        1   \n",
      "6                            6                    1                        1   \n",
      "7                            7                    0                        1   \n",
      "8                            8                    0                        1   \n",
      "9                            9                    0                        1   \n",
      "\n",
      "             werkorder_start_datum werkorder_eind_datum  \n",
      "werkorder_id                                             \n",
      "0                       2019-01-03           2019-01-07  \n",
      "1                       2019-01-03           2019-01-11  \n",
      "2                       2019-01-04           2019-01-13  \n",
      "3                       2019-01-09           2019-01-15  \n",
      "4                       2019-01-10           2019-01-18  \n",
      "5                       2019-01-11           2019-01-16  \n",
      "6                       2019-01-12           2019-01-14  \n",
      "7                       2019-01-11           2019-01-17  \n",
      "8                       2019-01-15           2019-01-24  \n",
      "9                       2019-01-18           2019-01-23  \n"
     ]
    }
   ],
   "source": [
    "# werkorder_df = pd.DataFrame(data=(random.randint(0,25, size=(n_verkoop_order_df, 2))), columns=['klant_id','verkoop_order_datum'])\n",
    "werkorder_df = verkoop_order_df.copy()\n",
    "werkorder_df.reset_index(inplace = True)\n",
    "werkorder_df.index.rename('werkorder_id', inplace=True)\n",
    "werkorder_df['werkorder_start_datum'] = werkorder_df['verkoop_order_datum'].apply(lambda x: x+timedelta(days=random.randint(0,2)))\n",
    "werkorder_df['werkorder_eind_datum'] = werkorder_df['verkoop_order_datum'].apply(lambda x: x+timedelta(days=random.randint(3,10)))\n",
    "\n",
    "\n",
    "werkorder_df.drop(['klant_id','verkoop_order_datum'], axis=1, inplace=True)\n",
    "\n",
    "if show_intermediate_results == True:\n",
    "    print('n_werkorder_df : {}\\n'.format(len(werkorder_df)))\n",
    "    print(werkorder_df.head(10))"
   ]
  },
  {
   "cell_type": "code",
   "execution_count": null,
   "metadata": {},
   "outputs": [],
   "source": []
  },
  {
   "cell_type": "code",
   "execution_count": null,
   "metadata": {},
   "outputs": [],
   "source": []
  },
  {
   "cell_type": "code",
   "execution_count": 139,
   "metadata": {},
   "outputs": [
    {
     "name": "stdout",
     "output_type": "stream",
     "text": [
      "\n",
      "Hard code machine types and order: ['stans', 'snij', 'buig', 'frees', 'CNC', 'boor']\n",
      "\n",
      "{0: {0: 'stans', 1: 'snij', 2: 'buig', 3: 'frees', 4: 'assemblage'}, 1: {1: 'snij', 2: 'buig', 3: 'assemblage'}, 2: {0: 'stans', 1: 'snij', 2: 'buig', 3: 'frees', 4: 'CNC', 5: 'assemblage'}, 4: {0: 'stans', 1: 'snij', 2: 'buig', 3: 'frees', 4: 'CNC', 5: 'assemblage'}, 3: {1: 'snij', 2: 'buig', 3: 'assemblage'}}\n"
     ]
    }
   ],
   "source": [
    "# Map products with a randaom amount of machines using both dataframes\n",
    "\n",
    "def product_machines_map(product_df, machine_df):\n",
    "    dictionary={}\n",
    "    inner_dict={}\n",
    "    machine_types=machine_df.machine_type.unique()\n",
    "    machine_types=list(machine_types)[::-1]\n",
    "    machine_types=['stans', 'snij', 'buig', 'frees', 'CNC', 'boor']\n",
    "    print('\\nHard code machine types and order: {}\\n'.format(machine_types))\n",
    "    product_ids=list(product_df.product_id.unique())\n",
    "    step=0\n",
    "    \n",
    "    for prod_id in product_ids:\n",
    "        low=random.randint(0,2)\n",
    "        high=random.randint(4,6)\n",
    " #       print(high)\n",
    "        for step in range(low,high):\n",
    "            inner_dict[step]=machine_types[step]\n",
    "        # add assemblage step (as a 'machine') in the mapping for issue #13\n",
    "        inner_dict[len(inner_dict.keys())]='assemblage'\n",
    "        dictionary[prod_id]=inner_dict\n",
    "        inner_dict={}\n",
    "    \n",
    "    return dictionary\n",
    "\n",
    "if show_intermediate_results == True:\n",
    "    print(product_machines_map(product_df, machine_df))"
   ]
  },
  {
   "cell_type": "code",
   "execution_count": 140,
   "metadata": {},
   "outputs": [
    {
     "name": "stdout",
     "output_type": "stream",
     "text": [
      "\n",
      "Hard code machine types and order: ['stans', 'snij', 'buig', 'frees', 'CNC', 'boor']\n",
      "\n"
     ]
    },
    {
     "data": {
      "text/plain": [
       "{0: {1: 'snij', 2: 'buig', 3: 'frees', 4: 'assemblage'},\n",
       " 1: {0: 'stans', 1: 'snij', 2: 'buig', 3: 'frees', 4: 'assemblage'},\n",
       " 2: {0: 'stans', 1: 'snij', 2: 'buig', 3: 'frees', 4: 'CNC', 5: 'assemblage'},\n",
       " 4: {0: 'stans', 1: 'snij', 2: 'buig', 3: 'frees', 4: 'CNC', 5: 'assemblage'},\n",
       " 3: {0: 'stans', 1: 'snij', 2: 'buig', 3: 'frees', 4: 'CNC', 5: 'assemblage'}}"
      ]
     },
     "execution_count": 140,
     "metadata": {},
     "output_type": "execute_result"
    }
   ],
   "source": [
    "product_machines_map(product_df, machine_df)"
   ]
  },
  {
   "cell_type": "raw",
   "metadata": {},
   "source": [
    "# Reverse list order\n",
    "list(machine_df.machine_type.unique())[::-1]"
   ]
  },
  {
   "cell_type": "code",
   "execution_count": 141,
   "metadata": {},
   "outputs": [],
   "source": [
    "def zipper(l1, l2):\n",
    "    return [list(l) for l in zip(l1, l2)]"
   ]
  },
  {
   "cell_type": "code",
   "execution_count": null,
   "metadata": {},
   "outputs": [],
   "source": []
  },
  {
   "cell_type": "code",
   "execution_count": 142,
   "metadata": {},
   "outputs": [],
   "source": [
    "def pick_random_machine(machine_type, machine_df):\n",
    "    machine_id=0\n",
    "    \n",
    "    rand_pick=machine_df[machine_df['machine_type'] == machine_type]['machine_id']\n",
    "    machine_id=rand_pick.iloc[random.randint(0, len(rand_pick))]\n",
    "    \n",
    "    return machine_id\n",
    "\n",
    "# machine_df.sort_values('machine_type')"
   ]
  },
  {
   "cell_type": "code",
   "execution_count": 143,
   "metadata": {},
   "outputs": [
    {
     "name": "stdout",
     "output_type": "stream",
     "text": [
      "\n",
      "product_id: 1\t machine_id: 4\n",
      "\n",
      "5\n"
     ]
    }
   ],
   "source": [
    "def bewerkingstijd(product_id, machine_id):\n",
    "    bewerking_tijd = 1.3\n",
    "    \n",
    "    producten=list(product_df.index)\n",
    "    machines=list(machine_df.index)\n",
    "#    machines=list(machine_df.sort_values('machine_type').index)\n",
    "    \n",
    "#    matrix=random.randint(low=1, high=10, size=(len(producten), len(machines)))\n",
    "    # added additional column for issue #13 to extend matrix object\n",
    "    matrix=[[4, 9, 2, 9, 8, 8, 5, 15, 6, 12, 8, 6, 2, 15],\n",
    "            [3, 8, 1, 11, 5, 2, 4, 13, 3, 15, 6, 7, 2, 14],\n",
    "            [2, 6, 1, 12, 9, 7, 5, 16, 8, 16, 5, 4, 4, 13],\n",
    "            [3, 7, 1, 10, 5, 2, 4, 13, 3, 16, 6, 7, 2, 10],\n",
    "            [3, 8, 1, 11, 5, 2, 5, 16, 8, 16, 5, 4, 4, 9]]\n",
    "    \n",
    "    df=pd.DataFrame(data=matrix, columns=machines)\n",
    "\n",
    "    bewerking_tijd=df[machine_id].iloc[product_id]\n",
    "    \n",
    "    return round(bewerking_tijd)\n",
    "\n",
    "if show_intermediate_results == True:\n",
    "    n,i =(1,4)\n",
    "    print('\\nproduct_id: {}\\t machine_id: {}\\n'.format(list(product_df.index)[n], list(machine_df.index)[i]))\n",
    "    print(bewerkingstijd(list(product_df.index)[n], list(machine_df.index)[i]))"
   ]
  },
  {
   "cell_type": "code",
   "execution_count": 144,
   "metadata": {},
   "outputs": [],
   "source": [
    "def insert_row_in_df(row_number, df, row_value):\n",
    "    if row_number > df.index.max()+1: \n",
    "        print(\"Invalid row_number. Did not insert row into dataframe.\")\n",
    "        df_result=df\n",
    "    else:\n",
    "        # Slice the upper half of the dataframe \n",
    "        df1 = df[0:row_number] \n",
    "\n",
    "        # Store the result of lower half of the dataframe \n",
    "        df2 = df[row_number:] \n",
    "\n",
    "        # Inser the row in the upper half dataframe \n",
    "        df1.loc[row_number]=row_value \n",
    "\n",
    "        # Concat the two dataframes \n",
    "        df_result = pd.concat([df1, df2]) \n",
    "\n",
    "        # Reassign the index labels \n",
    "        df_result.index = [*range(df_result.shape[0])] \n",
    "   \n",
    "    # Return the updated dataframe \n",
    "    return df_result "
   ]
  },
  {
   "cell_type": "code",
   "execution_count": null,
   "metadata": {},
   "outputs": [],
   "source": []
  },
  {
   "cell_type": "code",
   "execution_count": 153,
   "metadata": {},
   "outputs": [],
   "source": [
    "def create_routes(werkorder_df, machine_df):\n",
    "    columns=['werkorder_id','machine_id','step_id','bewerking_tijd']\n",
    "    routes=pd.DataFrame(columns=columns)\n",
    "    prod_machi_map=product_machines_map(product_df, machine_df)\n",
    "    \n",
    "    step=0\n",
    "    machine='-'\n",
    "    bewerking_tijd=1\n",
    "    \n",
    "    for wo in list(werkorder_df.index):\n",
    "        \n",
    "        # select a product_id for a given werkorder wo\n",
    "        p=werkorder_df.iloc[wo]['verkocht_product_id'] # solve Issue #5 product_id\n",
    "        \n",
    "        # per step in the available steps/'keys' of a product\n",
    "        for step in prod_machi_map[p].keys():\n",
    "            \n",
    "            # return the machine_id based on the machine_type\n",
    "            \n",
    "            # for issue #13. But don't use 'assemblage' to pick as random machine\n",
    "            #   Temp remove 'assemblage' step from machine object \n",
    "            if prod_machi_map[p][step] != 'assemblage':\n",
    "                machine=pick_random_machine(prod_machi_map[p][step], machine_df) \n",
    "\n",
    "            # for issue #13. Use only single existing 'machine' for 'assemblage' step\n",
    "            else: machine=machine_df[machine_df['machine_type'] == 'assemblage']['machine_id'].values[0]\n",
    "            \n",
    "            bewerking_tijd=bewerkingstijd(p,machine)\n",
    "            routes=routes.append(dict(zipper(columns, [wo, machine, step, bewerking_tijd])), ignore_index=True)\n",
    "        \n",
    "        # add another step for assembly at the end of a route dictionary\n",
    "    \n",
    "    routes.index.rename('route_step_id', inplace=True)\n",
    "\n",
    "    \n",
    "    return routes\n",
    "    \n",
    "# df=create_routes(werkorder_df[:20], machine_df)\n",
    "# df.head(20)"
   ]
  },
  {
   "cell_type": "raw",
   "metadata": {},
   "source": [
    "route_df.groupby(['werkorder_id', 'step_id','machine_id'], sort=True).sum().groupby(level=0).cumsum() #.reset_index()"
   ]
  },
  {
   "cell_type": "raw",
   "metadata": {},
   "source": [
    "route_df.groupby(['werkorder_id', 'step_id','machine_id'], sort=True).sum().groupby(level=0).cumsum().reset_index(inplace=False)"
   ]
  },
  {
   "cell_type": "code",
   "execution_count": 154,
   "metadata": {},
   "outputs": [],
   "source": [
    "def days_hours_minutes(td):\n",
    "    return td.days, td.seconds//3600, (td.seconds//60)%60"
   ]
  },
  {
   "cell_type": "code",
   "execution_count": 155,
   "metadata": {},
   "outputs": [
    {
     "name": "stdout",
     "output_type": "stream",
     "text": [
      "\n",
      "Hard code machine types and order: ['stans', 'snij', 'buig', 'frees', 'CNC', 'boor']\n",
      "\n",
      "              werkorder_id machine_id step_id bewerking_tijd  \\\n",
      "route_step_id                                                  \n",
      "0                        0          6       0              5   \n",
      "1                        0          4       1              8   \n",
      "2                        0          2       2              2   \n",
      "3                        0          1       3              9   \n",
      "4                        0         13       4             15   \n",
      "5                        1          6       0              5   \n",
      "6                        1          4       1              9   \n",
      "7                        1          2       2              1   \n",
      "8                        1          1       3              6   \n",
      "9                        1          7       4             16   \n",
      "10                       1         13       5             13   \n",
      "11                       2          6       0              4   \n",
      "12                       2          8       1              3   \n",
      "13                       2          2       2              1   \n",
      "14                       2          1       3              8   \n",
      "15                       2         13       4             14   \n",
      "16                       3          6       0              5   \n",
      "17                       3          4       1              9   \n",
      "18                       3          2       2              1   \n",
      "19                       3          1       3              6   \n",
      "20                       3         11       4              4   \n",
      "21                       3         13       5             13   \n",
      "22                       4          6       0              5   \n",
      "23                       4          8       1              8   \n",
      "24                       4          2       2              1   \n",
      "25                       4          1       3              6   \n",
      "26                       4          7       4             16   \n",
      "27                       4         13       5             13   \n",
      "28                       5          6       0              5   \n",
      "29                       5          4       1              8   \n",
      "\n",
      "               bewerking_tijd_cumsum  bewerking_tijd_cumsum_timedelta  \n",
      "route_step_id                                                          \n",
      "0                                  5                                5  \n",
      "1                                 13                               13  \n",
      "2                                 15                               15  \n",
      "3                                 24                               24  \n",
      "4                                 39                               39  \n",
      "5                                  5                                5  \n",
      "6                                 14                               14  \n",
      "7                                 15                               15  \n",
      "8                                 21                               21  \n",
      "9                                 37                               37  \n",
      "10                                50                               50  \n",
      "11                                 4                                4  \n",
      "12                                 7                                7  \n",
      "13                                 8                                8  \n",
      "14                                16                               16  \n",
      "15                                30                               30  \n",
      "16                                 5                                5  \n",
      "17                                14                               14  \n",
      "18                                15                               15  \n",
      "19                                21                               21  \n",
      "20                                25                               25  \n",
      "21                                38                               38  \n",
      "22                                 5                                5  \n",
      "23                                13                               13  \n",
      "24                                14                               14  \n",
      "25                                20                               20  \n",
      "26                                36                               36  \n",
      "27                                49                               49  \n",
      "28                                 5                                5  \n",
      "29                                13                               13  \n"
     ]
    }
   ],
   "source": [
    "route_df = create_routes(werkorder_df, machine_df)\n",
    "route_df['bewerking_tijd_cumsum'] = route_df[['werkorder_id', 'step_id','bewerking_tijd']].groupby(['werkorder_id', 'step_id'], \\\n",
    "                                                     sort=True).sum().groupby(level=0).cumsum().reset_index(inplace=False)['bewerking_tijd']\n",
    "route_df['bewerking_tijd_cumsum_timedelta'] = route_df['bewerking_tijd_cumsum'].apply(lambda x: x)\n",
    "\n",
    "if show_intermediate_results == True:\n",
    "    print(route_df.head(30))"
   ]
  },
  {
   "cell_type": "code",
   "execution_count": null,
   "metadata": {},
   "outputs": [],
   "source": []
  },
  {
   "cell_type": "code",
   "execution_count": null,
   "metadata": {},
   "outputs": [],
   "source": []
  },
  {
   "cell_type": "code",
   "execution_count": 156,
   "metadata": {},
   "outputs": [
    {
     "name": "stdout",
     "output_type": "stream",
     "text": [
      "\n",
      "\n",
      "\t\tWerkorder doorloop tijd\n",
      "\n"
     ]
    },
    {
     "data": {
      "image/png": "[encoded data removed]",
      "text/plain": [
       "<Figure size 1440x144 with 1 Axes>"
      ]
     },
     "metadata": {
      "needs_background": "light"
     },
     "output_type": "display_data"
    }
   ],
   "source": [
    "werkorder_df['werkorder_doorlooptijd'] = werkorder_df['werkorder_eind_datum']-werkorder_df['werkorder_start_datum']\n",
    "# corrected to bypass Timestamps not being usefull in Power BI. Issue #2\n",
    "werkorder_df['werkorder_doorlooptijd'] = werkorder_df['werkorder_doorlooptijd'].apply(lambda x: x.days)\n",
    "werkorder_df['werkorder_maand_nummer'] = werkorder_df['werkorder_eind_datum'].apply(lambda x: x.isocalendar()[2])\n",
    "werkorder_df['werkorder_doorlooptijd'].plot(figsize=(20,2))\n",
    "\n",
    "\n",
    "\n",
    "print('\\n\\n\\t\\tWerkorder doorloop tijd\\n')\n",
    "#werkorder_df.drop(labels=['werkorder_doorlooptijd'], axis=1, inplace=True)"
   ]
  },
  {
   "cell_type": "code",
   "execution_count": null,
   "metadata": {},
   "outputs": [],
   "source": []
  },
  {
   "cell_type": "code",
   "execution_count": 157,
   "metadata": {},
   "outputs": [
    {
     "data": {
      "application/vnd.plotly.v1+json": {
       "config": {
        "plotlyServerURL": "https://plot.ly"
       },
       "data": [
        {
         "hovertemplate": "werkorder_maand_nummer=3<br>werkorder_doorlooptijd=%{y}<extra></extra>",
         "legendgroup": "3",
         "line": {
          "color": "#636efa",
          "dash": "solid"
         },
         "mode": "lines",
         "name": "3",
         "showlegend": true,
         "type": "scatter",
         "xaxis": "x",
         "y": [
          9,
          8,
          8,
          8,
          7,
          7,
          7,
          7,
          6,
          6,
          6,
          6,
          6,
          5,
          5,
          5,
          5,
          5,
          5,
          5,
          5,
          5,
          4,
          4,
          4,
          4
         ],
         "yaxis": "y"
        },
        {
         "hovertemplate": "werkorder_maand_nummer=7<br>werkorder_doorlooptijd=%{y}<extra></extra>",
         "legendgroup": "7",
         "line": {
          "color": "#EF553B",
          "dash": "solid"
         },
         "mode": "lines",
         "name": "7",
         "showlegend": true,
         "type": "scatter",
         "xaxis": "x",
         "y": [
          9,
          9,
          9,
          9,
          8,
          8,
          6,
          5,
          5,
          5,
          5,
          5,
          4,
          4,
          4,
          3,
          3,
          3,
          3,
          3,
          2,
          2
         ],
         "yaxis": "y"
        },
        {
         "hovertemplate": "werkorder_maand_nummer=5<br>werkorder_doorlooptijd=%{y}<extra></extra>",
         "legendgroup": "5",
         "line": {
          "color": "#00cc96",
          "dash": "solid"
         },
         "mode": "lines",
         "name": "5",
         "showlegend": true,
         "type": "scatter",
         "xaxis": "x",
         "y": [
          9,
          9,
          9,
          8,
          8,
          8,
          8,
          8,
          8,
          7,
          7,
          7,
          7,
          7,
          6,
          6,
          4,
          4,
          3,
          3,
          3,
          3,
          3,
          2,
          2,
          2
         ],
         "yaxis": "y"
        },
        {
         "hovertemplate": "werkorder_maand_nummer=4<br>werkorder_doorlooptijd=%{y}<extra></extra>",
         "legendgroup": "4",
         "line": {
          "color": "#ab63fa",
          "dash": "solid"
         },
         "mode": "lines",
         "name": "4",
         "showlegend": true,
         "type": "scatter",
         "xaxis": "x",
         "y": [
          9,
          9,
          9,
          9,
          8,
          8,
          8,
          8,
          8,
          6,
          6,
          6,
          6,
          6,
          6,
          5,
          5,
          3,
          3,
          2
         ],
         "yaxis": "y"
        },
        {
         "hovertemplate": "werkorder_maand_nummer=6<br>werkorder_doorlooptijd=%{y}<extra></extra>",
         "legendgroup": "6",
         "line": {
          "color": "#FFA15A",
          "dash": "solid"
         },
         "mode": "lines",
         "name": "6",
         "showlegend": true,
         "type": "scatter",
         "xaxis": "x",
         "y": [
          8,
          8,
          8,
          8,
          8,
          7,
          7,
          5,
          5,
          5,
          4,
          4,
          4,
          4,
          4,
          4,
          3,
          3,
          3,
          3,
          3,
          3,
          3,
          3,
          3,
          2
         ],
         "yaxis": "y"
        },
        {
         "hovertemplate": "werkorder_maand_nummer=2<br>werkorder_doorlooptijd=%{y}<extra></extra>",
         "legendgroup": "2",
         "line": {
          "color": "#19d3f3",
          "dash": "solid"
         },
         "mode": "lines",
         "name": "2",
         "showlegend": true,
         "type": "scatter",
         "xaxis": "x",
         "y": [
          8,
          8,
          7,
          7,
          7,
          7,
          7,
          6,
          6,
          6,
          6,
          6,
          5,
          5,
          5,
          4,
          4,
          3,
          3,
          3
         ],
         "yaxis": "y"
        },
        {
         "hovertemplate": "werkorder_maand_nummer=1<br>werkorder_doorlooptijd=%{y}<extra></extra>",
         "legendgroup": "1",
         "line": {
          "color": "#FF6692",
          "dash": "solid"
         },
         "mode": "lines",
         "name": "1",
         "showlegend": true,
         "type": "scatter",
         "xaxis": "x",
         "y": [
          7,
          7,
          7,
          6,
          6,
          6,
          6,
          6,
          5,
          4,
          4,
          4,
          4,
          4,
          3,
          3,
          3,
          3,
          2,
          2,
          2,
          2
         ],
         "yaxis": "y"
        }
       ],
       "layout": {
        "legend": {
         "title": {
          "text": "werkorder_maand_nummer"
         },
         "tracegroupgap": 0
        },
        "margin": {
         "t": 60
        },
        "template": {
         "data": {
          "bar": [
           {
            "error_x": {
             "color": "#2a3f5f"
            },
            "error_y": {
             "color": "#2a3f5f"
            },
            "marker": {
             "line": {
              "color": "#E5ECF6",
              "width": 0.5
             }
            },
            "type": "bar"
           }
          ],
          "barpolar": [
           {
            "marker": {
             "line": {
              "color": "#E5ECF6",
              "width": 0.5
             }
            },
            "type": "barpolar"
           }
          ],
          "carpet": [
           {
            "aaxis": {
             "endlinecolor": "#2a3f5f",
             "gridcolor": "white",
             "linecolor": "white",
             "minorgridcolor": "white",
             "startlinecolor": "#2a3f5f"
            },
            "baxis": {
             "endlinecolor": "#2a3f5f",
             "gridcolor": "white",
             "linecolor": "white",
             "minorgridcolor": "white",
             "startlinecolor": "#2a3f5f"
            },
            "type": "carpet"
           }
          ],
          "choropleth": [
           {
            "colorbar": {
             "outlinewidth": 0,
             "ticks": ""
            },
            "type": "choropleth"
           }
          ],
          "contour": [
           {
            "colorbar": {
             "outlinewidth": 0,
             "ticks": ""
            },
            "colorscale": [
             [
              0,
              "#0d0887"
             ],
             [
              0.1111111111111111,
              "#46039f"
             ],
             [
              0.2222222222222222,
              "#7201a8"
             ],
             [
              0.3333333333333333,
              "#9c179e"
             ],
             [
              0.4444444444444444,
              "#bd3786"
             ],
             [
              0.5555555555555556,
              "#d8576b"
             ],
             [
              0.6666666666666666,
              "#ed7953"
             ],
             [
              0.7777777777777778,
              "#fb9f3a"
             ],
             [
              0.8888888888888888,
              "#fdca26"
             ],
             [
              1,
              "#f0f921"
             ]
            ],
            "type": "contour"
           }
          ],
          "contourcarpet": [
           {
            "colorbar": {
             "outlinewidth": 0,
             "ticks": ""
            },
            "type": "contourcarpet"
           }
          ],
          "heatmap": [
           {
            "colorbar": {
             "outlinewidth": 0,
             "ticks": ""
            },
            "colorscale": [
             [
              0,
              "#0d0887"
             ],
             [
              0.1111111111111111,
              "#46039f"
             ],
             [
              0.2222222222222222,
              "#7201a8"
             ],
             [
              0.3333333333333333,
              "#9c179e"
             ],
             [
              0.4444444444444444,
              "#bd3786"
             ],
             [
              0.5555555555555556,
              "#d8576b"
             ],
             [
              0.6666666666666666,
              "#ed7953"
             ],
             [
              0.7777777777777778,
              "#fb9f3a"
             ],
             [
              0.8888888888888888,
              "#fdca26"
             ],
             [
              1,
              "#f0f921"
             ]
            ],
            "type": "heatmap"
           }
          ],
          "heatmapgl": [
           {
            "colorbar": {
             "outlinewidth": 0,
             "ticks": ""
            },
            "colorscale": [
             [
              0,
              "#0d0887"
             ],
             [
              0.1111111111111111,
              "#46039f"
             ],
             [
              0.2222222222222222,
              "#7201a8"
             ],
             [
              0.3333333333333333,
              "#9c179e"
             ],
             [
              0.4444444444444444,
              "#bd3786"
             ],
             [
              0.5555555555555556,
              "#d8576b"
             ],
             [
              0.6666666666666666,
              "#ed7953"
             ],
             [
              0.7777777777777778,
              "#fb9f3a"
             ],
             [
              0.8888888888888888,
              "#fdca26"
             ],
             [
              1,
              "#f0f921"
             ]
            ],
            "type": "heatmapgl"
           }
          ],
          "histogram": [
           {
            "marker": {
             "colorbar": {
              "outlinewidth": 0,
              "ticks": ""
             }
            },
            "type": "histogram"
           }
          ],
          "histogram2d": [
           {
            "colorbar": {
             "outlinewidth": 0,
             "ticks": ""
            },
            "colorscale": [
             [
              0,
              "#0d0887"
             ],
             [
              0.1111111111111111,
              "#46039f"
             ],
             [
              0.2222222222222222,
              "#7201a8"
             ],
             [
              0.3333333333333333,
              "#9c179e"
             ],
             [
              0.4444444444444444,
              "#bd3786"
             ],
             [
              0.5555555555555556,
              "#d8576b"
             ],
             [
              0.6666666666666666,
              "#ed7953"
             ],
             [
              0.7777777777777778,
              "#fb9f3a"
             ],
             [
              0.8888888888888888,
              "#fdca26"
             ],
             [
              1,
              "#f0f921"
             ]
            ],
            "type": "histogram2d"
           }
          ],
          "histogram2dcontour": [
           {
            "colorbar": {
             "outlinewidth": 0,
             "ticks": ""
            },
            "colorscale": [
             [
              0,
              "#0d0887"
             ],
             [
              0.1111111111111111,
              "#46039f"
             ],
             [
              0.2222222222222222,
              "#7201a8"
             ],
             [
              0.3333333333333333,
              "#9c179e"
             ],
             [
              0.4444444444444444,
              "#bd3786"
             ],
             [
              0.5555555555555556,
              "#d8576b"
             ],
             [
              0.6666666666666666,
              "#ed7953"
             ],
             [
              0.7777777777777778,
              "#fb9f3a"
             ],
             [
              0.8888888888888888,
              "#fdca26"
             ],
             [
              1,
              "#f0f921"
             ]
            ],
            "type": "histogram2dcontour"
           }
          ],
          "mesh3d": [
           {
            "colorbar": {
             "outlinewidth": 0,
             "ticks": ""
            },
            "type": "mesh3d"
           }
          ],
          "parcoords": [
           {
            "line": {
             "colorbar": {
              "outlinewidth": 0,
              "ticks": ""
             }
            },
            "type": "parcoords"
           }
          ],
          "pie": [
           {
            "automargin": true,
            "type": "pie"
           }
          ],
          "scatter": [
           {
            "marker": {
             "colorbar": {
              "outlinewidth": 0,
              "ticks": ""
             }
            },
            "type": "scatter"
           }
          ],
          "scatter3d": [
           {
            "line": {
             "colorbar": {
              "outlinewidth": 0,
              "ticks": ""
             }
            },
            "marker": {
             "colorbar": {
              "outlinewidth": 0,
              "ticks": ""
             }
            },
            "type": "scatter3d"
           }
          ],
          "scattercarpet": [
           {
            "marker": {
             "colorbar": {
              "outlinewidth": 0,
              "ticks": ""
             }
            },
            "type": "scattercarpet"
           }
          ],
          "scattergeo": [
           {
            "marker": {
             "colorbar": {
              "outlinewidth": 0,
              "ticks": ""
             }
            },
            "type": "scattergeo"
           }
          ],
          "scattergl": [
           {
            "marker": {
             "colorbar": {
              "outlinewidth": 0,
              "ticks": ""
             }
            },
            "type": "scattergl"
           }
          ],
          "scattermapbox": [
           {
            "marker": {
             "colorbar": {
              "outlinewidth": 0,
              "ticks": ""
             }
            },
            "type": "scattermapbox"
           }
          ],
          "scatterpolar": [
           {
            "marker": {
             "colorbar": {
              "outlinewidth": 0,
              "ticks": ""
             }
            },
            "type": "scatterpolar"
           }
          ],
          "scatterpolargl": [
           {
            "marker": {
             "colorbar": {
              "outlinewidth": 0,
              "ticks": ""
             }
            },
            "type": "scatterpolargl"
           }
          ],
          "scatterternary": [
           {
            "marker": {
             "colorbar": {
              "outlinewidth": 0,
              "ticks": ""
             }
            },
            "type": "scatterternary"
           }
          ],
          "surface": [
           {
            "colorbar": {
             "outlinewidth": 0,
             "ticks": ""
            },
            "colorscale": [
             [
              0,
              "#0d0887"
             ],
             [
              0.1111111111111111,
              "#46039f"
             ],
             [
              0.2222222222222222,
              "#7201a8"
             ],
             [
              0.3333333333333333,
              "#9c179e"
             ],
             [
              0.4444444444444444,
              "#bd3786"
             ],
             [
              0.5555555555555556,
              "#d8576b"
             ],
             [
              0.6666666666666666,
              "#ed7953"
             ],
             [
              0.7777777777777778,
              "#fb9f3a"
             ],
             [
              0.8888888888888888,
              "#fdca26"
             ],
             [
              1,
              "#f0f921"
             ]
            ],
            "type": "surface"
           }
          ],
          "table": [
           {
            "cells": {
             "fill": {
              "color": "#EBF0F8"
             },
             "line": {
              "color": "white"
             }
            },
            "header": {
             "fill": {
              "color": "#C8D4E3"
             },
             "line": {
              "color": "white"
             }
            },
            "type": "table"
           }
          ]
         },
         "layout": {
          "annotationdefaults": {
           "arrowcolor": "#2a3f5f",
           "arrowhead": 0,
           "arrowwidth": 1
          },
          "coloraxis": {
           "colorbar": {
            "outlinewidth": 0,
            "ticks": ""
           }
          },
          "colorscale": {
           "diverging": [
            [
             0,
             "#8e0152"
            ],
            [
             0.1,
             "#c51b7d"
            ],
            [
             0.2,
             "#de77ae"
            ],
            [
             0.3,
             "#f1b6da"
            ],
            [
             0.4,
             "#fde0ef"
            ],
            [
             0.5,
             "#f7f7f7"
            ],
            [
             0.6,
             "#e6f5d0"
            ],
            [
             0.7,
             "#b8e186"
            ],
            [
             0.8,
             "#7fbc41"
            ],
            [
             0.9,
             "#4d9221"
            ],
            [
             1,
             "#276419"
            ]
           ],
           "sequential": [
            [
             0,
             "#0d0887"
            ],
            [
             0.1111111111111111,
             "#46039f"
            ],
            [
             0.2222222222222222,
             "#7201a8"
            ],
            [
             0.3333333333333333,
             "#9c179e"
            ],
            [
             0.4444444444444444,
             "#bd3786"
            ],
            [
             0.5555555555555556,
             "#d8576b"
            ],
            [
             0.6666666666666666,
             "#ed7953"
            ],
            [
             0.7777777777777778,
             "#fb9f3a"
            ],
            [
             0.8888888888888888,
             "#fdca26"
            ],
            [
             1,
             "#f0f921"
            ]
           ],
           "sequentialminus": [
            [
             0,
             "#0d0887"
            ],
            [
             0.1111111111111111,
             "#46039f"
            ],
            [
             0.2222222222222222,
             "#7201a8"
            ],
            [
             0.3333333333333333,
             "#9c179e"
            ],
            [
             0.4444444444444444,
             "#bd3786"
            ],
            [
             0.5555555555555556,
             "#d8576b"
            ],
            [
             0.6666666666666666,
             "#ed7953"
            ],
            [
             0.7777777777777778,
             "#fb9f3a"
            ],
            [
             0.8888888888888888,
             "#fdca26"
            ],
            [
             1,
             "#f0f921"
            ]
           ]
          },
          "colorway": [
           "#636efa",
           "#EF553B",
           "#00cc96",
           "#ab63fa",
           "#FFA15A",
           "#19d3f3",
           "#FF6692",
           "#B6E880",
           "#FF97FF",
           "#FECB52"
          ],
          "font": {
           "color": "#2a3f5f"
          },
          "geo": {
           "bgcolor": "white",
           "lakecolor": "white",
           "landcolor": "#E5ECF6",
           "showlakes": true,
           "showland": true,
           "subunitcolor": "white"
          },
          "hoverlabel": {
           "align": "left"
          },
          "hovermode": "closest",
          "mapbox": {
           "style": "light"
          },
          "paper_bgcolor": "white",
          "plot_bgcolor": "#E5ECF6",
          "polar": {
           "angularaxis": {
            "gridcolor": "white",
            "linecolor": "white",
            "ticks": ""
           },
           "bgcolor": "#E5ECF6",
           "radialaxis": {
            "gridcolor": "white",
            "linecolor": "white",
            "ticks": ""
           }
          },
          "scene": {
           "xaxis": {
            "backgroundcolor": "#E5ECF6",
            "gridcolor": "white",
            "gridwidth": 2,
            "linecolor": "white",
            "showbackground": true,
            "ticks": "",
            "zerolinecolor": "white"
           },
           "yaxis": {
            "backgroundcolor": "#E5ECF6",
            "gridcolor": "white",
            "gridwidth": 2,
            "linecolor": "white",
            "showbackground": true,
            "ticks": "",
            "zerolinecolor": "white"
           },
           "zaxis": {
            "backgroundcolor": "#E5ECF6",
            "gridcolor": "white",
            "gridwidth": 2,
            "linecolor": "white",
            "showbackground": true,
            "ticks": "",
            "zerolinecolor": "white"
           }
          },
          "shapedefaults": {
           "line": {
            "color": "#2a3f5f"
           }
          },
          "ternary": {
           "aaxis": {
            "gridcolor": "white",
            "linecolor": "white",
            "ticks": ""
           },
           "baxis": {
            "gridcolor": "white",
            "linecolor": "white",
            "ticks": ""
           },
           "bgcolor": "#E5ECF6",
           "caxis": {
            "gridcolor": "white",
            "linecolor": "white",
            "ticks": ""
           }
          },
          "title": {
           "x": 0.05
          },
          "xaxis": {
           "automargin": true,
           "gridcolor": "white",
           "linecolor": "white",
           "ticks": "",
           "title": {
            "standoff": 15
           },
           "zerolinecolor": "white",
           "zerolinewidth": 2
          },
          "yaxis": {
           "automargin": true,
           "gridcolor": "white",
           "linecolor": "white",
           "ticks": "",
           "title": {
            "standoff": 15
           },
           "zerolinecolor": "white",
           "zerolinewidth": 2
          }
         }
        },
        "xaxis": {
         "anchor": "y",
         "domain": [
          0,
          1
         ]
        },
        "yaxis": {
         "anchor": "x",
         "domain": [
          0,
          1
         ],
         "title": {
          "text": "werkorder_doorlooptijd"
         }
        }
       }
      },
      "text/html": [
       "<div>\n",
       "        \n",
       "        \n",
       "            <div id=\"438c2b67-54b0-4b9e-be68-6ee431eb304d\" class=\"plotly-graph-div\" style=\"height:525px; width:100%;\"></div>\n",
       "            <script type=\"text/javascript\">\n",
       "                require([\"plotly\"], function(Plotly) {\n",
       "                    window.PLOTLYENV=window.PLOTLYENV || {};\n",
       "                    \n",
       "                if (document.getElementById(\"438c2b67-54b0-4b9e-be68-6ee431eb304d\")) {\n",
       "                    Plotly.newPlot(\n",
       "                        '438c2b67-54b0-4b9e-be68-6ee431eb304d',\n",
       "                        [{\"hovertemplate\": \"werkorder_maand_nummer=3<br>werkorder_doorlooptijd=%{y}<extra></extra>\", \"legendgroup\": \"3\", \"line\": {\"color\": \"#636efa\", \"dash\": \"solid\"}, \"mode\": \"lines\", \"name\": \"3\", \"showlegend\": true, \"type\": \"scatter\", \"xaxis\": \"x\", \"y\": [9, 8, 8, 8, 7, 7, 7, 7, 6, 6, 6, 6, 6, 5, 5, 5, 5, 5, 5, 5, 5, 5, 4, 4, 4, 4], \"yaxis\": \"y\"}, {\"hovertemplate\": \"werkorder_maand_nummer=7<br>werkorder_doorlooptijd=%{y}<extra></extra>\", \"legendgroup\": \"7\", \"line\": {\"color\": \"#EF553B\", \"dash\": \"solid\"}, \"mode\": \"lines\", \"name\": \"7\", \"showlegend\": true, \"type\": \"scatter\", \"xaxis\": \"x\", \"y\": [9, 9, 9, 9, 8, 8, 6, 5, 5, 5, 5, 5, 4, 4, 4, 3, 3, 3, 3, 3, 2, 2], \"yaxis\": \"y\"}, {\"hovertemplate\": \"werkorder_maand_nummer=5<br>werkorder_doorlooptijd=%{y}<extra></extra>\", \"legendgroup\": \"5\", \"line\": {\"color\": \"#00cc96\", \"dash\": \"solid\"}, \"mode\": \"lines\", \"name\": \"5\", \"showlegend\": true, \"type\": \"scatter\", \"xaxis\": \"x\", \"y\": [9, 9, 9, 8, 8, 8, 8, 8, 8, 7, 7, 7, 7, 7, 6, 6, 4, 4, 3, 3, 3, 3, 3, 2, 2, 2], \"yaxis\": \"y\"}, {\"hovertemplate\": \"werkorder_maand_nummer=4<br>werkorder_doorlooptijd=%{y}<extra></extra>\", \"legendgroup\": \"4\", \"line\": {\"color\": \"#ab63fa\", \"dash\": \"solid\"}, \"mode\": \"lines\", \"name\": \"4\", \"showlegend\": true, \"type\": \"scatter\", \"xaxis\": \"x\", \"y\": [9, 9, 9, 9, 8, 8, 8, 8, 8, 6, 6, 6, 6, 6, 6, 5, 5, 3, 3, 2], \"yaxis\": \"y\"}, {\"hovertemplate\": \"werkorder_maand_nummer=6<br>werkorder_doorlooptijd=%{y}<extra></extra>\", \"legendgroup\": \"6\", \"line\": {\"color\": \"#FFA15A\", \"dash\": \"solid\"}, \"mode\": \"lines\", \"name\": \"6\", \"showlegend\": true, \"type\": \"scatter\", \"xaxis\": \"x\", \"y\": [8, 8, 8, 8, 8, 7, 7, 5, 5, 5, 4, 4, 4, 4, 4, 4, 3, 3, 3, 3, 3, 3, 3, 3, 3, 2], \"yaxis\": \"y\"}, {\"hovertemplate\": \"werkorder_maand_nummer=2<br>werkorder_doorlooptijd=%{y}<extra></extra>\", \"legendgroup\": \"2\", \"line\": {\"color\": \"#19d3f3\", \"dash\": \"solid\"}, \"mode\": \"lines\", \"name\": \"2\", \"showlegend\": true, \"type\": \"scatter\", \"xaxis\": \"x\", \"y\": [8, 8, 7, 7, 7, 7, 7, 6, 6, 6, 6, 6, 5, 5, 5, 4, 4, 3, 3, 3], \"yaxis\": \"y\"}, {\"hovertemplate\": \"werkorder_maand_nummer=1<br>werkorder_doorlooptijd=%{y}<extra></extra>\", \"legendgroup\": \"1\", \"line\": {\"color\": \"#FF6692\", \"dash\": \"solid\"}, \"mode\": \"lines\", \"name\": \"1\", \"showlegend\": true, \"type\": \"scatter\", \"xaxis\": \"x\", \"y\": [7, 7, 7, 6, 6, 6, 6, 6, 5, 4, 4, 4, 4, 4, 3, 3, 3, 3, 2, 2, 2, 2], \"yaxis\": \"y\"}],\n",
       "                        {\"legend\": {\"title\": {\"text\": \"werkorder_maand_nummer\"}, \"tracegroupgap\": 0}, \"margin\": {\"t\": 60}, \"template\": {\"data\": {\"bar\": [{\"error_x\": {\"color\": \"#2a3f5f\"}, \"error_y\": {\"color\": \"#2a3f5f\"}, \"marker\": {\"line\": {\"color\": \"#E5ECF6\", \"width\": 0.5}}, \"type\": \"bar\"}], \"barpolar\": [{\"marker\": {\"line\": {\"color\": \"#E5ECF6\", \"width\": 0.5}}, \"type\": \"barpolar\"}], \"carpet\": [{\"aaxis\": {\"endlinecolor\": \"#2a3f5f\", \"gridcolor\": \"white\", \"linecolor\": \"white\", \"minorgridcolor\": \"white\", \"startlinecolor\": \"#2a3f5f\"}, \"baxis\": {\"endlinecolor\": \"#2a3f5f\", \"gridcolor\": \"white\", \"linecolor\": \"white\", \"minorgridcolor\": \"white\", \"startlinecolor\": \"#2a3f5f\"}, \"type\": \"carpet\"}], \"choropleth\": [{\"colorbar\": {\"outlinewidth\": 0, \"ticks\": \"\"}, \"type\": \"choropleth\"}], \"contour\": [{\"colorbar\": {\"outlinewidth\": 0, \"ticks\": \"\"}, \"colorscale\": [[0.0, \"#0d0887\"], [0.1111111111111111, \"#46039f\"], [0.2222222222222222, \"#7201a8\"], [0.3333333333333333, \"#9c179e\"], [0.4444444444444444, \"#bd3786\"], [0.5555555555555556, \"#d8576b\"], [0.6666666666666666, \"#ed7953\"], [0.7777777777777778, \"#fb9f3a\"], [0.8888888888888888, \"#fdca26\"], [1.0, \"#f0f921\"]], \"type\": \"contour\"}], \"contourcarpet\": [{\"colorbar\": {\"outlinewidth\": 0, \"ticks\": \"\"}, \"type\": \"contourcarpet\"}], \"heatmap\": [{\"colorbar\": {\"outlinewidth\": 0, \"ticks\": \"\"}, \"colorscale\": [[0.0, \"#0d0887\"], [0.1111111111111111, \"#46039f\"], [0.2222222222222222, \"#7201a8\"], [0.3333333333333333, \"#9c179e\"], [0.4444444444444444, \"#bd3786\"], [0.5555555555555556, \"#d8576b\"], [0.6666666666666666, \"#ed7953\"], [0.7777777777777778, \"#fb9f3a\"], [0.8888888888888888, \"#fdca26\"], [1.0, \"#f0f921\"]], \"type\": \"heatmap\"}], \"heatmapgl\": [{\"colorbar\": {\"outlinewidth\": 0, \"ticks\": \"\"}, \"colorscale\": [[0.0, \"#0d0887\"], [0.1111111111111111, \"#46039f\"], [0.2222222222222222, \"#7201a8\"], [0.3333333333333333, \"#9c179e\"], [0.4444444444444444, \"#bd3786\"], [0.5555555555555556, \"#d8576b\"], [0.6666666666666666, \"#ed7953\"], [0.7777777777777778, \"#fb9f3a\"], [0.8888888888888888, \"#fdca26\"], [1.0, \"#f0f921\"]], \"type\": \"heatmapgl\"}], \"histogram\": [{\"marker\": {\"colorbar\": {\"outlinewidth\": 0, \"ticks\": \"\"}}, \"type\": \"histogram\"}], \"histogram2d\": [{\"colorbar\": {\"outlinewidth\": 0, \"ticks\": \"\"}, \"colorscale\": [[0.0, \"#0d0887\"], [0.1111111111111111, \"#46039f\"], [0.2222222222222222, \"#7201a8\"], [0.3333333333333333, \"#9c179e\"], [0.4444444444444444, \"#bd3786\"], [0.5555555555555556, \"#d8576b\"], [0.6666666666666666, \"#ed7953\"], [0.7777777777777778, \"#fb9f3a\"], [0.8888888888888888, \"#fdca26\"], [1.0, \"#f0f921\"]], \"type\": \"histogram2d\"}], \"histogram2dcontour\": [{\"colorbar\": {\"outlinewidth\": 0, \"ticks\": \"\"}, \"colorscale\": [[0.0, \"#0d0887\"], [0.1111111111111111, \"#46039f\"], [0.2222222222222222, \"#7201a8\"], [0.3333333333333333, \"#9c179e\"], [0.4444444444444444, \"#bd3786\"], [0.5555555555555556, \"#d8576b\"], [0.6666666666666666, \"#ed7953\"], [0.7777777777777778, \"#fb9f3a\"], [0.8888888888888888, \"#fdca26\"], [1.0, \"#f0f921\"]], \"type\": \"histogram2dcontour\"}], \"mesh3d\": [{\"colorbar\": {\"outlinewidth\": 0, \"ticks\": \"\"}, \"type\": \"mesh3d\"}], \"parcoords\": [{\"line\": {\"colorbar\": {\"outlinewidth\": 0, \"ticks\": \"\"}}, \"type\": \"parcoords\"}], \"pie\": [{\"automargin\": true, \"type\": \"pie\"}], \"scatter\": [{\"marker\": {\"colorbar\": {\"outlinewidth\": 0, \"ticks\": \"\"}}, \"type\": \"scatter\"}], \"scatter3d\": [{\"line\": {\"colorbar\": {\"outlinewidth\": 0, \"ticks\": \"\"}}, \"marker\": {\"colorbar\": {\"outlinewidth\": 0, \"ticks\": \"\"}}, \"type\": \"scatter3d\"}], \"scattercarpet\": [{\"marker\": {\"colorbar\": {\"outlinewidth\": 0, \"ticks\": \"\"}}, \"type\": \"scattercarpet\"}], \"scattergeo\": [{\"marker\": {\"colorbar\": {\"outlinewidth\": 0, \"ticks\": \"\"}}, \"type\": \"scattergeo\"}], \"scattergl\": [{\"marker\": {\"colorbar\": {\"outlinewidth\": 0, \"ticks\": \"\"}}, \"type\": \"scattergl\"}], \"scattermapbox\": [{\"marker\": {\"colorbar\": {\"outlinewidth\": 0, \"ticks\": \"\"}}, \"type\": \"scattermapbox\"}], \"scatterpolar\": [{\"marker\": {\"colorbar\": {\"outlinewidth\": 0, \"ticks\": \"\"}}, \"type\": \"scatterpolar\"}], \"scatterpolargl\": [{\"marker\": {\"colorbar\": {\"outlinewidth\": 0, \"ticks\": \"\"}}, \"type\": \"scatterpolargl\"}], \"scatterternary\": [{\"marker\": {\"colorbar\": {\"outlinewidth\": 0, \"ticks\": \"\"}}, \"type\": \"scatterternary\"}], \"surface\": [{\"colorbar\": {\"outlinewidth\": 0, \"ticks\": \"\"}, \"colorscale\": [[0.0, \"#0d0887\"], [0.1111111111111111, \"#46039f\"], [0.2222222222222222, \"#7201a8\"], [0.3333333333333333, \"#9c179e\"], [0.4444444444444444, \"#bd3786\"], [0.5555555555555556, \"#d8576b\"], [0.6666666666666666, \"#ed7953\"], [0.7777777777777778, \"#fb9f3a\"], [0.8888888888888888, \"#fdca26\"], [1.0, \"#f0f921\"]], \"type\": \"surface\"}], \"table\": [{\"cells\": {\"fill\": {\"color\": \"#EBF0F8\"}, \"line\": {\"color\": \"white\"}}, \"header\": {\"fill\": {\"color\": \"#C8D4E3\"}, \"line\": {\"color\": \"white\"}}, \"type\": \"table\"}]}, \"layout\": {\"annotationdefaults\": {\"arrowcolor\": \"#2a3f5f\", \"arrowhead\": 0, \"arrowwidth\": 1}, \"coloraxis\": {\"colorbar\": {\"outlinewidth\": 0, \"ticks\": \"\"}}, \"colorscale\": {\"diverging\": [[0, \"#8e0152\"], [0.1, \"#c51b7d\"], [0.2, \"#de77ae\"], [0.3, \"#f1b6da\"], [0.4, \"#fde0ef\"], [0.5, \"#f7f7f7\"], [0.6, \"#e6f5d0\"], [0.7, \"#b8e186\"], [0.8, \"#7fbc41\"], [0.9, \"#4d9221\"], [1, \"#276419\"]], \"sequential\": [[0.0, \"#0d0887\"], [0.1111111111111111, \"#46039f\"], [0.2222222222222222, \"#7201a8\"], [0.3333333333333333, \"#9c179e\"], [0.4444444444444444, \"#bd3786\"], [0.5555555555555556, \"#d8576b\"], [0.6666666666666666, \"#ed7953\"], [0.7777777777777778, \"#fb9f3a\"], [0.8888888888888888, \"#fdca26\"], [1.0, \"#f0f921\"]], \"sequentialminus\": [[0.0, \"#0d0887\"], [0.1111111111111111, \"#46039f\"], [0.2222222222222222, \"#7201a8\"], [0.3333333333333333, \"#9c179e\"], [0.4444444444444444, \"#bd3786\"], [0.5555555555555556, \"#d8576b\"], [0.6666666666666666, \"#ed7953\"], [0.7777777777777778, \"#fb9f3a\"], [0.8888888888888888, \"#fdca26\"], [1.0, \"#f0f921\"]]}, \"colorway\": [\"#636efa\", \"#EF553B\", \"#00cc96\", \"#ab63fa\", \"#FFA15A\", \"#19d3f3\", \"#FF6692\", \"#B6E880\", \"#FF97FF\", \"#FECB52\"], \"font\": {\"color\": \"#2a3f5f\"}, \"geo\": {\"bgcolor\": \"white\", \"lakecolor\": \"white\", \"landcolor\": \"#E5ECF6\", \"showlakes\": true, \"showland\": true, \"subunitcolor\": \"white\"}, \"hoverlabel\": {\"align\": \"left\"}, \"hovermode\": \"closest\", \"mapbox\": {\"style\": \"light\"}, \"paper_bgcolor\": \"white\", \"plot_bgcolor\": \"#E5ECF6\", \"polar\": {\"angularaxis\": {\"gridcolor\": \"white\", \"linecolor\": \"white\", \"ticks\": \"\"}, \"bgcolor\": \"#E5ECF6\", \"radialaxis\": {\"gridcolor\": \"white\", \"linecolor\": \"white\", \"ticks\": \"\"}}, \"scene\": {\"xaxis\": {\"backgroundcolor\": \"#E5ECF6\", \"gridcolor\": \"white\", \"gridwidth\": 2, \"linecolor\": \"white\", \"showbackground\": true, \"ticks\": \"\", \"zerolinecolor\": \"white\"}, \"yaxis\": {\"backgroundcolor\": \"#E5ECF6\", \"gridcolor\": \"white\", \"gridwidth\": 2, \"linecolor\": \"white\", \"showbackground\": true, \"ticks\": \"\", \"zerolinecolor\": \"white\"}, \"zaxis\": {\"backgroundcolor\": \"#E5ECF6\", \"gridcolor\": \"white\", \"gridwidth\": 2, \"linecolor\": \"white\", \"showbackground\": true, \"ticks\": \"\", \"zerolinecolor\": \"white\"}}, \"shapedefaults\": {\"line\": {\"color\": \"#2a3f5f\"}}, \"ternary\": {\"aaxis\": {\"gridcolor\": \"white\", \"linecolor\": \"white\", \"ticks\": \"\"}, \"baxis\": {\"gridcolor\": \"white\", \"linecolor\": \"white\", \"ticks\": \"\"}, \"bgcolor\": \"#E5ECF6\", \"caxis\": {\"gridcolor\": \"white\", \"linecolor\": \"white\", \"ticks\": \"\"}}, \"title\": {\"x\": 0.05}, \"xaxis\": {\"automargin\": true, \"gridcolor\": \"white\", \"linecolor\": \"white\", \"ticks\": \"\", \"title\": {\"standoff\": 15}, \"zerolinecolor\": \"white\", \"zerolinewidth\": 2}, \"yaxis\": {\"automargin\": true, \"gridcolor\": \"white\", \"linecolor\": \"white\", \"ticks\": \"\", \"title\": {\"standoff\": 15}, \"zerolinecolor\": \"white\", \"zerolinewidth\": 2}}}, \"xaxis\": {\"anchor\": \"y\", \"domain\": [0.0, 1.0]}, \"yaxis\": {\"anchor\": \"x\", \"domain\": [0.0, 1.0], \"title\": {\"text\": \"werkorder_doorlooptijd\"}}},\n",
       "                        {\"responsive\": true}\n",
       "                    ).then(function(){\n",
       "                            \n",
       "var gd = document.getElementById('438c2b67-54b0-4b9e-be68-6ee431eb304d');\n",
       "var x = new MutationObserver(function (mutations, observer) {{\n",
       "        var display = window.getComputedStyle(gd).display;\n",
       "        if (!display || display === 'none') {{\n",
       "            console.log([gd, 'removed!']);\n",
       "            Plotly.purge(gd);\n",
       "            observer.disconnect();\n",
       "        }}\n",
       "}});\n",
       "\n",
       "// Listen for the removal of the full notebook cells\n",
       "var notebookContainer = gd.closest('#notebook-container');\n",
       "if (notebookContainer) {{\n",
       "    x.observe(notebookContainer, {childList: true});\n",
       "}}\n",
       "\n",
       "// Listen for the clearing of the current output cell\n",
       "var outputEl = gd.closest('.output');\n",
       "if (outputEl) {{\n",
       "    x.observe(outputEl, {childList: true});\n",
       "}}\n",
       "\n",
       "                        })\n",
       "                };\n",
       "                });\n",
       "            </script>\n",
       "        </div>"
      ]
     },
     "metadata": {},
     "output_type": "display_data"
    }
   ],
   "source": [
    "fig = px.line(werkorder_df.sort_values(\"werkorder_doorlooptijd\", ascending=False),  y=\"werkorder_doorlooptijd\", color='werkorder_maand_nummer')\n",
    "fig.show()"
   ]
  },
  {
   "cell_type": "code",
   "execution_count": null,
   "metadata": {},
   "outputs": [],
   "source": []
  },
  {
   "cell_type": "code",
   "execution_count": 158,
   "metadata": {},
   "outputs": [
    {
     "name": "stdout",
     "output_type": "stream",
     "text": [
      "          klant_id  achternaam voornaam geslacht      Woonplaats  \\\n",
      "klant_id                                                           \n",
      "0                8  Luijn, van   Noëlle        V  Bergen op Zoom   \n",
      "0                8  Luijn, van   Noëlle        V  Bergen op Zoom   \n",
      "0                8  Luijn, van   Noëlle        V  Bergen op Zoom   \n",
      "0                8  Luijn, van   Noëlle        V  Bergen op Zoom   \n",
      "0                8  Luijn, van   Noëlle        V  Bergen op Zoom   \n",
      "0                8  Luijn, van   Noëlle        V  Bergen op Zoom   \n",
      "0                8  Luijn, van   Noëlle        V  Bergen op Zoom   \n",
      "0                8  Luijn, van   Noëlle        V  Bergen op Zoom   \n",
      "\n",
      "         Gemeente|Naam  Gemeente|Code  Provincie|Naam verkoop_order_datum  \\\n",
      "klant_id                                                                    \n",
      "0          BergenopZoom         GM0748  Noord-Brabant          2019-01-29   \n",
      "0          BergenopZoom         GM0748  Noord-Brabant          2019-02-21   \n",
      "0          BergenopZoom         GM0748  Noord-Brabant          2019-03-06   \n",
      "0          BergenopZoom         GM0748  Noord-Brabant          2019-03-07   \n",
      "0          BergenopZoom         GM0748  Noord-Brabant          2019-04-26   \n",
      "0          BergenopZoom         GM0748  Noord-Brabant          2019-05-02   \n",
      "0          BergenopZoom         GM0748  Noord-Brabant          2019-08-08   \n",
      "0          BergenopZoom         GM0748  Noord-Brabant          2019-10-07   \n",
      "\n",
      "          verkocht_product_id  verkocht_product_aantal  \n",
      "klant_id                                                \n",
      "0                           2                        1  \n",
      "0                           1                        1  \n",
      "0                           0                        1  \n",
      "0                           2                        1  \n",
      "0                           0                        1  \n",
      "0                           1                        1  \n",
      "0                           1                        1  \n",
      "0                           3                        1  \n"
     ]
    }
   ],
   "source": [
    "klant__verkoop_order_df = klant_df.join(verkoop_order_df.set_index('klant_id'), lsuffix='le_', rsuffix='re_')\n",
    "\n",
    "if show_intermediate_results == True:    \n",
    "    print(klant__verkoop_order_df.head(8))"
   ]
  },
  {
   "cell_type": "code",
   "execution_count": null,
   "metadata": {},
   "outputs": [],
   "source": []
  },
  {
   "cell_type": "code",
   "execution_count": null,
   "metadata": {},
   "outputs": [],
   "source": []
  },
  {
   "cell_type": "code",
   "execution_count": 159,
   "metadata": {},
   "outputs": [],
   "source": [
    "def save_dateframes(dataframes_list):\n",
    "    \n",
    "    for df in dataframes_list:\n",
    "        # Solving issue #7\n",
    "        try:\n",
    "            if globals()[df].index.name == None:\n",
    "                old=globals()[df].index.name\n",
    "                globals()[df].index.name=str(df).replace('_df', '')+'_id'\n",
    "                print('{} >> {}'.format(old, globals()[df].index.name ))\n",
    "        except: \n",
    "            print('Unable to change index column name for dataframe {}.'.format(df))\n",
    "\n",
    "                \n",
    "        try:\n",
    "            \n",
    "            globals()[df].to_csv(path_or_buf=str(df)+'.csv', sep='|')\n",
    "            globals()[df].to_csv(path_or_buf=str(df)+'.tsv', sep='\\t')\n",
    "        except:\n",
    "            print('Failed to save {} to TSV file.'.format(df))"
   ]
  },
  {
   "cell_type": "code",
   "execution_count": 160,
   "metadata": {},
   "outputs": [],
   "source": [
    "if create_source_files:\n",
    "    save_dateframes(dataframes_list)"
   ]
  },
  {
   "cell_type": "code",
   "execution_count": null,
   "metadata": {},
   "outputs": [],
   "source": []
  },
  {
   "cell_type": "code",
   "execution_count": null,
   "metadata": {},
   "outputs": [],
   "source": []
  }
 ],
 "metadata": {
  "kernelspec": {
   "display_name": "Python 3",
   "language": "python",
   "name": "python3"
  },
  "language_info": {
   "codemirror_mode": {
    "name": "ipython",
    "version": 3
   },
   "file_extension": ".py",
   "mimetype": "text/x-python",
   "name": "python",
   "nbconvert_exporter": "python",
   "pygments_lexer": "ipython3",
   "version": "3.7.4"
  }
 },
 "nbformat": 4,
 "nbformat_minor": 4
}
